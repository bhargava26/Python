{
 "cells": [
  {
   "cell_type": "code",
   "execution_count": 17,
   "id": "1061a111-8198-48fb-aaeb-5a12142e9ab4",
   "metadata": {},
   "outputs": [
    {
     "data": {
      "text/html": [
       "<div>\n",
       "<style scoped>\n",
       "    .dataframe tbody tr th:only-of-type {\n",
       "        vertical-align: middle;\n",
       "    }\n",
       "\n",
       "    .dataframe tbody tr th {\n",
       "        vertical-align: top;\n",
       "    }\n",
       "\n",
       "    .dataframe thead th {\n",
       "        text-align: right;\n",
       "    }\n",
       "</style>\n",
       "<table border=\"1\" class=\"dataframe\">\n",
       "  <thead>\n",
       "    <tr style=\"text-align: right;\">\n",
       "      <th></th>\n",
       "      <th>Unnamed: 0</th>\n",
       "      <th>past_24_hours_fever</th>\n",
       "      <th>past_24_hours_cough</th>\n",
       "      <th>past_24_hours_shortness_of_breath</th>\n",
       "      <th>past_24_hours_difficulty_breathing</th>\n",
       "      <th>past_24_hours_Nausea_vomiting</th>\n",
       "      <th>past_24_hours_Diarrhea</th>\n",
       "      <th>past_24_hours_loss_taste_or_smell</th>\n",
       "      <th>past_24_hours_no_sysmptoms</th>\n",
       "      <th>D1</th>\n",
       "      <th>...</th>\n",
       "      <th>I_try_to_get_vaccine_Within a week or two</th>\n",
       "      <th>I_try_to_get_vaccine_Within a month</th>\n",
       "      <th>I_try_to_get_vaccine_Within three months</th>\n",
       "      <th>I_try_to_get_vaccine_Within six months</th>\n",
       "      <th>I_try_to_get_vaccine_More than six months</th>\n",
       "      <th>I think _I would not get the vaccine</th>\n",
       "      <th>Very concerned about the side effect from a covid 19 vaccine</th>\n",
       "      <th>Moderately concerned about the side effect from a covid 19 vaccine</th>\n",
       "      <th>slightly concerned about the side effect from a covid 19 vaccine</th>\n",
       "      <th>Not at all concerned about the side effect from a covid 19 vaccine</th>\n",
       "    </tr>\n",
       "  </thead>\n",
       "  <tbody>\n",
       "    <tr>\n",
       "      <th>0</th>\n",
       "      <td>0</td>\n",
       "      <td>0</td>\n",
       "      <td>0</td>\n",
       "      <td>0</td>\n",
       "      <td>0</td>\n",
       "      <td>0</td>\n",
       "      <td>0</td>\n",
       "      <td>0</td>\n",
       "      <td>1</td>\n",
       "      <td>0</td>\n",
       "      <td>...</td>\n",
       "      <td>0</td>\n",
       "      <td>0</td>\n",
       "      <td>0</td>\n",
       "      <td>0</td>\n",
       "      <td>0</td>\n",
       "      <td>0</td>\n",
       "      <td>0</td>\n",
       "      <td>0</td>\n",
       "      <td>0</td>\n",
       "      <td>0</td>\n",
       "    </tr>\n",
       "    <tr>\n",
       "      <th>1</th>\n",
       "      <td>1</td>\n",
       "      <td>0</td>\n",
       "      <td>0</td>\n",
       "      <td>0</td>\n",
       "      <td>0</td>\n",
       "      <td>0</td>\n",
       "      <td>0</td>\n",
       "      <td>0</td>\n",
       "      <td>0</td>\n",
       "      <td>0</td>\n",
       "      <td>...</td>\n",
       "      <td>0</td>\n",
       "      <td>0</td>\n",
       "      <td>0</td>\n",
       "      <td>0</td>\n",
       "      <td>0</td>\n",
       "      <td>0</td>\n",
       "      <td>0</td>\n",
       "      <td>0</td>\n",
       "      <td>0</td>\n",
       "      <td>0</td>\n",
       "    </tr>\n",
       "    <tr>\n",
       "      <th>2</th>\n",
       "      <td>7</td>\n",
       "      <td>0</td>\n",
       "      <td>0</td>\n",
       "      <td>0</td>\n",
       "      <td>0</td>\n",
       "      <td>0</td>\n",
       "      <td>0</td>\n",
       "      <td>0</td>\n",
       "      <td>0</td>\n",
       "      <td>0</td>\n",
       "      <td>...</td>\n",
       "      <td>0</td>\n",
       "      <td>0</td>\n",
       "      <td>0</td>\n",
       "      <td>0</td>\n",
       "      <td>0</td>\n",
       "      <td>0</td>\n",
       "      <td>0</td>\n",
       "      <td>0</td>\n",
       "      <td>0</td>\n",
       "      <td>0</td>\n",
       "    </tr>\n",
       "    <tr>\n",
       "      <th>3</th>\n",
       "      <td>8</td>\n",
       "      <td>0</td>\n",
       "      <td>0</td>\n",
       "      <td>0</td>\n",
       "      <td>0</td>\n",
       "      <td>0</td>\n",
       "      <td>0</td>\n",
       "      <td>0</td>\n",
       "      <td>1</td>\n",
       "      <td>1</td>\n",
       "      <td>...</td>\n",
       "      <td>0</td>\n",
       "      <td>0</td>\n",
       "      <td>0</td>\n",
       "      <td>0</td>\n",
       "      <td>0</td>\n",
       "      <td>0</td>\n",
       "      <td>0</td>\n",
       "      <td>0</td>\n",
       "      <td>0</td>\n",
       "      <td>0</td>\n",
       "    </tr>\n",
       "    <tr>\n",
       "      <th>4</th>\n",
       "      <td>23</td>\n",
       "      <td>0</td>\n",
       "      <td>0</td>\n",
       "      <td>0</td>\n",
       "      <td>0</td>\n",
       "      <td>0</td>\n",
       "      <td>0</td>\n",
       "      <td>0</td>\n",
       "      <td>1</td>\n",
       "      <td>1</td>\n",
       "      <td>...</td>\n",
       "      <td>0</td>\n",
       "      <td>0</td>\n",
       "      <td>0</td>\n",
       "      <td>0</td>\n",
       "      <td>0</td>\n",
       "      <td>0</td>\n",
       "      <td>0</td>\n",
       "      <td>0</td>\n",
       "      <td>0</td>\n",
       "      <td>0</td>\n",
       "    </tr>\n",
       "  </tbody>\n",
       "</table>\n",
       "<p>5 rows × 49 columns</p>\n",
       "</div>"
      ],
      "text/plain": [
       "   Unnamed: 0  past_24_hours_fever  past_24_hours_cough  \\\n",
       "0           0                    0                    0   \n",
       "1           1                    0                    0   \n",
       "2           7                    0                    0   \n",
       "3           8                    0                    0   \n",
       "4          23                    0                    0   \n",
       "\n",
       "   past_24_hours_shortness_of_breath  past_24_hours_difficulty_breathing  \\\n",
       "0                                  0                                   0   \n",
       "1                                  0                                   0   \n",
       "2                                  0                                   0   \n",
       "3                                  0                                   0   \n",
       "4                                  0                                   0   \n",
       "\n",
       "   past_24_hours_Nausea_vomiting  past_24_hours_Diarrhea  \\\n",
       "0                              0                       0   \n",
       "1                              0                       0   \n",
       "2                              0                       0   \n",
       "3                              0                       0   \n",
       "4                              0                       0   \n",
       "\n",
       "   past_24_hours_loss_taste_or_smell  past_24_hours_no_sysmptoms  D1  ...  \\\n",
       "0                                  0                           1   0  ...   \n",
       "1                                  0                           0   0  ...   \n",
       "2                                  0                           0   0  ...   \n",
       "3                                  0                           1   1  ...   \n",
       "4                                  0                           1   1  ...   \n",
       "\n",
       "   I_try_to_get_vaccine_Within a week or two  \\\n",
       "0                                          0   \n",
       "1                                          0   \n",
       "2                                          0   \n",
       "3                                          0   \n",
       "4                                          0   \n",
       "\n",
       "   I_try_to_get_vaccine_Within a month  \\\n",
       "0                                    0   \n",
       "1                                    0   \n",
       "2                                    0   \n",
       "3                                    0   \n",
       "4                                    0   \n",
       "\n",
       "   I_try_to_get_vaccine_Within three months  \\\n",
       "0                                         0   \n",
       "1                                         0   \n",
       "2                                         0   \n",
       "3                                         0   \n",
       "4                                         0   \n",
       "\n",
       "   I_try_to_get_vaccine_Within six months  \\\n",
       "0                                       0   \n",
       "1                                       0   \n",
       "2                                       0   \n",
       "3                                       0   \n",
       "4                                       0   \n",
       "\n",
       "   I_try_to_get_vaccine_More than six months  \\\n",
       "0                                          0   \n",
       "1                                          0   \n",
       "2                                          0   \n",
       "3                                          0   \n",
       "4                                          0   \n",
       "\n",
       "   I think _I would not get the vaccine   \\\n",
       "0                                      0   \n",
       "1                                      0   \n",
       "2                                      0   \n",
       "3                                      0   \n",
       "4                                      0   \n",
       "\n",
       "   Very concerned about the side effect from a covid 19 vaccine  \\\n",
       "0                                                  0              \n",
       "1                                                  0              \n",
       "2                                                  0              \n",
       "3                                                  0              \n",
       "4                                                  0              \n",
       "\n",
       "   Moderately concerned about the side effect from a covid 19 vaccine  \\\n",
       "0                                                  0                    \n",
       "1                                                  0                    \n",
       "2                                                  0                    \n",
       "3                                                  0                    \n",
       "4                                                  0                    \n",
       "\n",
       "   slightly concerned about the side effect from a covid 19 vaccine  \\\n",
       "0                                                  0                  \n",
       "1                                                  0                  \n",
       "2                                                  0                  \n",
       "3                                                  0                  \n",
       "4                                                  0                  \n",
       "\n",
       "   Not at all concerned about the side effect from a covid 19 vaccine  \n",
       "0                                                  0                   \n",
       "1                                                  0                   \n",
       "2                                                  0                   \n",
       "3                                                  0                   \n",
       "4                                                  0                   \n",
       "\n",
       "[5 rows x 49 columns]"
      ]
     },
     "execution_count": 17,
     "metadata": {},
     "output_type": "execute_result"
    }
   ],
   "source": [
    "import pandas as pd\n",
    "import numpy as np\n",
    "Data=pd.read_csv(r\"C:\\Users\\santosh nandam\\Downloads\\california.csv\")\n",
    "Data.head()"
   ]
  },
  {
   "cell_type": "code",
   "execution_count": 19,
   "id": "79b5f4fe-4368-4eab-8fa8-ec914dfef567",
   "metadata": {},
   "outputs": [
    {
     "data": {
      "text/plain": [
       "Index(['Unnamed: 0', 'past_24_hours_fever', 'past_24_hours_cough',\n",
       "       'past_24_hours_shortness_of_breath',\n",
       "       'past_24_hours_difficulty_breathing', 'past_24_hours_Nausea_vomiting',\n",
       "       'past_24_hours_Diarrhea', 'past_24_hours_loss_taste_or_smell',\n",
       "       'past_24_hours_no_sysmptoms', 'D1', 'Age_18-24 years',\n",
       "       'Age_25-34 years', 'Age_35-44 years', 'Age_45-54 years',\n",
       "       'Age_55-64 years', 'Age_65-74 years', 'Age_75 years or older',\n",
       "       'Less than high school', '4 year degree', 'masters _degree', 'B13a',\n",
       "       'V1', 'yes_definitely_take_if_vaccine_offered_today',\n",
       "       'yes_probably__if_vaccine_offered_today',\n",
       "       'no_probably_not__if_vaccine_offered_today',\n",
       "       'no_definitely_not__if_vaccine_offered_today',\n",
       "       'I_ definitely_would_not_choose_because_I_am _concerned_about possible side effects of a COVID-19 vaccine',\n",
       "       'I_ definitely_would_not_choose_because_I_dont_kow if a Covid 19 vaccine will work',\n",
       "       'I_ definitely_would_not_choose_because_I_dont_believe _i need a covid 19 vaccine',\n",
       "       'I_ definitely_would_not_choose_because_I plan to wait and see if it is safe and may get it later',\n",
       "       'I_ definitely_would_not_choose_because_I dont trust covid 19 vaccine',\n",
       "       'I_ definitely_would_not_choose_because_ I dont trust the government',\n",
       "       'I_ definitely_would_not_choose_because_it is against my religious beliefs',\n",
       "       'I_believe i dont want covid 19 vaccine_because_I already had COVID-19',\n",
       "       'I_believe i dont want covid 19 vaccine_because_I do not spend time with any high-risk people',\n",
       "       'I_believe i dont want covid 19 vaccine_because_ I am not a member of a high-risk group',\n",
       "       'I_believe i dont want covid 19 vaccine_because_I plan to use masks or other precautions instead ',\n",
       "       'I_believe i dont want covid 19 vaccine_because_I dont believe COVID-19 is a serious illness',\n",
       "       'I_believe i dont want covid 19 vaccine_because_I dont think vaccines are beneficial',\n",
       "       'I_try_to_get_vaccine_Within a week or two',\n",
       "       'I_try_to_get_vaccine_Within a month',\n",
       "       'I_try_to_get_vaccine_Within three months',\n",
       "       'I_try_to_get_vaccine_Within six months',\n",
       "       'I_try_to_get_vaccine_More than six months',\n",
       "       'I think _I would not get the vaccine ',\n",
       "       'Very concerned about the side effect from a covid 19 vaccine',\n",
       "       'Moderately concerned about the side effect from a covid 19 vaccine',\n",
       "       'slightly concerned about the side effect from a covid 19 vaccine',\n",
       "       'Not at all concerned about the side effect from a covid 19 vaccine'],\n",
       "      dtype='object')"
      ]
     },
     "execution_count": 19,
     "metadata": {},
     "output_type": "execute_result"
    }
   ],
   "source": [
    "Data.columns"
   ]
  },
  {
   "cell_type": "code",
   "execution_count": 21,
   "id": "c9357758-5fbd-4b77-9d5f-a21901b5fefb",
   "metadata": {},
   "outputs": [
    {
     "data": {
      "text/html": [
       "<div>\n",
       "<style scoped>\n",
       "    .dataframe tbody tr th:only-of-type {\n",
       "        vertical-align: middle;\n",
       "    }\n",
       "\n",
       "    .dataframe tbody tr th {\n",
       "        vertical-align: top;\n",
       "    }\n",
       "\n",
       "    .dataframe thead th {\n",
       "        text-align: right;\n",
       "    }\n",
       "</style>\n",
       "<table border=\"1\" class=\"dataframe\">\n",
       "  <thead>\n",
       "    <tr style=\"text-align: right;\">\n",
       "      <th></th>\n",
       "      <th>past_24_hours_fever</th>\n",
       "      <th>past_24_hours_cough</th>\n",
       "      <th>past_24_hours_shortness_of_breath</th>\n",
       "      <th>past_24_hours_difficulty_breathing</th>\n",
       "      <th>past_24_hours_Nausea_vomiting</th>\n",
       "      <th>past_24_hours_Diarrhea</th>\n",
       "      <th>past_24_hours_loss_taste_or_smell</th>\n",
       "      <th>past_24_hours_no_sysmptoms</th>\n",
       "      <th>D1</th>\n",
       "      <th>Age_18-24 years</th>\n",
       "      <th>...</th>\n",
       "      <th>I_try_to_get_vaccine_Within a week or two</th>\n",
       "      <th>I_try_to_get_vaccine_Within a month</th>\n",
       "      <th>I_try_to_get_vaccine_Within three months</th>\n",
       "      <th>I_try_to_get_vaccine_Within six months</th>\n",
       "      <th>I_try_to_get_vaccine_More than six months</th>\n",
       "      <th>I think _I would not get the vaccine</th>\n",
       "      <th>Very concerned about the side effect from a covid 19 vaccine</th>\n",
       "      <th>Moderately concerned about the side effect from a covid 19 vaccine</th>\n",
       "      <th>slightly concerned about the side effect from a covid 19 vaccine</th>\n",
       "      <th>Not at all concerned about the side effect from a covid 19 vaccine</th>\n",
       "    </tr>\n",
       "  </thead>\n",
       "  <tbody>\n",
       "    <tr>\n",
       "      <th>0</th>\n",
       "      <td>0</td>\n",
       "      <td>0</td>\n",
       "      <td>0</td>\n",
       "      <td>0</td>\n",
       "      <td>0</td>\n",
       "      <td>0</td>\n",
       "      <td>0</td>\n",
       "      <td>1</td>\n",
       "      <td>0</td>\n",
       "      <td>0</td>\n",
       "      <td>...</td>\n",
       "      <td>0</td>\n",
       "      <td>0</td>\n",
       "      <td>0</td>\n",
       "      <td>0</td>\n",
       "      <td>0</td>\n",
       "      <td>0</td>\n",
       "      <td>0</td>\n",
       "      <td>0</td>\n",
       "      <td>0</td>\n",
       "      <td>0</td>\n",
       "    </tr>\n",
       "    <tr>\n",
       "      <th>1</th>\n",
       "      <td>0</td>\n",
       "      <td>0</td>\n",
       "      <td>0</td>\n",
       "      <td>0</td>\n",
       "      <td>0</td>\n",
       "      <td>0</td>\n",
       "      <td>0</td>\n",
       "      <td>0</td>\n",
       "      <td>0</td>\n",
       "      <td>0</td>\n",
       "      <td>...</td>\n",
       "      <td>0</td>\n",
       "      <td>0</td>\n",
       "      <td>0</td>\n",
       "      <td>0</td>\n",
       "      <td>0</td>\n",
       "      <td>0</td>\n",
       "      <td>0</td>\n",
       "      <td>0</td>\n",
       "      <td>0</td>\n",
       "      <td>0</td>\n",
       "    </tr>\n",
       "    <tr>\n",
       "      <th>2</th>\n",
       "      <td>0</td>\n",
       "      <td>0</td>\n",
       "      <td>0</td>\n",
       "      <td>0</td>\n",
       "      <td>0</td>\n",
       "      <td>0</td>\n",
       "      <td>0</td>\n",
       "      <td>0</td>\n",
       "      <td>0</td>\n",
       "      <td>1</td>\n",
       "      <td>...</td>\n",
       "      <td>0</td>\n",
       "      <td>0</td>\n",
       "      <td>0</td>\n",
       "      <td>0</td>\n",
       "      <td>0</td>\n",
       "      <td>0</td>\n",
       "      <td>0</td>\n",
       "      <td>0</td>\n",
       "      <td>0</td>\n",
       "      <td>0</td>\n",
       "    </tr>\n",
       "    <tr>\n",
       "      <th>3</th>\n",
       "      <td>0</td>\n",
       "      <td>0</td>\n",
       "      <td>0</td>\n",
       "      <td>0</td>\n",
       "      <td>0</td>\n",
       "      <td>0</td>\n",
       "      <td>0</td>\n",
       "      <td>1</td>\n",
       "      <td>1</td>\n",
       "      <td>0</td>\n",
       "      <td>...</td>\n",
       "      <td>0</td>\n",
       "      <td>0</td>\n",
       "      <td>0</td>\n",
       "      <td>0</td>\n",
       "      <td>0</td>\n",
       "      <td>0</td>\n",
       "      <td>0</td>\n",
       "      <td>0</td>\n",
       "      <td>0</td>\n",
       "      <td>0</td>\n",
       "    </tr>\n",
       "    <tr>\n",
       "      <th>4</th>\n",
       "      <td>0</td>\n",
       "      <td>0</td>\n",
       "      <td>0</td>\n",
       "      <td>0</td>\n",
       "      <td>0</td>\n",
       "      <td>0</td>\n",
       "      <td>0</td>\n",
       "      <td>1</td>\n",
       "      <td>1</td>\n",
       "      <td>0</td>\n",
       "      <td>...</td>\n",
       "      <td>0</td>\n",
       "      <td>0</td>\n",
       "      <td>0</td>\n",
       "      <td>0</td>\n",
       "      <td>0</td>\n",
       "      <td>0</td>\n",
       "      <td>0</td>\n",
       "      <td>0</td>\n",
       "      <td>0</td>\n",
       "      <td>0</td>\n",
       "    </tr>\n",
       "  </tbody>\n",
       "</table>\n",
       "<p>5 rows × 48 columns</p>\n",
       "</div>"
      ],
      "text/plain": [
       "   past_24_hours_fever  past_24_hours_cough  \\\n",
       "0                    0                    0   \n",
       "1                    0                    0   \n",
       "2                    0                    0   \n",
       "3                    0                    0   \n",
       "4                    0                    0   \n",
       "\n",
       "   past_24_hours_shortness_of_breath  past_24_hours_difficulty_breathing  \\\n",
       "0                                  0                                   0   \n",
       "1                                  0                                   0   \n",
       "2                                  0                                   0   \n",
       "3                                  0                                   0   \n",
       "4                                  0                                   0   \n",
       "\n",
       "   past_24_hours_Nausea_vomiting  past_24_hours_Diarrhea  \\\n",
       "0                              0                       0   \n",
       "1                              0                       0   \n",
       "2                              0                       0   \n",
       "3                              0                       0   \n",
       "4                              0                       0   \n",
       "\n",
       "   past_24_hours_loss_taste_or_smell  past_24_hours_no_sysmptoms  D1  \\\n",
       "0                                  0                           1   0   \n",
       "1                                  0                           0   0   \n",
       "2                                  0                           0   0   \n",
       "3                                  0                           1   1   \n",
       "4                                  0                           1   1   \n",
       "\n",
       "   Age_18-24 years  ...  I_try_to_get_vaccine_Within a week or two  \\\n",
       "0                0  ...                                          0   \n",
       "1                0  ...                                          0   \n",
       "2                1  ...                                          0   \n",
       "3                0  ...                                          0   \n",
       "4                0  ...                                          0   \n",
       "\n",
       "   I_try_to_get_vaccine_Within a month  \\\n",
       "0                                    0   \n",
       "1                                    0   \n",
       "2                                    0   \n",
       "3                                    0   \n",
       "4                                    0   \n",
       "\n",
       "   I_try_to_get_vaccine_Within three months  \\\n",
       "0                                         0   \n",
       "1                                         0   \n",
       "2                                         0   \n",
       "3                                         0   \n",
       "4                                         0   \n",
       "\n",
       "   I_try_to_get_vaccine_Within six months  \\\n",
       "0                                       0   \n",
       "1                                       0   \n",
       "2                                       0   \n",
       "3                                       0   \n",
       "4                                       0   \n",
       "\n",
       "   I_try_to_get_vaccine_More than six months  \\\n",
       "0                                          0   \n",
       "1                                          0   \n",
       "2                                          0   \n",
       "3                                          0   \n",
       "4                                          0   \n",
       "\n",
       "   I think _I would not get the vaccine   \\\n",
       "0                                      0   \n",
       "1                                      0   \n",
       "2                                      0   \n",
       "3                                      0   \n",
       "4                                      0   \n",
       "\n",
       "   Very concerned about the side effect from a covid 19 vaccine  \\\n",
       "0                                                  0              \n",
       "1                                                  0              \n",
       "2                                                  0              \n",
       "3                                                  0              \n",
       "4                                                  0              \n",
       "\n",
       "   Moderately concerned about the side effect from a covid 19 vaccine  \\\n",
       "0                                                  0                    \n",
       "1                                                  0                    \n",
       "2                                                  0                    \n",
       "3                                                  0                    \n",
       "4                                                  0                    \n",
       "\n",
       "   slightly concerned about the side effect from a covid 19 vaccine  \\\n",
       "0                                                  0                  \n",
       "1                                                  0                  \n",
       "2                                                  0                  \n",
       "3                                                  0                  \n",
       "4                                                  0                  \n",
       "\n",
       "   Not at all concerned about the side effect from a covid 19 vaccine  \n",
       "0                                                  0                   \n",
       "1                                                  0                   \n",
       "2                                                  0                   \n",
       "3                                                  0                   \n",
       "4                                                  0                   \n",
       "\n",
       "[5 rows x 48 columns]"
      ]
     },
     "execution_count": 21,
     "metadata": {},
     "output_type": "execute_result"
    }
   ],
   "source": [
    "Data.drop(Data.columns[Data.columns.str.contains('unnamed',case=False)],axis=1,inplace=True)\n",
    "Data.head()"
   ]
  },
  {
   "cell_type": "code",
   "execution_count": 23,
   "id": "82aafdc6-e22e-452e-8b91-3efb619580c1",
   "metadata": {},
   "outputs": [
    {
     "data": {
      "text/plain": [
       "(77146, 48)"
      ]
     },
     "execution_count": 23,
     "metadata": {},
     "output_type": "execute_result"
    }
   ],
   "source": [
    "Data.shape"
   ]
  },
  {
   "cell_type": "code",
   "execution_count": 25,
   "id": "9dbeafbc-b734-4c08-a85a-aa86893f3256",
   "metadata": {},
   "outputs": [
    {
     "data": {
      "text/plain": [
       "past_24_hours_fever                                                                                         0\n",
       "past_24_hours_cough                                                                                         0\n",
       "past_24_hours_shortness_of_breath                                                                           0\n",
       "past_24_hours_difficulty_breathing                                                                          0\n",
       "past_24_hours_Nausea_vomiting                                                                               0\n",
       "past_24_hours_Diarrhea                                                                                      0\n",
       "past_24_hours_loss_taste_or_smell                                                                           0\n",
       "past_24_hours_no_sysmptoms                                                                                  0\n",
       "D1                                                                                                          0\n",
       "Age_18-24 years                                                                                             0\n",
       "Age_25-34 years                                                                                             0\n",
       "Age_35-44 years                                                                                             0\n",
       "Age_45-54 years                                                                                             0\n",
       "Age_55-64 years                                                                                             0\n",
       "Age_65-74 years                                                                                             0\n",
       "Age_75 years or older                                                                                       0\n",
       "Less than high school                                                                                       0\n",
       "4 year degree                                                                                               0\n",
       "masters _degree                                                                                             0\n",
       "B13a                                                                                                        0\n",
       "V1                                                                                                          0\n",
       "yes_definitely_take_if_vaccine_offered_today                                                                0\n",
       "yes_probably__if_vaccine_offered_today                                                                      0\n",
       "no_probably_not__if_vaccine_offered_today                                                                   0\n",
       "no_definitely_not__if_vaccine_offered_today                                                                 0\n",
       "I_ definitely_would_not_choose_because_I_am _concerned_about possible side effects of a COVID-19 vaccine    0\n",
       "I_ definitely_would_not_choose_because_I_dont_kow if a Covid 19 vaccine will work                           0\n",
       "I_ definitely_would_not_choose_because_I_dont_believe _i need a covid 19 vaccine                            0\n",
       "I_ definitely_would_not_choose_because_I plan to wait and see if it is safe and may get it later            0\n",
       "I_ definitely_would_not_choose_because_I dont trust covid 19 vaccine                                        0\n",
       "I_ definitely_would_not_choose_because_ I dont trust the government                                         0\n",
       "I_ definitely_would_not_choose_because_it is against my religious beliefs                                   0\n",
       "I_believe i dont want covid 19 vaccine_because_I already had COVID-19                                       0\n",
       "I_believe i dont want covid 19 vaccine_because_I do not spend time with any high-risk people                0\n",
       "I_believe i dont want covid 19 vaccine_because_ I am not a member of a high-risk group                      0\n",
       "I_believe i dont want covid 19 vaccine_because_I plan to use masks or other precautions instead             0\n",
       "I_believe i dont want covid 19 vaccine_because_I dont believe COVID-19 is a serious illness                 0\n",
       "I_believe i dont want covid 19 vaccine_because_I dont think vaccines are beneficial                         0\n",
       "I_try_to_get_vaccine_Within a week or two                                                                   0\n",
       "I_try_to_get_vaccine_Within a month                                                                         0\n",
       "I_try_to_get_vaccine_Within three months                                                                    0\n",
       "I_try_to_get_vaccine_Within six months                                                                      0\n",
       "I_try_to_get_vaccine_More than six months                                                                   0\n",
       "I think _I would not get the vaccine                                                                        0\n",
       "Very concerned about the side effect from a covid 19 vaccine                                                0\n",
       "Moderately concerned about the side effect from a covid 19 vaccine                                          0\n",
       "slightly concerned about the side effect from a covid 19 vaccine                                            0\n",
       "Not at all concerned about the side effect from a covid 19 vaccine                                          0\n",
       "dtype: int64"
      ]
     },
     "execution_count": 25,
     "metadata": {},
     "output_type": "execute_result"
    }
   ],
   "source": [
    "Data.isnull().sum()"
   ]
  },
  {
   "cell_type": "code",
   "execution_count": 27,
   "id": "5e7480ed-c79a-4c80-9bff-26cd1165a845",
   "metadata": {},
   "outputs": [
    {
     "data": {
      "text/html": [
       "<div>\n",
       "<style scoped>\n",
       "    .dataframe tbody tr th:only-of-type {\n",
       "        vertical-align: middle;\n",
       "    }\n",
       "\n",
       "    .dataframe tbody tr th {\n",
       "        vertical-align: top;\n",
       "    }\n",
       "\n",
       "    .dataframe thead th {\n",
       "        text-align: right;\n",
       "    }\n",
       "</style>\n",
       "<table border=\"1\" class=\"dataframe\">\n",
       "  <thead>\n",
       "    <tr style=\"text-align: right;\">\n",
       "      <th></th>\n",
       "      <th>past_24_hours_fever</th>\n",
       "      <th>past_24_hours_cough</th>\n",
       "      <th>past_24_hours_shortness_of_breath</th>\n",
       "      <th>past_24_hours_difficulty_breathing</th>\n",
       "      <th>past_24_hours_Nausea_vomiting</th>\n",
       "      <th>past_24_hours_Diarrhea</th>\n",
       "      <th>past_24_hours_loss_taste_or_smell</th>\n",
       "      <th>past_24_hours_no_sysmptoms</th>\n",
       "      <th>D1</th>\n",
       "      <th>Age_18-24 years</th>\n",
       "      <th>...</th>\n",
       "      <th>I_try_to_get_vaccine_Within a week or two</th>\n",
       "      <th>I_try_to_get_vaccine_Within a month</th>\n",
       "      <th>I_try_to_get_vaccine_Within three months</th>\n",
       "      <th>I_try_to_get_vaccine_Within six months</th>\n",
       "      <th>I_try_to_get_vaccine_More than six months</th>\n",
       "      <th>I think _I would not get the vaccine</th>\n",
       "      <th>Very concerned about the side effect from a covid 19 vaccine</th>\n",
       "      <th>Moderately concerned about the side effect from a covid 19 vaccine</th>\n",
       "      <th>slightly concerned about the side effect from a covid 19 vaccine</th>\n",
       "      <th>Not at all concerned about the side effect from a covid 19 vaccine</th>\n",
       "    </tr>\n",
       "  </thead>\n",
       "  <tbody>\n",
       "    <tr>\n",
       "      <th>0</th>\n",
       "      <td>False</td>\n",
       "      <td>False</td>\n",
       "      <td>False</td>\n",
       "      <td>False</td>\n",
       "      <td>False</td>\n",
       "      <td>False</td>\n",
       "      <td>False</td>\n",
       "      <td>False</td>\n",
       "      <td>False</td>\n",
       "      <td>False</td>\n",
       "      <td>...</td>\n",
       "      <td>False</td>\n",
       "      <td>False</td>\n",
       "      <td>False</td>\n",
       "      <td>False</td>\n",
       "      <td>False</td>\n",
       "      <td>False</td>\n",
       "      <td>False</td>\n",
       "      <td>False</td>\n",
       "      <td>False</td>\n",
       "      <td>False</td>\n",
       "    </tr>\n",
       "    <tr>\n",
       "      <th>1</th>\n",
       "      <td>False</td>\n",
       "      <td>False</td>\n",
       "      <td>False</td>\n",
       "      <td>False</td>\n",
       "      <td>False</td>\n",
       "      <td>False</td>\n",
       "      <td>False</td>\n",
       "      <td>False</td>\n",
       "      <td>False</td>\n",
       "      <td>False</td>\n",
       "      <td>...</td>\n",
       "      <td>False</td>\n",
       "      <td>False</td>\n",
       "      <td>False</td>\n",
       "      <td>False</td>\n",
       "      <td>False</td>\n",
       "      <td>False</td>\n",
       "      <td>False</td>\n",
       "      <td>False</td>\n",
       "      <td>False</td>\n",
       "      <td>False</td>\n",
       "    </tr>\n",
       "    <tr>\n",
       "      <th>2</th>\n",
       "      <td>False</td>\n",
       "      <td>False</td>\n",
       "      <td>False</td>\n",
       "      <td>False</td>\n",
       "      <td>False</td>\n",
       "      <td>False</td>\n",
       "      <td>False</td>\n",
       "      <td>False</td>\n",
       "      <td>False</td>\n",
       "      <td>False</td>\n",
       "      <td>...</td>\n",
       "      <td>False</td>\n",
       "      <td>False</td>\n",
       "      <td>False</td>\n",
       "      <td>False</td>\n",
       "      <td>False</td>\n",
       "      <td>False</td>\n",
       "      <td>False</td>\n",
       "      <td>False</td>\n",
       "      <td>False</td>\n",
       "      <td>False</td>\n",
       "    </tr>\n",
       "    <tr>\n",
       "      <th>3</th>\n",
       "      <td>False</td>\n",
       "      <td>False</td>\n",
       "      <td>False</td>\n",
       "      <td>False</td>\n",
       "      <td>False</td>\n",
       "      <td>False</td>\n",
       "      <td>False</td>\n",
       "      <td>False</td>\n",
       "      <td>False</td>\n",
       "      <td>False</td>\n",
       "      <td>...</td>\n",
       "      <td>False</td>\n",
       "      <td>False</td>\n",
       "      <td>False</td>\n",
       "      <td>False</td>\n",
       "      <td>False</td>\n",
       "      <td>False</td>\n",
       "      <td>False</td>\n",
       "      <td>False</td>\n",
       "      <td>False</td>\n",
       "      <td>False</td>\n",
       "    </tr>\n",
       "    <tr>\n",
       "      <th>4</th>\n",
       "      <td>False</td>\n",
       "      <td>False</td>\n",
       "      <td>False</td>\n",
       "      <td>False</td>\n",
       "      <td>False</td>\n",
       "      <td>False</td>\n",
       "      <td>False</td>\n",
       "      <td>False</td>\n",
       "      <td>False</td>\n",
       "      <td>False</td>\n",
       "      <td>...</td>\n",
       "      <td>False</td>\n",
       "      <td>False</td>\n",
       "      <td>False</td>\n",
       "      <td>False</td>\n",
       "      <td>False</td>\n",
       "      <td>False</td>\n",
       "      <td>False</td>\n",
       "      <td>False</td>\n",
       "      <td>False</td>\n",
       "      <td>False</td>\n",
       "    </tr>\n",
       "    <tr>\n",
       "      <th>...</th>\n",
       "      <td>...</td>\n",
       "      <td>...</td>\n",
       "      <td>...</td>\n",
       "      <td>...</td>\n",
       "      <td>...</td>\n",
       "      <td>...</td>\n",
       "      <td>...</td>\n",
       "      <td>...</td>\n",
       "      <td>...</td>\n",
       "      <td>...</td>\n",
       "      <td>...</td>\n",
       "      <td>...</td>\n",
       "      <td>...</td>\n",
       "      <td>...</td>\n",
       "      <td>...</td>\n",
       "      <td>...</td>\n",
       "      <td>...</td>\n",
       "      <td>...</td>\n",
       "      <td>...</td>\n",
       "      <td>...</td>\n",
       "      <td>...</td>\n",
       "    </tr>\n",
       "    <tr>\n",
       "      <th>77141</th>\n",
       "      <td>False</td>\n",
       "      <td>False</td>\n",
       "      <td>False</td>\n",
       "      <td>False</td>\n",
       "      <td>False</td>\n",
       "      <td>False</td>\n",
       "      <td>False</td>\n",
       "      <td>False</td>\n",
       "      <td>False</td>\n",
       "      <td>False</td>\n",
       "      <td>...</td>\n",
       "      <td>False</td>\n",
       "      <td>False</td>\n",
       "      <td>False</td>\n",
       "      <td>False</td>\n",
       "      <td>False</td>\n",
       "      <td>False</td>\n",
       "      <td>False</td>\n",
       "      <td>False</td>\n",
       "      <td>False</td>\n",
       "      <td>False</td>\n",
       "    </tr>\n",
       "    <tr>\n",
       "      <th>77142</th>\n",
       "      <td>False</td>\n",
       "      <td>False</td>\n",
       "      <td>False</td>\n",
       "      <td>False</td>\n",
       "      <td>False</td>\n",
       "      <td>False</td>\n",
       "      <td>False</td>\n",
       "      <td>False</td>\n",
       "      <td>False</td>\n",
       "      <td>False</td>\n",
       "      <td>...</td>\n",
       "      <td>False</td>\n",
       "      <td>False</td>\n",
       "      <td>False</td>\n",
       "      <td>False</td>\n",
       "      <td>False</td>\n",
       "      <td>False</td>\n",
       "      <td>False</td>\n",
       "      <td>False</td>\n",
       "      <td>False</td>\n",
       "      <td>False</td>\n",
       "    </tr>\n",
       "    <tr>\n",
       "      <th>77143</th>\n",
       "      <td>False</td>\n",
       "      <td>False</td>\n",
       "      <td>False</td>\n",
       "      <td>False</td>\n",
       "      <td>False</td>\n",
       "      <td>False</td>\n",
       "      <td>False</td>\n",
       "      <td>False</td>\n",
       "      <td>False</td>\n",
       "      <td>False</td>\n",
       "      <td>...</td>\n",
       "      <td>False</td>\n",
       "      <td>False</td>\n",
       "      <td>False</td>\n",
       "      <td>False</td>\n",
       "      <td>False</td>\n",
       "      <td>False</td>\n",
       "      <td>False</td>\n",
       "      <td>False</td>\n",
       "      <td>False</td>\n",
       "      <td>False</td>\n",
       "    </tr>\n",
       "    <tr>\n",
       "      <th>77144</th>\n",
       "      <td>False</td>\n",
       "      <td>False</td>\n",
       "      <td>False</td>\n",
       "      <td>False</td>\n",
       "      <td>False</td>\n",
       "      <td>False</td>\n",
       "      <td>False</td>\n",
       "      <td>False</td>\n",
       "      <td>False</td>\n",
       "      <td>False</td>\n",
       "      <td>...</td>\n",
       "      <td>False</td>\n",
       "      <td>False</td>\n",
       "      <td>False</td>\n",
       "      <td>False</td>\n",
       "      <td>False</td>\n",
       "      <td>False</td>\n",
       "      <td>False</td>\n",
       "      <td>False</td>\n",
       "      <td>False</td>\n",
       "      <td>False</td>\n",
       "    </tr>\n",
       "    <tr>\n",
       "      <th>77145</th>\n",
       "      <td>False</td>\n",
       "      <td>False</td>\n",
       "      <td>False</td>\n",
       "      <td>False</td>\n",
       "      <td>False</td>\n",
       "      <td>False</td>\n",
       "      <td>False</td>\n",
       "      <td>False</td>\n",
       "      <td>False</td>\n",
       "      <td>False</td>\n",
       "      <td>...</td>\n",
       "      <td>False</td>\n",
       "      <td>False</td>\n",
       "      <td>False</td>\n",
       "      <td>False</td>\n",
       "      <td>False</td>\n",
       "      <td>False</td>\n",
       "      <td>False</td>\n",
       "      <td>False</td>\n",
       "      <td>False</td>\n",
       "      <td>False</td>\n",
       "    </tr>\n",
       "  </tbody>\n",
       "</table>\n",
       "<p>77146 rows × 48 columns</p>\n",
       "</div>"
      ],
      "text/plain": [
       "       past_24_hours_fever  past_24_hours_cough  \\\n",
       "0                    False                False   \n",
       "1                    False                False   \n",
       "2                    False                False   \n",
       "3                    False                False   \n",
       "4                    False                False   \n",
       "...                    ...                  ...   \n",
       "77141                False                False   \n",
       "77142                False                False   \n",
       "77143                False                False   \n",
       "77144                False                False   \n",
       "77145                False                False   \n",
       "\n",
       "       past_24_hours_shortness_of_breath  past_24_hours_difficulty_breathing  \\\n",
       "0                                  False                               False   \n",
       "1                                  False                               False   \n",
       "2                                  False                               False   \n",
       "3                                  False                               False   \n",
       "4                                  False                               False   \n",
       "...                                  ...                                 ...   \n",
       "77141                              False                               False   \n",
       "77142                              False                               False   \n",
       "77143                              False                               False   \n",
       "77144                              False                               False   \n",
       "77145                              False                               False   \n",
       "\n",
       "       past_24_hours_Nausea_vomiting  past_24_hours_Diarrhea  \\\n",
       "0                              False                   False   \n",
       "1                              False                   False   \n",
       "2                              False                   False   \n",
       "3                              False                   False   \n",
       "4                              False                   False   \n",
       "...                              ...                     ...   \n",
       "77141                          False                   False   \n",
       "77142                          False                   False   \n",
       "77143                          False                   False   \n",
       "77144                          False                   False   \n",
       "77145                          False                   False   \n",
       "\n",
       "       past_24_hours_loss_taste_or_smell  past_24_hours_no_sysmptoms     D1  \\\n",
       "0                                  False                       False  False   \n",
       "1                                  False                       False  False   \n",
       "2                                  False                       False  False   \n",
       "3                                  False                       False  False   \n",
       "4                                  False                       False  False   \n",
       "...                                  ...                         ...    ...   \n",
       "77141                              False                       False  False   \n",
       "77142                              False                       False  False   \n",
       "77143                              False                       False  False   \n",
       "77144                              False                       False  False   \n",
       "77145                              False                       False  False   \n",
       "\n",
       "       Age_18-24 years  ...  I_try_to_get_vaccine_Within a week or two  \\\n",
       "0                False  ...                                      False   \n",
       "1                False  ...                                      False   \n",
       "2                False  ...                                      False   \n",
       "3                False  ...                                      False   \n",
       "4                False  ...                                      False   \n",
       "...                ...  ...                                        ...   \n",
       "77141            False  ...                                      False   \n",
       "77142            False  ...                                      False   \n",
       "77143            False  ...                                      False   \n",
       "77144            False  ...                                      False   \n",
       "77145            False  ...                                      False   \n",
       "\n",
       "       I_try_to_get_vaccine_Within a month  \\\n",
       "0                                    False   \n",
       "1                                    False   \n",
       "2                                    False   \n",
       "3                                    False   \n",
       "4                                    False   \n",
       "...                                    ...   \n",
       "77141                                False   \n",
       "77142                                False   \n",
       "77143                                False   \n",
       "77144                                False   \n",
       "77145                                False   \n",
       "\n",
       "       I_try_to_get_vaccine_Within three months  \\\n",
       "0                                         False   \n",
       "1                                         False   \n",
       "2                                         False   \n",
       "3                                         False   \n",
       "4                                         False   \n",
       "...                                         ...   \n",
       "77141                                     False   \n",
       "77142                                     False   \n",
       "77143                                     False   \n",
       "77144                                     False   \n",
       "77145                                     False   \n",
       "\n",
       "       I_try_to_get_vaccine_Within six months  \\\n",
       "0                                       False   \n",
       "1                                       False   \n",
       "2                                       False   \n",
       "3                                       False   \n",
       "4                                       False   \n",
       "...                                       ...   \n",
       "77141                                   False   \n",
       "77142                                   False   \n",
       "77143                                   False   \n",
       "77144                                   False   \n",
       "77145                                   False   \n",
       "\n",
       "       I_try_to_get_vaccine_More than six months  \\\n",
       "0                                          False   \n",
       "1                                          False   \n",
       "2                                          False   \n",
       "3                                          False   \n",
       "4                                          False   \n",
       "...                                          ...   \n",
       "77141                                      False   \n",
       "77142                                      False   \n",
       "77143                                      False   \n",
       "77144                                      False   \n",
       "77145                                      False   \n",
       "\n",
       "       I think _I would not get the vaccine   \\\n",
       "0                                      False   \n",
       "1                                      False   \n",
       "2                                      False   \n",
       "3                                      False   \n",
       "4                                      False   \n",
       "...                                      ...   \n",
       "77141                                  False   \n",
       "77142                                  False   \n",
       "77143                                  False   \n",
       "77144                                  False   \n",
       "77145                                  False   \n",
       "\n",
       "       Very concerned about the side effect from a covid 19 vaccine  \\\n",
       "0                                                  False              \n",
       "1                                                  False              \n",
       "2                                                  False              \n",
       "3                                                  False              \n",
       "4                                                  False              \n",
       "...                                                  ...              \n",
       "77141                                              False              \n",
       "77142                                              False              \n",
       "77143                                              False              \n",
       "77144                                              False              \n",
       "77145                                              False              \n",
       "\n",
       "       Moderately concerned about the side effect from a covid 19 vaccine  \\\n",
       "0                                                  False                    \n",
       "1                                                  False                    \n",
       "2                                                  False                    \n",
       "3                                                  False                    \n",
       "4                                                  False                    \n",
       "...                                                  ...                    \n",
       "77141                                              False                    \n",
       "77142                                              False                    \n",
       "77143                                              False                    \n",
       "77144                                              False                    \n",
       "77145                                              False                    \n",
       "\n",
       "       slightly concerned about the side effect from a covid 19 vaccine  \\\n",
       "0                                                  False                  \n",
       "1                                                  False                  \n",
       "2                                                  False                  \n",
       "3                                                  False                  \n",
       "4                                                  False                  \n",
       "...                                                  ...                  \n",
       "77141                                              False                  \n",
       "77142                                              False                  \n",
       "77143                                              False                  \n",
       "77144                                              False                  \n",
       "77145                                              False                  \n",
       "\n",
       "       Not at all concerned about the side effect from a covid 19 vaccine  \n",
       "0                                                  False                   \n",
       "1                                                  False                   \n",
       "2                                                  False                   \n",
       "3                                                  False                   \n",
       "4                                                  False                   \n",
       "...                                                  ...                   \n",
       "77141                                              False                   \n",
       "77142                                              False                   \n",
       "77143                                              False                   \n",
       "77144                                              False                   \n",
       "77145                                              False                   \n",
       "\n",
       "[77146 rows x 48 columns]"
      ]
     },
     "execution_count": 27,
     "metadata": {},
     "output_type": "execute_result"
    }
   ],
   "source": [
    "Data.isnull()"
   ]
  },
  {
   "cell_type": "code",
   "execution_count": 37,
   "id": "d4c0d6ac-9852-4c53-bb31-4a503bef4245",
   "metadata": {},
   "outputs": [],
   "source": [
    "import pandas as pd\n",
    "import numpy as np\n",
    "import matplotlib.pyplot as plt\n",
    "import seaborn as sns\n",
    "sns.set_style('whitegrid')\n",
    "plt.style.use(\"fivethirtyeight\")\n",
    "%matplotlib inline"
   ]
  },
  {
   "cell_type": "code",
   "execution_count": 33,
   "id": "93f7eeae-c072-4467-b27f-911fe15dccf7",
   "metadata": {},
   "outputs": [],
   "source": [
    "corrl=Data[['V1','no_definitely_not__if_vaccine_offered_today',\n",
    "            'I_ definitely_would_not_choose_because_I_am _concerned_about possible side effects of a COVID-19 vaccine',\n",
    "            'I_ definitely_would_not_choose_because_I_dont_kow if a Covid 19 vaccine will work',\n",
    "            'I_ definitely_would_not_choose_because_I_dont_believe _i need a covid 19 vaccine',                            \n",
    "            'I_ definitely_would_not_choose_because_I plan to wait and see if it is safe and may get it later',            \n",
    "            'I_ definitely_would_not_choose_because_I dont trust covid 19 vaccine',                                       \n",
    "            'I_ definitely_would_not_choose_because_ I dont trust the government',                                         \n",
    "            'I_ definitely_would_not_choose_because_it is against my religious beliefs']]                                   "
   ]
  },
  {
   "cell_type": "code",
   "execution_count": 71,
   "id": "b6d257a0-822f-488e-a351-d1f6cd85979a",
   "metadata": {},
   "outputs": [
    {
     "data": {
      "image/png": "[encoded data removed]",
      "text/plain": [
       "<Figure size 1600x1000 with 2 Axes>"
      ]
     },
     "metadata": {},
     "output_type": "display_data"
    }
   ],
   "source": [
    "import matplotlib.pyplot as plt\n",
    "import seaborn as sns\n",
    "plt.figure(figsize=(16,10))\n",
    "heatmap=sns.heatmap(corrl.corr(),vmin=-2,vmax=0,annot=True)\n",
    "heatmap.set_title('vaccine hesitancy',fontdict={'fontsize':24},pad=100);"
   ]
  },
  {
   "cell_type": "code",
   "execution_count": 83,
   "id": "ef90f947-999a-4bf5-a6fc-67027020a572",
   "metadata": {},
   "outputs": [
    {
     "data": {
      "text/plain": [
       "V1\n",
       "1    69574\n",
       "0     7572\n",
       "Name: count, dtype: int64"
      ]
     },
     "execution_count": 83,
     "metadata": {},
     "output_type": "execute_result"
    }
   ],
   "source": [
    "Data['V1'].value_counts()"
   ]
  },
  {
   "cell_type": "code",
   "execution_count": 91,
   "id": "ba6f5cd8-3f0e-4e4f-b645-9ee78ce31766",
   "metadata": {},
   "outputs": [
    {
     "data": {
      "text/plain": [
       "<Axes: ylabel='count'>"
      ]
     },
     "execution_count": 91,
     "metadata": {},
     "output_type": "execute_result"
    },
    {
     "data": {
      "image/png": "[encoded data removed]",
      "text/plain": [
       "<Figure size 640x480 with 1 Axes>"
      ]
     },
     "metadata": {},
     "output_type": "display_data"
    }
   ],
   "source": [
    "Data['V1'].value_counts().plot(kind='pie')"
   ]
  },
  {
   "cell_type": "code",
   "execution_count": 95,
   "id": "438cf4ce-fb3b-4958-af01-062dc12e23a0",
   "metadata": {},
   "outputs": [],
   "source": [
    "not_vacc=Data[Data['V1']==0]"
   ]
  },
  {
   "cell_type": "code",
   "execution_count": 97,
   "id": "bdeb6240-5ab4-4b32-a7fa-ecbff42f22bf",
   "metadata": {},
   "outputs": [
    {
     "data": {
      "text/html": [
       "<div>\n",
       "<style scoped>\n",
       "    .dataframe tbody tr th:only-of-type {\n",
       "        vertical-align: middle;\n",
       "    }\n",
       "\n",
       "    .dataframe tbody tr th {\n",
       "        vertical-align: top;\n",
       "    }\n",
       "\n",
       "    .dataframe thead th {\n",
       "        text-align: right;\n",
       "    }\n",
       "</style>\n",
       "<table border=\"1\" class=\"dataframe\">\n",
       "  <thead>\n",
       "    <tr style=\"text-align: right;\">\n",
       "      <th></th>\n",
       "      <th>past_24_hours_fever</th>\n",
       "      <th>past_24_hours_cough</th>\n",
       "      <th>past_24_hours_shortness_of_breath</th>\n",
       "      <th>past_24_hours_difficulty_breathing</th>\n",
       "      <th>past_24_hours_Nausea_vomiting</th>\n",
       "      <th>past_24_hours_Diarrhea</th>\n",
       "      <th>past_24_hours_loss_taste_or_smell</th>\n",
       "      <th>past_24_hours_no_sysmptoms</th>\n",
       "      <th>D1</th>\n",
       "      <th>Age_18-24 years</th>\n",
       "      <th>...</th>\n",
       "      <th>I_try_to_get_vaccine_Within a week or two</th>\n",
       "      <th>I_try_to_get_vaccine_Within a month</th>\n",
       "      <th>I_try_to_get_vaccine_Within three months</th>\n",
       "      <th>I_try_to_get_vaccine_Within six months</th>\n",
       "      <th>I_try_to_get_vaccine_More than six months</th>\n",
       "      <th>I think _I would not get the vaccine</th>\n",
       "      <th>Very concerned about the side effect from a covid 19 vaccine</th>\n",
       "      <th>Moderately concerned about the side effect from a covid 19 vaccine</th>\n",
       "      <th>slightly concerned about the side effect from a covid 19 vaccine</th>\n",
       "      <th>Not at all concerned about the side effect from a covid 19 vaccine</th>\n",
       "    </tr>\n",
       "  </thead>\n",
       "  <tbody>\n",
       "    <tr>\n",
       "      <th>8</th>\n",
       "      <td>0</td>\n",
       "      <td>1</td>\n",
       "      <td>0</td>\n",
       "      <td>0</td>\n",
       "      <td>0</td>\n",
       "      <td>0</td>\n",
       "      <td>0</td>\n",
       "      <td>0</td>\n",
       "      <td>0</td>\n",
       "      <td>0</td>\n",
       "      <td>...</td>\n",
       "      <td>0</td>\n",
       "      <td>0</td>\n",
       "      <td>0</td>\n",
       "      <td>0</td>\n",
       "      <td>0</td>\n",
       "      <td>0</td>\n",
       "      <td>1</td>\n",
       "      <td>0</td>\n",
       "      <td>0</td>\n",
       "      <td>0</td>\n",
       "    </tr>\n",
       "    <tr>\n",
       "      <th>13</th>\n",
       "      <td>0</td>\n",
       "      <td>0</td>\n",
       "      <td>0</td>\n",
       "      <td>0</td>\n",
       "      <td>0</td>\n",
       "      <td>0</td>\n",
       "      <td>0</td>\n",
       "      <td>0</td>\n",
       "      <td>0</td>\n",
       "      <td>1</td>\n",
       "      <td>...</td>\n",
       "      <td>0</td>\n",
       "      <td>0</td>\n",
       "      <td>0</td>\n",
       "      <td>0</td>\n",
       "      <td>0</td>\n",
       "      <td>0</td>\n",
       "      <td>1</td>\n",
       "      <td>0</td>\n",
       "      <td>0</td>\n",
       "      <td>0</td>\n",
       "    </tr>\n",
       "    <tr>\n",
       "      <th>14</th>\n",
       "      <td>0</td>\n",
       "      <td>0</td>\n",
       "      <td>0</td>\n",
       "      <td>0</td>\n",
       "      <td>0</td>\n",
       "      <td>0</td>\n",
       "      <td>0</td>\n",
       "      <td>1</td>\n",
       "      <td>0</td>\n",
       "      <td>0</td>\n",
       "      <td>...</td>\n",
       "      <td>0</td>\n",
       "      <td>0</td>\n",
       "      <td>0</td>\n",
       "      <td>0</td>\n",
       "      <td>0</td>\n",
       "      <td>0</td>\n",
       "      <td>1</td>\n",
       "      <td>0</td>\n",
       "      <td>0</td>\n",
       "      <td>0</td>\n",
       "    </tr>\n",
       "    <tr>\n",
       "      <th>18</th>\n",
       "      <td>0</td>\n",
       "      <td>0</td>\n",
       "      <td>0</td>\n",
       "      <td>0</td>\n",
       "      <td>0</td>\n",
       "      <td>0</td>\n",
       "      <td>0</td>\n",
       "      <td>1</td>\n",
       "      <td>0</td>\n",
       "      <td>0</td>\n",
       "      <td>...</td>\n",
       "      <td>0</td>\n",
       "      <td>0</td>\n",
       "      <td>0</td>\n",
       "      <td>0</td>\n",
       "      <td>0</td>\n",
       "      <td>0</td>\n",
       "      <td>1</td>\n",
       "      <td>0</td>\n",
       "      <td>0</td>\n",
       "      <td>0</td>\n",
       "    </tr>\n",
       "    <tr>\n",
       "      <th>39</th>\n",
       "      <td>0</td>\n",
       "      <td>0</td>\n",
       "      <td>0</td>\n",
       "      <td>0</td>\n",
       "      <td>0</td>\n",
       "      <td>0</td>\n",
       "      <td>0</td>\n",
       "      <td>0</td>\n",
       "      <td>1</td>\n",
       "      <td>0</td>\n",
       "      <td>...</td>\n",
       "      <td>0</td>\n",
       "      <td>0</td>\n",
       "      <td>0</td>\n",
       "      <td>0</td>\n",
       "      <td>0</td>\n",
       "      <td>1</td>\n",
       "      <td>0</td>\n",
       "      <td>1</td>\n",
       "      <td>0</td>\n",
       "      <td>0</td>\n",
       "    </tr>\n",
       "    <tr>\n",
       "      <th>...</th>\n",
       "      <td>...</td>\n",
       "      <td>...</td>\n",
       "      <td>...</td>\n",
       "      <td>...</td>\n",
       "      <td>...</td>\n",
       "      <td>...</td>\n",
       "      <td>...</td>\n",
       "      <td>...</td>\n",
       "      <td>...</td>\n",
       "      <td>...</td>\n",
       "      <td>...</td>\n",
       "      <td>...</td>\n",
       "      <td>...</td>\n",
       "      <td>...</td>\n",
       "      <td>...</td>\n",
       "      <td>...</td>\n",
       "      <td>...</td>\n",
       "      <td>...</td>\n",
       "      <td>...</td>\n",
       "      <td>...</td>\n",
       "      <td>...</td>\n",
       "    </tr>\n",
       "    <tr>\n",
       "      <th>77101</th>\n",
       "      <td>0</td>\n",
       "      <td>0</td>\n",
       "      <td>0</td>\n",
       "      <td>0</td>\n",
       "      <td>0</td>\n",
       "      <td>0</td>\n",
       "      <td>0</td>\n",
       "      <td>0</td>\n",
       "      <td>0</td>\n",
       "      <td>0</td>\n",
       "      <td>...</td>\n",
       "      <td>0</td>\n",
       "      <td>0</td>\n",
       "      <td>0</td>\n",
       "      <td>0</td>\n",
       "      <td>0</td>\n",
       "      <td>0</td>\n",
       "      <td>1</td>\n",
       "      <td>0</td>\n",
       "      <td>0</td>\n",
       "      <td>0</td>\n",
       "    </tr>\n",
       "    <tr>\n",
       "      <th>77105</th>\n",
       "      <td>0</td>\n",
       "      <td>0</td>\n",
       "      <td>0</td>\n",
       "      <td>0</td>\n",
       "      <td>0</td>\n",
       "      <td>0</td>\n",
       "      <td>0</td>\n",
       "      <td>0</td>\n",
       "      <td>1</td>\n",
       "      <td>0</td>\n",
       "      <td>...</td>\n",
       "      <td>0</td>\n",
       "      <td>0</td>\n",
       "      <td>0</td>\n",
       "      <td>0</td>\n",
       "      <td>0</td>\n",
       "      <td>0</td>\n",
       "      <td>0</td>\n",
       "      <td>0</td>\n",
       "      <td>0</td>\n",
       "      <td>1</td>\n",
       "    </tr>\n",
       "    <tr>\n",
       "      <th>77113</th>\n",
       "      <td>0</td>\n",
       "      <td>0</td>\n",
       "      <td>0</td>\n",
       "      <td>0</td>\n",
       "      <td>0</td>\n",
       "      <td>0</td>\n",
       "      <td>0</td>\n",
       "      <td>0</td>\n",
       "      <td>4</td>\n",
       "      <td>0</td>\n",
       "      <td>...</td>\n",
       "      <td>0</td>\n",
       "      <td>0</td>\n",
       "      <td>0</td>\n",
       "      <td>0</td>\n",
       "      <td>0</td>\n",
       "      <td>0</td>\n",
       "      <td>1</td>\n",
       "      <td>0</td>\n",
       "      <td>0</td>\n",
       "      <td>0</td>\n",
       "    </tr>\n",
       "    <tr>\n",
       "      <th>77141</th>\n",
       "      <td>0</td>\n",
       "      <td>0</td>\n",
       "      <td>0</td>\n",
       "      <td>0</td>\n",
       "      <td>0</td>\n",
       "      <td>0</td>\n",
       "      <td>0</td>\n",
       "      <td>0</td>\n",
       "      <td>0</td>\n",
       "      <td>0</td>\n",
       "      <td>...</td>\n",
       "      <td>0</td>\n",
       "      <td>0</td>\n",
       "      <td>0</td>\n",
       "      <td>0</td>\n",
       "      <td>0</td>\n",
       "      <td>0</td>\n",
       "      <td>1</td>\n",
       "      <td>0</td>\n",
       "      <td>0</td>\n",
       "      <td>0</td>\n",
       "    </tr>\n",
       "    <tr>\n",
       "      <th>77145</th>\n",
       "      <td>0</td>\n",
       "      <td>0</td>\n",
       "      <td>0</td>\n",
       "      <td>0</td>\n",
       "      <td>0</td>\n",
       "      <td>0</td>\n",
       "      <td>0</td>\n",
       "      <td>0</td>\n",
       "      <td>0</td>\n",
       "      <td>0</td>\n",
       "      <td>...</td>\n",
       "      <td>0</td>\n",
       "      <td>0</td>\n",
       "      <td>0</td>\n",
       "      <td>0</td>\n",
       "      <td>0</td>\n",
       "      <td>0</td>\n",
       "      <td>1</td>\n",
       "      <td>0</td>\n",
       "      <td>0</td>\n",
       "      <td>0</td>\n",
       "    </tr>\n",
       "  </tbody>\n",
       "</table>\n",
       "<p>7572 rows × 48 columns</p>\n",
       "</div>"
      ],
      "text/plain": [
       "       past_24_hours_fever  past_24_hours_cough  \\\n",
       "8                        0                    1   \n",
       "13                       0                    0   \n",
       "14                       0                    0   \n",
       "18                       0                    0   \n",
       "39                       0                    0   \n",
       "...                    ...                  ...   \n",
       "77101                    0                    0   \n",
       "77105                    0                    0   \n",
       "77113                    0                    0   \n",
       "77141                    0                    0   \n",
       "77145                    0                    0   \n",
       "\n",
       "       past_24_hours_shortness_of_breath  past_24_hours_difficulty_breathing  \\\n",
       "8                                      0                                   0   \n",
       "13                                     0                                   0   \n",
       "14                                     0                                   0   \n",
       "18                                     0                                   0   \n",
       "39                                     0                                   0   \n",
       "...                                  ...                                 ...   \n",
       "77101                                  0                                   0   \n",
       "77105                                  0                                   0   \n",
       "77113                                  0                                   0   \n",
       "77141                                  0                                   0   \n",
       "77145                                  0                                   0   \n",
       "\n",
       "       past_24_hours_Nausea_vomiting  past_24_hours_Diarrhea  \\\n",
       "8                                  0                       0   \n",
       "13                                 0                       0   \n",
       "14                                 0                       0   \n",
       "18                                 0                       0   \n",
       "39                                 0                       0   \n",
       "...                              ...                     ...   \n",
       "77101                              0                       0   \n",
       "77105                              0                       0   \n",
       "77113                              0                       0   \n",
       "77141                              0                       0   \n",
       "77145                              0                       0   \n",
       "\n",
       "       past_24_hours_loss_taste_or_smell  past_24_hours_no_sysmptoms  D1  \\\n",
       "8                                      0                           0   0   \n",
       "13                                     0                           0   0   \n",
       "14                                     0                           1   0   \n",
       "18                                     0                           1   0   \n",
       "39                                     0                           0   1   \n",
       "...                                  ...                         ...  ..   \n",
       "77101                                  0                           0   0   \n",
       "77105                                  0                           0   1   \n",
       "77113                                  0                           0   4   \n",
       "77141                                  0                           0   0   \n",
       "77145                                  0                           0   0   \n",
       "\n",
       "       Age_18-24 years  ...  I_try_to_get_vaccine_Within a week or two  \\\n",
       "8                    0  ...                                          0   \n",
       "13                   1  ...                                          0   \n",
       "14                   0  ...                                          0   \n",
       "18                   0  ...                                          0   \n",
       "39                   0  ...                                          0   \n",
       "...                ...  ...                                        ...   \n",
       "77101                0  ...                                          0   \n",
       "77105                0  ...                                          0   \n",
       "77113                0  ...                                          0   \n",
       "77141                0  ...                                          0   \n",
       "77145                0  ...                                          0   \n",
       "\n",
       "       I_try_to_get_vaccine_Within a month  \\\n",
       "8                                        0   \n",
       "13                                       0   \n",
       "14                                       0   \n",
       "18                                       0   \n",
       "39                                       0   \n",
       "...                                    ...   \n",
       "77101                                    0   \n",
       "77105                                    0   \n",
       "77113                                    0   \n",
       "77141                                    0   \n",
       "77145                                    0   \n",
       "\n",
       "       I_try_to_get_vaccine_Within three months  \\\n",
       "8                                             0   \n",
       "13                                            0   \n",
       "14                                            0   \n",
       "18                                            0   \n",
       "39                                            0   \n",
       "...                                         ...   \n",
       "77101                                         0   \n",
       "77105                                         0   \n",
       "77113                                         0   \n",
       "77141                                         0   \n",
       "77145                                         0   \n",
       "\n",
       "       I_try_to_get_vaccine_Within six months  \\\n",
       "8                                           0   \n",
       "13                                          0   \n",
       "14                                          0   \n",
       "18                                          0   \n",
       "39                                          0   \n",
       "...                                       ...   \n",
       "77101                                       0   \n",
       "77105                                       0   \n",
       "77113                                       0   \n",
       "77141                                       0   \n",
       "77145                                       0   \n",
       "\n",
       "       I_try_to_get_vaccine_More than six months  \\\n",
       "8                                              0   \n",
       "13                                             0   \n",
       "14                                             0   \n",
       "18                                             0   \n",
       "39                                             0   \n",
       "...                                          ...   \n",
       "77101                                          0   \n",
       "77105                                          0   \n",
       "77113                                          0   \n",
       "77141                                          0   \n",
       "77145                                          0   \n",
       "\n",
       "       I think _I would not get the vaccine   \\\n",
       "8                                          0   \n",
       "13                                         0   \n",
       "14                                         0   \n",
       "18                                         0   \n",
       "39                                         1   \n",
       "...                                      ...   \n",
       "77101                                      0   \n",
       "77105                                      0   \n",
       "77113                                      0   \n",
       "77141                                      0   \n",
       "77145                                      0   \n",
       "\n",
       "       Very concerned about the side effect from a covid 19 vaccine  \\\n",
       "8                                                      1              \n",
       "13                                                     1              \n",
       "14                                                     1              \n",
       "18                                                     1              \n",
       "39                                                     0              \n",
       "...                                                  ...              \n",
       "77101                                                  1              \n",
       "77105                                                  0              \n",
       "77113                                                  1              \n",
       "77141                                                  1              \n",
       "77145                                                  1              \n",
       "\n",
       "       Moderately concerned about the side effect from a covid 19 vaccine  \\\n",
       "8                                                      0                    \n",
       "13                                                     0                    \n",
       "14                                                     0                    \n",
       "18                                                     0                    \n",
       "39                                                     1                    \n",
       "...                                                  ...                    \n",
       "77101                                                  0                    \n",
       "77105                                                  0                    \n",
       "77113                                                  0                    \n",
       "77141                                                  0                    \n",
       "77145                                                  0                    \n",
       "\n",
       "       slightly concerned about the side effect from a covid 19 vaccine  \\\n",
       "8                                                      0                  \n",
       "13                                                     0                  \n",
       "14                                                     0                  \n",
       "18                                                     0                  \n",
       "39                                                     0                  \n",
       "...                                                  ...                  \n",
       "77101                                                  0                  \n",
       "77105                                                  0                  \n",
       "77113                                                  0                  \n",
       "77141                                                  0                  \n",
       "77145                                                  0                  \n",
       "\n",
       "       Not at all concerned about the side effect from a covid 19 vaccine  \n",
       "8                                                      0                   \n",
       "13                                                     0                   \n",
       "14                                                     0                   \n",
       "18                                                     0                   \n",
       "39                                                     0                   \n",
       "...                                                  ...                   \n",
       "77101                                                  0                   \n",
       "77105                                                  1                   \n",
       "77113                                                  0                   \n",
       "77141                                                  0                   \n",
       "77145                                                  0                   \n",
       "\n",
       "[7572 rows x 48 columns]"
      ]
     },
     "execution_count": 97,
     "metadata": {},
     "output_type": "execute_result"
    }
   ],
   "source": [
    "not_vacc"
   ]
  },
  {
   "cell_type": "code",
   "execution_count": 99,
   "id": "d0d44c9a-6f69-4ec5-95f1-6ace9a307644",
   "metadata": {},
   "outputs": [
    {
     "data": {
      "text/plain": [
       "(7572, 48)"
      ]
     },
     "execution_count": 99,
     "metadata": {},
     "output_type": "execute_result"
    }
   ],
   "source": [
    "not_vacc.shape"
   ]
  },
  {
   "cell_type": "code",
   "execution_count": 101,
   "id": "e0927c46-301d-40db-adfa-75dfd27d095c",
   "metadata": {},
   "outputs": [
    {
     "data": {
      "text/plain": [
       "Index(['past_24_hours_fever', 'past_24_hours_cough',\n",
       "       'past_24_hours_shortness_of_breath',\n",
       "       'past_24_hours_difficulty_breathing', 'past_24_hours_Nausea_vomiting',\n",
       "       'past_24_hours_Diarrhea', 'past_24_hours_loss_taste_or_smell',\n",
       "       'past_24_hours_no_sysmptoms', 'D1', 'Age_18-24 years',\n",
       "       'Age_25-34 years', 'Age_35-44 years', 'Age_45-54 years',\n",
       "       'Age_55-64 years', 'Age_65-74 years', 'Age_75 years or older',\n",
       "       'Less than high school', '4 year degree', 'masters _degree', 'B13a',\n",
       "       'V1', 'yes_definitely_take_if_vaccine_offered_today',\n",
       "       'yes_probably__if_vaccine_offered_today',\n",
       "       'no_probably_not__if_vaccine_offered_today',\n",
       "       'no_definitely_not__if_vaccine_offered_today',\n",
       "       'I_ definitely_would_not_choose_because_I_am _concerned_about possible side effects of a COVID-19 vaccine',\n",
       "       'I_ definitely_would_not_choose_because_I_dont_kow if a Covid 19 vaccine will work',\n",
       "       'I_ definitely_would_not_choose_because_I_dont_believe _i need a covid 19 vaccine',\n",
       "       'I_ definitely_would_not_choose_because_I plan to wait and see if it is safe and may get it later',\n",
       "       'I_ definitely_would_not_choose_because_I dont trust covid 19 vaccine',\n",
       "       'I_ definitely_would_not_choose_because_ I dont trust the government',\n",
       "       'I_ definitely_would_not_choose_because_it is against my religious beliefs',\n",
       "       'I_believe i dont want covid 19 vaccine_because_I already had COVID-19',\n",
       "       'I_believe i dont want covid 19 vaccine_because_I do not spend time with any high-risk people',\n",
       "       'I_believe i dont want covid 19 vaccine_because_ I am not a member of a high-risk group',\n",
       "       'I_believe i dont want covid 19 vaccine_because_I plan to use masks or other precautions instead ',\n",
       "       'I_believe i dont want covid 19 vaccine_because_I dont believe COVID-19 is a serious illness',\n",
       "       'I_believe i dont want covid 19 vaccine_because_I dont think vaccines are beneficial',\n",
       "       'I_try_to_get_vaccine_Within a week or two',\n",
       "       'I_try_to_get_vaccine_Within a month',\n",
       "       'I_try_to_get_vaccine_Within three months',\n",
       "       'I_try_to_get_vaccine_Within six months',\n",
       "       'I_try_to_get_vaccine_More than six months',\n",
       "       'I think _I would not get the vaccine ',\n",
       "       'Very concerned about the side effect from a covid 19 vaccine',\n",
       "       'Moderately concerned about the side effect from a covid 19 vaccine',\n",
       "       'slightly concerned about the side effect from a covid 19 vaccine',\n",
       "       'Not at all concerned about the side effect from a covid 19 vaccine'],\n",
       "      dtype='object')"
      ]
     },
     "execution_count": 101,
     "metadata": {},
     "output_type": "execute_result"
    }
   ],
   "source": [
    "not_vacc.columns"
   ]
  },
  {
   "cell_type": "code",
   "execution_count": 105,
   "id": "d2029de2-5cfe-41a6-9c54-d03cf09934c1",
   "metadata": {},
   "outputs": [
    {
     "data": {
      "text/plain": [
       "D1\n",
       "0    4033\n",
       "1    2660\n",
       "4     376\n",
       "5     336\n",
       "3     167\n",
       "Name: count, dtype: int64"
      ]
     },
     "execution_count": 105,
     "metadata": {},
     "output_type": "execute_result"
    }
   ],
   "source": [
    "not_vacc['D1'].value_counts()"
   ]
  },
  {
   "cell_type": "code",
   "execution_count": 109,
   "id": "439996d1-1ddd-4ca2-bab7-f640e91930bd",
   "metadata": {},
   "outputs": [
    {
     "data": {
      "text/plain": [
       "<Axes: xlabel='D1'>"
      ]
     },
     "execution_count": 109,
     "metadata": {},
     "output_type": "execute_result"
    },
    {
     "data": {
      "image/png": "[encoded data removed]",
      "text/plain": [
       "<Figure size 640x480 with 1 Axes>"
      ]
     },
     "metadata": {},
     "output_type": "display_data"
    }
   ],
   "source": [
    "not_vacc['D1'].value_counts().plot(kind='bar')"
   ]
  },
  {
   "cell_type": "code",
   "execution_count": 115,
   "id": "e192870d-2083-4630-b3dc-eed98948eb45",
   "metadata": {},
   "outputs": [
    {
     "data": {
      "text/html": [
       "<div>\n",
       "<style scoped>\n",
       "    .dataframe tbody tr th:only-of-type {\n",
       "        vertical-align: middle;\n",
       "    }\n",
       "\n",
       "    .dataframe tbody tr th {\n",
       "        vertical-align: top;\n",
       "    }\n",
       "\n",
       "    .dataframe thead th {\n",
       "        text-align: right;\n",
       "    }\n",
       "</style>\n",
       "<table border=\"1\" class=\"dataframe\">\n",
       "  <thead>\n",
       "    <tr style=\"text-align: right;\">\n",
       "      <th></th>\n",
       "      <th>Age_18-24 years</th>\n",
       "      <th>Age_25-34 years</th>\n",
       "      <th>Age_35-44 years</th>\n",
       "      <th>Age_45-54 years</th>\n",
       "      <th>Age_55-64 years</th>\n",
       "      <th>Age_65-74 years</th>\n",
       "      <th>Age_75 years or older</th>\n",
       "    </tr>\n",
       "  </thead>\n",
       "  <tbody>\n",
       "    <tr>\n",
       "      <th>8</th>\n",
       "      <td>0</td>\n",
       "      <td>0</td>\n",
       "      <td>1</td>\n",
       "      <td>0</td>\n",
       "      <td>0</td>\n",
       "      <td>0</td>\n",
       "      <td>0</td>\n",
       "    </tr>\n",
       "    <tr>\n",
       "      <th>13</th>\n",
       "      <td>1</td>\n",
       "      <td>0</td>\n",
       "      <td>0</td>\n",
       "      <td>0</td>\n",
       "      <td>0</td>\n",
       "      <td>0</td>\n",
       "      <td>0</td>\n",
       "    </tr>\n",
       "    <tr>\n",
       "      <th>14</th>\n",
       "      <td>0</td>\n",
       "      <td>0</td>\n",
       "      <td>1</td>\n",
       "      <td>0</td>\n",
       "      <td>0</td>\n",
       "      <td>0</td>\n",
       "      <td>0</td>\n",
       "    </tr>\n",
       "    <tr>\n",
       "      <th>18</th>\n",
       "      <td>0</td>\n",
       "      <td>0</td>\n",
       "      <td>0</td>\n",
       "      <td>1</td>\n",
       "      <td>0</td>\n",
       "      <td>0</td>\n",
       "      <td>0</td>\n",
       "    </tr>\n",
       "    <tr>\n",
       "      <th>39</th>\n",
       "      <td>0</td>\n",
       "      <td>0</td>\n",
       "      <td>0</td>\n",
       "      <td>0</td>\n",
       "      <td>0</td>\n",
       "      <td>1</td>\n",
       "      <td>0</td>\n",
       "    </tr>\n",
       "    <tr>\n",
       "      <th>...</th>\n",
       "      <td>...</td>\n",
       "      <td>...</td>\n",
       "      <td>...</td>\n",
       "      <td>...</td>\n",
       "      <td>...</td>\n",
       "      <td>...</td>\n",
       "      <td>...</td>\n",
       "    </tr>\n",
       "    <tr>\n",
       "      <th>77101</th>\n",
       "      <td>0</td>\n",
       "      <td>0</td>\n",
       "      <td>0</td>\n",
       "      <td>1</td>\n",
       "      <td>0</td>\n",
       "      <td>0</td>\n",
       "      <td>0</td>\n",
       "    </tr>\n",
       "    <tr>\n",
       "      <th>77105</th>\n",
       "      <td>0</td>\n",
       "      <td>0</td>\n",
       "      <td>0</td>\n",
       "      <td>0</td>\n",
       "      <td>0</td>\n",
       "      <td>0</td>\n",
       "      <td>1</td>\n",
       "    </tr>\n",
       "    <tr>\n",
       "      <th>77113</th>\n",
       "      <td>0</td>\n",
       "      <td>0</td>\n",
       "      <td>0</td>\n",
       "      <td>0</td>\n",
       "      <td>1</td>\n",
       "      <td>0</td>\n",
       "      <td>0</td>\n",
       "    </tr>\n",
       "    <tr>\n",
       "      <th>77141</th>\n",
       "      <td>0</td>\n",
       "      <td>0</td>\n",
       "      <td>0</td>\n",
       "      <td>0</td>\n",
       "      <td>1</td>\n",
       "      <td>0</td>\n",
       "      <td>0</td>\n",
       "    </tr>\n",
       "    <tr>\n",
       "      <th>77145</th>\n",
       "      <td>0</td>\n",
       "      <td>0</td>\n",
       "      <td>0</td>\n",
       "      <td>0</td>\n",
       "      <td>1</td>\n",
       "      <td>0</td>\n",
       "      <td>0</td>\n",
       "    </tr>\n",
       "  </tbody>\n",
       "</table>\n",
       "<p>7572 rows × 7 columns</p>\n",
       "</div>"
      ],
      "text/plain": [
       "       Age_18-24 years  Age_25-34 years  Age_35-44 years  Age_45-54 years  \\\n",
       "8                    0                0                1                0   \n",
       "13                   1                0                0                0   \n",
       "14                   0                0                1                0   \n",
       "18                   0                0                0                1   \n",
       "39                   0                0                0                0   \n",
       "...                ...              ...              ...              ...   \n",
       "77101                0                0                0                1   \n",
       "77105                0                0                0                0   \n",
       "77113                0                0                0                0   \n",
       "77141                0                0                0                0   \n",
       "77145                0                0                0                0   \n",
       "\n",
       "       Age_55-64 years  Age_65-74 years  Age_75 years or older  \n",
       "8                    0                0                      0  \n",
       "13                   0                0                      0  \n",
       "14                   0                0                      0  \n",
       "18                   0                0                      0  \n",
       "39                   0                1                      0  \n",
       "...                ...              ...                    ...  \n",
       "77101                0                0                      0  \n",
       "77105                0                0                      1  \n",
       "77113                1                0                      0  \n",
       "77141                1                0                      0  \n",
       "77145                1                0                      0  \n",
       "\n",
       "[7572 rows x 7 columns]"
      ]
     },
     "execution_count": 115,
     "metadata": {},
     "output_type": "execute_result"
    }
   ],
   "source": [
    "Age_group=not_vacc.iloc[:,9:16]\n",
    "Age_group"
   ]
  },
  {
   "cell_type": "code",
   "execution_count": 119,
   "id": "fdbe6fba-b090-4f8c-aabb-bec4b0c80d6b",
   "metadata": {},
   "outputs": [],
   "source": [
    "Age_Total=[]\n",
    "for i in Age_group:\n",
    "    r=Age_group[i].sum()\n",
    "    Age_Total.append(r)"
   ]
  },
  {
   "cell_type": "code",
   "execution_count": 123,
   "id": "9c5666b2-d630-4daa-8fac-6a1d06f7e273",
   "metadata": {},
   "outputs": [
    {
     "data": {
      "text/plain": [
       "Index(['Age_18-24 years', 'Age_25-34 years', 'Age_35-44 years',\n",
       "       'Age_45-54 years', 'Age_55-64 years', 'Age_65-74 years',\n",
       "       'Age_75 years or older'],\n",
       "      dtype='object')"
      ]
     },
     "execution_count": 123,
     "metadata": {},
     "output_type": "execute_result"
    }
   ],
   "source": [
    "Age_col=Age_group.columns\n",
    "Age_col"
   ]
  },
  {
   "cell_type": "code",
   "execution_count": 125,
   "id": "c81e8262-0fc4-46ca-8852-2bd4df4c98f3",
   "metadata": {},
   "outputs": [],
   "source": [
    "Age_Data=pd.DataFrame({\n",
    "    'Attributes':Age_col,\n",
    "    'Total':Age_Total,\n",
    "})"
   ]
  },
  {
   "cell_type": "code",
   "execution_count": 127,
   "id": "55468e5b-f113-4f3d-94da-ed8d04ef9345",
   "metadata": {},
   "outputs": [
    {
     "data": {
      "text/html": [
       "<div>\n",
       "<style scoped>\n",
       "    .dataframe tbody tr th:only-of-type {\n",
       "        vertical-align: middle;\n",
       "    }\n",
       "\n",
       "    .dataframe tbody tr th {\n",
       "        vertical-align: top;\n",
       "    }\n",
       "\n",
       "    .dataframe thead th {\n",
       "        text-align: right;\n",
       "    }\n",
       "</style>\n",
       "<table border=\"1\" class=\"dataframe\">\n",
       "  <thead>\n",
       "    <tr style=\"text-align: right;\">\n",
       "      <th></th>\n",
       "      <th>Attributes</th>\n",
       "      <th>Total</th>\n",
       "    </tr>\n",
       "  </thead>\n",
       "  <tbody>\n",
       "    <tr>\n",
       "      <th>0</th>\n",
       "      <td>Age_18-24 years</td>\n",
       "      <td>422</td>\n",
       "    </tr>\n",
       "    <tr>\n",
       "      <th>1</th>\n",
       "      <td>Age_25-34 years</td>\n",
       "      <td>1261</td>\n",
       "    </tr>\n",
       "    <tr>\n",
       "      <th>2</th>\n",
       "      <td>Age_35-44 years</td>\n",
       "      <td>1698</td>\n",
       "    </tr>\n",
       "    <tr>\n",
       "      <th>3</th>\n",
       "      <td>Age_45-54 years</td>\n",
       "      <td>1453</td>\n",
       "    </tr>\n",
       "    <tr>\n",
       "      <th>4</th>\n",
       "      <td>Age_55-64 years</td>\n",
       "      <td>1385</td>\n",
       "    </tr>\n",
       "    <tr>\n",
       "      <th>5</th>\n",
       "      <td>Age_65-74 years</td>\n",
       "      <td>774</td>\n",
       "    </tr>\n",
       "    <tr>\n",
       "      <th>6</th>\n",
       "      <td>Age_75 years or older</td>\n",
       "      <td>517</td>\n",
       "    </tr>\n",
       "  </tbody>\n",
       "</table>\n",
       "</div>"
      ],
      "text/plain": [
       "              Attributes  Total\n",
       "0        Age_18-24 years    422\n",
       "1        Age_25-34 years   1261\n",
       "2        Age_35-44 years   1698\n",
       "3        Age_45-54 years   1453\n",
       "4        Age_55-64 years   1385\n",
       "5        Age_65-74 years    774\n",
       "6  Age_75 years or older    517"
      ]
     },
     "execution_count": 127,
     "metadata": {},
     "output_type": "execute_result"
    }
   ],
   "source": [
    "Age_Data"
   ]
  },
  {
   "cell_type": "code",
   "execution_count": 147,
   "id": "1d841b4f-30a2-4592-9fb7-63729af62269",
   "metadata": {},
   "outputs": [
    {
     "data": {
      "application/vnd.plotly.v1+json": {
       "config": {
        "plotlyServerURL": "https://plot.ly"
       },
       "data": [
        {
         "alignmentgroup": "True",
         "cliponaxis": false,
         "hovertemplate": "Attributes=%{x}<br>Total=%{y}<extra></extra>",
         "legendgroup": "",
         "marker": {
          "color": "#636efa",
          "pattern": {
           "shape": ""
          }
         },
         "name": "",
         "offsetgroup": "",
         "orientation": "v",
         "showlegend": false,
         "textangle": 0,
         "textfont": {
          "size": 22
         },
         "textposition": "outside",
         "texttemplate": "%{y:.2s}",
         "type": "bar",
         "x": [
          "Age_18-24 years",
          "Age_25-34 years",
          "Age_35-44 years",
          "Age_45-54 years",
          "Age_55-64 years",
          "Age_65-74 years",
          "Age_75 years or older"
         ],
         "xaxis": "x",
         "y": [
          422,
          1261,
          1698,
          1453,
          1385,
          774,
          517
         ],
         "yaxis": "y"
        }
       ],
       "layout": {
        "autosize": true,
        "barmode": "relative",
        "legend": {
         "tracegroupgap": 0
        },
        "template": {
         "data": {
          "bar": [
           {
            "error_x": {
             "color": "#2a3f5f"
            },
            "error_y": {
             "color": "#2a3f5f"
            },
            "marker": {
             "line": {
              "color": "#E5ECF6",
              "width": 0.5
             },
             "pattern": {
              "fillmode": "overlay",
              "size": 10,
              "solidity": 0.2
             }
            },
            "type": "bar"
           }
          ],
          "barpolar": [
           {
            "marker": {
             "line": {
              "color": "#E5ECF6",
              "width": 0.5
             },
             "pattern": {
              "fillmode": "overlay",
              "size": 10,
              "solidity": 0.2
             }
            },
            "type": "barpolar"
           }
          ],
          "carpet": [
           {
            "aaxis": {
             "endlinecolor": "#2a3f5f",
             "gridcolor": "white",
             "linecolor": "white",
             "minorgridcolor": "white",
             "startlinecolor": "#2a3f5f"
            },
            "baxis": {
             "endlinecolor": "#2a3f5f",
             "gridcolor": "white",
             "linecolor": "white",
             "minorgridcolor": "white",
             "startlinecolor": "#2a3f5f"
            },
            "type": "carpet"
           }
          ],
          "choropleth": [
           {
            "colorbar": {
             "outlinewidth": 0,
             "ticks": ""
            },
            "type": "choropleth"
           }
          ],
          "contour": [
           {
            "colorbar": {
             "outlinewidth": 0,
             "ticks": ""
            },
            "colorscale": [
             [
              0,
              "#0d0887"
             ],
             [
              0.1111111111111111,
              "#46039f"
             ],
             [
              0.2222222222222222,
              "#7201a8"
             ],
             [
              0.3333333333333333,
              "#9c179e"
             ],
             [
              0.4444444444444444,
              "#bd3786"
             ],
             [
              0.5555555555555556,
              "#d8576b"
             ],
             [
              0.6666666666666666,
              "#ed7953"
             ],
             [
              0.7777777777777778,
              "#fb9f3a"
             ],
             [
              0.8888888888888888,
              "#fdca26"
             ],
             [
              1,
              "#f0f921"
             ]
            ],
            "type": "contour"
           }
          ],
          "contourcarpet": [
           {
            "colorbar": {
             "outlinewidth": 0,
             "ticks": ""
            },
            "type": "contourcarpet"
           }
          ],
          "heatmap": [
           {
            "colorbar": {
             "outlinewidth": 0,
             "ticks": ""
            },
            "colorscale": [
             [
              0,
              "#0d0887"
             ],
             [
              0.1111111111111111,
              "#46039f"
             ],
             [
              0.2222222222222222,
              "#7201a8"
             ],
             [
              0.3333333333333333,
              "#9c179e"
             ],
             [
              0.4444444444444444,
              "#bd3786"
             ],
             [
              0.5555555555555556,
              "#d8576b"
             ],
             [
              0.6666666666666666,
              "#ed7953"
             ],
             [
              0.7777777777777778,
              "#fb9f3a"
             ],
             [
              0.8888888888888888,
              "#fdca26"
             ],
             [
              1,
              "#f0f921"
             ]
            ],
            "type": "heatmap"
           }
          ],
          "heatmapgl": [
           {
            "colorbar": {
             "outlinewidth": 0,
             "ticks": ""
            },
            "colorscale": [
             [
              0,
              "#0d0887"
             ],
             [
              0.1111111111111111,
              "#46039f"
             ],
             [
              0.2222222222222222,
              "#7201a8"
             ],
             [
              0.3333333333333333,
              "#9c179e"
             ],
             [
              0.4444444444444444,
              "#bd3786"
             ],
             [
              0.5555555555555556,
              "#d8576b"
             ],
             [
              0.6666666666666666,
              "#ed7953"
             ],
             [
              0.7777777777777778,
              "#fb9f3a"
             ],
             [
              0.8888888888888888,
              "#fdca26"
             ],
             [
              1,
              "#f0f921"
             ]
            ],
            "type": "heatmapgl"
           }
          ],
          "histogram": [
           {
            "marker": {
             "pattern": {
              "fillmode": "overlay",
              "size": 10,
              "solidity": 0.2
             }
            },
            "type": "histogram"
           }
          ],
          "histogram2d": [
           {
            "colorbar": {
             "outlinewidth": 0,
             "ticks": ""
            },
            "colorscale": [
             [
              0,
              "#0d0887"
             ],
             [
              0.1111111111111111,
              "#46039f"
             ],
             [
              0.2222222222222222,
              "#7201a8"
             ],
             [
              0.3333333333333333,
              "#9c179e"
             ],
             [
              0.4444444444444444,
              "#bd3786"
             ],
             [
              0.5555555555555556,
              "#d8576b"
             ],
             [
              0.6666666666666666,
              "#ed7953"
             ],
             [
              0.7777777777777778,
              "#fb9f3a"
             ],
             [
              0.8888888888888888,
              "#fdca26"
             ],
             [
              1,
              "#f0f921"
             ]
            ],
            "type": "histogram2d"
           }
          ],
          "histogram2dcontour": [
           {
            "colorbar": {
             "outlinewidth": 0,
             "ticks": ""
            },
            "colorscale": [
             [
              0,
              "#0d0887"
             ],
             [
              0.1111111111111111,
              "#46039f"
             ],
             [
              0.2222222222222222,
              "#7201a8"
             ],
             [
              0.3333333333333333,
              "#9c179e"
             ],
             [
              0.4444444444444444,
              "#bd3786"
             ],
             [
              0.5555555555555556,
              "#d8576b"
             ],
             [
              0.6666666666666666,
              "#ed7953"
             ],
             [
              0.7777777777777778,
              "#fb9f3a"
             ],
             [
              0.8888888888888888,
              "#fdca26"
             ],
             [
              1,
              "#f0f921"
             ]
            ],
            "type": "histogram2dcontour"
           }
          ],
          "mesh3d": [
           {
            "colorbar": {
             "outlinewidth": 0,
             "ticks": ""
            },
            "type": "mesh3d"
           }
          ],
          "parcoords": [
           {
            "line": {
             "colorbar": {
              "outlinewidth": 0,
              "ticks": ""
             }
            },
            "type": "parcoords"
           }
          ],
          "pie": [
           {
            "automargin": true,
            "type": "pie"
           }
          ],
          "scatter": [
           {
            "fillpattern": {
             "fillmode": "overlay",
             "size": 10,
             "solidity": 0.2
            },
            "type": "scatter"
           }
          ],
          "scatter3d": [
           {
            "line": {
             "colorbar": {
              "outlinewidth": 0,
              "ticks": ""
             }
            },
            "marker": {
             "colorbar": {
              "outlinewidth": 0,
              "ticks": ""
             }
            },
            "type": "scatter3d"
           }
          ],
          "scattercarpet": [
           {
            "marker": {
             "colorbar": {
              "outlinewidth": 0,
              "ticks": ""
             }
            },
            "type": "scattercarpet"
           }
          ],
          "scattergeo": [
           {
            "marker": {
             "colorbar": {
              "outlinewidth": 0,
              "ticks": ""
             }
            },
            "type": "scattergeo"
           }
          ],
          "scattergl": [
           {
            "marker": {
             "colorbar": {
              "outlinewidth": 0,
              "ticks": ""
             }
            },
            "type": "scattergl"
           }
          ],
          "scattermapbox": [
           {
            "marker": {
             "colorbar": {
              "outlinewidth": 0,
              "ticks": ""
             }
            },
            "type": "scattermapbox"
           }
          ],
          "scatterpolar": [
           {
            "marker": {
             "colorbar": {
              "outlinewidth": 0,
              "ticks": ""
             }
            },
            "type": "scatterpolar"
           }
          ],
          "scatterpolargl": [
           {
            "marker": {
             "colorbar": {
              "outlinewidth": 0,
              "ticks": ""
             }
            },
            "type": "scatterpolargl"
           }
          ],
          "scatterternary": [
           {
            "marker": {
             "colorbar": {
              "outlinewidth": 0,
              "ticks": ""
             }
            },
            "type": "scatterternary"
           }
          ],
          "surface": [
           {
            "colorbar": {
             "outlinewidth": 0,
             "ticks": ""
            },
            "colorscale": [
             [
              0,
              "#0d0887"
             ],
             [
              0.1111111111111111,
              "#46039f"
             ],
             [
              0.2222222222222222,
              "#7201a8"
             ],
             [
              0.3333333333333333,
              "#9c179e"
             ],
             [
              0.4444444444444444,
              "#bd3786"
             ],
             [
              0.5555555555555556,
              "#d8576b"
             ],
             [
              0.6666666666666666,
              "#ed7953"
             ],
             [
              0.7777777777777778,
              "#fb9f3a"
             ],
             [
              0.8888888888888888,
              "#fdca26"
             ],
             [
              1,
              "#f0f921"
             ]
            ],
            "type": "surface"
           }
          ],
          "table": [
           {
            "cells": {
             "fill": {
              "color": "#EBF0F8"
             },
             "line": {
              "color": "white"
             }
            },
            "header": {
             "fill": {
              "color": "#C8D4E3"
             },
             "line": {
              "color": "white"
             }
            },
            "type": "table"
           }
          ]
         },
         "layout": {
          "annotationdefaults": {
           "arrowcolor": "#2a3f5f",
           "arrowhead": 0,
           "arrowwidth": 1
          },
          "autotypenumbers": "strict",
          "coloraxis": {
           "colorbar": {
            "outlinewidth": 0,
            "ticks": ""
           }
          },
          "colorscale": {
           "diverging": [
            [
             0,
             "#8e0152"
            ],
            [
             0.1,
             "#c51b7d"
            ],
            [
             0.2,
             "#de77ae"
            ],
            [
             0.3,
             "#f1b6da"
            ],
            [
             0.4,
             "#fde0ef"
            ],
            [
             0.5,
             "#f7f7f7"
            ],
            [
             0.6,
             "#e6f5d0"
            ],
            [
             0.7,
             "#b8e186"
            ],
            [
             0.8,
             "#7fbc41"
            ],
            [
             0.9,
             "#4d9221"
            ],
            [
             1,
             "#276419"
            ]
           ],
           "sequential": [
            [
             0,
             "#0d0887"
            ],
            [
             0.1111111111111111,
             "#46039f"
            ],
            [
             0.2222222222222222,
             "#7201a8"
            ],
            [
             0.3333333333333333,
             "#9c179e"
            ],
            [
             0.4444444444444444,
             "#bd3786"
            ],
            [
             0.5555555555555556,
             "#d8576b"
            ],
            [
             0.6666666666666666,
             "#ed7953"
            ],
            [
             0.7777777777777778,
             "#fb9f3a"
            ],
            [
             0.8888888888888888,
             "#fdca26"
            ],
            [
             1,
             "#f0f921"
            ]
           ],
           "sequentialminus": [
            [
             0,
             "#0d0887"
            ],
            [
             0.1111111111111111,
             "#46039f"
            ],
            [
             0.2222222222222222,
             "#7201a8"
            ],
            [
             0.3333333333333333,
             "#9c179e"
            ],
            [
             0.4444444444444444,
             "#bd3786"
            ],
            [
             0.5555555555555556,
             "#d8576b"
            ],
            [
             0.6666666666666666,
             "#ed7953"
            ],
            [
             0.7777777777777778,
             "#fb9f3a"
            ],
            [
             0.8888888888888888,
             "#fdca26"
            ],
            [
             1,
             "#f0f921"
            ]
           ]
          },
          "colorway": [
           "#636efa",
           "#EF553B",
           "#00cc96",
           "#ab63fa",
           "#FFA15A",
           "#19d3f3",
           "#FF6692",
           "#B6E880",
           "#FF97FF",
           "#FECB52"
          ],
          "font": {
           "color": "#2a3f5f"
          },
          "geo": {
           "bgcolor": "white",
           "lakecolor": "white",
           "landcolor": "#E5ECF6",
           "showlakes": true,
           "showland": true,
           "subunitcolor": "white"
          },
          "hoverlabel": {
           "align": "left"
          },
          "hovermode": "closest",
          "mapbox": {
           "style": "light"
          },
          "paper_bgcolor": "white",
          "plot_bgcolor": "#E5ECF6",
          "polar": {
           "angularaxis": {
            "gridcolor": "white",
            "linecolor": "white",
            "ticks": ""
           },
           "bgcolor": "#E5ECF6",
           "radialaxis": {
            "gridcolor": "white",
            "linecolor": "white",
            "ticks": ""
           }
          },
          "scene": {
           "xaxis": {
            "backgroundcolor": "#E5ECF6",
            "gridcolor": "white",
            "gridwidth": 2,
            "linecolor": "white",
            "showbackground": true,
            "ticks": "",
            "zerolinecolor": "white"
           },
           "yaxis": {
            "backgroundcolor": "#E5ECF6",
            "gridcolor": "white",
            "gridwidth": 2,
            "linecolor": "white",
            "showbackground": true,
            "ticks": "",
            "zerolinecolor": "white"
           },
           "zaxis": {
            "backgroundcolor": "#E5ECF6",
            "gridcolor": "white",
            "gridwidth": 2,
            "linecolor": "white",
            "showbackground": true,
            "ticks": "",
            "zerolinecolor": "white"
           }
          },
          "shapedefaults": {
           "line": {
            "color": "#2a3f5f"
           }
          },
          "ternary": {
           "aaxis": {
            "gridcolor": "white",
            "linecolor": "white",
            "ticks": ""
           },
           "baxis": {
            "gridcolor": "white",
            "linecolor": "white",
            "ticks": ""
           },
           "bgcolor": "#E5ECF6",
           "caxis": {
            "gridcolor": "white",
            "linecolor": "white",
            "ticks": ""
           }
          },
          "title": {
           "x": 0.05
          },
          "xaxis": {
           "automargin": true,
           "gridcolor": "white",
           "linecolor": "white",
           "ticks": "",
           "title": {
            "standoff": 15
           },
           "zerolinecolor": "white",
           "zerolinewidth": 2
          },
          "yaxis": {
           "automargin": true,
           "gridcolor": "white",
           "linecolor": "white",
           "ticks": "",
           "title": {
            "standoff": 15
           },
           "zerolinecolor": "white",
           "zerolinewidth": 2
          }
         }
        },
        "title": {
         "text": "California_Age_not_vaccinated"
        },
        "xaxis": {
         "anchor": "y",
         "autorange": true,
         "domain": [
          0,
          1
         ],
         "range": [
          -0.5,
          6.5
         ],
         "title": {
          "text": "Attributes"
         },
         "type": "category"
        },
        "yaxis": {
         "anchor": "x",
         "autorange": true,
         "domain": [
          0,
          1
         ],
         "range": [
          0,
          1787.3684210526317
         ],
         "title": {
          "text": "Total"
         },
         "type": "linear"
        }
       }
      },
      "image/png": "[encoded data removed]",
      "text/html": [
       "<div>                            <div id=\"5d239e4a-d684-4383-823c-95f59efedb84\" class=\"plotly-graph-div\" style=\"height:525px; width:100%;\"></div>            <script type=\"text/javascript\">                require([\"plotly\"], function(Plotly) {                    window.PLOTLYENV=window.PLOTLYENV || {};                                    if (document.getElementById(\"5d239e4a-d684-4383-823c-95f59efedb84\")) {                    Plotly.newPlot(                        \"5d239e4a-d684-4383-823c-95f59efedb84\",                        [{\"alignmentgroup\":\"True\",\"hovertemplate\":\"Attributes=%{x}\\u003cbr\\u003eTotal=%{y}\\u003cextra\\u003e\\u003c\\u002fextra\\u003e\",\"legendgroup\":\"\",\"marker\":{\"color\":\"#636efa\",\"pattern\":{\"shape\":\"\"}},\"name\":\"\",\"offsetgroup\":\"\",\"orientation\":\"v\",\"showlegend\":false,\"textposition\":\"outside\",\"texttemplate\":\"%{y:.2s}\",\"x\":[\"Age_18-24 years\",\"Age_25-34 years\",\"Age_35-44 years\",\"Age_45-54 years\",\"Age_55-64 years\",\"Age_65-74 years\",\"Age_75 years or older\"],\"xaxis\":\"x\",\"y\":[422,1261,1698,1453,1385,774,517],\"yaxis\":\"y\",\"type\":\"bar\",\"textfont\":{\"size\":22},\"cliponaxis\":false,\"textangle\":0}],                        {\"template\":{\"data\":{\"histogram2dcontour\":[{\"type\":\"histogram2dcontour\",\"colorbar\":{\"outlinewidth\":0,\"ticks\":\"\"},\"colorscale\":[[0.0,\"#0d0887\"],[0.1111111111111111,\"#46039f\"],[0.2222222222222222,\"#7201a8\"],[0.3333333333333333,\"#9c179e\"],[0.4444444444444444,\"#bd3786\"],[0.5555555555555556,\"#d8576b\"],[0.6666666666666666,\"#ed7953\"],[0.7777777777777778,\"#fb9f3a\"],[0.8888888888888888,\"#fdca26\"],[1.0,\"#f0f921\"]]}],\"choropleth\":[{\"type\":\"choropleth\",\"colorbar\":{\"outlinewidth\":0,\"ticks\":\"\"}}],\"histogram2d\":[{\"type\":\"histogram2d\",\"colorbar\":{\"outlinewidth\":0,\"ticks\":\"\"},\"colorscale\":[[0.0,\"#0d0887\"],[0.1111111111111111,\"#46039f\"],[0.2222222222222222,\"#7201a8\"],[0.3333333333333333,\"#9c179e\"],[0.4444444444444444,\"#bd3786\"],[0.5555555555555556,\"#d8576b\"],[0.6666666666666666,\"#ed7953\"],[0.7777777777777778,\"#fb9f3a\"],[0.8888888888888888,\"#fdca26\"],[1.0,\"#f0f921\"]]}],\"heatmap\":[{\"type\":\"heatmap\",\"colorbar\":{\"outlinewidth\":0,\"ticks\":\"\"},\"colorscale\":[[0.0,\"#0d0887\"],[0.1111111111111111,\"#46039f\"],[0.2222222222222222,\"#7201a8\"],[0.3333333333333333,\"#9c179e\"],[0.4444444444444444,\"#bd3786\"],[0.5555555555555556,\"#d8576b\"],[0.6666666666666666,\"#ed7953\"],[0.7777777777777778,\"#fb9f3a\"],[0.8888888888888888,\"#fdca26\"],[1.0,\"#f0f921\"]]}],\"heatmapgl\":[{\"type\":\"heatmapgl\",\"colorbar\":{\"outlinewidth\":0,\"ticks\":\"\"},\"colorscale\":[[0.0,\"#0d0887\"],[0.1111111111111111,\"#46039f\"],[0.2222222222222222,\"#7201a8\"],[0.3333333333333333,\"#9c179e\"],[0.4444444444444444,\"#bd3786\"],[0.5555555555555556,\"#d8576b\"],[0.6666666666666666,\"#ed7953\"],[0.7777777777777778,\"#fb9f3a\"],[0.8888888888888888,\"#fdca26\"],[1.0,\"#f0f921\"]]}],\"contourcarpet\":[{\"type\":\"contourcarpet\",\"colorbar\":{\"outlinewidth\":0,\"ticks\":\"\"}}],\"contour\":[{\"type\":\"contour\",\"colorbar\":{\"outlinewidth\":0,\"ticks\":\"\"},\"colorscale\":[[0.0,\"#0d0887\"],[0.1111111111111111,\"#46039f\"],[0.2222222222222222,\"#7201a8\"],[0.3333333333333333,\"#9c179e\"],[0.4444444444444444,\"#bd3786\"],[0.5555555555555556,\"#d8576b\"],[0.6666666666666666,\"#ed7953\"],[0.7777777777777778,\"#fb9f3a\"],[0.8888888888888888,\"#fdca26\"],[1.0,\"#f0f921\"]]}],\"surface\":[{\"type\":\"surface\",\"colorbar\":{\"outlinewidth\":0,\"ticks\":\"\"},\"colorscale\":[[0.0,\"#0d0887\"],[0.1111111111111111,\"#46039f\"],[0.2222222222222222,\"#7201a8\"],[0.3333333333333333,\"#9c179e\"],[0.4444444444444444,\"#bd3786\"],[0.5555555555555556,\"#d8576b\"],[0.6666666666666666,\"#ed7953\"],[0.7777777777777778,\"#fb9f3a\"],[0.8888888888888888,\"#fdca26\"],[1.0,\"#f0f921\"]]}],\"mesh3d\":[{\"type\":\"mesh3d\",\"colorbar\":{\"outlinewidth\":0,\"ticks\":\"\"}}],\"scatter\":[{\"fillpattern\":{\"fillmode\":\"overlay\",\"size\":10,\"solidity\":0.2},\"type\":\"scatter\"}],\"parcoords\":[{\"type\":\"parcoords\",\"line\":{\"colorbar\":{\"outlinewidth\":0,\"ticks\":\"\"}}}],\"scatterpolargl\":[{\"type\":\"scatterpolargl\",\"marker\":{\"colorbar\":{\"outlinewidth\":0,\"ticks\":\"\"}}}],\"bar\":[{\"error_x\":{\"color\":\"#2a3f5f\"},\"error_y\":{\"color\":\"#2a3f5f\"},\"marker\":{\"line\":{\"color\":\"#E5ECF6\",\"width\":0.5},\"pattern\":{\"fillmode\":\"overlay\",\"size\":10,\"solidity\":0.2}},\"type\":\"bar\"}],\"scattergeo\":[{\"type\":\"scattergeo\",\"marker\":{\"colorbar\":{\"outlinewidth\":0,\"ticks\":\"\"}}}],\"scatterpolar\":[{\"type\":\"scatterpolar\",\"marker\":{\"colorbar\":{\"outlinewidth\":0,\"ticks\":\"\"}}}],\"histogram\":[{\"marker\":{\"pattern\":{\"fillmode\":\"overlay\",\"size\":10,\"solidity\":0.2}},\"type\":\"histogram\"}],\"scattergl\":[{\"type\":\"scattergl\",\"marker\":{\"colorbar\":{\"outlinewidth\":0,\"ticks\":\"\"}}}],\"scatter3d\":[{\"type\":\"scatter3d\",\"line\":{\"colorbar\":{\"outlinewidth\":0,\"ticks\":\"\"}},\"marker\":{\"colorbar\":{\"outlinewidth\":0,\"ticks\":\"\"}}}],\"scattermapbox\":[{\"type\":\"scattermapbox\",\"marker\":{\"colorbar\":{\"outlinewidth\":0,\"ticks\":\"\"}}}],\"scatterternary\":[{\"type\":\"scatterternary\",\"marker\":{\"colorbar\":{\"outlinewidth\":0,\"ticks\":\"\"}}}],\"scattercarpet\":[{\"type\":\"scattercarpet\",\"marker\":{\"colorbar\":{\"outlinewidth\":0,\"ticks\":\"\"}}}],\"carpet\":[{\"aaxis\":{\"endlinecolor\":\"#2a3f5f\",\"gridcolor\":\"white\",\"linecolor\":\"white\",\"minorgridcolor\":\"white\",\"startlinecolor\":\"#2a3f5f\"},\"baxis\":{\"endlinecolor\":\"#2a3f5f\",\"gridcolor\":\"white\",\"linecolor\":\"white\",\"minorgridcolor\":\"white\",\"startlinecolor\":\"#2a3f5f\"},\"type\":\"carpet\"}],\"table\":[{\"cells\":{\"fill\":{\"color\":\"#EBF0F8\"},\"line\":{\"color\":\"white\"}},\"header\":{\"fill\":{\"color\":\"#C8D4E3\"},\"line\":{\"color\":\"white\"}},\"type\":\"table\"}],\"barpolar\":[{\"marker\":{\"line\":{\"color\":\"#E5ECF6\",\"width\":0.5},\"pattern\":{\"fillmode\":\"overlay\",\"size\":10,\"solidity\":0.2}},\"type\":\"barpolar\"}],\"pie\":[{\"automargin\":true,\"type\":\"pie\"}]},\"layout\":{\"autotypenumbers\":\"strict\",\"colorway\":[\"#636efa\",\"#EF553B\",\"#00cc96\",\"#ab63fa\",\"#FFA15A\",\"#19d3f3\",\"#FF6692\",\"#B6E880\",\"#FF97FF\",\"#FECB52\"],\"font\":{\"color\":\"#2a3f5f\"},\"hovermode\":\"closest\",\"hoverlabel\":{\"align\":\"left\"},\"paper_bgcolor\":\"white\",\"plot_bgcolor\":\"#E5ECF6\",\"polar\":{\"bgcolor\":\"#E5ECF6\",\"angularaxis\":{\"gridcolor\":\"white\",\"linecolor\":\"white\",\"ticks\":\"\"},\"radialaxis\":{\"gridcolor\":\"white\",\"linecolor\":\"white\",\"ticks\":\"\"}},\"ternary\":{\"bgcolor\":\"#E5ECF6\",\"aaxis\":{\"gridcolor\":\"white\",\"linecolor\":\"white\",\"ticks\":\"\"},\"baxis\":{\"gridcolor\":\"white\",\"linecolor\":\"white\",\"ticks\":\"\"},\"caxis\":{\"gridcolor\":\"white\",\"linecolor\":\"white\",\"ticks\":\"\"}},\"coloraxis\":{\"colorbar\":{\"outlinewidth\":0,\"ticks\":\"\"}},\"colorscale\":{\"sequential\":[[0.0,\"#0d0887\"],[0.1111111111111111,\"#46039f\"],[0.2222222222222222,\"#7201a8\"],[0.3333333333333333,\"#9c179e\"],[0.4444444444444444,\"#bd3786\"],[0.5555555555555556,\"#d8576b\"],[0.6666666666666666,\"#ed7953\"],[0.7777777777777778,\"#fb9f3a\"],[0.8888888888888888,\"#fdca26\"],[1.0,\"#f0f921\"]],\"sequentialminus\":[[0.0,\"#0d0887\"],[0.1111111111111111,\"#46039f\"],[0.2222222222222222,\"#7201a8\"],[0.3333333333333333,\"#9c179e\"],[0.4444444444444444,\"#bd3786\"],[0.5555555555555556,\"#d8576b\"],[0.6666666666666666,\"#ed7953\"],[0.7777777777777778,\"#fb9f3a\"],[0.8888888888888888,\"#fdca26\"],[1.0,\"#f0f921\"]],\"diverging\":[[0,\"#8e0152\"],[0.1,\"#c51b7d\"],[0.2,\"#de77ae\"],[0.3,\"#f1b6da\"],[0.4,\"#fde0ef\"],[0.5,\"#f7f7f7\"],[0.6,\"#e6f5d0\"],[0.7,\"#b8e186\"],[0.8,\"#7fbc41\"],[0.9,\"#4d9221\"],[1,\"#276419\"]]},\"xaxis\":{\"gridcolor\":\"white\",\"linecolor\":\"white\",\"ticks\":\"\",\"title\":{\"standoff\":15},\"zerolinecolor\":\"white\",\"automargin\":true,\"zerolinewidth\":2},\"yaxis\":{\"gridcolor\":\"white\",\"linecolor\":\"white\",\"ticks\":\"\",\"title\":{\"standoff\":15},\"zerolinecolor\":\"white\",\"automargin\":true,\"zerolinewidth\":2},\"scene\":{\"xaxis\":{\"backgroundcolor\":\"#E5ECF6\",\"gridcolor\":\"white\",\"linecolor\":\"white\",\"showbackground\":true,\"ticks\":\"\",\"zerolinecolor\":\"white\",\"gridwidth\":2},\"yaxis\":{\"backgroundcolor\":\"#E5ECF6\",\"gridcolor\":\"white\",\"linecolor\":\"white\",\"showbackground\":true,\"ticks\":\"\",\"zerolinecolor\":\"white\",\"gridwidth\":2},\"zaxis\":{\"backgroundcolor\":\"#E5ECF6\",\"gridcolor\":\"white\",\"linecolor\":\"white\",\"showbackground\":true,\"ticks\":\"\",\"zerolinecolor\":\"white\",\"gridwidth\":2}},\"shapedefaults\":{\"line\":{\"color\":\"#2a3f5f\"}},\"annotationdefaults\":{\"arrowcolor\":\"#2a3f5f\",\"arrowhead\":0,\"arrowwidth\":1},\"geo\":{\"bgcolor\":\"white\",\"landcolor\":\"#E5ECF6\",\"subunitcolor\":\"white\",\"showland\":true,\"showlakes\":true,\"lakecolor\":\"white\"},\"title\":{\"x\":0.05},\"mapbox\":{\"style\":\"light\"}}},\"xaxis\":{\"anchor\":\"y\",\"domain\":[0.0,1.0],\"title\":{\"text\":\"Attributes\"}},\"yaxis\":{\"anchor\":\"x\",\"domain\":[0.0,1.0],\"title\":{\"text\":\"Total\"}},\"legend\":{\"tracegroupgap\":0},\"title\":{\"text\":\"California_Age_not_vaccinated\"},\"barmode\":\"relative\"},                        {\"responsive\": true}                    ).then(function(){\n",
       "                            \n",
       "var gd = document.getElementById('5d239e4a-d684-4383-823c-95f59efedb84');\n",
       "var x = new MutationObserver(function (mutations, observer) {{\n",
       "        var display = window.getComputedStyle(gd).display;\n",
       "        if (!display || display === 'none') {{\n",
       "            console.log([gd, 'removed!']);\n",
       "            Plotly.purge(gd);\n",
       "            observer.disconnect();\n",
       "        }}\n",
       "}});\n",
       "\n",
       "// Listen for the removal of the full notebook cells\n",
       "var notebookContainer = gd.closest('#notebook-container');\n",
       "if (notebookContainer) {{\n",
       "    x.observe(notebookContainer, {childList: true});\n",
       "}}\n",
       "\n",
       "// Listen for the clearing of the current output cell\n",
       "var outputEl = gd.closest('.output');\n",
       "if (outputEl) {{\n",
       "    x.observe(outputEl, {childList: true});\n",
       "}}\n",
       "\n",
       "                        })                };                });            </script>        </div>"
      ]
     },
     "metadata": {},
     "output_type": "display_data"
    }
   ],
   "source": [
    "import plotly.express as px\n",
    "fig=px.bar(Age_Data,y='Total',x='Attributes',text_auto='.2s',\n",
    "           title=\"California_Age_not_vaccinated\")\n",
    "fig.update_traces(textfont_size=22,textangle=0,textposition='outside',cliponaxis=False)\n",
    "fig.show()"
   ]
  },
  {
   "cell_type": "code",
   "execution_count": 131,
   "id": "81df89ed-b25e-4f5e-95ef-6a3434c2ee13",
   "metadata": {},
   "outputs": [
    {
     "data": {
      "text/html": [
       "<div>\n",
       "<style scoped>\n",
       "    .dataframe tbody tr th:only-of-type {\n",
       "        vertical-align: middle;\n",
       "    }\n",
       "\n",
       "    .dataframe tbody tr th {\n",
       "        vertical-align: top;\n",
       "    }\n",
       "\n",
       "    .dataframe thead th {\n",
       "        text-align: right;\n",
       "    }\n",
       "</style>\n",
       "<table border=\"1\" class=\"dataframe\">\n",
       "  <thead>\n",
       "    <tr style=\"text-align: right;\">\n",
       "      <th></th>\n",
       "      <th>Age_18-24 years</th>\n",
       "      <th>Age_25-34 years</th>\n",
       "      <th>Age_35-44 years</th>\n",
       "      <th>Age_45-54 years</th>\n",
       "      <th>Age_55-64 years</th>\n",
       "      <th>Age_65-74 years</th>\n",
       "      <th>Age_75 years or older</th>\n",
       "    </tr>\n",
       "  </thead>\n",
       "  <tbody>\n",
       "    <tr>\n",
       "      <th>8</th>\n",
       "      <td>0</td>\n",
       "      <td>0</td>\n",
       "      <td>1</td>\n",
       "      <td>0</td>\n",
       "      <td>0</td>\n",
       "      <td>0</td>\n",
       "      <td>0</td>\n",
       "    </tr>\n",
       "    <tr>\n",
       "      <th>13</th>\n",
       "      <td>1</td>\n",
       "      <td>0</td>\n",
       "      <td>0</td>\n",
       "      <td>0</td>\n",
       "      <td>0</td>\n",
       "      <td>0</td>\n",
       "      <td>0</td>\n",
       "    </tr>\n",
       "    <tr>\n",
       "      <th>14</th>\n",
       "      <td>0</td>\n",
       "      <td>0</td>\n",
       "      <td>1</td>\n",
       "      <td>0</td>\n",
       "      <td>0</td>\n",
       "      <td>0</td>\n",
       "      <td>0</td>\n",
       "    </tr>\n",
       "    <tr>\n",
       "      <th>18</th>\n",
       "      <td>0</td>\n",
       "      <td>0</td>\n",
       "      <td>0</td>\n",
       "      <td>1</td>\n",
       "      <td>0</td>\n",
       "      <td>0</td>\n",
       "      <td>0</td>\n",
       "    </tr>\n",
       "    <tr>\n",
       "      <th>39</th>\n",
       "      <td>0</td>\n",
       "      <td>0</td>\n",
       "      <td>0</td>\n",
       "      <td>0</td>\n",
       "      <td>0</td>\n",
       "      <td>1</td>\n",
       "      <td>0</td>\n",
       "    </tr>\n",
       "    <tr>\n",
       "      <th>...</th>\n",
       "      <td>...</td>\n",
       "      <td>...</td>\n",
       "      <td>...</td>\n",
       "      <td>...</td>\n",
       "      <td>...</td>\n",
       "      <td>...</td>\n",
       "      <td>...</td>\n",
       "    </tr>\n",
       "    <tr>\n",
       "      <th>77101</th>\n",
       "      <td>0</td>\n",
       "      <td>0</td>\n",
       "      <td>0</td>\n",
       "      <td>1</td>\n",
       "      <td>0</td>\n",
       "      <td>0</td>\n",
       "      <td>0</td>\n",
       "    </tr>\n",
       "    <tr>\n",
       "      <th>77105</th>\n",
       "      <td>0</td>\n",
       "      <td>0</td>\n",
       "      <td>0</td>\n",
       "      <td>0</td>\n",
       "      <td>0</td>\n",
       "      <td>0</td>\n",
       "      <td>1</td>\n",
       "    </tr>\n",
       "    <tr>\n",
       "      <th>77113</th>\n",
       "      <td>0</td>\n",
       "      <td>0</td>\n",
       "      <td>0</td>\n",
       "      <td>0</td>\n",
       "      <td>1</td>\n",
       "      <td>0</td>\n",
       "      <td>0</td>\n",
       "    </tr>\n",
       "    <tr>\n",
       "      <th>77141</th>\n",
       "      <td>0</td>\n",
       "      <td>0</td>\n",
       "      <td>0</td>\n",
       "      <td>0</td>\n",
       "      <td>1</td>\n",
       "      <td>0</td>\n",
       "      <td>0</td>\n",
       "    </tr>\n",
       "    <tr>\n",
       "      <th>77145</th>\n",
       "      <td>0</td>\n",
       "      <td>0</td>\n",
       "      <td>0</td>\n",
       "      <td>0</td>\n",
       "      <td>1</td>\n",
       "      <td>0</td>\n",
       "      <td>0</td>\n",
       "    </tr>\n",
       "  </tbody>\n",
       "</table>\n",
       "<p>7572 rows × 7 columns</p>\n",
       "</div>"
      ],
      "text/plain": [
       "       Age_18-24 years  Age_25-34 years  Age_35-44 years  Age_45-54 years  \\\n",
       "8                    0                0                1                0   \n",
       "13                   1                0                0                0   \n",
       "14                   0                0                1                0   \n",
       "18                   0                0                0                1   \n",
       "39                   0                0                0                0   \n",
       "...                ...              ...              ...              ...   \n",
       "77101                0                0                0                1   \n",
       "77105                0                0                0                0   \n",
       "77113                0                0                0                0   \n",
       "77141                0                0                0                0   \n",
       "77145                0                0                0                0   \n",
       "\n",
       "       Age_55-64 years  Age_65-74 years  Age_75 years or older  \n",
       "8                    0                0                      0  \n",
       "13                   0                0                      0  \n",
       "14                   0                0                      0  \n",
       "18                   0                0                      0  \n",
       "39                   0                1                      0  \n",
       "...                ...              ...                    ...  \n",
       "77101                0                0                      0  \n",
       "77105                0                0                      1  \n",
       "77113                1                0                      0  \n",
       "77141                1                0                      0  \n",
       "77145                1                0                      0  \n",
       "\n",
       "[7572 rows x 7 columns]"
      ]
     },
     "execution_count": 131,
     "metadata": {},
     "output_type": "execute_result"
    }
   ],
   "source": [
    "gender=not_vacc[\"D1\"]\n",
    "Age_group"
   ]
  },
  {
   "cell_type": "code",
   "execution_count": 137,
   "id": "204c0064-653c-4598-aac3-1dd9cda25ce0",
   "metadata": {},
   "outputs": [
    {
     "data": {
      "text/html": [
       "<div>\n",
       "<style scoped>\n",
       "    .dataframe tbody tr th:only-of-type {\n",
       "        vertical-align: middle;\n",
       "    }\n",
       "\n",
       "    .dataframe tbody tr th {\n",
       "        vertical-align: top;\n",
       "    }\n",
       "\n",
       "    .dataframe thead th {\n",
       "        text-align: right;\n",
       "    }\n",
       "</style>\n",
       "<table border=\"1\" class=\"dataframe\">\n",
       "  <thead>\n",
       "    <tr style=\"text-align: right;\">\n",
       "      <th></th>\n",
       "      <th>D1</th>\n",
       "      <th>Age_18-24 years</th>\n",
       "      <th>Age_25-34 years</th>\n",
       "      <th>Age_35-44 years</th>\n",
       "      <th>Age_45-54 years</th>\n",
       "      <th>Age_55-64 years</th>\n",
       "      <th>Age_65-74 years</th>\n",
       "      <th>Age_75 years or older</th>\n",
       "    </tr>\n",
       "  </thead>\n",
       "  <tbody>\n",
       "    <tr>\n",
       "      <th>8</th>\n",
       "      <td>0</td>\n",
       "      <td>0</td>\n",
       "      <td>0</td>\n",
       "      <td>1</td>\n",
       "      <td>0</td>\n",
       "      <td>0</td>\n",
       "      <td>0</td>\n",
       "      <td>0</td>\n",
       "    </tr>\n",
       "    <tr>\n",
       "      <th>13</th>\n",
       "      <td>0</td>\n",
       "      <td>1</td>\n",
       "      <td>0</td>\n",
       "      <td>0</td>\n",
       "      <td>0</td>\n",
       "      <td>0</td>\n",
       "      <td>0</td>\n",
       "      <td>0</td>\n",
       "    </tr>\n",
       "    <tr>\n",
       "      <th>14</th>\n",
       "      <td>0</td>\n",
       "      <td>0</td>\n",
       "      <td>0</td>\n",
       "      <td>1</td>\n",
       "      <td>0</td>\n",
       "      <td>0</td>\n",
       "      <td>0</td>\n",
       "      <td>0</td>\n",
       "    </tr>\n",
       "    <tr>\n",
       "      <th>18</th>\n",
       "      <td>0</td>\n",
       "      <td>0</td>\n",
       "      <td>0</td>\n",
       "      <td>0</td>\n",
       "      <td>1</td>\n",
       "      <td>0</td>\n",
       "      <td>0</td>\n",
       "      <td>0</td>\n",
       "    </tr>\n",
       "    <tr>\n",
       "      <th>39</th>\n",
       "      <td>1</td>\n",
       "      <td>0</td>\n",
       "      <td>0</td>\n",
       "      <td>0</td>\n",
       "      <td>0</td>\n",
       "      <td>0</td>\n",
       "      <td>1</td>\n",
       "      <td>0</td>\n",
       "    </tr>\n",
       "    <tr>\n",
       "      <th>...</th>\n",
       "      <td>...</td>\n",
       "      <td>...</td>\n",
       "      <td>...</td>\n",
       "      <td>...</td>\n",
       "      <td>...</td>\n",
       "      <td>...</td>\n",
       "      <td>...</td>\n",
       "      <td>...</td>\n",
       "    </tr>\n",
       "    <tr>\n",
       "      <th>77101</th>\n",
       "      <td>0</td>\n",
       "      <td>0</td>\n",
       "      <td>0</td>\n",
       "      <td>0</td>\n",
       "      <td>1</td>\n",
       "      <td>0</td>\n",
       "      <td>0</td>\n",
       "      <td>0</td>\n",
       "    </tr>\n",
       "    <tr>\n",
       "      <th>77105</th>\n",
       "      <td>1</td>\n",
       "      <td>0</td>\n",
       "      <td>0</td>\n",
       "      <td>0</td>\n",
       "      <td>0</td>\n",
       "      <td>0</td>\n",
       "      <td>0</td>\n",
       "      <td>1</td>\n",
       "    </tr>\n",
       "    <tr>\n",
       "      <th>77113</th>\n",
       "      <td>4</td>\n",
       "      <td>0</td>\n",
       "      <td>0</td>\n",
       "      <td>0</td>\n",
       "      <td>0</td>\n",
       "      <td>1</td>\n",
       "      <td>0</td>\n",
       "      <td>0</td>\n",
       "    </tr>\n",
       "    <tr>\n",
       "      <th>77141</th>\n",
       "      <td>0</td>\n",
       "      <td>0</td>\n",
       "      <td>0</td>\n",
       "      <td>0</td>\n",
       "      <td>0</td>\n",
       "      <td>1</td>\n",
       "      <td>0</td>\n",
       "      <td>0</td>\n",
       "    </tr>\n",
       "    <tr>\n",
       "      <th>77145</th>\n",
       "      <td>0</td>\n",
       "      <td>0</td>\n",
       "      <td>0</td>\n",
       "      <td>0</td>\n",
       "      <td>0</td>\n",
       "      <td>1</td>\n",
       "      <td>0</td>\n",
       "      <td>0</td>\n",
       "    </tr>\n",
       "  </tbody>\n",
       "</table>\n",
       "<p>7572 rows × 8 columns</p>\n",
       "</div>"
      ],
      "text/plain": [
       "       D1  Age_18-24 years  Age_25-34 years  Age_35-44 years  Age_45-54 years  \\\n",
       "8       0                0                0                1                0   \n",
       "13      0                1                0                0                0   \n",
       "14      0                0                0                1                0   \n",
       "18      0                0                0                0                1   \n",
       "39      1                0                0                0                0   \n",
       "...    ..              ...              ...              ...              ...   \n",
       "77101   0                0                0                0                1   \n",
       "77105   1                0                0                0                0   \n",
       "77113   4                0                0                0                0   \n",
       "77141   0                0                0                0                0   \n",
       "77145   0                0                0                0                0   \n",
       "\n",
       "       Age_55-64 years  Age_65-74 years  Age_75 years or older  \n",
       "8                    0                0                      0  \n",
       "13                   0                0                      0  \n",
       "14                   0                0                      0  \n",
       "18                   0                0                      0  \n",
       "39                   0                1                      0  \n",
       "...                ...              ...                    ...  \n",
       "77101                0                0                      0  \n",
       "77105                0                0                      1  \n",
       "77113                1                0                      0  \n",
       "77141                1                0                      0  \n",
       "77145                1                0                      0  \n",
       "\n",
       "[7572 rows x 8 columns]"
      ]
     },
     "execution_count": 137,
     "metadata": {},
     "output_type": "execute_result"
    }
   ],
   "source": [
    "gen_not_vacc=pd.concat([gender,Age_group],axis=1)\n",
    "gen_not_vacc"
   ]
  },
  {
   "cell_type": "code",
   "execution_count": null,
   "id": "8e8cd09a-9ce0-41b3-bf15-59ca810ead01",
   "metadata": {},
   "outputs": [],
   "source": []
  }
 ],
 "metadata": {
  "kernelspec": {
   "display_name": "Python 3 (ipykernel)",
   "language": "python",
   "name": "python3"
  },
  "language_info": {
   "codemirror_mode": {
    "name": "ipython",
    "version": 3
   },
   "file_extension": ".py",
   "mimetype": "text/x-python",
   "name": "python",
   "nbconvert_exporter": "python",
   "pygments_lexer": "ipython3",
   "version": "3.12.4"
  }
 },
 "nbformat": 4,
 "nbformat_minor": 5
}
