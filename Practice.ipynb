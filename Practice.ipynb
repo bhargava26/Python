{
 "cells": [
  {
   "cell_type": "code",
   "execution_count": 7,
   "id": "1c67738c-b24e-44d8-bd81-f424904cbd5f",
   "metadata": {},
   "outputs": [
    {
     "name": "stdout",
     "output_type": "stream",
     "text": [
      "0\n",
      "1\n",
      "2\n",
      "3\n",
      "4\n"
     ]
    }
   ],
   "source": [
    "count=0\n",
    "while count<5:\n",
    "    print(count)\n",
    "    count=count+1"
   ]
  },
  {
   "cell_type": "code",
   "execution_count": 18,
   "id": "9968f62e-ca6b-4561-8cca-4282920359fe",
   "metadata": {},
   "outputs": [
    {
     "name": "stdout",
     "output_type": "stream",
     "text": [
      "0\n",
      "1\n",
      "2\n",
      "3\n",
      "4\n",
      "5\n"
     ]
    }
   ],
   "source": [
    "count=0\n",
    "while count<5:\n",
    "    print(count)\n",
    "    count=count+1\n",
    "else:\n",
    "    print(count)"
   ]
  },
  {
   "cell_type": "code",
   "execution_count": 20,
   "id": "b46e1ace-2bc3-40d0-9e8e-3a87fcd2dd86",
   "metadata": {},
   "outputs": [
    {
     "name": "stdout",
     "output_type": "stream",
     "text": [
      "0\n",
      "1\n",
      "2\n"
     ]
    }
   ],
   "source": [
    "count=0\n",
    "while count<5:\n",
    "    print(count)\n",
    "    count=count+1\n",
    "    if count==3:\n",
    "        break"
   ]
  },
  {
   "cell_type": "code",
   "execution_count": 26,
   "id": "d759d870-8b9a-4312-ae82-5ba4ca1f032a",
   "metadata": {},
   "outputs": [
    {
     "name": "stdout",
     "output_type": "stream",
     "text": [
      "0\n",
      "1\n",
      "2\n",
      "4\n"
     ]
    }
   ],
   "source": [
    "count=0\n",
    "while count<5:\n",
    "    if count==3:\n",
    "        count=count+1\n",
    "        continue\n",
    "    print(count)\n",
    "    count=count+1"
   ]
  },
  {
   "cell_type": "code",
   "execution_count": 33,
   "id": "0b1e2871-e1c9-4bda-a999-b2f115196cf1",
   "metadata": {},
   "outputs": [
    {
     "name": "stdout",
     "output_type": "stream",
     "text": [
      "Bhargava Balla\n"
     ]
    }
   ],
   "source": [
    "def generate_full_name():\n",
    "    first_name='Bhargava'\n",
    "    last_name='Balla'\n",
    "    space=' '\n",
    "    full_name=first_name+space+last_name\n",
    "    print(full_name)\n",
    "generate_full_name()"
   ]
  },
  {
   "cell_type": "code",
   "execution_count": 40,
   "id": "4af096be-a9ab-4bfb-9f9e-5b9bdde39954",
   "metadata": {},
   "outputs": [
    {
     "name": "stdout",
     "output_type": "stream",
     "text": [
      "11\n"
     ]
    }
   ],
   "source": [
    "def add_two_numbers():\n",
    "    first_number=5\n",
    "    second_number=6\n",
    "    total=first_number+second_number\n",
    "    print(total)\n",
    "add_two_numbers()"
   ]
  },
  {
   "cell_type": "code",
   "execution_count": 42,
   "id": "1dc1c52e-b237-4136-af6d-6c445bdd8e35",
   "metadata": {},
   "outputs": [
    {
     "name": "stdout",
     "output_type": "stream",
     "text": [
      "Bhargava Balla\n"
     ]
    }
   ],
   "source": [
    "def generate_full_name():\n",
    "    first_name='Bhargava'\n",
    "    last_name='Balla'\n",
    "    space=' '\n",
    "    full_name=first_name+space+last_name\n",
    "    return full_name\n",
    "print(generate_full_name())"
   ]
  },
  {
   "cell_type": "code",
   "execution_count": 44,
   "id": "fcffb045-834a-4df9-ba6a-f34178a64815",
   "metadata": {},
   "outputs": [
    {
     "name": "stdout",
     "output_type": "stream",
     "text": [
      "11\n"
     ]
    }
   ],
   "source": [
    "def add_two_numbers():\n",
    "    first_number=5\n",
    "    second_number=6\n",
    "    total=first_number+second_number\n",
    "    return total\n",
    "print(add_two_numbers())"
   ]
  },
  {
   "cell_type": "code",
   "execution_count": 50,
   "id": "e8c049e0-8478-4628-92e5-92f229ae7bf6",
   "metadata": {},
   "outputs": [
    {
     "name": "stdout",
     "output_type": "stream",
     "text": [
      "Charu, Welcome to Python Course!\n"
     ]
    }
   ],
   "source": [
    "def greetings(name):\n",
    "    message=name+', Welcome to Python Course!'\n",
    "    return message\n",
    "print(greetings('Charu'))"
   ]
  },
  {
   "cell_type": "code",
   "execution_count": 54,
   "id": "2da486b3-56b7-4aeb-97f2-5a2d6597cea9",
   "metadata": {},
   "outputs": [
    {
     "name": "stdout",
     "output_type": "stream",
     "text": [
      "100\n"
     ]
    }
   ],
   "source": [
    "def add_ten(Number):\n",
    "    ten=10\n",
    "    return Number+ten\n",
    "print(add_ten(90))"
   ]
  },
  {
   "cell_type": "code",
   "execution_count": 58,
   "id": "c6847bfd-5969-4f9f-8ca5-b942635e93b4",
   "metadata": {},
   "outputs": [
    {
     "name": "stdout",
     "output_type": "stream",
     "text": [
      "78.5\n"
     ]
    }
   ],
   "source": [
    "def area_of_circle(r):\n",
    "    PI=3.14\n",
    "    area=PI*r**2\n",
    "    return area\n",
    "print(area_of_circle(5))"
   ]
  },
  {
   "cell_type": "code",
   "execution_count": 60,
   "id": "c91f047f-db29-4487-b253-25779a067a45",
   "metadata": {},
   "outputs": [
    {
     "name": "stdout",
     "output_type": "stream",
     "text": [
      "64\n"
     ]
    }
   ],
   "source": [
    "def square_number(x):\n",
    "    return x*x\n",
    "print(square_number(8))"
   ]
  },
  {
   "cell_type": "code",
   "execution_count": 78,
   "id": "634e5e66-3e40-46a2-aff5-6a044cd35b4c",
   "metadata": {},
   "outputs": [
    {
     "name": "stdout",
     "output_type": "stream",
     "text": [
      "55\n",
      "5050\n"
     ]
    }
   ],
   "source": [
    "def sum_of_numbers(n):\n",
    "    total=0\n",
    "    for i in range(n+1):\n",
    "        total+=i\n",
    "    return total\n",
    "print(sum_of_numbers(10))\n",
    "print(sum_of_numbers(100))"
   ]
  },
  {
   "cell_type": "code",
   "execution_count": 80,
   "id": "392e81f6-a589-43be-9979-8808e2c907fc",
   "metadata": {},
   "outputs": [
    {
     "name": "stdout",
     "output_type": "stream",
     "text": [
      "Age: 202\n"
     ]
    }
   ],
   "source": [
    "def calculate_age(current_year,birth_year):\n",
    "    age=current_year-birth_year\n",
    "    return age;\n",
    "print('Age:',calculate_age(2021,1819))"
   ]
  },
  {
   "cell_type": "code",
   "execution_count": 82,
   "id": "de69ac94-10d4-4eb2-be75-652e8637c6ee",
   "metadata": {},
   "outputs": [
    {
     "name": "stdout",
     "output_type": "stream",
     "text": [
      "Weight of an object in Newtons: 981.0N\n"
     ]
    }
   ],
   "source": [
    "def weight_of_object(mass,gravity):\n",
    "    weight=str(mass*gravity)+'N'\n",
    "    return weight\n",
    "print('Weight of an object in Newtons:',weight_of_object(100,9.81))"
   ]
  },
  {
   "cell_type": "code",
   "execution_count": 92,
   "id": "4d7ca197-a773-4ff8-acf1-5773f6926f9c",
   "metadata": {},
   "outputs": [
    {
     "name": "stdout",
     "output_type": "stream",
     "text": [
      "Peter, Welcome to Python!\n",
      "Bhargava, Welcome to Python!\n"
     ]
    }
   ],
   "source": [
    "def greetings(name='Peter'):\n",
    "    message=name+', Welcome to Python!'\n",
    "    return message;\n",
    "print(greetings())\n",
    "print(greetings('Bhargava'))"
   ]
  },
  {
   "cell_type": "code",
   "execution_count": 90,
   "id": "df1f5e8c-e053-4566-9c24-4a4fc9f29ab5",
   "metadata": {},
   "outputs": [
    {
     "name": "stdout",
     "output_type": "stream",
     "text": [
      "Age: 200\n"
     ]
    }
   ],
   "source": [
    "def calculate_age(birth_year,current_year=2021):\n",
    "    age=current_year-birth_year\n",
    "    return age;\n",
    "print('Age:',calculate_age(1821))"
   ]
  },
  {
   "cell_type": "code",
   "execution_count": 102,
   "id": "38730d05-7ff9-40c6-8736-eafd6db4adc9",
   "metadata": {},
   "outputs": [
    {
     "name": "stdout",
     "output_type": "stream",
     "text": [
      "21.09090909090909\n"
     ]
    }
   ],
   "source": [
    "from statistics import *\n",
    "ages=[20,20,4,24,25,22,26,20,23,22,26]\n",
    "print(mean(ages))"
   ]
  },
  {
   "cell_type": "code",
   "execution_count": 100,
   "id": "1e14eab1-a2c7-4a8e-b3f1-ab35ad7b519d",
   "metadata": {},
   "outputs": [
    {
     "name": "stdout",
     "output_type": "stream",
     "text": [
      "22\n",
      "20\n",
      "6.106628291529549\n"
     ]
    }
   ],
   "source": [
    "from statistics import median, mode, stdev\n",
    "ages=[20,20,4,24,25,22,26,20,23,22,26]\n",
    "print(median(ages))\n",
    "print(mode(ages))\n",
    "print(stdev(ages))"
   ]
  },
  {
   "cell_type": "code",
   "execution_count": 116,
   "id": "2913422a-e596-4c9d-9ad3-49c57edb323d",
   "metadata": {},
   "outputs": [
    {
     "name": "stdout",
     "output_type": "stream",
     "text": [
      "3.141592653589793\n",
      "1.4142135623730951\n",
      "8.0\n",
      "9\n",
      "10\n",
      "2.0\n"
     ]
    }
   ],
   "source": [
    "import math\n",
    "print(math.pi)\n",
    "print(math.sqrt(2)) \n",
    "print(math.pow(2,3))\n",
    "print(math.floor(9.81))\n",
    "print(math.ceil(9.81))\n",
    "print(math.log10(100))"
   ]
  },
  {
   "cell_type": "code",
   "execution_count": 122,
   "id": "ea001002-abcf-4936-8ecb-76b5d7df5f97",
   "metadata": {},
   "outputs": [
    {
     "name": "stdout",
     "output_type": "stream",
     "text": [
      "5\n"
     ]
    }
   ],
   "source": [
    "add_two_numbers=lambda a,b:a+b\n",
    "print(add_two_numbers(2,3))"
   ]
  },
  {
   "cell_type": "code",
   "execution_count": 124,
   "id": "c155c5d0-5922-4188-b118-f3327babf142",
   "metadata": {},
   "outputs": [
    {
     "name": "stdout",
     "output_type": "stream",
     "text": [
      "9\n"
     ]
    }
   ],
   "source": [
    "square=lambda x:x**2\n",
    "print(square(3))"
   ]
  },
  {
   "cell_type": "code",
   "execution_count": 126,
   "id": "0876ad78-0e7c-4e11-8dca-dfb6c1d9f781",
   "metadata": {},
   "outputs": [
    {
     "name": "stdout",
     "output_type": "stream",
     "text": [
      "27\n"
     ]
    }
   ],
   "source": [
    "cube=lambda x:x**3\n",
    "print(cube(3))"
   ]
  },
  {
   "cell_type": "code",
   "execution_count": 130,
   "id": "88ebd7ab-7cc1-4e44-a59a-59e924818a1c",
   "metadata": {},
   "outputs": [
    {
     "name": "stdout",
     "output_type": "stream",
     "text": [
      "11\n"
     ]
    }
   ],
   "source": [
    "multiple_variable=lambda a,b,c:a**2-3*b+4*c\n",
    "print(multiple_variable(2,3,4))"
   ]
  },
  {
   "cell_type": "code",
   "execution_count": 136,
   "id": "b36d5fa4-ac2c-4288-a8b1-a16bb1c31371",
   "metadata": {},
   "outputs": [
    {
     "name": "stdout",
     "output_type": "stream",
     "text": [
      "[1, 4, 9, 16, 25]\n",
      "[1, 4, 9, 16, 25]\n"
     ]
    }
   ],
   "source": [
    "numbers=[1,2,3,4,5]\n",
    "def square(x):\n",
    "    return x**2\n",
    "numbers_squared=map(square, numbers)\n",
    "print(list(numbers_squared))\n",
    "numbers_squared=map(lambda x:x**2, numbers)\n",
    "print(list(numbers_squared))"
   ]
  },
  {
   "cell_type": "code",
   "execution_count": 144,
   "id": "59e3aa81-1267-4ff8-aefd-3bdc53105a28",
   "metadata": {},
   "outputs": [
    {
     "name": "stdout",
     "output_type": "stream",
     "text": [
      "Something went wrong\n"
     ]
    }
   ],
   "source": [
    "try:\n",
    "    print(10+'5')\n",
    "except:\n",
    "    print('Something went wrong')"
   ]
  },
  {
   "cell_type": "code",
   "execution_count": 158,
   "id": "f1459d1d-878b-43d5-883b-4f1e8da36f02",
   "metadata": {},
   "outputs": [
    {
     "name": "stdin",
     "output_type": "stream",
     "text": [
      "Enter your Name: Bhargava\n",
      "Year you were born: 2001\n"
     ]
    },
    {
     "name": "stdout",
     "output_type": "stream",
     "text": [
      "You're Bhargava. And your age is 23.\n"
     ]
    }
   ],
   "source": [
    "try:\n",
    "    name=input('Enter your Name:')\n",
    "    year_born=int(input('Year you were born:'))\n",
    "    age=2024-year_born\n",
    "    print(f\"You're {name}. And your age is {age}.\")\n",
    "except:\n",
    "    print('Something went wrong')"
   ]
  },
  {
   "cell_type": "code",
   "execution_count": 170,
   "id": "08088220-15e5-4318-92d6-8177890a9f87",
   "metadata": {},
   "outputs": [
    {
     "name": "stdout",
     "output_type": "stream",
     "text": [
      "[{'fruit': 'banana', 'veg': 'tomato'}, {'fruit': 'orange', 'veg': 'potato'}, {'fruit': 'mango', 'veg': 'caabbage'}, {'fruit': 'lemon', 'veg': 'onion'}, {'fruit': 'lime', 'veg': 'carrot'}]\n"
     ]
    }
   ],
   "source": [
    "fruits=['banana','orange','mango','lemon','lime']\n",
    "vegetables=['tomato','potato','caabbage','onion','carrot']\n",
    "fruits_and_vegetables=[]\n",
    "for f,v in zip(fruits,vegetables):\n",
    "    fruits_and_vegetables.append({'fruit':f,'veg':v})\n",
    "print(fruits_and_vegetables)"
   ]
  },
  {
   "cell_type": "code",
   "execution_count": 1,
   "id": "5e17cedc-ff8f-4f19-9b02-1765ae541dd5",
   "metadata": {},
   "outputs": [
    {
     "name": "stdout",
     "output_type": "stream",
     "text": [
      "Requirement already satisfied: pip in c:\\users\\santosh nandam\\anaconda3\\lib\\site-packages (24.0)Note: you may need to restart the kernel to use updated packages.\n",
      "\n"
     ]
    }
   ],
   "source": [
    "pip istall pip"
   ]
  },
  {
   "cell_type": "code",
   "execution_count": 1,
   "id": "dcc45dc6-e5e9-406e-a9da-2d6a5dafe581",
   "metadata": {},
   "outputs": [
    {
     "name": "stdout",
     "output_type": "stream",
     "text": [
      "Requirement already satisfied: numpy in c:\\users\\santosh nandam\\anaconda3\\lib\\site-packages (1.26.4)\n",
      "Note: you may need to restart the kernel to use updated packages.\n"
     ]
    }
   ],
   "source": [
    "pip install numpy"
   ]
  },
  {
   "cell_type": "code",
   "execution_count": 3,
   "id": "37c4c2b5-b058-48b7-af83-d50d4651d13b",
   "metadata": {},
   "outputs": [
    {
     "name": "stdout",
     "output_type": "stream",
     "text": [
      "Requirement already satisfied: pandas in c:\\users\\santosh nandam\\anaconda3\\lib\\site-packages (2.2.2)\n",
      "Requirement already satisfied: numpy>=1.26.0 in c:\\users\\santosh nandam\\anaconda3\\lib\\site-packages (from pandas) (1.26.4)\n",
      "Requirement already satisfied: python-dateutil>=2.8.2 in c:\\users\\santosh nandam\\anaconda3\\lib\\site-packages (from pandas) (2.9.0.post0)\n",
      "Requirement already satisfied: pytz>=2020.1 in c:\\users\\santosh nandam\\anaconda3\\lib\\site-packages (from pandas) (2024.1)\n",
      "Requirement already satisfied: tzdata>=2022.7 in c:\\users\\santosh nandam\\anaconda3\\lib\\site-packages (from pandas) (2023.3)\n",
      "Requirement already satisfied: six>=1.5 in c:\\users\\santosh nandam\\anaconda3\\lib\\site-packages (from python-dateutil>=2.8.2->pandas) (1.16.0)\n",
      "Note: you may need to restart the kernel to use updated packages.\n"
     ]
    }
   ],
   "source": [
    "pip install pandas"
   ]
  },
  {
   "cell_type": "code",
   "execution_count": 5,
   "id": "47bc9f96-35ac-4de7-87b7-c5311e75ee76",
   "metadata": {},
   "outputs": [
    {
     "name": "stdout",
     "output_type": "stream",
     "text": [
      "pip 24.0 from C:\\Users\\santosh nandam\\anaconda3\\Lib\\site-packages\\pip (python 3.12)\n",
      "\n",
      "Note: you may need to restart the kernel to use updated packages.\n"
     ]
    }
   ],
   "source": [
    "pip --version"
   ]
  },
  {
   "cell_type": "code",
   "execution_count": 29,
   "id": "eedff1cb-22a5-4ccb-b2b8-39076dd78d04",
   "metadata": {},
   "outputs": [
    {
     "name": "stdout",
     "output_type": "stream",
     "text": [
      "[1 2 3 4 5]\n"
     ]
    }
   ],
   "source": [
    "import numpy\n",
    "lst=[1,2,3,4,5]\n",
    "np_arr=numpy.array(lst)\n",
    "print(np_arr)"
   ]
  },
  {
   "cell_type": "code",
   "execution_count": 23,
   "id": "cefd02be-66bf-4df8-8f0e-a910cf4f57f3",
   "metadata": {},
   "outputs": [],
   "source": [
    "import webbrowser\n",
    "url_lists=[\n",
    "    'https://outlook.office365.com',\n",
    "    'https://www.microsoft365.com',\n",
    "    'https://web.whatsapp.com/'\n",
    "]\n",
    "for url in url_lists:\n",
    "    webbrowser.open_new_tab(url)"
   ]
  },
  {
   "cell_type": "code",
   "execution_count": 72,
   "id": "8f7052f8-18fe-4593-944c-753dc63fe40c",
   "metadata": {},
   "outputs": [
    {
     "name": "stdout",
     "output_type": "stream",
     "text": [
      "12.05PM IST | 03 Sep, 2024\n"
     ]
    },
    {
     "data": {
      "text/plain": [
       "<!DOCTYPE html>\n",
       "<html xmlns:g=\"http://base.google.com/ns/1.0\" xmlns:java=\"java\" xmlns:listval=\"com.indiatimes.cms.utilities.CMSDateUtility\" xmlns:valurl=\"com.times.utilities.CMSWebUtility\" xmlns:xhtml=\"http://www.w3.org/1999/xhtml\"><head><meta content=\"text/html; charset=utf-8\" http-equiv=\"Content-Type\"/><meta charset=\"utf-8\"/><title>Gold Rate Today Live - Gold Rate in India, Gold Price Chart, Gold Rate Forecast and News - The Economic Times</title><meta content=\"Tuesday, 3 September, 2024 12:05:53PM\" http-equiv=\"Last-Modified\"/><meta content=\"Gold Rate Today | Live Updates - Check Gold Price Live on The Economic Times. Find Gold Rate in India, Gold Rate Forecast, Price Chart, News and more.\" name=\"description\"/><meta content=\"Gold,Gold Rate,Gold Rate Today,Gold Rate Live,Gold Price,Gold Rate Forecast,Gold Rate Chart,Gold Price Chart,Gold Rate in India\" name=\"keyword\"/><script>\n",
       "\t\t    var boomrScriptUrl = window.location.href.indexOf(\"https://epaper.indiatimes.com/\") != -1 ? \"//c.go-mpulse.net/boomerang/U875R-7VB8A-84RST-B5TW4-GFWW6\" : \"//c.go-mpulse.net/boomerang/KY9J6-H7E3C-JE2Z4-GP844-RCBW6\";\n",
       "            (function(){if(window.BOOMR&&(window.BOOMR.version||window.BOOMR.snippetExecuted)){return}window.BOOMR=window.BOOMR||{};window.BOOMR.snippetStart=(new Date).getTime();window.BOOMR.snippetExecuted=true;window.BOOMR.snippetVersion=14;window.BOOMR.url=boomrScriptUrl;var e=document.currentScript||document.getElementsByTagName(\"script\")[0],a=e.parentNode,s=false,t=3e3;function n(){if(s){return}var e=document.createElement(\"script\");e.id=\"boomr-scr-as\";e.src=window.BOOMR.url;e.async=true;a.appendChild(e);s=true}function o(e){s=true;var t,o=document,n,i,d,r=window;window.BOOMR.snippetMethod=e?\"if\":\"i\";n=function(e,t){var n=o.createElement(\"script\");n.id=t||\"boomr-if-as\";n.src=window.BOOMR.url;BOOMR_lstart=(new Date).getTime();e=e||o.body;e.appendChild(n)};if(!window.addEventListener&&window.attachEvent&&navigator.userAgent.match(/MSIE [67]\\./)){window.BOOMR.snippetMethod=\"s\";n(a,\"boomr-async\");return}i=document.createElement(\"IFRAME\");i.src=\"about:blank\";i.title=\"\";i.role=\"presentation\";i.loading=\"eager\";d=(i.frameElement||i).style;d.width=0;d.height=0;d.border=0;d.display=\"none\";a.appendChild(i);try{r=i.contentWindow;o=r.document.open()}catch(e){t=document.domain;i.src=\"javascript:var d=document.open();d.domain='\"+t+\"';void 0;\";r=i.contentWindow;o=r.document.open()}if(t){o._boomrl=function(){this.domain=t;n()};o.write(\"<bo\"+\"dy onload='document._boomrl();'>\")}else{r._boomrl=function(){n()};if(r.addEventListener){r.addEventListener(\"load\",r._boomrl,false)}else if(r.attachEvent){r.attachEvent(\"onload\",r._boomrl)}}o.close()}var i=document.createElement(\"link\");if(i.relList&&typeof i.relList.supports===\"function\"&&i.relList.supports(\"preload\")&&\"as\"in i){window.BOOMR.snippetMethod=\"p\";i.href=window.BOOMR.url;i.rel=\"preload\";i.as=\"script\";i.addEventListener(\"load\",n);i.addEventListener(\"error\",function(){o(true)});setTimeout(function(){if(!s){o(true)}},t);BOOMR_lstart=(new Date).getTime();a.appendChild(i)}else{o(false)}function d(e){window.BOOMR_onload=e&&e.timeStamp||(new Date).getTime()}if(window.addEventListener){window.addEventListener(\"load\",d,false)}else if(window.attachEvent){window.attachEvent(\"onload\",d)}})();\n",
       "        </script><!--/mpulsescript.cmspotime:2--><link href=\"/manifest.cms\" rel=\"manifest\"/><link href=\"https://www.google-analytics.com\" rel=\"preconnect\"/><link href=\"https://connect.facebook.net\" rel=\"preconnect\"/><link href=\"https://cm.g.doubleclick.net\" rel=\"preconnect\"/><link href=\"https://googleads.g.doubleclick.net\" rel=\"preconnect\"/><link href=\"https://googleads.g.doubleclick.net\" rel=\"preconnect\"/><link href=\"https://img.etimg.com\" rel=\"preconnect\"/><link href=\"https://sb.scorecardresearch.com\" rel=\"preconnect\"/><link href=\"https://ade.clmbtech.com\" rel=\"preconnect\"/><link href=\"https://www.googletagservices.com\" rel=\"preconnect\"/><link href=\"https://ads.pubmatic.com\" rel=\"preconnect\"/><link href=\"https://securepubads.g.doubleclick.net\" rel=\"preconnect\"/><link href=\"https://static.clmbtech.com\" rel=\"preconnect\"/><link href=\"//www.google-analytics.com\" rel=\"dns-prefetch\"/><link href=\"//connect.facebook.net\" rel=\"dns-prefetch\"/><link href=\"//cm.g.doubleclick.net\" rel=\"dns-prefetch\"/><link href=\"//googleads.g.doubleclick.net\" rel=\"dns-prefetch\"/><link href=\"https://img.etimg.com\" rel=\"dns-prefetch\"/><link href=\"//sb.scorecardresearch.com\" rel=\"dns-prefetch\"/><link href=\"https://ade.clmbtech.com\" rel=\"dns-prefetch\"/><link href=\"https://jssocdn.indiatimes.com\" rel=\"dns-prefetch\"/><link href=\"https://jsso.indiatimes.com\" rel=\"dns-prefetch\"/><link href=\"https://static.growthrx.in\" rel=\"dns-prefetch\"/><link as=\"script\" fetchpriority=\"high\" href=\"https://assets.toiimg.com/js/til_prebid.js?v=14\" rel=\"preload\"/><link as=\"script\" fetchpriority=\"high\" href=\"https://c.amazon-adsystem.com/aax2/apstag.js\" rel=\"preload\"/><link as=\"font\" crossorigin=\"anonymous\" href=\"/fonts/montserrat-v14-latin-regular.woff2\" rel=\"preload\" type=\"font/woff2\"/><link as=\"font\" crossorigin=\"anonymous\" href=\"/fonts/faustina-v6-latin-700.woff2\" rel=\"preload\" type=\"font/woff2\"/><link as=\"font\" crossorigin=\"anonymous\" href=\"/fonts/montserrat-v14-latin-700.woff2\" rel=\"preload\" type=\"font/woff2\"/><script>window.pageLoadStarted = (new Date()).getTime();</script><link as=\"script\" href=\"https://economictimes.indiatimes.com/js_jquery351/v-8.cms\" rel=\"preload\"/><link as=\"script\" href=\"https://economictimes.indiatimes.com/js_common_new/v-823,minify-1.cms\" rel=\"preload\"/><meta content=\"21540067693\" property=\"fb:pages\"/><link href=\"https://economictimes.indiatimes.com/icons/etfavicon.ico\" rel=\"shortcut icon\" type=\"image/x-icon\"/><link href=\"https://economictimes.indiatimes.com/thumb/width-120,height-120,msid-75267040/et.jpg\" rel=\"apple-touch-icon\"/><link href=\"https://c.amazon-adsystem.com\" rel=\"dns-prefetch\"/><link crossorigin=\"anonymous\" href=\"https://c.amazon-adsystem.com\" rel=\"preconnect\"/><meta content=\"index,follow\" name=\"robots\"/><meta content=\"width=device-width, initial-scale=1.0\" name=\"viewport\"/><meta content=\"117787264903013\" property=\"fb:app_id\"/><meta content=\"556964827\" property=\"fb:admins\"/><meta content=\"Gold Rate Today Live - Gold Rate in India, Gold Price Chart, Gold Rate Forecast and News - The Economic Times\" property=\"og:title\"/><meta content=\"Gold Rate Today | Live Updates - Check Gold Price Live on The Economic Times. Find Gold Rate in India, Gold Rate Forecast, Price Chart, News and more.\" property=\"og:description\"/><meta content=\"The Economic Times\" property=\"og:site_name\"/><meta content=\"website\" property=\"og:type\"/><meta content=\"https://economictimes.indiatimes.com/commoditysummary/symbol-GOLD.cms\" property=\"og:url\"/><meta content=\"https://economictimes.indiatimes.com/photo/66848096.cms\" property=\"og:image\"/><link href=\"https://economictimes.indiatimes.com/photo/66848096.cms\" rel=\"image_src\"/><meta content=\"https://economictimes.indiatimes.com\" name=\"website\"/><meta content=\"website\" name=\"object_type\"/><meta name=\"twitter:card\" value=\"summary_large_image\"/><meta name=\"twitter:site\" value=\"@EconomicTimes\"/><meta content=\"https://economictimes.indiatimes.com/commoditysummary/symbol-GOLD.cms\" name=\"twitter:url\"/><meta content=\"Gold Rate Today Live - Gold Rate in India, Gold Price Chart, Gold Rate Forecast and News - The Economic Times\" name=\"twitter:title\"/><meta content=\"Gold Rate Today | Live Updates - Check Gold Price Live on The Economic Times. Find Gold Rate in India, Gold Rate Forecast, Price Chart, News and more.\" name=\"twitter:description\"/><meta content=\"https://economictimes.indiatimes.com/photo/66848096.cms\" name=\"twitter:image\"/><script>\n",
       "\t        function errorLogs(data, fallback) { if(data && window.location.search.indexOf('utm_source') == -1) { try { var o = window.location.origin, isLive = (o.indexOf('dev') == -1 && o.indexOf('pwa') == -1 ? 1 : 0), url = data.href || data.src || '', type = (data.localName || data.tagName) + (data.attributes.fallbackfile ? ' fallbackfile': ''), ua = window.navigator && window.navigator.userAgent; var logdata = \"logdata=\" + JSON.stringify({mode: (isLive ? 'modeLive' : 'modeDev'), channel:'Error_desktop', type:type, data:encodeURIComponent(url), userAgent: ua, url: window.location.href}); var xhr = new XMLHttpRequest(); xhr.withCredentials = true; xhr.open(\"POST\", \"https://etx.indiatimes.com/log?et=errorLogs\"); xhr.setRequestHeader(\"Content-Type\", \"application/x-www-form-urlencoded\"); xhr.send(logdata); var fpArr = url.split('.com'), fp = fpArr[1], ft = fp.indexOf('js_') != -1 && 'js' || fp.indexOf('css_') != -1 && 'css'; !fallback && loadAssets(ft, fp); } catch (e) {} } }\n",
       "\t        \n",
       "\t        function loadAssets(t, f) {\n",
       "\t            //f = f + (f.indexOf('?')!=-1?'&':'?')+'ref=fallbackFile'\n",
       "                if (t==\"js\"){\n",
       "                    var fileref=document.createElement('script')\n",
       "                    fileref.setAttribute(\"type\",\"text/javascript\")\n",
       "                    fileref.setAttribute(\"src\", f)\n",
       "                } else if (t==\"css\"){\n",
       "                    var fileref=document.createElement(\"link\")\n",
       "                    fileref.setAttribute(\"rel\", \"stylesheet\")\n",
       "                    fileref.setAttribute(\"type\", \"text/css\")\n",
       "                    fileref.setAttribute(\"href\", f)\n",
       "                }\n",
       "                if (typeof fileref!=\"undefined\"){\n",
       "                    fileref.setAttribute(\"fallbackfile\", \"1\")\n",
       "                    fileref.setAttribute(\"onerror\", \"errorLogs(this, 1)\")\n",
       "                    document.getElementsByTagName(\"head\")[0].appendChild(fileref)\n",
       "                }\n",
       "            }\n",
       "        \n",
       "\t    </script><style> @font-face{font-family:'Faustina';font-display:swap;src:url('https://economictimes.indiatimes.com/fonts/faustina-v6-latin-regular.eot');src:url('https://economictimes.indiatimes.com/fonts/faustina-v6-latin-regular.woff2') format('woff2'),url('https://economictimes.indiatimes.com/fonts/faustina-v6-latin-regular.eot') format('embedded-opentype'),url('https://economictimes.indiatimes.com/fonts/faustina-v6-latin-regular.woff') format('woff'),url('https://economictimes.indiatimes.com/fonts/faustina-v6-latin-regular.ttf') format('truetype'),url('https://economictimes.indiatimes.com/fonts/faustina-v6-latin-regular.svg') format('svg');font-weight:400;font-style:normal}\n",
       "@font-face{font-family:'Faustina';font-display:swap;src:url('https://economictimes.indiatimes.com/fonts/faustina-v6-latin-700.eot');src:url('https://economictimes.indiatimes.com/fonts/faustina-v6-latin-700.woff2') format('woff2'),url('https://economictimes.indiatimes.com/fonts/faustina-v6-latin-700.eot') format('embedded-opentype'),url('https://economictimes.indiatimes.com/fonts/faustina-v6-latin-700.woff') format('woff'),url('https://economictimes.indiatimes.com/fonts/faustina-v6-latin-700.ttf') format('truetype'),url('https://economictimes.indiatimes.com/fonts/faustina-v6-latin-700.svg') format('svg');font-weight:700;font-style:normal}\n",
       "@font-face{font-family:'Montserrat';font-display:swap;src:url('https://economictimes.indiatimes.com/fonts/faustina-v6-latin-regular.eot');src:url('https://economictimes.indiatimes.com/fonts/montserrat-v14-latin-regular.woff2') format('woff2'),url('https://economictimes.indiatimes.com/fonts/montserrat-v14-latin-regular.eot') format('embedded-opentype'),url('https://economictimes.indiatimes.com/fonts/montserrat-v14-latin-regular.woff') format('woff'),url('https://economictimes.indiatimes.com/fonts/montserrat-v14-latin-regular.ttf') format('truetype'),url('https://economictimes.indiatimes.com/fonts/montserrat-v14-latin-regular.svg') format('svg');font-weight:400;font-style:normal}\n",
       "@font-face{font-family:'Montserrat';font-display:swap;src:url('https://economictimes.indiatimes.com/fonts/montserrat-v14-latin-700.eot');src:url('https://economictimes.indiatimes.com/fonts/montserrat-v14-latin-700.woff2') format('woff2'),url('https://economictimes.indiatimes.com/fonts/montserrat-v14-latin-700.eot') format('embedded-opentype'),url('https://economictimes.indiatimes.com/fonts/montserrat-v14-latin-700.woff') format('woff'),url('https://economictimes.indiatimes.com/fonts/montserrat-v14-latin-700.ttf') format('truetype'),url('https://economictimes.indiatimes.com/fonts/montserrat-v14-latin-700.svg') format('svg');font-weight:700;font-style:normal}<!--/et_fonts_new.cms?v=2&&minify=1potime:2--></style><link href=\"https://economictimes.indiatimes.com/css_main/v-129,minify-1.cms\" onerror=\"errorLogs(this)\" rel=\"stylesheet\" type=\"text/css\"/><link as=\"style\" href=\"https://economictimes.indiatimes.com/css_common_new/v-304,minify-1.cms\" onerror=\"errorLogs(this)\" onload=\"this.rel='stylesheet'\" rel=\"preload\" type=\"text/css\"/><noscript><link href=\"https://economictimes.indiatimes.com/css_common_new/v-304,minify-1.cms\" rel=\"stylesheet\"/></noscript><link href=\"https://economictimes.indiatimes.com/css_commodities_2/v-16,minify-1.cms\" onerror=\"errorLogs(this)\" rel=\"stylesheet\" type=\"text/css\"/><link href=\"/commoditysummary/symbol-GOLD.cms\" rel=\"alternate\" type=\"application/rss+xml\"/><link href=\"https://m.economictimes.com/commoditysummary/symbol-GOLD.cms\" media=\"handheld\" rel=\"alternate\"/><link href=\"https://m.economictimes.com/commoditysummary/symbol-GOLD.cms\" media=\"only screen and (max-width: 640px)\" rel=\"alternate\"/><link href=\"https://m.economictimes.com/amp_commoditysummary/symbol-GOLD.cms\" rel=\"amphtml\"/><link href=\"https://economictimes.indiatimes.com/commoditysummary/symbol-GOLD.cms\" rel=\"canonical\"/><script type=\"text/javascript\">var symbolC ='GOLD';\n",
       "\t\t\t\tvar symbolExp ='';</script><script>(function() {var lh = location.host; if(lh.indexOf('economictimes.com') == -1 && lh.indexOf('india'+'times'+'.com') == -1 && lh.indexOf('archive'+'.org') == -1 && lh.indexOf('webcache' + '.googleusercontent'+ '.com') == -1) { window.location.href = 'https' + '://' + 'economictimes' + '.indiatimes.'+ 'com' + '?frmref=' + location.host }})()</script><script>\n",
       "\t        \n",
       "\t        function getCookie(n) {var ne = n + \"=\", ca = document.cookie.split(';');for (var i=0;i< ca.length;i++){ var c = ca[i]; while (c.charAt(0) == ' ') c = c.substring(1, c.length); if (c.indexOf(ne) == 0) return c.substring(ne.length, c.length); } return null; }\n",
       "\t        \n",
       "\t        \n",
       "\t    var objVc = {env:'live',version_on:'2024.09.03 11:58',version_ip:'172.29.112.239 - 2024-09-03 11:58:20.050',vcLScacheTime:'10',js_etsubscription:'3',js_onboarding_popup_sh:'14',css_common_new:'304',css_stockreports:'40',js_comments:'114',js_googleslock:'782',js_userprofile_dynamic:'23',userprofilepopup_onoff:'1',js_googlelogin:'83',js_common_buydirect:'754',js_bookmark:'24',js_follow:'13',js_et_technicalchart:'8',js_highstocks:'1',js_highcharts:'4',js_highcharts3d:'2',js_googlecharts:'1',js_sr_search:'1',js_ask_the_expert_crypto:'16',js_socialdatacapture_min:'137',js_articleshow_main:'335',css_articleshow_new:'166',js_login:'117',js_datepicker:'2',js_push:'62',js_athena_distribution:'40',js_athena_distribution_wap:'32',js_slikeplayernew:'36',js_audioplayernew:'4',js_access_prime_pass:'9',js_prime_access_functions:'17',css_buydirect:'14',css_commoncalc:'30',js_tradenow:'26',googlevignette_web:'1',interstitial_web:'1',int_countrychk_web:'1',int_allowedcountry_web:'1,2,3,4,5,6',int_fequencycap_web:'4',extended_fcap_hrs_web:'18',lazy_ad_wap:'1',js_common_wap:'478',js_common_markets_wap:'15',js_watchlist_wap:'15',js_sr_search_wap:'8',js_ask_the_expert_crypto_wap:'16',js_athenalive_wap:'114',js_highstocks_wap:'1',js_highcharts_wap:'1',js_commonall:'145',js_bookmark_wap:'13',js_socialdatacapture_min_wap:'133',js_push_wap:'57',wap_interstitial_start:'April 01, 2024 23:59:00',wap_interstitial_end:'March 31, 2025 23:59:00',int_countrychk_wap:'0',int_allowedcountry_wap:'1,2',int_excludecountry_wap:'2,3,5,6',exindia_atfad_size:'[[[300,250], [300,250]]]',can_taboola:'taboola',andbeyond_wap:'1',andbeyond_web:'1',cpd_wap:'0',lib_login:'/js_feed/jsso_crosswalk_legacy_min.cms?v=13',sso_loginwidget:'https://jssocdn.indiatimes.com/crosswalk/45/widget/main.bundle.min.js',live_tv_skin:'1',global_cube:'0',global_cube_sec_chk:'0',global_cube_secs:'[\"/news\", \"/personal-finance\", \"/wealth\"]',global_cube_cty_chk:'0',global_cube_cty_include:'CHENNAI',global_cube_cty_exclude:'CHINA',global_cube_wap:'0',global_cube_sec_chk_wap:'0',global_cube_secs_wap:'[\"home\", \"/news\", \"/markets\", \"/personal-finance\", \"/wealth\"]',global_cube_cty_chk_wap:'0',global_cube_cty_include_wap:'CHENNAI',global_cube_cty_exclude_wap:'CHINA',global_cube_faces:'2',global_cube_fullad:'0',global_cube_landingon:'sensex',global_cube_wap_url:'https://m.economictimes.com/iframe_cube.cms',currency_ad_wap:'1',magnite_hb:'1',magnite_exclude_tp:'[\"topics_default\",\"topics_news\",\"topics_videos\"]',google_lazyad_enabled_tp:'[\"topics_default\",\"topics_news\",\"topics_videos\"]',mweb_atf_sticky:'0',site_sync:'0',ticker_ad:'0',ticker_ad_desktop_only:'0',aff_package:'bnsov',aff_package_wap:'bnsov',ticker_ad_home:'1',adx:'1',logAdsStatus:'0',amazon_bidding:'0',amazon_tam:'1',amazon_tam_web:'0',js_newsltrpopup:'126',nlExpiry:'864000',nlReloadExpiry:'30',js_primetargeting_popup:'16',js_inappmsg:'9',plan_on_paywall:'0',skip_trial:'100',planEntryPointCache:'3',trackAdCode:'0',ajaxError:'1',cTId:'WWW-R7W-Z45Z',oauth:'oauth',oauthClientId:'b2a8e883ec676f417520f422068a4742',planPage:'https://buy.indiatimes.com/ET/plans',planPageUpgrade:'https://buy.indiatimes.com/ET/upgrade',planPageTest:'https://buy.indiatimes.com/ET/plans',planPageM:'https://buy.indiatimes.com/ET/plans',subscriptions:'subscriptions',krypton:'kryptonp',apw:'apw',nlSubscribe:'etsub3',exp_login2plan:'0',js_ratingwidget:'12',js_swg:'5',swg:'1',login_paywall:'Starting @ <strike>Rs150</strike> Rs120/month',singularPlanExp:'0',intro_offer_banner:'0',ctaTxtExp:'50',accessPassTraffic:'0',mf_defaultTab:'1',intro_offer:'0',article_recommendations:'100',primeTargeting:'1',skipIpadPopup:'1',skipnlpopup:'1',skipCryptoPopup:'1',js_article_recommendations:'21',skiparticle_recommendations_rhs:'1',skiparticle_recommendations_in:'1',skipwhatsapp_banner:'1',liveTvLsName:'bandTvCheckPlayed3',liveTvLsValue:'3600',survicate_loyaluser_count:'15',js_etbenefits:'54',js_tponboarding:'5',js_giftstory:'11',disable_MFOP_wap:'1',missedStoryPercent:'30',missedStoryDays:'7',missedStoryMinCount:'3',guestOTPEnabled:'0',paywallSubscriberFlow:'0',paywallSubscriberFlowV2:'95',oneTapAcessPassFlow:'0',js_paywallsubflow:'3',signinwallSubscriberFlow:'50',web_productIntervention:'0011101010',wap_productIntervention:'100101010',mktTopAppDownloader:'0',mWebTopAppDownloader:'1',mktBottomAppDownloader:'1',stocksRecoPopup:'0',paywall_mloffer:'0',onboarding_tpoffer:'1',ml_flag:'0',adfree_campign_isactive:'1',adfree_campign_counter:'20',adfree_campign_eud:'900',ads_primeuser_enable:'0',skip_retargetpopup:'1',top_nudge_enable:'1',amazon_lhs_widget:'1',adblocker_popuptime:'15',epaperblocker_timer:'30000',lband_web_activate:'1',budget2023_livetv_onOff:'1',budget2024_tv_lBVisibiltyTime:'7',budget2024_tv_lBStartTime:'10',OldGrxSwitch:'1',benefitsBlocker:'100',js_sponserbanner:'8',js_freetrial:'4',js_widgetlivestream:'6',prime_ads:'000',masterClassBannerMweb:'0',dummy:''};\n",
       "        (function(){\n",
       "            \n",
       "            try {var lsd = localStorage.getItem('objVc'), lsdj = lsd && JSON.parse(lsd) || '', vo = objVc.version_on, lv = new Date(vo), sv = lsdj && lsdj.version_on && new Date(lsdj.version_on) || 0, diff = (sv-lv) / 60000;\n",
       "                if(sv && diff >= 0) {objVc = lsdj;} \n",
       "                else {\n",
       "                    var now = Date(), vodo = new Date(vo);\n",
       "                    objVc.lsTime = vodo > now ? now.toString() : vo; localStorage.setItem('objVc', JSON.stringify(objVc))\n",
       "                }\n",
       "                if(window.location.search.indexOf('skip_popup=1') != -1) { objVc.skipPopup = 1; }\n",
       "            } catch(e) {}\n",
       "            \n",
       "        })()\n",
       "        </script><script id=\"geo_script\" src=\"https://economictimes.indiatimes.com/geoapiet?cb=et\" type=\"text/javascript\"></script><script>\n",
       "\t\t    if(!window.geoinfo) window.geoinfo={};\n",
       "\t\t    geolocation = window.geoinfo && window.geoinfo.geolocation || '';\n",
       "\t\t\tif(window.localStorage && localStorage.getItem('temp_geolocation')) {var geolocation = localStorage.getItem('temp_geolocation');}\n",
       "\t\t    function allowGDPR() {\n",
       "\t\t        var flag = false, ginfo = window.geoinfo || {};\n",
       "\t\t        if(window.geolocation && geolocation != 5 && (geolocation != 2 || ginfo.region_code != 'CA')) {flag = true;}\n",
       "\t\t        return flag;\n",
       "\t\t    }\n",
       "\t\t    allowGdpr = (function () {\n",
       "                var flag = 0, ginfo = window.geoinfo || {};\n",
       "                // if not EU(5), and (not US(2) if US(2) then not california(CA))\n",
       "                if(window.geolocation && geolocation != 5 && (geolocation != 2 || ginfo.region_code != 'CA')) {\n",
       "                    flag = 1;\n",
       "                }\n",
       "                return flag;\n",
       "\t\t    })()\n",
       "\t\t    </script><!--/geolocationscript.cmspotime:2--><script>\n",
       "\t\t    var urlParams =window.location.search ? window.location.search : \"\";\n",
       "\t\t    \n",
       "\t\t            \n",
       "\t\t            objVc=window.objVc||{};var showInterstitial=!0;objVc&&objVc.googlevignette_web&&\"1\"==objVc.googlevignette_web&&window.geoinfo&&geoinfo.geolocation&&\"1\"!=geoinfo.geolocation&&(showInterstitial=!1);var ext_param_check=-1==urlParams.indexOf(\"utm_medium=display_ext\"),aff_param_check=-1==urlParams.indexOf(\"utm_medium=display_aff\");aff_param_check||sessionStorage.setItem(\"aff_campaign\",\"1\"),ext_param_check&&aff_param_check&&showInterstitial&&function(){var e=objVc.int_countrychk_web?parseInt(objVc.int_countrychk_web):1,t=objVc.int_allowedcountry_web;t=t&&t.split?t.split(\",\"):[\"1\"];var i=objVc.int_fequencycap_web?parseInt(objVc.int_fequencycap_web):3,o=(new Date).getHours();\"undefined\"!=typeof objVc&&0!=objVc.extended_fcap_hrs_web&&o>=objVc.extended_fcap_hrs_web&&(i+=1);var a={setCookieToSpecificTime:function(e,t,i,o){try{var a=\".indiatimes.com\",n=\"\";if(e&&t&&i&&(n=e+\"=\"+escape(t)+\"; expires=\"+new Date((new Date).toDateString()+\" \"+i).toUTCString()+\"; domain=\"+a+\"; path=/;\"),e&&t&&o){var r=new Date;r.setSeconds(r.getSeconds()+o),n=e+\"=\"+(escape(t)+(null==o?\"\":\"; expires=\"+r.toUTCString())+\"; domain=\"+a+\"; path=/;\")}document.cookie=n}catch(e){}},init:function(){var e=1==objVc.interstitial_web?1:0;if(-1!=window.location.search.indexOf(\"ints=0\")&&(e=0),e){var t=getCookie(\"TicketId\"),i=a.getOauthJStorage(t),o=i&&i.permissions||[],n=-1==o.indexOf(\"subscribed\")||-1==o.indexOf(\"etadfree_subscribed\")||0==o.length||0,r=getCookie(\"ssoid\")||getCookie(\"MSCSAuthID\");(!r||r&&!n)&&a.loadInterstitial()}},getDeviceType:function(){try{var e=navigator.userAgent;return/(tablet|ipad|playbook|silk)|(android(?!.*mobi))/i.test(e)?\"tablet\":/Mobile|iP(hone|od)|Android|BlackBerry|IEMobile|Kindle|Silk-Accelerated|(hpw|web)OS|Opera M(obi|ini)/.test(e)?\"mobile\":\"desktop\"}catch(e){console.log(\"getDeviceType:\"+e)}},loadInterstitial:function(){try{var o=document.referrer;if(!(o.indexOf(\"/ad-free/success\")>-1||o.indexOf(\"/ad-free/subscribed\"))>-1||localStorage.getItem(\"devTool\")){window.location;var n=navigator&&navigator.userAgent&&navigator.userAgent.toLowerCase()||\"\",r=-1!=n.indexOf(\"bot\"),c=-1!=n.indexOf(\"lighthouse\"),s=-1!=n.indexOf(\"insights\"),d=-1!=n.indexOf(\"ptst/\");isWebPageTest=-1!=n.indexOf(\"ptst_x/\");var g=getCookie(\"int_fcapcount\")||0,l=getCookie(\"et_interstitial_active\"),f=window.geoinfo&&geoinfo.geolocation||\"1\",b=t.indexOf(f);if(!(\"mobile\"==a.getDeviceType()||r||c||s||isWebPageTest||d||l||!(g<i)||0!=e&&-1==b)){a.setCookieToSpecificTime(\"et_interstitial_active\",\"true\",\"\",30);var _=parseInt(g)+1;_<=i&&a.setCookieToSpecificTime(\"int_fcapcount\",_,\"23:59:59\"),window.sessionStorage&&window.sessionStorage.setItem(\"intsRef\",window.location.href);return window.location.replace(\"/defaultinterstitial.cms\"),!1}}}catch(e){window.errorLogs&&errorLogs({href:JSON.stringify(objVc),localName:\"interstitial_error\",attributes:\"\"},1)}},getOauthJStorage:function(e){try{return jStorageData=window.localStorage&&localStorage.jStorage?JSON.parse(localStorage.jStorage):{},jStorageData[\"prime_\"+e]}catch(e){}}};a.init()}();\n",
       "\t\t            \n",
       "\t\t        </script><!--/interstitialscript.cms?v=19potime:1--><script onerror=\"errorLogs(this)\" src=\"https://economictimes.indiatimes.com/js_monetize/v-199,minify-1.cms\" type=\"text/javascript\"></script><script async=\"async\" src=\"https://micro.rubiconproject.com/prebid/dynamic/4642.js\" type=\"text/javascript\"></script><script async=\"async\" fetchpriority=\"low\" src=\"https://securepubads.g.doubleclick.net/tag/js/gpt.js?network-code=7176\" type=\"text/javascript\"></script><script type=\"text/javascript\">\n",
       "\t        var optParam = '';\n",
       "\t        try {\n",
       "\t        var urlParams = window.URLSearchParams && new URLSearchParams(window.location.search),\n",
       "\t            optParam = urlParams.get && urlParams.get('opt');\n",
       "\t        } catch (e) {}\n",
       "            \n",
       "\t        var objSec = {template: 'commoditysummary', msid:'1808152121', secNames: ['markets','commodities'],secIds:['2147477890','1977021501','1808152121']};\n",
       "        var tmplName = tpName = 'commoditysummary',lang = '',nav_sec1,newHookId,subsec1_value,subsec1_common = '1977021501',newHookId2,subsec2_value,subsec2_common = '1808152121',subsec3_common = '0';\n",
       "        var objDim = {d52:'nature_of_content',d112:'ml_status',d113:'ml_score',d54:'content_shelf_life',d110:'paywall_signaling',d53:'content_target_audience',d111:'response_source',d56:'degree_of_conten',d55:'content_tone',d58:'et_product_item',d59:'show_paywall_final',d117:'video_status',d61:'paywall_probability',d114:'ml_threshold_value',d60:'paywall_score',d115:'adaptive_status',d63:'paid_articles_read',d62:'eligibility_paywall_rule',d65:'bureau_articles_read',d64:'free_articles_read',d67:'loyalty',d66:'article_length',d68:'paywall_hits',d109:'user_region',d70:'us_election_2020',d105:'VisitSource',d106:'CampaignID',d72:'paywall_experiment',d71:'plan_group_id',d134:'user_subscription_status_epaper',d135:'user_subscription_status_mata',d132:'user_subscription_status_til',d75:'watchlist_active_status',d133:'user_subscription_status_toi',d130:'plan_price',d131:'discount',d1:'et_product',d2:'blocker_type',d3:'user_login_status_session',d4:'agency',d5:'author_name',d6:'cms_content_publishing_type',d7:'content_personalisation_level',d8:'article_publish_date',d9:'sub_section_name',d138:'plan_viewed_2',d139:'plan_viewed_3',d136:'user_subscription_status_mirror',d137:'plan_viewed_1',d124:'day_from_plan_expiry',d120:'utm_params',d129:'plan_name',d92:'last_click_source',d127:'billing_currency',d128:'auto_renew',d94:'daily_article_count',d125:'payment_mode',d93:'internal_source',d126:'total_revenue',d96:'continuous_paywall_hits',d95:'monthly_article_count',d10:'user_login_status_hit',d98:'daily_paid_article_count',d97:'monthly_paid_article_count',d12:'tags_meta_keyword',d11:'content_theme_the_primary_tag',d14:'special_coverage',d13:'article_publish_time',d16:'video_embed',d15:'audio_embed',d145:'product_name',d146:'login_status',d143:'feature_permission',d20:'platform',d144:'plan_selected',d23:'author_id',d141:'rec_capture',d142:'login_method',d25:'page_template',d24:'syft_initiate_page',d140:'plan_group',d27:'site_sub_section',d26:'site_section',d29:'section_id',d28:'prime_deal_code',d147:'subscription_status',d32:'prime_article_read_before_syft',d34:'content_age',d33:'prime_article_read_before_success',d36:'sign_in_initiation_position',d35:'subscription_method_hit',d37:'user_subscription_status',d40:'freeread',d45:'prime_hp_ui_template',d47:'prime_hp_ui_content_b_color',d46:'prime_hp_ui_content_size',d49:'syft_initiate_position',d48:'content_msid',d50:'signin_initiate_page'};var serverTime = '09.03.2024 12:05:42';var WRInitTime=(new Date()).getTime();\n",
       "            (function () {if (self !== top) {var e = function (s) {return document.getElementsByTagName(s)}; e(\"head\")[0].innerHTML = '<style>*{display:none;}</style>'; setTimeout(function () {e(\"body\")[0].innerHTML = ''; var hEle = e(\"html\")[0]; hEle.innerHTML = '<a href=\"' + self.location + '\" target=\"_blank\">economictimes.indiatimes.com</a>'; hEle.className = ''; top.location = self.location; }, 0);}})();\n",
       "        \n",
       "        _log = window.console && console.log ? console.log : function () {};\n",
       "\t\t// Creating Elements for IE : HTML 5 and cross domain checks\n",
       "\t\tif(tpName != 'stocks' && tpName != 'ifsccode') {\n",
       "    \t\t(function () {\n",
       "        \t\ttry {\n",
       "        \t\t    var elem = [\"article\", \"aside\", \"figure\", \"footer\", \"figcaption\", \"header\", \"nav\", \"section\", \"time\"];\n",
       "        \t\t    for(var i=0; i<=elem.length-1; i++) {document.createElement(elem[i])} var hd = 'indiatimes.com', dd = document.domain,intv,intv2,fo; if (dd != hd && dd.indexOf(hd) != -1 && subsec3_common != '1387569980') {document.domain = hd}\n",
       "        \t\t}catch(e){}\n",
       "    \t\t})();\n",
       "\t\t}\n",
       "\t\tvar intv,intv2;var fo;\n",
       "\t\tif(subsec1_value == '1715249553' && subsec2_value == '1052732854'){\n",
       "\t\t\tsubsec1_value = newHookId = '1052732854'; // politicsnation\n",
       "\t\t}else if(subsec1_value == '1715249553' && subsec2_value == '1373380680'){\n",
       "\t\t\tsubsec1_value = newHookId = '1373380680'; // Economy\n",
       "\t\t}\n",
       "\t\t\n",
       "\t\tif(optParam != \"1\") {\n",
       "\t    \n",
       "\t    \n",
       "\t    customDimension = window.customDimension || {};\n",
       "\t    function setDim(dim, val, init) { try { if(dim) { var key = 'dimension' + dim, objDim = {}; objDim[key] = val; customDimension[key] = val; init && ga('set', objDim); } }catch(e){} }\n",
       "        \n",
       "\t    \n",
       "                var _gaq = _gaq || [];\n",
       "                var customDimension = customDimension || {};\n",
       "                var analytics_js_path = 'https://www.google-analytics.com/analytics.js';\n",
       "                (function(i,s,o,g,r,a,m){i['GoogleAnalyticsObject']=r;i[r]=i[r]||function(){\n",
       "                (i[r].q=i[r].q||[]).push(arguments)},i[r].l=1*new Date();a=s.createElement(o),\n",
       "                m=s.getElementsByTagName(o)[0];a.async=1;a.src=g;m.parentNode.insertBefore(a,m)\n",
       "                })(window,document,'script',analytics_js_path,'ga');\n",
       "                var gaProperty = 'UA-198011-5';\n",
       "                \n",
       "                var disableStr = 'ga-disable';\n",
       "                if (document.cookie.indexOf(disableStr + '=true') > -1) { window[disableStr + '-' + gaProperty] = true; }\n",
       "                \n",
       "                ga('set', 'anonymizeIp', true);\n",
       "                ga('create', gaProperty, 'auto', {'allowLinker': true});\n",
       "                if(sessionStorage.getItem(\"referrerSourceType\") == \"epaper\"){\n",
       "                    ga('create', 'UA-36832138-2', 'auto','EpaperTracker')\n",
       "                }\n",
       "                ga('require', 'linker');\n",
       "                ga('linker:autoLink', ['economictimes.com']);\n",
       "                ga('require', 'displayfeatures');\n",
       "                try {\n",
       "                    var et_ua = window.navigator && navigator.userAgent.toLowerCase() || '';\n",
       "                    if(et_ua.indexOf('bot') == -1 && et_ua.indexOf('lighthouse') == -1 && et_ua.indexOf('ptst/') == -1 && et_ua.indexOf('speed insights') == -1) {\n",
       "                        window.optimizely = window.optimizely || [];\n",
       "                        window.optimizely.push(\"activateUniversalAnalytics\");\n",
       "                    }\n",
       "                } catch (e) {}\n",
       "                \n",
       "                (function () {\n",
       "                    setDim(25,\"commoditysummary\");\n",
       "                    setDim(26,\"Markets\");\n",
       "                    setDim(27,\"Markets/Commodities\");\n",
       "                    setDim(29,\"1977021501\");\n",
       "                    setDim(48,\"1808152121\");\n",
       "                    setDim(30,window._col_uuid);setDim(57,window.__tiluuid);\n",
       "                    \n",
       "            \t\t\n",
       "                    if(window.geolocation) {setDim(109, window.geolocation == 1 ? 'IND' : 'INTER');}\n",
       "                    var a = window.localStorage && localStorage.getItem('et_syftCounter') || '';\n",
       "                    a = a && JSON.parse(a) || {};\n",
       "                    if(a.beforeSyft) {setDim(32,a.beforeSyft);}\n",
       "                    if(a.afterSyft) {setDim(33,a.afterSyft);}\n",
       "                })()\n",
       "                \n",
       "                \n",
       "\t    \n",
       "\t    var trafficSource = '';\n",
       "\t    function getjStorageVal(keyName) { var jString = localStorage.getItem(\"jStorage\"), value = ''; try { if(jString) { var objJstorage = JSON.parse(jString); value = objJstorage[keyName] ? objJstorage[keyName] : ''; } } catch (e) {} return value; }\n",
       "\t\t(function () {\n",
       "\t\t    function addZero(num) {return (num >= 0 && num < 10) ? '0' + num : num;}\n",
       "\t\t    try {\n",
       "    \t\t    lastClick = getjStorageVal('etu_last_click');\n",
       "                if(!lastClick) {\n",
       "                    lastClick = document.referrer.indexOf('indiatimes.com') == -1 ? 'direct_landing_articleshow' : 'other';\n",
       "                }\n",
       "                var dref = document.referrer, wlh = window.location.href.toLowerCase(), wlp = window.location.pathname;\n",
       "                if(/google|bing|yahoo/ig.test(dref)) {trafficSource = 'organic';} \n",
       "                else if(/facebook|linkedin|instagram|twitter/ig.test(dref) || wlh.indexOf('utm_medium=social') != -1) { trafficSource = 'social';} \n",
       "                else if(wlh.indexOf('utm_medium=email') != -1) {trafficSource = 'newsletter'; }\n",
       "                else if(wlh.indexOf('utm_source=etnotifications') != -1) {trafficSource = 'notifications'; }\n",
       "                else if(getjStorageVal('etu_source')) { trafficSource = getjStorageVal('etu_source');}\n",
       "                \n",
       "                if(!trafficSource) {\n",
       "                    if(wlp == '/' || wlp == '/default.cms') {trafficSource = 'direct'}\n",
       "                    else if(wlp.indexOf('articleshow')) {trafficSource = 'organic'}\n",
       "                    else {trafficSource = 'other'}\n",
       "                }\n",
       "                \n",
       "                var dtObject = new Date(), dt = (dtObject.getFullYear() + '' + addZero(dtObject.getMonth() + 1) + '' + addZero(dtObject.getDate())), key = 'et_article_' + dt;\n",
       "                var articleReadCountToday = (getjStorageVal(key) || []).length;\n",
       "                var articleReadCountMonth = 0;\n",
       "                var paidArticleReadCountMonth = 0;\n",
       "                var jString = localStorage.getItem(\"jStorage\");\n",
       "                try {\n",
       "                    if(jString) {\n",
       "                        var objJstorage = JSON.parse(jString);\n",
       "                        Object.keys(objJstorage).filter(function(key) {return key.indexOf('et_article_') != -1}).forEach(function (key) { articleReadCountMonth += getjStorageVal(key).length});\n",
       "                        Object.keys(objJstorage).filter(function(key) {return key.indexOf('et_primearticle_') != -1}).forEach(function (key) { paidArticleReadCountMonth += getjStorageVal(key) || 0});\n",
       "                    }\n",
       "\t            } catch (e) {}\n",
       "\t            \n",
       "                var paidArticleReadCountTodayKey = 'et_primearticle_' + dt;\n",
       "                var paidArticleReadCountToday = getjStorageVal(paidArticleReadCountTodayKey) || 0;\n",
       "                var continuousPaywallList = getjStorageVal('et_continuousPaywalled') || [];\n",
       "\n",
       "\n",
       "                setDim(92, lastClick);\n",
       "                setDim(93, trafficSource);\n",
       "                setDim(94, articleReadCountToday);\n",
       "                setDim(95, articleReadCountMonth);\n",
       "                setDim(96, continuousPaywallList.length);\n",
       "                setDim(97, paidArticleReadCountMonth);\n",
       "                setDim(98, paidArticleReadCountToday);\n",
       "                \n",
       "                var subsStatus = '-', d3 = 'NONLOGGEDIN';\n",
       "                var jData = JSON.parse(localStorage.getItem('jStorage'));\n",
       "                var b = document.getElementsByTagName('html')[0];\n",
       "                if(ssoid = getCookie('ssoid')) {\n",
       "                    try {\n",
       "                        d3 = 'LOGGEDIN';\n",
       "                        var grx_userData = jData && jData['prime_'+getCookie('TicketId')] || {};\n",
       "                        grx_userData = grx_userData || {};\n",
       "                        var grx_up = grx_userData.permissions || [];\n",
       "                        if(grx_up.indexOf(\"expired_subscription\") > -1) {\n",
       "                            subsStatus = 'Expired User';\n",
       "        \t\t        } else if (grx_up.indexOf(\"subscribed\") > -1 && grx_up.indexOf(\"cancelled_subscription\") > -1 && grx_up.indexOf(\"can_buy_subscription\") > -1) {\n",
       "        \t\t            subsStatus = 'Paid User - In Trial';\n",
       "        \t\t            b.classList.add(\"cancelled_user\");\n",
       "        \t\t        } else if(grx_up.indexOf(\"subscribed\") > -1) {\n",
       "        \t\t            subsStatus = 'Paid User';\n",
       "                            b.classList.add(\"prime_user\");\n",
       "        \t\t        } else if(grx_up.indexOf(\"etadfree_subscribed\") > -1) {\n",
       "        \t\t            subsStatus = 'Ad Free User';\n",
       "        \t\t        } else if (grx_up.length == 0) {\n",
       "        \t\t            subsStatus = 'Permission Missing';\n",
       "        \t\t        } else {\n",
       "        \t\t            subsStatus = 'Free User';\n",
       "        \t\t        }\n",
       "        \t\t        \n",
       "        \t\t        if(grx_up.indexOf(\"subscribed\") > -1) {\n",
       "        \t\t            b.classList.add(\"prime_header\");\n",
       "        \t\t        }\n",
       "    \t\t        } catch (e) {}\n",
       "                } else {\n",
       "                    subsStatus = 'Free User';\n",
       "                }\n",
       "                \n",
       "                if(subsStatus == '-' || subsStatus == '' || subsStatus == 'Expired User' || subsStatus == 'Free User') {\n",
       "                    b.classList.add(\"free_user\");\n",
       "                }\n",
       "                setDim(3, d3); setDim(10, d3); setDim(37, subsStatus);\n",
       "\n",
       "\t\t    } catch (e) {}\n",
       "\t\t})();\n",
       "\t\t\n",
       "\t\n",
       "\t    setDim(1,'other');setDim(24,'commoditysummary');\n",
       "\t\n",
       "    \t        \n",
       "    \t        var utmDimension = window.sessionStorage && sessionStorage.getItem('utm_params_dim'),\n",
       "\t                utmParams_dim = window.URLSearchParams && new URLSearchParams(window.location.search),\n",
       "                    utmSource_dim = utmParams_dim.get && utmParams_dim.get('utm_source'),\n",
       "                    utmMedium_dim = utmParams_dim.get && utmParams_dim.get('utm_medium'),\n",
       "                    utmCamp_dim = utmParams_dim.get && utmParams_dim.get('utm_campaign'),\n",
       "                    utmParams_dim120 = utmSource_dim + ' / ' + utmMedium_dim + ' / ' + utmCamp_dim,\n",
       "                    variant_id = utmParams_dim.get && utmParams_dim.get('variant_id'),\n",
       "                    cohort_id = utmParams_dim.get && utmParams_dim.get('cohort_id');\n",
       "                \n",
       "                if(utmSource_dim != '' && utmSource_dim != null) {\n",
       "\t                setDim(120,utmParams_dim120);\n",
       "\t                sessionStorage.setItem('utm_params_dim',utmParams_dim120);\n",
       "                } else if(utmDimension) {\n",
       "\t                setDim(120,utmDimension);\n",
       "\t            }\n",
       "\t            \n",
       "                \n",
       "    \t        try{\n",
       "\t                if(gaProperty == \"UA-36832138-2\" || gaProperty == \"UA-198011-4\"){\n",
       "    \t                var selectedKeys = [\"dimension132\", \"dimension143\", \"dimension145\", \"dimension146\", \"dimension147\"];\n",
       "            \t\n",
       "                    \tvar selectedDimension = {};\n",
       "                        for (var key of selectedKeys) {\n",
       "                            selectedDimension[key] = customDimension[key];\n",
       "                        }\n",
       "                        customDimension.dimension1 = 'ePaper';\n",
       "    \t                \n",
       "                        selectedDimension.dimension145 = customDimension.dimension1;\n",
       "                        selectedDimension.dimension146 = customDimension.dimension10;\n",
       "                        selectedDimension.dimension147 = customDimension.dimension37;\n",
       "                        \n",
       "    \t                ga('send', 'pageview', selectedDimension);    \n",
       "    \t            }else{\n",
       "    \t                ga('send', 'pageview', customDimension);\n",
       "    \t            }\n",
       "\t            }catch(e){\n",
       "\t                console.log(\"CD - \", e);\n",
       "\t            }\n",
       "            \t\n",
       "                \n",
       "\t    \n",
       "        (function (g, r, o, w, t, h, rx) {\n",
       "            g[t] = g[t] || function () {(g[t].q = g[t].q || []).push(arguments)\n",
       "            }, g[t].l = 1 * new Date();\n",
       "            g[t] = g[t] || {}, h = r.createElement(o), rx = r.getElementsByTagName(o)[0];\n",
       "            h.async = 1;h.src = w;rx.parentNode.insertBefore(h, rx)\n",
       "        })(window, document, 'script', 'https://static.growthrx.in/js/v2/web-sdk.js', 'grx');\n",
       "        grx('init', 'gf999c70d');\n",
       "        var grxDimension = {url: window.location.href, title : document.title, referral_url : document.referrer, platform: 'desktop'};\n",
       "        var grxDimension_cdp = {url: window.location.href, title : document.title, referral_url : document.referrer, platform: 'web'};\n",
       "        var pfuuid = getCookie('pfuuid');\n",
       "        if(pfuuid) { grxDimension['et_uuid'] = pfuuid}\n",
       "        \n",
       "        grx('config',\"service_worker\",\"/et_serviceworker.cms\");\n",
       "        grx('config',\"applicationServerKey\",\"BIEYq99VozBXu5wtCtElr19cYzEZCgSZAYV5amfqzU1IWrR8SWr5T0Htp72bVbslw08rhMJvkrRFT_11HS8zz5c\");\n",
       "        var isSafari = /^((?!chrome|android).)*safari/i.test(navigator.userAgent);\n",
       "        var tmplName = 'commoditysummary';\n",
       "        var excludedList = ['plans', 'login', 'default', 'primearticleshow', 'primehome', 'onboarding', 'redeem', 'wealth_editionshow', 'wealth_edition', 'print_edition'];\n",
       "        var isTmpltExcluded = excludedList.indexOf(tmplName) !== -1;\n",
       "        var inAppTpNameListArr = ['default','default_prime','articleshow_main','primearticleshow','articleshow_exclusive2','articlelist','primehome','markets','newshome','politicsnation','personalfinance','mutual_funds','techhome','opinionshome','nri','panache','videohome']\n",
       "        \n",
       "            if(!isTmpltExcluded && !isSafari) {\n",
       "                grx('enableCustompopup');\n",
       "            }\n",
       "            if(inAppTpNameListArr.indexOf(window.tpName) != -1) {\n",
       "                grx('registerPlugin','inApp');\n",
       "            }\n",
       "        \n",
       "        \n",
       "        \n",
       "\t    grxDimension_cdp['content_id'] = 1808152121;\n",
       "\t    grxDimension_cdp['page_template'] = \"commodities\";\n",
       "\t    grxDimension_cdp['level_2'] = \"Commodities\";\n",
       "\t    grxDimension_cdp['level_3'] = \"\";\n",
       "\t    grxDimension_cdp['level_4'] = \"\";\n",
       "\t    grxDimension_cdp['product'] = \"other\";\n",
       "\t    var isPrimeContent = \"false\";\n",
       "\t    var embeddedData = \"\";\n",
       "\t    \n",
       "\t        var jData_cdp = JSON.parse(localStorage.getItem('jStorage')) || {},\n",
       "\t            userInfo_cdp = jData_cdp['userInfo'] || {}\n",
       "    \t        grx_cdp_userData = jData_cdp && jData_cdp['prime_'+getCookie('TicketId')] || {},\n",
       "                grx_cdp_up = grx_cdp_userData.permissions || [];\n",
       "            \n",
       "\t        var isDarkMode = window.matchMedia && window.matchMedia('(prefers-color-scheme: dark)').matches;\n",
       "            var nonAdPageArray = ['primehome','athenalive','timesepaper','print_edition','wealth_edition','wealth_editionshow','epaper_home', 'primearticlelist', 'login', 'stockreports_benefits'];\n",
       "            var is_monetizable = 'y';\n",
       "            if((grx_cdp_up.indexOf(\"subscribed\") > -1) || (nonAdPageArray.indexOf(tmplName) !== -1)) {\n",
       "                is_monetizable = 'n';\n",
       "            }\n",
       "            \n",
       "            var isPaywalled = 'n';\n",
       "            if(isPrimeContent === 'true' && grx_cdp_up.indexOf(\"subscribed\") < 0) {\n",
       "                isPaywalled = 'y';\n",
       "            }\n",
       "            \n",
       "            var sub_status = (customDimension.dimension37 && customDimension.dimension37.split(' ')[0]).toLowerCase();\n",
       "            sub_status = sub_status === \"permission\" ? \"free\" : sub_status;\n",
       "\n",
       "            var sub_type = (grx_cdp_userData.subscriptionDetails && grx_cdp_userData.subscriptionDetails.length > 0 ? (grx_cdp_userData.subscriptionDetails[0].userAcquisitionType).toLowerCase() : 'free');\n",
       "            sub_type = sub_type === \"group_subscription\" ? \"group\" : sub_type;\n",
       "            \n",
       "    \t    grxDimension_cdp['login_method'] = (getCookie('ssoid') && getCookie('LoginType') || userInfo_cdp['email'] && 'sso' || null) || null;\n",
       "    \t    grxDimension_cdp['level_full'] = (customDimension.dimension27).toLowerCase() || (customDimension.dimension26).toLowerCase();\n",
       "    \t    grxDimension_cdp['embedded'] = embeddedData && embeddedData.trim().replaceAll(' ', ',') || \"\";\n",
       "    \t    grxDimension_cdp['last_click_source'] = (customDimension.dimension92).toLowerCase();\n",
       "    \t    grxDimension_cdp['level_1'] = (customDimension.dimension26).toLowerCase();\n",
       "    \t    grxDimension_cdp['loggedin'] = userInfo_cdp['email'] ? 'y' : 'n';\n",
       "    \t    grxDimension_cdp['section_id'] = customDimension.dimension29;\n",
       "    \t    grxDimension_cdp['source'] = customDimension.dimension93;\n",
       "            grxDimension_cdp['phone'] = userInfo_cdp['mobile'] || '';\n",
       "    \t    grxDimension_cdp['email'] = userInfo_cdp['email'] || '';\n",
       "    \t    grxDimension_cdp['utm_source'] = utmSource_dim || null;\n",
       "    \t    grxDimension_cdp['utm_medium'] = utmMedium_dim || null;\n",
       "    \t    grxDimension_cdp['utm_campaign'] = utmCamp_dim || null;\n",
       "    \t    grxDimension_cdp['subscription_status'] = sub_status;\n",
       "    \t    grxDimension_cdp['variant_id'] = variant_id || null;\n",
       "    \t    grxDimension_cdp['cohort_id'] = cohort_id || null;\n",
       "    \t    grxDimension_cdp['monetizable'] = is_monetizable;\n",
       "    \t    grxDimension_cdp['subscription_type'] = sub_type\n",
       "    \t    grxDimension_cdp['paywalled'] = isPaywalled;\n",
       "    \t    grxDimension_cdp['client_source'] = 'cdp';\n",
       "    \t    grxDimension_cdp['business'] = 'et';\n",
       "    \t    grxDimension_cdp['dark_mode'] = 'n';\n",
       "        \n",
       "\t\n",
       "        \n",
       "            (function () {\n",
       "                grx('userId', getCookie('ssoid'));\n",
       "                try {\n",
       "                    if(window.localStorage && localStorage.getItem) {\n",
       "                        var jString = localStorage.getItem(\"jStorage\");\n",
       "                        if(jString) {\n",
       "                            var objJstorage = JSON.parse(jString), objProf = objJstorage['et_subscription_profile'], userInfo = objJstorage['userInfo'] || {}, peuuid = getCookie('peuuid'), pfuuid = getCookie('pfuuid');\n",
       "                            for (var attrname in objProf) { grxDimension[attrname] = objProf[attrname]; };\n",
       "                            var dt = +new Date(), loggedIn = (getCookie('ssoid') ? 'Y' : 'N');\n",
       "                            var new_user_dim = 'unknown_new_user';\n",
       "                            \n",
       "                            grxDimension['first_date_on_et'] = +new Date(objJstorage['et_first_date']) || dt;\n",
       "                            grxDimension['last_visited_date'] = dt;\n",
       "                            grxDimension['logged_in'] = userInfo['email'] ? 'Y' : 'N';\n",
       "                            grxDimension['email'] = userInfo['email'];\n",
       "                            grxDimension['first_name'] = userInfo['fname'];\n",
       "                            grxDimension['last_name'] = userInfo['lname'];\n",
       "                            grxDimension['current_subscriber_status'] = customDimension.dimension37;\n",
       "                            if(typeof objJstorage['et_first_date'] !== 'undefined') {\n",
       "                                const [currday, currmonth, curryear] = objJstorage['et_first_date'].split('-').map(Number);\n",
       "                                const currdate = new Date(curryear, currmonth - 1, currday);\n",
       "                                const milliseconds = currdate.getTime();\n",
       "                                if(milliseconds >= 1721327400000){\n",
       "                                    if(localStorage.getItem('new_user_exp') !== 'null') {\n",
       "                                        new_user_dim = 'non-intrusive'\n",
       "                                    } else {\n",
       "                                        new_user_dim = 'intrusive';\n",
       "                                    }\n",
       "                                }\n",
       "                                else{\n",
       "                                    new_user_dim = 'old user';\n",
       "                                    localStorage.setItem('oldUser', true);\n",
       "                                }\n",
       "                            }\n",
       "                            \n",
       "                            var savedFreeTrialData = objJstorage['et_freetrial'] || {};\n",
       "                            var userInfo = objJstorage['userInfo'] || {};\n",
       "                            var puInfo = objJstorage['prime_'+getCookie('TicketId')] || {};\n",
       "                            var isAPUser = puInfo.subscriptionDetail && puInfo.subscriptionDetail.userAcquisitionType && puInfo.subscriptionDetail.userAcquisitionType === \"ACCESS_PASS\";\n",
       "                            if(Object.keys(savedFreeTrialData).length) {\n",
       "                                var nonPrime = userInfo.email ? !puInfo.permissions.includes('subscribed') : true;\n",
       "                                if(savedFreeTrialData.eligible && nonPrime) {\n",
       "                                    grxDimension['experiment_variant_name'] = \"Free Trial_Eligible\";\n",
       "                                } else if(userInfo.email && isAPUser) {\n",
       "                                    var now = +new Date();\n",
       "                                    var expiryDate = +new Date(puInfo.subscriptionDetail.expiryDate);\n",
       "                                    grxDimension['experiment_variant_name'] = \"Free Trial_\"+(expiryDate > now ? \"Activated\" : \"Expired\");\n",
       "                                }\n",
       "                            }\n",
       "                            \n",
       "                            grxDimension['new_user'] = new_user_dim;\n",
       "                            if(peuuid) {grxDimension['web_peuuid'] = peuuid;}\n",
       "                            if(pfuuid) {grxDimension['web_pfuuid'] = pfuuid;}\n",
       "                        }\n",
       "                    }\n",
       "                    if(window.customDimension && window.objDim) {\n",
       "                        for(key in customDimension) {\n",
       "                            var dimId = 'd' + key.substr(9, key.length);\n",
       "                            if(objDim[dimId] && typeof customDimension[key] != 'undefined') { grxDimension[objDim[dimId]] = customDimension[key]; }\n",
       "                        }\n",
       "                    }\n",
       "                }catch(e) {\n",
       "                    console.log('Error profile Dimension');\n",
       "                }\n",
       "            })()\n",
       "        \n",
       "        \n",
       "        \n",
       "            grxDimension['feature_name'] = \"''\";\n",
       "            grxDimension_cdp['feature_name'] = \"''\";\n",
       "        \n",
       "        \n",
       "        grx('track', 'page_view', grxDimension);\n",
       "        grx('track', 'page_view', window.grxDimension_cdp);\n",
       "\t\n",
       "            var _comscore = _comscore || [];\n",
       "            _comscore.push({ c1: \"2\", c2: \"6036484\"});\n",
       "            \n",
       "            if(window.allowGdpr == 1) {\n",
       "                (function() {\n",
       "                    var s = document.createElement('script'), el = document.getElementsByTagName(\"script\")[0]; s.async = true;\n",
       "                    s.src = (document.location.protocol == \"https:\" ? \"https://sb\" : \"http://b\") + \".scorecardresearch.com/beacon.js\";\n",
       "                    el.parentNode.insertBefore(s, el);\n",
       "                })();\n",
       "            }\n",
       "            \n",
       "\t\t\n",
       "    \t    \n",
       "                if(window.allowGdpr == 1) {\n",
       "                    (function() {\n",
       "            \t\t\tfunction pingIbeat() {\n",
       "                \t\t\twindow._pg_endpt=(new Date()).getTime();\n",
       "                \t\t\tvar e = document.createElement('script');\n",
       "                \t\t\te.setAttribute('language', 'javascript');\n",
       "                \t\t\te.setAttribute('type', 'text/javascript');\n",
       "                \t\t\te.setAttribute('async', true);\n",
       "                \t\t\tvar dt = window.dateFormat ? dateFormat(new Date(), '%Y%M%d') : 1;\n",
       "                \t\t\tvar sd = window.objDomain && objDomain.js || '';\n",
       "                \t\t\te.setAttribute('src', sd + '/js_ibeat_ext.cms?ver=13&v=' + dt);\n",
       "                \t\t\tif((window.location.href.indexOf('etdev8'))>-1 || (window.location.href.indexOf('etstg'))>-1) {\n",
       "                \t\t\t    e.setAttribute('src', \"https://agi-static.indiatimes.com/cms-common/stg/stg-ibeat.min.js\");\n",
       "                \t\t\t}\n",
       "                \t\t\tdocument.head.appendChild(e);\n",
       "            \t\t\t}\n",
       "            \t\t\tif(typeof window.addEventListener == 'function') {\n",
       "            \t\t\t    window.addEventListener(\"load\", pingIbeat, false); \n",
       "            \t\t\t} else {\n",
       "                \t\t\tvar oldonload = window.onload;\n",
       "                \t\t\twindow.onload = (typeof window.onload != 'function') ?\n",
       "                \t\t\tpingIbeat : function() { oldonload(); pingIbeat(); };\n",
       "            \t\t\t}\n",
       "            \t\t})();\n",
       "                }\n",
       "            \n",
       "        \n",
       "        }\n",
       "\t    </script><script type=\"application/ld+json\">\n",
       "        \t    {\n",
       "        \t        \"@context\" : \"https://schema.org\",\n",
       "        \t\t  \t\"@type\": \"NewsMediaOrganization\",\n",
       "        \t\t  \t\"name\": \"Economic Times\",\n",
       "        \t\t    \"url\" : \"https://economictimes.indiatimes.com/\",\n",
       "        \t\t    \"logo\": {\n",
       "        \t\t      \"@type\": \"ImageObject\",\n",
       "            \t      \"url\": \"https://img.etimg.com/thumb/msid-76939477,width-600,height-60,quality-100/economictimes.jpg\",\n",
       "        \t\t      \"width\": 600,\n",
       "        \t\t      \"height\": 60\n",
       "        \t\t    }\n",
       "        \t\t  }\n",
       "            </script></head><body><main class=\"pageHolder\"><div class=\"primeDW\" id=\"topAd\" l1=\"1977021501\" l2=\"1808152121\" l3=\"0\" lan=\"\"><div currency_ad=\"1\" data-adsslot=\"ET_Markets/ET_Markets_Home/ET_ROS_ATF_MKT_728\" data-loc=\"All\" data-oop=\"0\" data-size=\"[[1003, 90],[728, 90]]\" id=\"div-gpt-ad-1481103461078-11\"></div></div><div class=\"band\" id=\"\"><div class=\"contentwrapper bandCont clearfix\"><div class=\"flipWrapper\"><div class=\"mkt_indices_band clearfix\"><div class=\"band-items\" id=\"S1_box\"><div class=\"band-item clearfix\"><div class=\"band-content\"><div class=\"head\"><a href=\"https://economictimes.indiatimes.com/markets/indices/nifty-50\" target=\"_blank\">Benchmarks </a></div><div class=\"values\"><a class=\"wname\" href=\"https://economictimes.indiatimes.com/markets/indices/nifty-50\" target=\"_blank\">Nifty</a><span class=\"num\">25,252.60</span><span class=\"per cSprite_b red\">-26.11</span></div></div></div></div><div class=\"S5_box_wrapper\"><div class=\"band-items\" id=\"S5_box\"><a data-ga-onclick=\"Buy Direct - Canara Robeco#WEB - Click - Canara Robeco Flexi Cap Fund Direct-Growth - Invest Now - MarketBand#MarketBand - url\" href=\"https://www.canararobeco.com/smart-invest/sign-in/?utm_source=et-i&amp;utm_medium=invest_now&amp;utm_campaign=canara_robeco_flexicap_fund\" rel=\"nofollow sponsored\" target=\"_blank\"><div class=\"band-item clearfix\"><div class=\"band-content-left\"><div class=\"head\"><span class=\"lbl\">FEATURED FUNDS</span><div class=\"ratings flr\"><span class=\"rating\">★★★</span><span class=\"ratingGrey\">★★</span></div></div><div class=\"title\" title=\"Canara Robeco Flexi Cap Fund Direct-Growth\">Canara Robeco Flexi Cap Fund Direct-Growth</div></div><div class=\"band-content-right flt\"><div class=\"head lbl\">5Y Return</div><div class=\"values flt\"><span class=\"per cSprite_b green\">23.16 %\n",
       "                </span></div><div class=\"cta flt\">Invest Now</div></div></div></a><a data-ga-onclick=\"Buy Direct - Canara Robeco#WEB - Click - Canara Robeco Infrastructure Direct-Growth - Invest Now - MarketBand#MarketBand - url\" href=\"https://www.canararobeco.com/smart-invest/sign-in/?utm_source=et-i&amp;utm_medium=invest_now&amp;utm_campaign=canara_robeco_infrastructure\" rel=\"nofollow sponsored\" target=\"_blank\"><div class=\"band-item clearfix\"><div class=\"band-content-left\"><div class=\"head\"><span class=\"lbl\">FEATURED FUNDS</span><div class=\"ratings flr\"><span class=\"rating\">★★★★</span><span class=\"ratingGrey\">★</span></div></div><div class=\"title\" title=\"Canara Robeco Infrastructure Direct-Growth\">Canara Robeco Infrastructure Direct-Growth</div></div><div class=\"band-content-right flt\"><div class=\"head lbl\">5Y Return</div><div class=\"values flt\"><span class=\"per cSprite_b green\">33 %\n",
       "                </span></div><div class=\"cta flt\">Invest Now</div></div></div></a></div></div></div></div><div class=\"srch-overlay-content\" id=\"srch-overlay-content\"><svg class=\"left_icon\" height=\"15\" viewbox=\"0 0 15 15\" width=\"15\" xmlns=\"https://www.w3.org/2000/svg\"><path d=\"m13.296 13.499-3.95-3.557a4.37 4.37 0 0 1-1.344.875 4.907 4.907 0 0 1-1.668.375c-1.426.075-2.66-.357-3.701-1.295C1.59 8.959 1.033 7.79.96 6.39c-.073-1.4.359-2.62 1.297-3.662.938-1.041 2.114-1.6 3.526-1.673 1.4-.074 2.617.359 3.652 1.297 1.035.939 1.59 2.107 1.663 3.507.03.567-.034 1.12-.191 1.657a5.032 5.032 0 0 1-.754 1.529l3.967 3.538a.614.614 0 0 1 .048.869.617.617 0 0 1-.872.046zM8.925 8.723a3.76 3.76 0 0 0 .985-2.801 3.76 3.76 0 0 0-1.273-2.683 3.71 3.71 0 0 0-2.792-.995c-1.082.056-1.983.484-2.702 1.283-.72.798-1.051 1.732-.995 2.802.056 1.069.483 1.963 1.282 2.682.799.72 1.74 1.05 2.822.994a3.71 3.71 0 0 0 2.673-1.282z\" fill=\"#ED193B\" fill-rule=\"nonzero\"></path></svg><input autocomplete=\"off\" class=\"inputBox\" data-search-input=\"\" name=\"ticker_newsearch\" placeholder=\"Search Stock Quotes, News, Mutual Funds and more\" type=\"text\"/><div class=\"right_icon close_search\"></div></div></div></div><!--/market_topband.cms?newband=0&tpname=commoditysummarypotime:1--><header class=\"header default clearfix commoditysummary\"><div class=\"dtc vam logoPart tac\"><a href=\"/\" title=\"The Economic Times\"><img alt=\"The Economic Times\" class=\"dib\" fetchpriority=\"high\" height=\"39\" src=\"https://img.etimg.com/photo/msid-76931895,quality-100/et-logo.jpg\" width=\"407\"/></a><a class=\"sec_logo bigLogo\" href=\"https://economictimes.indiatimes.com/markets\" id=\"mktLogo\" title=\"ET Markets\"><img alt=\"ET Markets\" fetchpriority=\"high\" height=\"37\" src=\"https://img.etimg.com/photo/msid-76931947,quality-100/et-markets-logo.jpg\" width=\"163\"/></a><div class=\"timeEdition tac\"><div class=\"dib prel edition\"><span>English Edition</span><span class=\"edMenu\"><span class=\"ed\">English Edition</span><a class=\"edHin\" data-ga-onclick=\"Web Top Nav Edition#Hindi#url\" href=\"https://hindi.economictimes.com/\" rel=\"noopener dofollow\" target=\"_blank\">हिन्दी</a><a class=\"edHin\" data-ga-onclick=\"Web Top Nav Edition#gujarati#url\" href=\"https://gujarati.economictimes.com/\" rel=\"noopener dofollow\" target=\"_blank\">ગુજરાતી</a><a class=\"edHin\" data-ga-onclick=\"Web Top Nav Edition#marathi#url\" href=\"https://marathi.economictimes.com/\" rel=\"noopener dofollow\" target=\"_blank\">मराठी</a><a class=\"edHin\" data-ga-onclick=\"Web Top Nav Edition#bengali#url\" href=\"https://bengali.economictimes.com/\" rel=\"noopener dofollow\" target=\"_blank\">বাংলা</a><a class=\"edHin\" data-ga-onclick=\"Web Top Nav Edition#kannada#url\" href=\"https://kannada.economictimes.com/\" rel=\"noopener dofollow\" target=\"_blank\">ಕನ್ನಡ</a><a class=\"edHin\" data-ga-onclick=\"Web Top Nav Edition#malayalam#url\" href=\"https://malayalam.economictimes.com/\" rel=\"noopener dofollow\" target=\"_blank\">മലയാളം</a><a class=\"edHin\" data-ga-onclick=\"Web Top Nav Edition#tamil#url\" href=\"https://tamil.economictimes.com/\" rel=\"noopener dofollow\" target=\"_blank\">தமிழ்</a><a class=\"edHin\" data-ga-onclick=\"Web Top Nav Edition#telugu#url\" href=\"https://telugu.economictimes.com/\" rel=\"noopener dofollow\" target=\"_blank\">తెలుగు</a></span></div><span data-dt=\"2024-09-03 12:05:47.966\"><span> | </span><span class=\"dib time\">03 September, 2024, 12:05 PM IST</span></span><span> | </span><span class=\"coach_wrap\"><a class=\"dib epaper epaper_animation\" data-ga-onclick=\"Web Top Nav Epaper link#Click on Epaper link#url\" href=\"https://epaper.indiatimes.com/timesepaper/publication-the-economic-times,city-delhi.cms\" rel=\"nofollow\" target=\"_blank\">Today's ePaper</a></span></div><div class=\"flr subSign\"><a class=\"dib subScribe\" data-ga-onclick=\"Subscription Flow ET#SYFT | Flow Started#ATF - url\" href=\"javascript:goToPlan()\">\n",
       "                        Subscribe\n",
       "                    </a><div class=\"dib signInOut prel signIn\"><a class=\"signInLink\" data-ga-onclick=\"ET Login#Signin - Sign In - Click#ATF - url\" href=\"javascript:objUser.login()\">Sign In</a></div><div class=\"soWrapper\"><a class=\"hdr_spcl_ofr top_f_us\" data-ga-onclick=\"Subscription Flow ET#SYFT | Flow Started#HomepageOfferHeader\" href=\"javascript:cdpGoToPlan('topbutton_Freedom Offer is Live')\">Freedom Offer is Live</a><!--/prime_campaign.cms?msid=81429572&bannertype=toppotime:1--></div></div></div></header><div class=\"navFixRef\"></div><div class=\"nav_block clr\" id=\"topnavBlk\"><nav class=\"level3 contentwrapper\" data-ga-category=\"ET-TopNav\" id=\"topnav\" nav-sec1=\"Markets\"><div class=\"sections\" id=\"sideMenu\"><span class=\"menuIcon cSprite\"></span><nav class=\"ddNav\" id=\"sideBarNav\"></nav></div><div data-ga-action=\"Home\"><a data-ga-onclick=\"/\" href=\"/\">Home</a></div><div data-ga-action=\"ETPrime\"><a class=\"navP medium cSprite_b\" data-ga-onclick=\"https://economictimes.indiatimes.com/prime\" href=\"https://economictimes.indiatimes.com/prime\">ETPrime</a></div><div data-ga-action=\"Markets\" data-id=\"1977021501\"><a class=\"current\" data-ga-onclick=\"https://economictimes.indiatimes.com/markets\" href=\"https://economictimes.indiatimes.com/markets\">Markets</a><div class=\"subsecnav\" id=\"subsec1977021501\"></div></div><div data-ga-action=\"Market Data\" data-id=\"110737294\"><a class=\"navDM medium cSprite_b\" data-ga-onclick=\"https://economictimes.indiatimes.com/markets/live-coverage\" href=\"https://economictimes.indiatimes.com/markets/live-coverage\">Market Data</a><div class=\"subsecnav\" id=\"subsec110737294\" style=\"left:auto;right:0;\"></div></div><div data-ga-action=\"News\" data-id=\"1715249553\"><a data-ga-onclick=\"https://economictimes.indiatimes.com/news\" href=\"https://economictimes.indiatimes.com/news\">News</a><div class=\"subsecnav\" id=\"subsec1715249553\" style=\"left:auto;right:0;\"></div></div><div data-ga-action=\"Industry\" data-id=\"13352306\"><a data-ga-onclick=\"https://economictimes.indiatimes.com/industry\" href=\"https://economictimes.indiatimes.com/industry\">Industry</a><div class=\"subsecnav\" id=\"subsec13352306\" style=\"right:-608px;width:630px;\"></div></div><div data-ga-action=\"Rise\" data-id=\"5575607\"><a data-ga-onclick=\"https://economictimes.indiatimes.com/small-biz\" href=\"https://economictimes.indiatimes.com/small-biz\">Rise</a><div class=\"subsecnav\" id=\"subsec5575607\" style=\"left:auto;right:0;\"></div></div><div data-ga-action=\"Politics\" data-id=\"1052732854\" data-subsec=\"0\"><a data-ga-onclick=\"/news/politics\" href=\"/news/politics\">Politics</a></div><div data-ga-action=\"Wealth\" data-id=\"837555174\"><a data-ga-onclick=\"https://economictimes.indiatimes.com/personal-finance\" href=\"https://economictimes.indiatimes.com/personal-finance\">Wealth</a><div class=\"subsecnav\" id=\"subsec837555174\" style=\"width:830px;left:-233px;\"></div></div><div data-ga-action=\"MF\" data-id=\"359241701\"><a data-ga-onclick=\"https://economictimes.indiatimes.com/mutual-funds\" href=\"https://economictimes.indiatimes.com/mutual-funds\">MF</a><div class=\"subsecnav\" id=\"subsec359241701\" style=\"left:auto;right:0;\"></div></div><div data-ga-action=\"Tech\" data-id=\"13357270\"><a data-ga-onclick=\"https://economictimes.indiatimes.com/tech\" href=\"https://economictimes.indiatimes.com/tech\">Tech</a><div class=\"subsecnav\" id=\"subsec13357270\" style=\"left:auto;right:0;\"></div></div><div data-ga-action=\"Careers\" data-id=\"107115\"><a data-ga-onclick=\"https://economictimes.indiatimes.com/jobs\" href=\"https://economictimes.indiatimes.com/jobs\">Careers</a><div class=\"subsecnav\" id=\"subsec107115\" style=\"left:auto;right:0;\"></div></div><div data-ga-action=\"Opinion\" data-id=\"897228639\"><a data-ga-onclick=\"https://economictimes.indiatimes.com/opinion\" href=\"https://economictimes.indiatimes.com/opinion\">Opinion</a><div class=\"subsecnav\" id=\"subsec897228639\" style=\"left:auto;right:0;\"></div></div><div data-ga-action=\"NRI\" data-id=\"7771250\"><a data-ga-onclick=\"https://economictimes.indiatimes.com/nri\" href=\"https://economictimes.indiatimes.com/nri\">NRI</a><div class=\"subsecnav\" id=\"subsec7771250\" style=\"left:auto;right:0;\"></div></div><div data-ga-action=\"Panache\" data-id=\"1466318837\"><a data-ga-onclick=\"https://economictimes.indiatimes.com/panache\" href=\"https://economictimes.indiatimes.com/panache\">Panache</a><div class=\"subsecnav\" id=\"subsec1466318837\" style=\"left:auto;right:0;\"></div></div><div data-ga-action=\"ET TV\" data-id=\"48897386\" data-subsec=\"0\"><a data-ga-onclick=\"/news/et-tv/videolist/48897386.cms\" href=\"/news/et-tv/videolist/48897386.cms\">ET TV</a></div><div class=\"moreNav\" data-ga-action=\"Spotlight\"><button aria-label=\"Spotlight\" class=\"morenavTab\">Spotlight</button><div class=\"subsecnav js_morenav jsMoreSecNavSport\" style=\"width:520px;margin-left:-506px;\"></div></div><div class=\"moreNav morenavdotted\" data-ga-action=\"More\"><button aria-label=\"More Menu\" class=\"morenavTabItem\" id=\"moreNav\" name=\"moreNav\"><span class=\"hidden\">More Menu</span><span class=\"dots-wrapper\"><span class=\"dots-container\"></span></span></button><div class=\"subsecnav js_moreitem\" style=\"width:180px; margin-left:-70px;\"></div></div></nav></div><div class=\"sbnv_wrapper w1\" data-level=\"2\"><nav class=\"clr contentwrapper subsec_nav\" data-ga-category=\"ET-TopNav\" id=\"subnav\" itemscope=\"itemscope\" itemtype=\"https://www.schema.org/SiteNavigationElement\"><meta content=\"/\" itemprop=\"url\"/><meta content=\"Home\" itemprop=\"name\"/><meta content=\"https://economictimes.indiatimes.com/markets\" itemprop=\"url\"/><meta content=\"Markets\" itemprop=\"name\"/><div class=\"subLevel\" data-ga-action=\"Stocks\"><a data-ga-onclick=\"https://economictimes.indiatimes.com/markets/stocks\" href=\"https://economictimes.indiatimes.com/markets/stocks\" itemprop=\"url\"><meta content=\"Stocks\" itemprop=\"name\"/>Stocks<span class=\"downArw\"></span></a><div class=\"subsecnav miniMenu\" data-attr=\"articleileftnav\"><div><a class=\"subsec2\" data-attr=\"pbotherwise\" href=\"https://economictimes.indiatimes.com/markets/stocks/stock-liveblog\" style=\"display: inline-block;\">Stock Liveblog</a></div><div><a class=\"subsec2\" data-attr=\"pbotherwise\" href=\"https://economictimes.indiatimes.com/markets/stocks/news\" style=\"display: inline-block;\">News</a></div><div><a class=\"subsec2\" data-attr=\"pbotherwise\" href=\"https://economictimes.indiatimes.com/markets/stocks/liveblog\" style=\"display: inline-block;\">Live Blog</a></div><div><a class=\"subsec2\" data-attr=\"pbotherwise\" href=\"https://economictimes.indiatimes.com/markets/stocks/earnings\" style=\"display: inline-block;\">Earnings</a></div><div><a class=\"subsec2\" data-attr=\"pbotherwise\" href=\"https://economictimes.indiatimes.com/markets/stocks/etmarkets-podcasts\" style=\"display: inline-block;\">Podcast</a></div><div><a class=\"subsec2\" data-attr=\"pbotherwise\" href=\"https://economictimes.indiatimes.com/newslist/54363265.cms\" style=\"display: inline-block;\">Market Classroom</a></div><div><a class=\"subsec2\" data-attr=\"pbotherwise\" href=\"https://economictimes.indiatimes.com/markets/stocks/dons-of-dalal-street/d-street-bigwigs/newslist/58835304.cms\" style=\"display: inline-block;\">Dons of Dalal Street</a></div><div><a class=\"subsec2\" data-attr=\"pbotherwise\" href=\"https://economictimes.indiatimes.com/markets/stocks/recos\" style=\"display: inline-block;\">Recos</a></div><div style=\"position:relative;\"><a class=\"subsec2\" data-attr=\"pbotherwise\" href=\"https://economictimes.indiatimes.com/markets/benefits/stockreportsplus\" style=\"display: inline-block;\">Stock Reports Plus<span class=\"scr_sup\" style=\"z-index: 1;position:absolute;color:#fff;background-color:#ed193b;font-size:8px;line-height:8px;padding:1px 2px;border-radius:2px;top:-1px;right:40px;\">New</span></a></div><div><a class=\"subsec2\" data-attr=\"pbotherwise\" href=\"https://economictimes.indiatimes.com/markets/stocks/stock-screener/GARP\" style=\"display: inline-block;\">My Screener</a></div><div><a class=\"subsec2\" data-attr=\"pbotherwise\" href=\"https://economictimes.indiatimes.com/markets/candlestick-screener\" style=\"display: inline-block;\">Candlestick Screener</a></div><div><a class=\"subsec2\" data-attr=\"pbotherwise\" href=\"https://economictimes.indiatimes.com/markets/stock-screener\" style=\"display: inline-block;\">Stock Screener</a></div><div><a class=\"subsec2\" data-attr=\"pbotherwise\" href=\"https://economictimes.indiatimes.com/markets/stocks/stock-watch/articlelist/81776766.cms\" style=\"display: inline-block;\">Stock Watch</a></div><div><a class=\"subsec2\" data-attr=\"pbotherwise\" href=\"https://economictimes.indiatimes.com/markets/stocks/mcalendar.cms\" style=\"display: inline-block;\">Market Calendar</a></div><div><a class=\"subsec2\" data-attr=\"pbotherwise\" href=\"https://economictimes.indiatimes.com/markets/stocks/stock-quotes\" style=\"display: inline-block;\">Stock Price Quotes</a></div></div></div><div data-ga-action=\"Options\"><a data-ga-onclick=\"https://economictimes.indiatimes.com/markets/options\" href=\"https://economictimes.indiatimes.com/markets/options\" itemprop=\"url\"><meta content=\"Options\" itemprop=\"name\"/>Options</a></div><div data-ga-action=\"IPOs/FPOs\"><a data-ga-onclick=\"https://economictimes.indiatimes.com/markets/ipo\" href=\"https://economictimes.indiatimes.com/markets/ipo\" itemprop=\"url\"><meta content=\"IPOs/FPOs\" itemprop=\"name\"/>IPOs/FPOs</a></div><div data-ga-action=\"Expert Views\"><a data-ga-onclick=\"https://economictimes.indiatimes.com/markets/expert-view\" href=\"https://economictimes.indiatimes.com/markets/expert-view\" itemprop=\"url\"><meta content=\"Expert Views\" itemprop=\"name\"/>Expert Views</a></div><div data-ga-action=\"Investment Ideas\"><a data-ga-onclick=\"https://economictimes.indiatimes.com/prime/investment-ideas\" href=\"https://economictimes.indiatimes.com/prime/investment-ideas\" itemprop=\"url\"><meta content=\"Investment Ideas\" itemprop=\"name\"/>Investment Ideas</a></div><div class=\"commodSublevel subLevel\" data-ga-action=\"Commodities\"><a class=\"current\" data-ga-onclick=\"https://economictimes.indiatimes.com/markets/commodities\" href=\"https://economictimes.indiatimes.com/markets/commodities\" itemprop=\"url\"><meta content=\"Commodities\" itemprop=\"name\"/>Commodities<span class=\"downArw\"></span></a><div class=\"subsecnav miniMenu comnav\" data-attr=\"articleileftnav\"><div class=\"flt comnavc\"><a class=\"subsec1\" href=\"https://economictimes.indiatimes.com/markets/commodities/views\">Views</a><a class=\"subsec1\" href=\"https://economictimes.indiatimes.com/markets/commodities/news\">News</a></div><div class=\"flt\" data-count=\"5\" data-date=\"03-09-2024 | 12.02 PM\"><a class=\"subsec1\" href=\"https://economictimes.indiatimes.com/commoditylisting.cms?head=Others\">Others</a><a class=\"subsec2\" href=\"https://economictimes.indiatimes.com/commoditysummary/symbol-MENTHAOIL.cms\">Mentha Oil</a><a class=\"subsec1\" href=\"https://economictimes.indiatimes.com/commoditylisting.cms?head=Precious Metals\">Precious Metals</a><a class=\"subsec2\" href=\"https://economictimes.indiatimes.com/commoditysummary/symbol-GOLDM.cms\">Gold M</a><a class=\"subsec2\" href=\"https://economictimes.indiatimes.com/commoditysummary/symbol-GOLD.cms\">Gold</a><a class=\"subsec2\" href=\"https://economictimes.indiatimes.com/commoditysummary/symbol-SILVER.cms\">Silver</a><a class=\"subsec2\" href=\"https://economictimes.indiatimes.com/commoditysummary/symbol-GOLDPETAL.cms\">Gold Petal</a><a class=\"subsec2\" href=\"https://economictimes.indiatimes.com/commoditysummary/symbol-SILVERMIC.cms\">Silver Micro</a><a class=\"subsec2\" href=\"https://economictimes.indiatimes.com/commoditysummary/symbol-SILVERM.cms\">Silver M</a><a class=\"subsec2\" href=\"https://economictimes.indiatimes.com/commoditysummary/symbol-GOLDGUINEA.cms\">Gold Guinea</a></div><div class=\"flt\"><a class=\"subsec1\" href=\"https://economictimes.indiatimes.com/commoditylisting.cms?head=Oil %26 Energy\">Oil &amp; Energy</a><a class=\"subsec2\" href=\"https://economictimes.indiatimes.com/commoditysummary/symbol-NATURALGAS.cms\">Natural Gas</a><a class=\"subsec2\" href=\"https://economictimes.indiatimes.com/commoditysummary/symbol-CRUDEOIL.cms\">Crude Oil</a><a class=\"subsec2\" href=\"https://economictimes.indiatimes.com/commoditysummary/symbol-CRUDEOILM.cms\">Crude Oil Mini</a><a class=\"subsec1\" href=\"https://economictimes.indiatimes.com/commoditylisting.cms?head=Base Metals\">Base Metals</a><a class=\"subsec2\" href=\"https://economictimes.indiatimes.com/commoditysummary/symbol-ALUMINIUM.cms\">Aluminium</a><a class=\"subsec2\" href=\"https://economictimes.indiatimes.com/commoditysummary/symbol-ZINCMINI.cms\">Zinc Mini</a><a class=\"subsec2\" href=\"https://economictimes.indiatimes.com/commoditysummary/symbol-LEADMINI.cms\">Lead Mini</a><a class=\"subsec2\" href=\"https://economictimes.indiatimes.com/commoditysummary/symbol-COPPER.cms\">Copper</a><a class=\"subsec2\" href=\"https://economictimes.indiatimes.com/commoditysummary/symbol-ZINC.cms\">Zinc</a><a class=\"subsec2\" href=\"https://economictimes.indiatimes.com/commoditysummary/symbol-NICKEL.cms\">Nickel</a><a class=\"subsec2\" href=\"https://economictimes.indiatimes.com/commoditysummary/symbol-ALUMINI.cms\">Aluminium Mini</a><a class=\"subsec2\" href=\"https://economictimes.indiatimes.com/commoditysummary/symbol-LEAD.cms\">Lead</a><a class=\"subsec1\" href=\"https://economictimes.indiatimes.com/commoditylisting.cms?head=Plantation\">Plantation</a><a class=\"subsec2\" href=\"https://economictimes.indiatimes.com/commoditysummary/symbol-KAPAS.cms\">Kapas</a><a class=\"subsec2\" href=\"https://economictimes.indiatimes.com/commoditysummary/symbol-COTTONCNDY.cms\">Cotton Candy</a></div><div class=\"flt\"></div><div class=\"clr\"></div><!--/commoditiesquicklinks_nav.cmspotime:1--></div></div><div class=\"subLevel\" data-ga-action=\"Forex\"><a data-ga-onclick=\"https://economictimes.indiatimes.com/markets/forex\" href=\"https://economictimes.indiatimes.com/markets/forex\" itemprop=\"url\"><meta content=\"Forex\" itemprop=\"name\"/>Forex<span class=\"downArw\"></span></a><div class=\"subsecnav miniMenu\" data-attr=\"articleileftnav\"><div><a class=\"subsec2\" data-attr=\"pbotherwise\" href=\"https://economictimes.indiatimes.com/markets/forex/forexnews\" style=\"display: inline-block;\">Forex News</a></div><div><a class=\"subsec2\" data-attr=\"pbotherwise\" href=\"https://economictimes.indiatimes.com/markets/forex/currency-converter\" style=\"display: inline-block;\">Currency Converter</a></div></div></div><div class=\"subLevel\" data-ga-action=\"Live Stream!\"><a data-ga-onclick=\"https://economictimes.indiatimes.com/etmarkets-livestream\" href=\"https://economictimes.indiatimes.com/etmarkets-livestream\" itemprop=\"url\"><meta content=\"Live Stream!\" itemprop=\"name\"/>Live Stream!<span class=\"downArw\"></span></a><div class=\"subsecnav miniMenu\" data-attr=\"articleileftnav\"><div><a class=\"subsec2\" data-attr=\"pbotherwise\" href=\"https://economictimes.indiatimes.com/markets/etmarkets-live/expert-bio/edul-patel,expertid-122.cms\" style=\"display: inline-block;\">Basics of crypto and blockchain</a></div></div></div><div data-ga-action=\"AIF PMS\"><a data-ga-onclick=\"https://economictimes.indiatimes.com/markets/newslist/111660626.cms\" href=\"https://economictimes.indiatimes.com/markets/newslist/111660626.cms\" itemprop=\"url\"><meta content=\"AIF PMS\" itemprop=\"name\"/>AIF PMS</a></div><div class=\"subLevel\" data-ga-action=\"Cryptocurrency\"><a data-ga-onclick=\"https://economictimes.indiatimes.com/markets/cryptocurrency\" href=\"https://economictimes.indiatimes.com/markets/cryptocurrency\" itemprop=\"url\"><meta content=\"Cryptocurrency\" itemprop=\"name\"/>Cryptocurrency<span class=\"downArw\"></span></a><div class=\"subsecnav miniMenu\" data-attr=\"articleileftnav\"><div><a class=\"subsec2\" data-attr=\"pbotherwise\" href=\"https://economictimes.indiatimes.com/markets/cryptocurrency#CryptoNews\" style=\"display: inline-block;\">Crypto News</a></div><div><a class=\"subsec2\" data-attr=\"pbotherwise\" href=\"https://economictimes.indiatimes.com/markets/cryptocurrency/crypto_tv/multimedialist/msid-104891731,contenttype-vo.cms\" style=\"display: inline-block;\">Crypto TV</a></div><div><a class=\"subsec2\" data-attr=\"pbotherwise\" href=\"https://economictimes.indiatimes.com/markets/cryptocurrency#CryptoReturns\" style=\"display: inline-block;\">Crypto Returns Calculator</a></div><div><a class=\"subsec2\" data-attr=\"pbotherwise\" href=\"https://economictimes.indiatimes.com/markets/cryptocurrency#CryptocurrencyPrices\" style=\"display: inline-block;\">Crypto Prices</a></div><div><a class=\"subsec2\" data-attr=\"pbotherwise\" href=\"https://economictimes.indiatimes.com/markets/cryptocurrency/all-cryptos\" style=\"display: inline-block;\">All Cryptos</a></div></div></div><div class=\"moreNav subLevel\" data-count=\"10\"><a href=\"javascript:void(0)\">More<span class=\"downArw\"></span></a><div class=\"subsecnav miniMenu\" style=\"left:auto;right:0\"><a class=\"subsec1\" href=\"https://economictimes.indiatimes.com/markets/technical-charts\" itemprop=\"url\"><meta content=\"Technicals\" itemprop=\"name\"/>Technicals</a><a class=\"subsec2\" href=\"https://economictimes.indiatimes.com/markets/technical-charts\">Technical Chart</a><a class=\"subsec2\" href=\"https://economictimes.indiatimes.com/markets/visualize.cms\">Visualize</a><a class=\"subsec2\" href=\"https://economictimes.indiatimes.com/marketstats/pid-237,exchange-50,pageno-1,sortby-volume,sortorder-desc,ctype-MACD.cms\">Screener</a><a class=\"subsec1\" href=\"https://economictimes.indiatimes.com/markets/mind-over-money/newslist/91256725.cms\" itemprop=\"url\"><meta content=\"Mind Over Money\" itemprop=\"name\"/>Mind Over Money</a><a class=\"subsec1\" href=\"https://economictimes.indiatimes.com/markets/web-stories\" itemprop=\"url\"><meta content=\"Web Stories\" itemprop=\"name\"/>Web Stories</a><a class=\"subsec1\" href=\"https://economictimes.indiatimes.com/markets/live-coverage\" itemprop=\"url\"><meta content=\"Markets Data\" itemprop=\"name\"/>Markets Data</a><a class=\"subsec1\" href=\"https://economictimes.indiatimes.com/company\" itemprop=\"url\"><meta content=\"Unlisted Companies\" itemprop=\"name\"/>Unlisted Companies</a><a class=\"subsec1\" href=\"https://economictimes.indiatimes.com/markets/market-moguls\" itemprop=\"url\"><meta content=\"Market Moguls\" itemprop=\"name\"/>Market Moguls</a><a class=\"subsec1\" href=\"https://economictimes.indiatimes.com/markets/bonds\" itemprop=\"url\"><meta content=\"Bonds\" itemprop=\"name\"/>Bonds</a><a class=\"subsec1\" href=\"https://economictimes.indiatimes.com/talkingheads.cms\" itemprop=\"url\"><meta content=\"Webinars\" itemprop=\"name\"/>Webinars</a><a class=\"subsec1\" href=\"https://economictimes.indiatimes.com/sitemap_makets.cms\" itemprop=\"url\"><meta content=\"Sitemap\" itemprop=\"name\"/>Sitemap</a><a class=\"subsec1\" href=\"https://economictimes.indiatimes.com/definition\" itemprop=\"url\"><meta content=\"Definitions\" itemprop=\"name\"/>Definitions</a></div></div></nav></div><div class=\"fullWidthContainer showDetail\" id=\"userOnboardTrial\"></div><!--/etnav.cms?withsearch=0&msid=1808152121potime:1--><div class=\"brcmb_wrapper clearfix\"><div class=\"clr breadCrumb contentwrapper\" itemscope=\"\" itemtype=\"https://schema.org/BreadcrumbList\"><span itemprop=\"itemListElement\" itemscope=\"\" itemtype=\"https://schema.org/ListItem\"><meta content=\"1\" itemprop=\"position\"/><a href=\"https://economictimes.indiatimes.com\" itemprop=\"item\" title=\"The Economic Times\">Business News<meta content=\"Business News\" itemprop=\"name\"/></a></span>›<span itemprop=\"itemListElement\" itemscope=\"\" itemtype=\"https://schema.org/ListItem\"><a alt=\"Markets\" href=\"https://economictimes.indiatimes.com/markets\" itemprop=\"item\" title=\"Markets\"><meta content=\"2\" itemprop=\"position\"/>Markets<meta content=\"Markets\" itemprop=\"name\"/></a></span>›<span itemprop=\"itemListElement\" itemscope=\"\" itemtype=\"https://schema.org/ListItem\"><a alt=\"Commodities\" href=\"https://economictimes.indiatimes.com/markets/commodities\" itemprop=\"item\" title=\"Commodities\"><meta content=\"3\" itemprop=\"position\"/>Commodities<meta content=\"Commodities\" itemprop=\"name\"/></a></span>›<span><commodityname2>Gold</commodityname2></span><!-- could not get data --> <!--/breadcrumb_static.cms?gidurl=yes&template_name=commoditysummary&language=&msid=1808152121potime:1--></div></div><div id=\"breakingNews\"><div class=\"contentwrapper prel\"><ul class=\"bnews flt\"></ul><div class=\"nextPrev\"><span class=\"flt prev\"></span><span class=\"flr next\"></span></div></div></div><div class=\"clearfix main_container\"><section class=\"flt\" id=\"pageContent\"><div class=\"row\"><div class=\"commodityNav flt\" id=\"commodityNav\"><ul class=\"navList\"><li class=\"active\" data-scrollid=\"commodityDetail\"><span class=\"sprite summary\"></span><p class=\"navItemText\">Summary</p></li><li data-scrollid=\"commodityDetailChart\"><span class=\"sprite charts\"></span><p class=\"navItemText\">Charts</p></li><li data-scrollid=\"commodityNews\"><span class=\"sprite news\"></span><p class=\"navItemText\">News</p></li><li data-scrollid=\"commoditySpotDetails\"><span class=\"sprite spotDetails\"></span><p class=\"navItemText\">Spot</p></li><li data-scrollid=\"commodityComparison\"><span class=\"sprite compare\"></span><p class=\"navItemText\">Compare</p></li><li data-scrollid=\"commodityContractDetails\"><span class=\"sprite contract-details\"></span><p class=\"navItemText\">Contract Details</p></li><li data-scrollid=\"commodityHistoricalPerformance\"><span class=\"sprite historical-data\"></span><p class=\"navItemText\">Historical Data</p></li></ul></div><div class=\"commodityContainer\"><div class=\"row\"><div class=\"commodityDetail flt\" id=\"commodityDetail\"><h1 class=\"commodityTitle\">Gold Rate<select class=\"expDate\" id=\"expDateMCX\" name=\"expDate\"><option value=\"2024-10-04\">2024-10-04</option><option value=\"2024-12-05\">2024-12-05</option><option value=\"2025-02-05\">2025-02-05</option><option value=\"2025-04-04\">2025-04-04</option><option value=\"2025-06-05\">2025-06-05</option><option value=\"2025-08-05\">2025-08-05</option></select></h1><small class=\"small MCX\">(Expiry: 04-Oct-2024 |  \n",
       "                                                Exchange: <span>MCX</span> | Head: Precious Metals)</small><div class=\"commodityTab\"><div class=\"flt\"><p class=\"tabs\"><span class=\"active\">MCX</span></p></div><div class=\"flr actions-container hidden\"><a class=\"actions\" href=\"#\">Add to Wishlist</a><span class=\"separator\">|</span><a class=\"actions\" href=\"#\">Set Alerts</a></div><a class=\"flr followEtMkt\" href=\"https://twitter.com/etmarkets\" onclick='ga(\"send\", {hitType: \"social\", socialNetwork: \"Twitter\", socialAction: \"markets_page_follow\", socialTarget: window.location.href, page: window.location.pathname});' rel=\"nofollow\" target=\"_blank\"></a></div><div class=\"clr\"></div><div id=\"MCX\"><div class=\"commodityInfoContainer\"><p class=\"datetime\">12.05PM IST | 03 Sep, 2024</p><ul class=\"commodityInfo commodityInfoHorizontal\"><li class=\"commodityPriceCol\"><span class=\"commodityPrice\">71552.0</span><span class=\"text\">Per 10 GRMS</span></li><li class=\"commodityInfoCol\"><span class=\"text\">Change</span><p class=\"padmar0\"><span class=\"sprite2 downArrow\"></span><span class=\"data perChng\">-49.00 (-0.07%)</span></p></li><li class=\"commodityInfoCol\"><span class=\"text\">Volume</span><span class=\"data volume\">764</span></li><li class=\"commodityInfoCol\"><span class=\"text\">Open</span><span class=\"data openPrice\">71629.0</span></li><li class=\"commodityInfoCol\"><span class=\"text\">Prv. Close</span><span class=\"data previousClosePrice\">71601.00</span></li><li class=\"commodityInfoCol\"><span class=\"text\">Spot</span><span class=\"data spotPrice\">71259.00</span></li></ul></div><div class=\"row\"><div class=\"trend\"><p class=\"trend-heading\">Day's Trend</p><img class=\"trend-img\" height=\"73\" src=\"https://marketcharts.indiatimes.com/commoditySparkline?linecolor=000000&amp;width=110&amp;height=80&amp;symbol=GOLD&amp;noofdays=1&amp;type=FNO&amp;filtertype=Intraday&amp;expirydate=04OCT2024\" width=\"100\"/></div><div class=\"detail-1\"><ul class=\"commodityInfo\"><li><span class=\"d_t\">Day:</span><p class=\"barLine-container day\"><span class=\"minRange\" id=\"dayMin\">71456.0</span><span class=\"sprite barLine\"><span class=\"sprite pointer\" id=\"dayPointerMCX\"></span></span><span class=\"maxRange\" id=\"dayMax\">71629.0</span></p></li><li><span class=\"d_t\">Contract:</span><p class=\"barLine-container contract\"><span class=\"minRange\" id=\"contractMin\">67811.00</span><span class=\"sprite barLine\"><span class=\"sprite pointer\" id=\"contractPointerMCX\"></span></span><span class=\"maxRange\" id=\"contractMax\">74945.00</span></p></li><li><span class=\"d_t\">Average Price (Rs/10 GRMS):</span><span class=\"dd averageTradedPrice\">71505.18</span></li><li><span class=\"d_t\">Open Interest (Contracts):</span><span class=\"dd openInterest\">16009</span></li><li><span class=\"d_t\">Open Interest Change %:</span><span class=\"dd openIntNetChange\">-.37%\n",
       "        \t\t\t\t\t\t\t\t\t\t\t\t\t\t\t\t</span></li><li><span class=\"d_t\">Best Buy Price (Rs/QTY):</span><span class=\"dd bestBuy\">71526.0/2</span></li></ul></div><div class=\"detail-2\"><ul class=\"commodityInfo\"><li><span class=\"d_t\">Prem/Disc:</span><span class=\"dd\" style=\"background: url('https://marketcharts.indiatimes.com/commodityPremiumDiscountSparkline?linecolor=000000&amp;symbol=GOLD&amp;expirydate=04-Oct-2024&amp;width=105&amp;height=30') -15px -6px; height: 18px; width: 70px;\"></span></li><li><span class=\"d_t\">Spread:</span><span class=\"dd\" style=\"background: url('https://marketcharts.indiatimes.com/commoditySpreadSparkline?linecolor=000000&amp;symbol=GOLD&amp;noofdays=20&amp;expirydate=04-Oct-2024&amp;width=105&amp;height=30') -15px -6px; height: 18px; width: 70px;\"></span></li><li><span class=\"d_t\">Unit:</span><span class=\"dd unit\" style=\"padding-left: 11px;\">KGS</span></li><li><span class=\"d_t\">Lot Size:</span><span class=\"dd lotSize\" style=\"padding-left: 11px;\">1</span></li><li><span class=\"d_t\">Tick Size:</span><span class=\"dd tickSize\" style=\"padding-left: 11px;\">100</span></li><li><span class=\"d_t\">Best Sell Price  (Rs/QTY):</span><span class=\"dd bestSell\" style=\"padding-left: 10px;\">71551.0/1</span></li></ul></div></div></div></div><div class=\"flr sidebar\"><div class=\"clr\"></div><div class=\"commodityLinks\"><p><a class=\"actions\" href=\"/commoditysummary/symbol-GOLDM.cms\">Gold M   2024-09-05</a></p><p><a class=\"actions\" href=\"/commoditysummary/symbol-GOLD.cms\">Gold   2024-10-04</a></p><p><a class=\"actions\" href=\"/commoditysummary/symbol-SILVER.cms\">Silver   2024-09-05</a></p></div><div class=\"commodityAd\"><div data-adsslot=\"ET_Markets/ET_Markets_Commodities/ET_ROS_ATF_MKT_CMD_300\" data-loc=\"All\" data-oop=\"0\" data-size=\"[[300, 250], [300, 600]]\" id=\"div-gpt-ad-1450704257220-1\"></div></div></div><div class=\"commodityDetailChart flt\" id=\"commodityDetailChart\" style=\"width: 618px\"><img class=\"blank_chart\" id=\"blank_chart\" src=\"https://img.etimg.com/photo/45980961.cms\" style=\"height: 341px;width: 618px;position:absolute\"/><iframe border=\"0px\" data-src=\"https://economictimes.indiatimes.com/chart.cms?symbol=GOLD&amp;expirydate=&amp;entity=commodity&amp;no_menu=1&amp;dont_save=true&amp;company_band=2&amp;symbol_label=false&amp;chart_type=mountain&amp;et_logo=false&amp;right_align=true&amp;study_volume=true\" height=\"341px\" id=\"chartIframe\" src=\"\" style=\"border: 1px solid #CCC;\" width=\"618px\"></iframe></div></div><div class=\"row\"><div class=\"col-5\"><div class=\"panel commodityNews\" id=\"commodityNews\" xmlns:listval=\"com.indiatimes.cms.utilities.CMSDateUtility\"><h2 class=\"panel-heading\">GOLD News</h2><div class=\"panel-body flexcroll\"><div><h3><a href=\"/markets/commodities/news/gold-price-today-yellow-metal-dips-rs-660/10-gm-in-3-days-silver-tumbles-rs-2600/kg/articleshow/113010909.cms\">Gold Price Today: Yellow metal dips Rs 660/10 gm in 3 days, silver tumbles Rs 2,600/kg</a><span class=\"secCategory\"> | News</span></h3><p class=\"datetime\">3 Sep, 2024, 10.20 AM</p><p class=\"panel-text\">Gold October futures opened flat at Rs 71,526 per 10 gram, while silver December futures traded at Rs 84,426 per kilogram, both showing slight declines. Investors remain cautious ahead of key U.S. job report.</p></div><div><h3><a href=\"/markets/commodities/news/gold-eases-with-spotlight-on-us-economic-data/articleshow/113008035.cms\">Gold eases with spotlight on US economic data</a><span class=\"secCategory\"> | News</span></h3><p class=\"datetime\">3 Sep, 2024, 07.38 AM</p><p class=\"panel-text\">Gold prices edged down by 0.1% in early Asian trading hours, with investors eyeing U.S. economic data for indications on the Federal Reserve's impending interest rate cuts. This week will see key reports including non-farm payrolls, ISM surveys, and ADP employment figures. Spot silver, platinum, and palladium also showed small declines.</p></div><div><h3><a href=\"/markets/commodities/news/gold-price-today-yellow-metal-starts-the-month-flat-silver-down-by-rs-1000/kg/articleshow/112981238.cms\">Gold Price Today: Yellow metal starts the month flat, silver down by Rs 1,000/kg</a><span class=\"secCategory\"> | News</span></h3><p class=\"datetime\">2 Sep, 2024, 09.44 AM</p><p class=\"panel-text\">Gold October futures at MCX opened flat at Rs 71,500 per 10 gram, down by 0.16%. Silver December futures traded at Rs 84,190/kg, down by 1.2%. Both metals saw profit taking after U.S. economic data suggested fewer Fed rate cuts.</p></div><div><h3><a href=\"/markets/commodities/news/precious-gold-flat-after-data-suggests-smaller-fed-rate-cut/articleshow/112978734.cms\">Gold flat after data suggests smaller Fed rate cut</a><span class=\"secCategory\"> | News</span></h3><p class=\"datetime\">2 Sep, 2024, 07.09 AM</p><p class=\"panel-text\">Gold prices held steady on Monday after a 1% decline in the previous session, driven by U.S. inflation data indicating a smaller-than-expected interest rate cut by the Federal Reserve. Spot gold remained at $2,502.89 per ounce, while U.S. gold futures saw a slight rise. Key market data and geopolitical issues are under investors' watch.</p></div><div><h3><a href=\"/markets/commodities/news/will-golds-tailwinds-be-enough-to-overcome-september-curse/articleshow/112948028.cms\">Will gold’s tailwinds be enough to overcome September curse?</a><span class=\"secCategory\"> | News</span></h3><p class=\"datetime\">31 Aug, 2024, 03.59 PM</p><p class=\"panel-text\">Gold investors will watch if the metal can maintain its rally or if it will follow the trend of September declines, averaging 3.2% since 2017. September is also weak for U.S. stocks, with a 1.5% S&amp;P 500 drop historically.</p></div><div><h3><a href=\"/markets/commodities/news/gold-price-today-yellow-metal-up-by-rs-2200/10-gm-in-1-week-silver-gains-rs-3000/kg/articleshow/112912686.cms\">Gold Price Today: Yellow metal up by Rs 2,200/10 gm in 1 week, silver gains Rs 3,000/kg</a><span class=\"secCategory\"> | News</span></h3><p class=\"datetime\">30 Aug, 2024, 09.41 AM</p><p class=\"panel-text\">Gold and silver futures at MCX traded lower on Friday, despite gains earlier in the week. Gold futures settled up 0.62% at Rs 72,188 per 10 grams on Thursday, while silver futures also rose 0.62% to Rs 87,049 per kilogram.</p></div><div><h3><a href=\"/markets/commodities/news/gold-prices-poised-for-monthly-gain-focus-on-us-data/articleshow/112910422.cms\">Gold prices poised for monthly gain; focus on US data</a><span class=\"secCategory\"> | News</span></h3><p class=\"datetime\">30 Aug, 2024, 07.24 AM</p><p class=\"panel-text\">Gold prices remained steady on Friday but are set for a monthly gain due to expectations of a U.S. interest rate cut in September. Markets are awaiting crucial U.S. inflation data. Meanwhile, economic indicators like GDP and unemployment claims show positive signs, impacting traders' views on Federal Reserve policies.</p></div><div><h3><a href=\"/markets/commodities/news/gold-price-today-yellow-metal-trades-flat-this-week-silver-down-by-rs-700/kg/articleshow/112883978.cms\">Gold Price Today: Yellow metal trades flat this week, silver down by Rs 700/kg</a><span class=\"secCategory\"> | News</span></h3><p class=\"datetime\">29 Aug, 2024, 09.59 AM</p><p class=\"panel-text\">Gold October futures opened slightly up, while silver September futures gained 0.6% at MCX. Prices are influenced by dollar index movements and anticipated U.S. core PCE price index data, with caution advised ahead of the U.S. preliminary GDP data.</p></div><div><h3><a href=\"/markets/commodities/news/gold-climbs-on-fed-rate-cut-optimism-eyes-on-us-data/articleshow/112881015.cms\">Gold climbs on Fed rate-cut optimism, eyes on US data</a><span class=\"secCategory\"> | News</span></h3><p class=\"datetime\">29 Aug, 2024, 07.00 AM</p><p class=\"panel-text\">Gold prices increased on Thursday due to expectations of a U.S. interest rate cut and a weaker dollar. Traders are awaiting jobs data and a key inflation metric to gauge the Federal Reserve's policy path. Spot gold, U.S. gold futures, and other precious metals saw gains amid geopolitical tensions and economic uncertainties.</p></div><div><h3><a href=\"/markets/commodities/news/gold-prices-remain-steady-silver-declines-rs-400/articleshow/112868637.cms\">Gold prices remain steady; silver declines Rs 400</a><span class=\"secCategory\"> | News</span></h3><p class=\"datetime\">28 Aug, 2024, 05.48 PM</p><p class=\"panel-text\">Gold prices remained flat at Rs 74,350 per 10 grams in the national capital on Wednesday in scattered deals even as it weakened in the overseas markets.</p></div></div></div><!--/commodities_newsrecos.cms?commodityname=Gold&symbol_title=GOLDpotime:1--></div><div class=\"col-5\"><div class=\"panel commodityContract\"><h2 class=\"panel-heading\">Hot/Cold Gold Contract</h2><div class=\"panel-body\"><div class=\"gaugeChart\"><div class=\"title\"><p class=\"tsymbol\">GOLD \n",
       "\t\t                (MCX)\n",
       "                    </p><p class=\"texpiry\">04 October 2024</p></div><img height=\"230px\" id=\"commodityContractImg\" src=\"https://img.etimg.com/photo/msid-74689819,quality-100/commodity-gauge.jpg\" width=\"358\"/><div class=\"gpointer\" style=\"transform: rotate(90deg);-webkit-transform: rotate(90deg);-moz-transform: rotate(90deg);\"><img src=\"https://img.etimg.com/photo/msid-74711814,quality-100/commodity-arrow.jpg\"/></div><div class=\"desc\"><span class=\"flt\">Today's Volume : 764</span><span class=\"flr\">Change : 88.18%</span></div></div><!--/commoditiesgauge.cms?symbol=GOLD&exchange=MCX&expiry=&symbol_title=GOLDpotime:1--><div class=\"clr\"></div></div></div></div></div><div class=\"row\"><div class=\"col-10\"><div class=\"commoditySpotDetails panel-table\" id=\"commoditySpotDetails\"><h2 class=\"panel-heading\">GOLD Spot Rate Details</h2><div class=\"table\"><div class=\"thead flt border-bottom text-center\"><div class=\"flt w120 text-cell-first\">Places</div><div class=\"flt w120\">Price (Rs)</div><div class=\"flt w110\">Unit</div><div class=\"flt w110\">% CHG</div><div class=\"flt w110 durationChng\"><span class=\"week\">W</span> | <span class=\"active month\">M</span> | <span class=\"year\">Y</span></div><div class=\"flt w180\">Prem/Disc</div><div class=\"flt w160\">Prem/Disc (Trend)</div></div><div class=\"tbody clearfix text-center\"><div class=\"MCX\"><div class=\"tr flt border-bottom\"><div class=\"flt w120 text-cell text-cell-first\"><em>AHMEDABAD</em></div><div class=\"flt w120 text-cell\">71259.00</div><div class=\"flt w110 text-cell\">10 GRMS</div><div class=\"flt w110 text-cell\"><span class=\"rel red_line\">-0.59</span></div><div class=\"flt w110 sparkline\"><img class=\"hidden week lazy\" data-original=\"https://marketcharts.indiatimes.com/commoditySparkline?linecolor=000000&amp;width=110&amp;height=40&amp;symbol=GOLD&amp;type=spot&amp;noofdays=7&amp;expirydate=2024-10-04\" height=\"40\" width=\"110\"/><img class=\"month lazy\" data-original=\"https://marketcharts.indiatimes.com/commoditySparkline?linecolor=000000&amp;width=110&amp;height=40&amp;symbol=GOLD&amp;type=spot&amp;noofdays=30&amp;expirydate=2024-10-04\" height=\"40\" width=\"110\"/><img class=\"hidden year lazy\" data-original=\"https://marketcharts.indiatimes.com/commoditySparkline?linecolor=000000&amp;width=110&amp;height=40&amp;symbol=GOLD&amp;type=spot&amp;noofdays=365&amp;expirydate=2024-10-04\" height=\"40\" width=\"110\"/></div><div class=\"flt w180\"><div class=\"change_bar\"><span class=\"red_bar\"><span class=\"fill\" style=\"\"></span></span><span class=\"splite\"></span><span class=\"green_bar\"><span class=\"fill\" style=\"width: 30%;\"></span><span class=\"num tooltip\" data-tooltip=\"Premium\">367.00</span></span></div></div><div class=\"flt w160\"><img class=\"lazy\" data-original=\"https://marketcharts.indiatimes.com/commodityPremiumDiscountIntradaySparkline?linecolor=000000&amp;symbol=GOLD&amp;expirydate=2024-10-04&amp;width=105&amp;height=40\" height=\"40\" width=\"110\"/></div></div></div><div></div></div></div></div></div><!--/commodity_spot.cms?symbol=GOLD&exchange=MCX&symbol_title=GOLDpotime:1--></div><div class=\"row\"><div class=\"commodityComparison panel-table col-10\" id=\"commodityComparison\" xmlns:g=\"http://base.google.com/ns/1.0\" xmlns:valurl=\"com.times.utilities.CMSWebUtility\" xmlns:xhtml=\"http://www.w3.org/1999/xhtml\"><h2 class=\"panel-heading\">GOLD vs Other Precious Metals</h2><div class=\"table text-center\"><div class=\"thead flt border-bottom\"><div class=\"flt w150\" style=\"text-align: left;text-indent: 10px;\">Commodity</div><div class=\"flt w110\">Expiry</div><div class=\"flt w140\">Price / Unit</div><div class=\"flt\"><div style=\"margin-bottom:5px;\">Day</div><div class=\"flt w180\"> % Change</div></div><div class=\"flt\"><div style=\"margin-bottom:5px; text-align:right;padding-right:13px;\">Percentage Change</div><div class=\"flt w100\">Week</div><div class=\"flt w80\">Contract</div></div><div class=\"flt w150 durationChng\"><p class=\"padmar0\">Trend</p><span class=\"active\">D</span> | <span>M</span> | <span>Y</span></div></div><div class=\"tbody clearfix\"><div class=\"MCX\"><div class=\"tr flt border-bottom\"><div class=\"flt w150 text-cell text-cell-first comVal\"><a href=\"/commoditysummary/symbol-GOLDGUINEA.cms\">Gold Guinea</a></div><div class=\"flt w110 text-cell expVal\">28-Jun-2024</div><div class=\"flt w140 text-cell\" style=\"text-align: right\">57531.00/8 GRMS</div><div class=\"flt w180\"><div class=\"change_bar\"><span class=\"red_bar\"><span class=\"num\">-0.78</span><span class=\"fill\" style=\"width: 8.9%;\"></span></span><span class=\"splite\"></span><span class=\"green_bar\"><span class=\"fill\" style=\"\"></span><span class=\"num\"></span></span></div></div><div class=\"flt w100 text-cell\">-1.83</div><div class=\"flt w80 text-cell\">9.72</div><div class=\"flt w150 sparkline\"><img class=\"day lazy\" data-original=\"https://marketcharts.indiatimes.com/commoditySparkline?linecolor=000000&amp;width=110&amp;height=40&amp;symbol=GOLDGUINEA&amp;noofdays=1&amp;type=FNO&amp;filtertype=Intraday&amp;expirydate=2024-06-28\" height=\"40\" width=\"110\"/><img class=\"hidden month lazy\" data-original=\"https://marketcharts.indiatimes.com/commoditySparkline?linecolor=000000&amp;width=110&amp;height=40&amp;symbol=GOLDGUINEA&amp;noofdays=30&amp;type=FNO&amp;filtertype=EOD&amp;expirydate=2024-06-28\" height=\"40\" width=\"110\"/><img class=\"hidden year lazy\" data-original=\"https://marketcharts.indiatimes.com/commoditySparkline?linecolor=000000&amp;width=110&amp;height=40&amp;symbol=GOLDGUINEA&amp;noofdays=365&amp;type=FNO&amp;filtertype=EOD&amp;expirydate=2024-06-28\" height=\"40\" width=\"110\"/></div></div><div class=\"tr flt border-bottom\"><div class=\"flt w150 text-cell text-cell-first comVal\"><a href=\"/commoditysummary/symbol-SILVERMIC.cms\">Silver Micro</a></div><div class=\"flt w110 text-cell expVal\">28-Jun-2024</div><div class=\"flt w140 text-cell\" style=\"text-align: right\">87770.00/1 KGS</div><div class=\"flt w180\"><div class=\"change_bar\"><span class=\"red_bar\"><span class=\"num\"></span><span class=\"fill\" style=\"\"></span></span><span class=\"splite\"></span><span class=\"green_bar\"><span class=\"fill\" style=\"width: 8.8%;\"></span><span class=\"num\">0.76</span></span></div></div><div class=\"flt w100 text-cell\">-3.86</div><div class=\"flt w80 text-cell\">17.85</div><div class=\"flt w150 sparkline\"><img class=\"day lazy\" data-original=\"https://marketcharts.indiatimes.com/commoditySparkline?linecolor=000000&amp;width=110&amp;height=40&amp;symbol=SILVERMIC&amp;noofdays=1&amp;type=FNO&amp;filtertype=Intraday&amp;expirydate=2024-06-28\" height=\"40\" width=\"110\"/><img class=\"hidden month lazy\" data-original=\"https://marketcharts.indiatimes.com/commoditySparkline?linecolor=000000&amp;width=110&amp;height=40&amp;symbol=SILVERMIC&amp;noofdays=30&amp;type=FNO&amp;filtertype=EOD&amp;expirydate=2024-06-28\" height=\"40\" width=\"110\"/><img class=\"hidden year lazy\" data-original=\"https://marketcharts.indiatimes.com/commoditySparkline?linecolor=000000&amp;width=110&amp;height=40&amp;symbol=SILVERMIC&amp;noofdays=365&amp;type=FNO&amp;filtertype=EOD&amp;expirydate=2024-06-28\" height=\"40\" width=\"110\"/></div></div><div class=\"tr flt border-bottom\"><div class=\"flt w150 text-cell text-cell-first comVal\"><a href=\"/commoditysummary/symbol-GOLDPETAL.cms\">Gold Petal</a></div><div class=\"flt w110 text-cell expVal\">28-Jun-2024</div><div class=\"flt w140 text-cell\" style=\"text-align: right\">7098.00/1 GRMS</div><div class=\"flt w180\"><div class=\"change_bar\"><span class=\"red_bar\"><span class=\"num\"></span><span class=\"fill\" style=\"\"></span></span><span class=\"splite\"></span><span class=\"green_bar\"><span class=\"fill\" style=\"width: 8.5%;\"></span><span class=\"num\">0.70</span></span></div></div><div class=\"flt w100 text-cell\">-0.31</div><div class=\"flt w80 text-cell\">13.55</div><div class=\"flt w150 sparkline\"><img class=\"day lazy\" data-original=\"https://marketcharts.indiatimes.com/commoditySparkline?linecolor=000000&amp;width=110&amp;height=40&amp;symbol=GOLDPETAL&amp;noofdays=1&amp;type=FNO&amp;filtertype=Intraday&amp;expirydate=2024-06-28\" height=\"40\" width=\"110\"/><img class=\"hidden month lazy\" data-original=\"https://marketcharts.indiatimes.com/commoditySparkline?linecolor=000000&amp;width=110&amp;height=40&amp;symbol=GOLDPETAL&amp;noofdays=30&amp;type=FNO&amp;filtertype=EOD&amp;expirydate=2024-06-28\" height=\"40\" width=\"110\"/><img class=\"hidden year lazy\" data-original=\"https://marketcharts.indiatimes.com/commoditySparkline?linecolor=000000&amp;width=110&amp;height=40&amp;symbol=GOLDPETAL&amp;noofdays=365&amp;type=FNO&amp;filtertype=EOD&amp;expirydate=2024-06-28\" height=\"40\" width=\"110\"/></div></div><div class=\"tr flt border-bottom\"><div class=\"flt w150 text-cell text-cell-first comVal\"><a href=\"/commoditysummary/symbol-SILVERM.cms\">Silver M</a></div><div class=\"flt w110 text-cell expVal\">28-Jun-2024</div><div class=\"flt w140 text-cell\" style=\"text-align: right\">87789.00/1 KGS</div><div class=\"flt w180\"><div class=\"change_bar\"><span class=\"red_bar\"><span class=\"num\"></span><span class=\"fill\" style=\"\"></span></span><span class=\"splite\"></span><span class=\"green_bar\"><span class=\"fill\" style=\"width: 9.149999999999999%;\"></span><span class=\"num\">0.83</span></span></div></div><div class=\"flt w100 text-cell\">-3.84</div><div class=\"flt w80 text-cell\">17.82</div><div class=\"flt w150 sparkline\"><img class=\"day lazy\" data-original=\"https://marketcharts.indiatimes.com/commoditySparkline?linecolor=000000&amp;width=110&amp;height=40&amp;symbol=SILVERM&amp;noofdays=1&amp;type=FNO&amp;filtertype=Intraday&amp;expirydate=2024-06-28\" height=\"40\" width=\"110\"/><img class=\"hidden month lazy\" data-original=\"https://marketcharts.indiatimes.com/commoditySparkline?linecolor=000000&amp;width=110&amp;height=40&amp;symbol=SILVERM&amp;noofdays=30&amp;type=FNO&amp;filtertype=EOD&amp;expirydate=2024-06-28\" height=\"40\" width=\"110\"/><img class=\"hidden year lazy\" data-original=\"https://marketcharts.indiatimes.com/commoditySparkline?linecolor=000000&amp;width=110&amp;height=40&amp;symbol=SILVERM&amp;noofdays=365&amp;type=FNO&amp;filtertype=EOD&amp;expirydate=2024-06-28\" height=\"40\" width=\"110\"/></div></div><div class=\"tr flt border-bottom\"><div class=\"flt w150 text-cell text-cell-first comVal\"><a href=\"/commoditysummary/symbol-GOLDM.cms\">Gold M</a></div><div class=\"flt w110 text-cell expVal\">05-Jul-2024</div><div class=\"flt w140 text-cell\" style=\"text-align: right\">72600.00/10 GRMS</div><div class=\"flt w180\"><div class=\"change_bar\"><span class=\"red_bar\"><span class=\"num\"></span><span class=\"fill\" style=\"\"></span></span><span class=\"splite\"></span><span class=\"green_bar\"><span class=\"fill\" style=\"width: 8.1%;\"></span><span class=\"num\">0.62</span></span></div></div><div class=\"flt w100 text-cell\">1.82</div><div class=\"flt w80 text-cell\">2.33</div><div class=\"flt w150 sparkline\"><img class=\"day lazy\" data-original=\"https://marketcharts.indiatimes.com/commoditySparkline?linecolor=000000&amp;width=110&amp;height=40&amp;symbol=GOLDM&amp;noofdays=1&amp;type=FNO&amp;filtertype=Intraday&amp;expirydate=2024-07-05\" height=\"40\" width=\"110\"/><img class=\"hidden month lazy\" data-original=\"https://marketcharts.indiatimes.com/commoditySparkline?linecolor=000000&amp;width=110&amp;height=40&amp;symbol=GOLDM&amp;noofdays=30&amp;type=FNO&amp;filtertype=EOD&amp;expirydate=2024-07-05\" height=\"40\" width=\"110\"/><img class=\"hidden year lazy\" data-original=\"https://marketcharts.indiatimes.com/commoditySparkline?linecolor=000000&amp;width=110&amp;height=40&amp;symbol=GOLDM&amp;noofdays=365&amp;type=FNO&amp;filtertype=EOD&amp;expirydate=2024-07-05\" height=\"40\" width=\"110\"/></div></div><div class=\"tr flt border-bottom\"><div class=\"flt w150 text-cell text-cell-first comVal\"><a href=\"/commoditysummary/symbol-SILVER.cms\">Silver</a></div><div class=\"flt w110 text-cell expVal\">05-Jul-2024</div><div class=\"flt w140 text-cell\" style=\"text-align: right\">92132.00/1 KGS</div><div class=\"flt w180\"><div class=\"change_bar\"><span class=\"red_bar\"><span class=\"num\"></span><span class=\"fill\" style=\"\"></span></span><span class=\"splite\"></span><span class=\"green_bar\"><span class=\"fill\" style=\"width:11.65%\"></span><span class=\"num\">2.33</span></span></div></div><div class=\"flt w100 text-cell\">5.84</div><div class=\"flt w80 text-cell\">24.00</div><div class=\"flt w150 sparkline\"><img class=\"day lazy\" data-original=\"https://marketcharts.indiatimes.com/commoditySparkline?linecolor=000000&amp;width=110&amp;height=40&amp;symbol=SILVER&amp;noofdays=1&amp;type=FNO&amp;filtertype=Intraday&amp;expirydate=2024-07-05\" height=\"40\" width=\"110\"/><img class=\"hidden month lazy\" data-original=\"https://marketcharts.indiatimes.com/commoditySparkline?linecolor=000000&amp;width=110&amp;height=40&amp;symbol=SILVER&amp;noofdays=30&amp;type=FNO&amp;filtertype=EOD&amp;expirydate=2024-07-05\" height=\"40\" width=\"110\"/><img class=\"hidden year lazy\" data-original=\"https://marketcharts.indiatimes.com/commoditySparkline?linecolor=000000&amp;width=110&amp;height=40&amp;symbol=SILVER&amp;noofdays=365&amp;type=FNO&amp;filtertype=EOD&amp;expirydate=2024-07-05\" height=\"40\" width=\"110\"/></div></div><div class=\"tr flt border-bottom\"><div class=\"flt w150 text-cell text-cell-first comVal\"><a href=\"/commoditysummary/symbol-GOLDPETAL.cms\">Gold Petal</a></div><div class=\"flt w110 text-cell expVal\">31-Jul-2024</div><div class=\"flt w140 text-cell\" style=\"text-align: right\">6804.00/1 GRMS</div><div class=\"flt w180\"><div class=\"change_bar\"><span class=\"red_bar\"><span class=\"num\"></span><span class=\"fill\" style=\"\"></span></span><span class=\"splite\"></span><span class=\"green_bar\"><span class=\"fill\" style=\"width: 5.35%;\"></span><span class=\"num\">0.07</span></span></div></div><div class=\"flt w100 text-cell\">-0.47</div><div class=\"flt w80 text-cell\">2.12</div><div class=\"flt w150 sparkline\"><img class=\"day lazy\" data-original=\"https://marketcharts.indiatimes.com/commoditySparkline?linecolor=000000&amp;width=110&amp;height=40&amp;symbol=GOLDPETAL&amp;noofdays=1&amp;type=FNO&amp;filtertype=Intraday&amp;expirydate=2024-07-31\" height=\"40\" width=\"110\"/><img class=\"hidden month lazy\" data-original=\"https://marketcharts.indiatimes.com/commoditySparkline?linecolor=000000&amp;width=110&amp;height=40&amp;symbol=GOLDPETAL&amp;noofdays=30&amp;type=FNO&amp;filtertype=EOD&amp;expirydate=2024-07-31\" height=\"40\" width=\"110\"/><img class=\"hidden year lazy\" data-original=\"https://marketcharts.indiatimes.com/commoditySparkline?linecolor=000000&amp;width=110&amp;height=40&amp;symbol=GOLDPETAL&amp;noofdays=365&amp;type=FNO&amp;filtertype=EOD&amp;expirydate=2024-07-31\" height=\"40\" width=\"110\"/></div></div><div class=\"tr flt border-bottom\"><div class=\"flt w150 text-cell text-cell-first comVal\"><a href=\"/commoditysummary/symbol-GOLDGUINEA.cms\">Gold Guinea</a></div><div class=\"flt w110 text-cell expVal\">31-Jul-2024</div><div class=\"flt w140 text-cell\" style=\"text-align: right\">55567.00/8 GRMS</div><div class=\"flt w180\"><div class=\"change_bar\"><span class=\"red_bar\"><span class=\"num\">-1.06</span><span class=\"fill\" style=\"width:5.300000000000001%\"></span></span><span class=\"splite\"></span><span class=\"green_bar\"><span class=\"fill\" style=\"\"></span><span class=\"num\"></span></span></div></div><div class=\"flt w100 text-cell\">-1.97</div><div class=\"flt w80 text-cell\">1.42</div><div class=\"flt w150 sparkline\"><img class=\"day lazy\" data-original=\"https://marketcharts.indiatimes.com/commoditySparkline?linecolor=000000&amp;width=110&amp;height=40&amp;symbol=GOLDGUINEA&amp;noofdays=1&amp;type=FNO&amp;filtertype=Intraday&amp;expirydate=2024-07-31\" height=\"40\" width=\"110\"/><img class=\"hidden month lazy\" data-original=\"https://marketcharts.indiatimes.com/commoditySparkline?linecolor=000000&amp;width=110&amp;height=40&amp;symbol=GOLDGUINEA&amp;noofdays=30&amp;type=FNO&amp;filtertype=EOD&amp;expirydate=2024-07-31\" height=\"40\" width=\"110\"/><img class=\"hidden year lazy\" data-original=\"https://marketcharts.indiatimes.com/commoditySparkline?linecolor=000000&amp;width=110&amp;height=40&amp;symbol=GOLDGUINEA&amp;noofdays=365&amp;type=FNO&amp;filtertype=EOD&amp;expirydate=2024-07-31\" height=\"40\" width=\"110\"/></div></div><div class=\"tr flt border-bottom\"><div class=\"flt w150 text-cell text-cell-first comVal\"><a href=\"/commoditysummary/symbol-GOLDM.cms\">Gold M</a></div><div class=\"flt w110 text-cell expVal\">05-Aug-2024</div><div class=\"flt w140 text-cell\" style=\"text-align: right\">68755.00/10 GRMS</div><div class=\"flt w180\"><div class=\"change_bar\"><span class=\"red_bar\"><span class=\"num\">-0.90</span><span class=\"fill\" style=\"width: 9.5%;\"></span></span><span class=\"splite\"></span><span class=\"green_bar\"><span class=\"fill\" style=\"\"></span><span class=\"num\"></span></span></div></div><div class=\"flt w100 text-cell\">0.85</div><div class=\"flt w80 text-cell\">-3.13</div><div class=\"flt w150 sparkline\"><img class=\"day lazy\" data-original=\"https://marketcharts.indiatimes.com/commoditySparkline?linecolor=000000&amp;width=110&amp;height=40&amp;symbol=GOLDM&amp;noofdays=1&amp;type=FNO&amp;filtertype=Intraday&amp;expirydate=2024-08-05\" height=\"40\" width=\"110\"/><img class=\"hidden month lazy\" data-original=\"https://marketcharts.indiatimes.com/commoditySparkline?linecolor=000000&amp;width=110&amp;height=40&amp;symbol=GOLDM&amp;noofdays=30&amp;type=FNO&amp;filtertype=EOD&amp;expirydate=2024-08-05\" height=\"40\" width=\"110\"/><img class=\"hidden year lazy\" data-original=\"https://marketcharts.indiatimes.com/commoditySparkline?linecolor=000000&amp;width=110&amp;height=40&amp;symbol=GOLDM&amp;noofdays=365&amp;type=FNO&amp;filtertype=EOD&amp;expirydate=2024-08-05\" height=\"40\" width=\"110\"/></div></div><div class=\"tr flt border-bottom\"><div class=\"flt w150 text-cell text-cell-first comVal\"><a href=\"/commoditysummary/symbol-GOLDGUINEA.cms\">Gold Guinea</a></div><div class=\"flt w110 text-cell expVal\">30-Aug-2024</div><div class=\"flt w140 text-cell\" style=\"text-align: right\">58007.00/8 GRMS</div><div class=\"flt w180\"><div class=\"change_bar\"><span class=\"red_bar\"><span class=\"num\"></span><span class=\"fill\" style=\"\"></span></span><span class=\"splite\"></span><span class=\"green_bar\"><span class=\"fill\" style=\"width: 6.6%;\"></span><span class=\"num\">0.32</span></span></div></div><div class=\"flt w100 text-cell\">1.11</div><div class=\"flt w80 text-cell\">-1.68</div><div class=\"flt w150 sparkline\"><img class=\"day lazy\" data-original=\"https://marketcharts.indiatimes.com/commoditySparkline?linecolor=000000&amp;width=110&amp;height=40&amp;symbol=GOLDGUINEA&amp;noofdays=1&amp;type=FNO&amp;filtertype=Intraday&amp;expirydate=2024-08-30\" height=\"40\" width=\"110\"/><img class=\"hidden month lazy\" data-original=\"https://marketcharts.indiatimes.com/commoditySparkline?linecolor=000000&amp;width=110&amp;height=40&amp;symbol=GOLDGUINEA&amp;noofdays=30&amp;type=FNO&amp;filtertype=EOD&amp;expirydate=2024-08-30\" height=\"40\" width=\"110\"/><img class=\"hidden year lazy\" data-original=\"https://marketcharts.indiatimes.com/commoditySparkline?linecolor=000000&amp;width=110&amp;height=40&amp;symbol=GOLDGUINEA&amp;noofdays=365&amp;type=FNO&amp;filtertype=EOD&amp;expirydate=2024-08-30\" height=\"40\" width=\"110\"/></div></div><div class=\"tr flt border-bottom hidden\"><div class=\"flt w150 text-cell text-cell-first comVal\"><a href=\"/commoditysummary/symbol-GOLDPETAL.cms\">Gold Petal</a></div><div class=\"flt w110 text-cell expVal\">30-Aug-2024</div><div class=\"flt w140 text-cell\" style=\"text-align: right\">7035.00/1 GRMS</div><div class=\"flt w180\"><div class=\"change_bar\"><span class=\"red_bar\"><span class=\"num\">-0.20</span><span class=\"fill\" style=\"width: 6%;\"></span></span><span class=\"splite\"></span><span class=\"green_bar\"><span class=\"fill\" style=\"\"></span><span class=\"num\"></span></span></div></div><div class=\"flt w100 text-cell\">0.99</div><div class=\"flt w80 text-cell\">-1.17</div><div class=\"flt w150 sparkline\"><img class=\"day lazy\" data-original=\"https://marketcharts.indiatimes.com/commoditySparkline?linecolor=000000&amp;width=110&amp;height=40&amp;symbol=GOLDPETAL&amp;noofdays=1&amp;type=FNO&amp;filtertype=Intraday&amp;expirydate=2024-08-30\" height=\"40\" width=\"110\"/><img class=\"hidden month lazy\" data-original=\"https://marketcharts.indiatimes.com/commoditySparkline?linecolor=000000&amp;width=110&amp;height=40&amp;symbol=GOLDPETAL&amp;noofdays=30&amp;type=FNO&amp;filtertype=EOD&amp;expirydate=2024-08-30\" height=\"40\" width=\"110\"/><img class=\"hidden year lazy\" data-original=\"https://marketcharts.indiatimes.com/commoditySparkline?linecolor=000000&amp;width=110&amp;height=40&amp;symbol=GOLDPETAL&amp;noofdays=365&amp;type=FNO&amp;filtertype=EOD&amp;expirydate=2024-08-30\" height=\"40\" width=\"110\"/></div></div><div class=\"tr flt border-bottom hidden\"><div class=\"flt w150 text-cell text-cell-first comVal\"><a href=\"/commoditysummary/symbol-SILVERMIC.cms\">Silver Micro</a></div><div class=\"flt w110 text-cell expVal\">30-Aug-2024</div><div class=\"flt w140 text-cell\" style=\"text-align: right\">83230.00/1 KGS</div><div class=\"flt w180\"><div class=\"change_bar\"><span class=\"red_bar\"><span class=\"num\">-2.00</span><span class=\"fill\" style=\"width:10%\"></span></span><span class=\"splite\"></span><span class=\"green_bar\"><span class=\"fill\" style=\"\"></span><span class=\"num\"></span></span></div></div><div class=\"flt w100 text-cell\">-0.40</div><div class=\"flt w80 text-cell\">9.98</div><div class=\"flt w150 sparkline\"><img class=\"day lazy\" data-original=\"https://marketcharts.indiatimes.com/commoditySparkline?linecolor=000000&amp;width=110&amp;height=40&amp;symbol=SILVERMIC&amp;noofdays=1&amp;type=FNO&amp;filtertype=Intraday&amp;expirydate=2024-08-30\" height=\"40\" width=\"110\"/><img class=\"hidden month lazy\" data-original=\"https://marketcharts.indiatimes.com/commoditySparkline?linecolor=000000&amp;width=110&amp;height=40&amp;symbol=SILVERMIC&amp;noofdays=30&amp;type=FNO&amp;filtertype=EOD&amp;expirydate=2024-08-30\" height=\"40\" width=\"110\"/><img class=\"hidden year lazy\" data-original=\"https://marketcharts.indiatimes.com/commoditySparkline?linecolor=000000&amp;width=110&amp;height=40&amp;symbol=SILVERMIC&amp;noofdays=365&amp;type=FNO&amp;filtertype=EOD&amp;expirydate=2024-08-30\" height=\"40\" width=\"110\"/></div></div><div class=\"tr flt border-bottom hidden\"><div class=\"flt w150 text-cell text-cell-first comVal\"><a href=\"/commoditysummary/symbol-SILVERM.cms\">Silver M</a></div><div class=\"flt w110 text-cell expVal\">30-Aug-2024</div><div class=\"flt w140 text-cell\" style=\"text-align: right\">87770.00/1 KGS</div><div class=\"flt w180\"><div class=\"change_bar\"><span class=\"red_bar\"><span class=\"num\"></span><span class=\"fill\" style=\"\"></span></span><span class=\"splite\"></span><span class=\"green_bar\"><span class=\"fill\" style=\"width:17%\"></span><span class=\"num\">3.40</span></span></div></div><div class=\"flt w100 text-cell\">5.06</div><div class=\"flt w80 text-cell\">16.13</div><div class=\"flt w150 sparkline\"><img class=\"day lazy\" data-original=\"https://marketcharts.indiatimes.com/commoditySparkline?linecolor=000000&amp;width=110&amp;height=40&amp;symbol=SILVERM&amp;noofdays=1&amp;type=FNO&amp;filtertype=Intraday&amp;expirydate=2024-08-30\" height=\"40\" width=\"110\"/><img class=\"hidden month lazy\" data-original=\"https://marketcharts.indiatimes.com/commoditySparkline?linecolor=000000&amp;width=110&amp;height=40&amp;symbol=SILVERM&amp;noofdays=30&amp;type=FNO&amp;filtertype=EOD&amp;expirydate=2024-08-30\" height=\"40\" width=\"110\"/><img class=\"hidden year lazy\" data-original=\"https://marketcharts.indiatimes.com/commoditySparkline?linecolor=000000&amp;width=110&amp;height=40&amp;symbol=SILVERM&amp;noofdays=365&amp;type=FNO&amp;filtertype=EOD&amp;expirydate=2024-08-30\" height=\"40\" width=\"110\"/></div></div><div class=\"tr flt border-bottom hidden\"><div class=\"flt w150 text-cell text-cell-first comVal\"><a href=\"/commoditysummary/symbol-SILVER.cms\">Silver</a></div><div class=\"flt w110 text-cell expVal\">05-Sep-2024</div><div class=\"flt w140 text-cell\" style=\"text-align: right\">82153.00/1 KGS</div><div class=\"flt w180\"><div class=\"change_bar\"><span class=\"red_bar\"><span class=\"num\">-0.37</span><span class=\"fill\" style=\"width: 6.85%;\"></span></span><span class=\"splite\"></span><span class=\"green_bar\"><span class=\"fill\" style=\"\"></span><span class=\"num\"></span></span></div></div><div class=\"flt w100 text-cell\">-4.10</div><div class=\"flt w80 text-cell\">11.15</div><div class=\"flt w150 sparkline\"><img class=\"day lazy\" data-original=\"https://marketcharts.indiatimes.com/commoditySparkline?linecolor=000000&amp;width=110&amp;height=40&amp;symbol=SILVER&amp;noofdays=1&amp;type=FNO&amp;filtertype=Intraday&amp;expirydate=2024-09-05\" height=\"40\" width=\"110\"/><img class=\"hidden month lazy\" data-original=\"https://marketcharts.indiatimes.com/commoditySparkline?linecolor=000000&amp;width=110&amp;height=40&amp;symbol=SILVER&amp;noofdays=30&amp;type=FNO&amp;filtertype=EOD&amp;expirydate=2024-09-05\" height=\"40\" width=\"110\"/><img class=\"hidden year lazy\" data-original=\"https://marketcharts.indiatimes.com/commoditySparkline?linecolor=000000&amp;width=110&amp;height=40&amp;symbol=SILVER&amp;noofdays=365&amp;type=FNO&amp;filtertype=EOD&amp;expirydate=2024-09-05\" height=\"40\" width=\"110\"/></div></div><div class=\"tr flt border-bottom hidden\"><div class=\"flt w150 text-cell text-cell-first comVal\"><a href=\"/commoditysummary/symbol-GOLDM.cms\">Gold M</a></div><div class=\"flt w110 text-cell expVal\">05-Sep-2024</div><div class=\"flt w140 text-cell\" style=\"text-align: right\">71188.00/10 GRMS</div><div class=\"flt w180\"><div class=\"change_bar\"><span class=\"red_bar\"><span class=\"num\">-0.06</span><span class=\"fill\" style=\"width: 5.3%;\"></span></span><span class=\"splite\"></span><span class=\"green_bar\"><span class=\"fill\" style=\"\"></span><span class=\"num\"></span></span></div></div><div class=\"flt w100 text-cell\">-0.44</div><div class=\"flt w80 text-cell\">-2.55</div><div class=\"flt w150 sparkline\"><img class=\"day lazy\" data-original=\"https://marketcharts.indiatimes.com/commoditySparkline?linecolor=000000&amp;width=110&amp;height=40&amp;symbol=GOLDM&amp;noofdays=1&amp;type=FNO&amp;filtertype=Intraday&amp;expirydate=2024-09-05\" height=\"40\" width=\"110\"/><img class=\"hidden month lazy\" data-original=\"https://marketcharts.indiatimes.com/commoditySparkline?linecolor=000000&amp;width=110&amp;height=40&amp;symbol=GOLDM&amp;noofdays=30&amp;type=FNO&amp;filtertype=EOD&amp;expirydate=2024-09-05\" height=\"40\" width=\"110\"/><img class=\"hidden year lazy\" data-original=\"https://marketcharts.indiatimes.com/commoditySparkline?linecolor=000000&amp;width=110&amp;height=40&amp;symbol=GOLDM&amp;noofdays=365&amp;type=FNO&amp;filtertype=EOD&amp;expirydate=2024-09-05\" height=\"40\" width=\"110\"/></div></div><div class=\"tr flt border-bottom hidden\"><div class=\"flt w150 text-cell text-cell-first comVal\"><a href=\"/commoditysummary/symbol-GOLDGUINEA.cms\">Gold Guinea</a></div><div class=\"flt w110 text-cell expVal\">30-Sep-2024</div><div class=\"flt w140 text-cell\" style=\"text-align: right\">57840.00/8 GRMS</div><div class=\"flt w180\"><div class=\"change_bar\"><span class=\"red_bar\"><span class=\"num\">-0.13</span><span class=\"fill\" style=\"width: 5.65%;\"></span></span><span class=\"splite\"></span><span class=\"green_bar\"><span class=\"fill\" style=\"\"></span><span class=\"num\"></span></span></div></div><div class=\"flt w100 text-cell\">-0.35</div><div class=\"flt w80 text-cell\">-3.56</div><div class=\"flt w150 sparkline\"><img class=\"day lazy\" data-original=\"https://marketcharts.indiatimes.com/commoditySparkline?linecolor=000000&amp;width=110&amp;height=40&amp;symbol=GOLDGUINEA&amp;noofdays=1&amp;type=FNO&amp;filtertype=Intraday&amp;expirydate=2024-09-30\" height=\"40\" width=\"110\"/><img class=\"hidden month lazy\" data-original=\"https://marketcharts.indiatimes.com/commoditySparkline?linecolor=000000&amp;width=110&amp;height=40&amp;symbol=GOLDGUINEA&amp;noofdays=30&amp;type=FNO&amp;filtertype=EOD&amp;expirydate=2024-09-30\" height=\"40\" width=\"110\"/><img class=\"hidden year lazy\" data-original=\"https://marketcharts.indiatimes.com/commoditySparkline?linecolor=000000&amp;width=110&amp;height=40&amp;symbol=GOLDGUINEA&amp;noofdays=365&amp;type=FNO&amp;filtertype=EOD&amp;expirydate=2024-09-30\" height=\"40\" width=\"110\"/></div></div><div class=\"tr flt border-bottom hidden\"><div class=\"flt w150 text-cell text-cell-first comVal\"><a href=\"/commoditysummary/symbol-GOLDPETAL.cms\">Gold Petal</a></div><div class=\"flt w110 text-cell expVal\">30-Sep-2024</div><div class=\"flt w140 text-cell\" style=\"text-align: right\">7039.00/1 GRMS</div><div class=\"flt w180\"><div class=\"change_bar\"><span class=\"red_bar\"><span class=\"num\">-0.09</span><span class=\"fill\" style=\"width: 5.45%;\"></span></span><span class=\"splite\"></span><span class=\"green_bar\"><span class=\"fill\" style=\"\"></span><span class=\"num\"></span></span></div></div><div class=\"flt w100 text-cell\">-0.41</div><div class=\"flt w80 text-cell\">-2.72</div><div class=\"flt w150 sparkline\"><img class=\"day lazy\" data-original=\"https://marketcharts.indiatimes.com/commoditySparkline?linecolor=000000&amp;width=110&amp;height=40&amp;symbol=GOLDPETAL&amp;noofdays=1&amp;type=FNO&amp;filtertype=Intraday&amp;expirydate=2024-09-30\" height=\"40\" width=\"110\"/><img class=\"hidden month lazy\" data-original=\"https://marketcharts.indiatimes.com/commoditySparkline?linecolor=000000&amp;width=110&amp;height=40&amp;symbol=GOLDPETAL&amp;noofdays=30&amp;type=FNO&amp;filtertype=EOD&amp;expirydate=2024-09-30\" height=\"40\" width=\"110\"/><img class=\"hidden year lazy\" data-original=\"https://marketcharts.indiatimes.com/commoditySparkline?linecolor=000000&amp;width=110&amp;height=40&amp;symbol=GOLDPETAL&amp;noofdays=365&amp;type=FNO&amp;filtertype=EOD&amp;expirydate=2024-09-30\" height=\"40\" width=\"110\"/></div></div><div class=\"tr flt border-bottom hidden\"><div class=\"flt w150 text-cell text-cell-first comVal\"><a href=\"/commoditysummary/symbol-GOLDM.cms\">Gold M</a></div><div class=\"flt w110 text-cell expVal\">04-Oct-2024</div><div class=\"flt w140 text-cell\" style=\"text-align: right\">71547.00/10 GRMS</div><div class=\"flt w180\"><div class=\"change_bar\"><span class=\"red_bar\"><span class=\"num\">-0.10</span><span class=\"fill\" style=\"width: 5.5%;\"></span></span><span class=\"splite\"></span><span class=\"green_bar\"><span class=\"fill\" style=\"\"></span><span class=\"num\"></span></span></div></div><div class=\"flt w100 text-cell\">-0.66</div><div class=\"flt w80 text-cell\">-2.01</div><div class=\"flt w150 sparkline\"><img class=\"day lazy\" data-original=\"https://marketcharts.indiatimes.com/commoditySparkline?linecolor=000000&amp;width=110&amp;height=40&amp;symbol=GOLDM&amp;noofdays=1&amp;type=FNO&amp;filtertype=Intraday&amp;expirydate=2024-10-04\" height=\"40\" width=\"110\"/><img class=\"hidden month lazy\" data-original=\"https://marketcharts.indiatimes.com/commoditySparkline?linecolor=000000&amp;width=110&amp;height=40&amp;symbol=GOLDM&amp;noofdays=30&amp;type=FNO&amp;filtertype=EOD&amp;expirydate=2024-10-04\" height=\"40\" width=\"110\"/><img class=\"hidden year lazy\" data-original=\"https://marketcharts.indiatimes.com/commoditySparkline?linecolor=000000&amp;width=110&amp;height=40&amp;symbol=GOLDM&amp;noofdays=365&amp;type=FNO&amp;filtertype=EOD&amp;expirydate=2024-10-04\" height=\"40\" width=\"110\"/></div></div><div class=\"tr flt border-bottom hidden\"><div class=\"flt w150 text-cell text-cell-first comVal\"><a href=\"/commoditysummary/symbol-GOLDGUINEA.cms\">Gold Guinea</a></div><div class=\"flt w110 text-cell expVal\">31-Oct-2024</div><div class=\"flt w140 text-cell\" style=\"text-align: right\">58103.00/8 GRMS</div><div class=\"flt w180\"><div class=\"change_bar\"><span class=\"red_bar\"><span class=\"num\">-0.20</span><span class=\"fill\" style=\"width: 6%;\"></span></span><span class=\"splite\"></span><span class=\"green_bar\"><span class=\"fill\" style=\"\"></span><span class=\"num\"></span></span></div></div><div class=\"flt w100 text-cell\">-0.45</div><div class=\"flt w80 text-cell\">-1.53</div><div class=\"flt w150 sparkline\"><img class=\"day lazy\" data-original=\"https://marketcharts.indiatimes.com/commoditySparkline?linecolor=000000&amp;width=110&amp;height=40&amp;symbol=GOLDGUINEA&amp;noofdays=1&amp;type=FNO&amp;filtertype=Intraday&amp;expirydate=2024-10-31\" height=\"40\" width=\"110\"/><img class=\"hidden month lazy\" data-original=\"https://marketcharts.indiatimes.com/commoditySparkline?linecolor=000000&amp;width=110&amp;height=40&amp;symbol=GOLDGUINEA&amp;noofdays=30&amp;type=FNO&amp;filtertype=EOD&amp;expirydate=2024-10-31\" height=\"40\" width=\"110\"/><img class=\"hidden year lazy\" data-original=\"https://marketcharts.indiatimes.com/commoditySparkline?linecolor=000000&amp;width=110&amp;height=40&amp;symbol=GOLDGUINEA&amp;noofdays=365&amp;type=FNO&amp;filtertype=EOD&amp;expirydate=2024-10-31\" height=\"40\" width=\"110\"/></div></div><div class=\"tr flt border-bottom hidden\"><div class=\"flt w150 text-cell text-cell-first comVal\"><a href=\"/commoditysummary/symbol-GOLDPETAL.cms\">Gold Petal</a></div><div class=\"flt w110 text-cell expVal\">31-Oct-2024</div><div class=\"flt w140 text-cell\" style=\"text-align: right\">7091.00/1 GRMS</div><div class=\"flt w180\"><div class=\"change_bar\"><span class=\"red_bar\"><span class=\"num\">-0.13</span><span class=\"fill\" style=\"width: 5.65%;\"></span></span><span class=\"splite\"></span><span class=\"green_bar\"><span class=\"fill\" style=\"\"></span><span class=\"num\"></span></span></div></div><div class=\"flt w100 text-cell\">-0.39</div><div class=\"flt w80 text-cell\">-2.29</div><div class=\"flt w150 sparkline\"><img class=\"day lazy\" data-original=\"https://marketcharts.indiatimes.com/commoditySparkline?linecolor=000000&amp;width=110&amp;height=40&amp;symbol=GOLDPETAL&amp;noofdays=1&amp;type=FNO&amp;filtertype=Intraday&amp;expirydate=2024-10-31\" height=\"40\" width=\"110\"/><img class=\"hidden month lazy\" data-original=\"https://marketcharts.indiatimes.com/commoditySparkline?linecolor=000000&amp;width=110&amp;height=40&amp;symbol=GOLDPETAL&amp;noofdays=30&amp;type=FNO&amp;filtertype=EOD&amp;expirydate=2024-10-31\" height=\"40\" width=\"110\"/><img class=\"hidden year lazy\" data-original=\"https://marketcharts.indiatimes.com/commoditySparkline?linecolor=000000&amp;width=110&amp;height=40&amp;symbol=GOLDPETAL&amp;noofdays=365&amp;type=FNO&amp;filtertype=EOD&amp;expirydate=2024-10-31\" height=\"40\" width=\"110\"/></div></div><div class=\"tr flt border-bottom hidden\"><div class=\"flt w150 text-cell text-cell-first comVal\"><a href=\"/commoditysummary/symbol-GOLDM.cms\">Gold M</a></div><div class=\"flt w110 text-cell expVal\">31-Oct-2024</div><div class=\"flt w140 text-cell\" style=\"text-align: right\">71786.00/10 GRMS</div><div class=\"flt w180\"><div class=\"change_bar\"><span class=\"red_bar\"><span class=\"num\">-0.09</span><span class=\"fill\" style=\"width: 5.45%;\"></span></span><span class=\"splite\"></span><span class=\"green_bar\"><span class=\"fill\" style=\"\"></span><span class=\"num\"></span></span></div></div><div class=\"flt w100 text-cell\">-0.79</div><div class=\"flt w80 text-cell\">3.05</div><div class=\"flt w150 sparkline\"><img class=\"day lazy\" data-original=\"https://marketcharts.indiatimes.com/commoditySparkline?linecolor=000000&amp;width=110&amp;height=40&amp;symbol=GOLDM&amp;noofdays=1&amp;type=FNO&amp;filtertype=Intraday&amp;expirydate=2024-10-31\" height=\"40\" width=\"110\"/><img class=\"hidden month lazy\" data-original=\"https://marketcharts.indiatimes.com/commoditySparkline?linecolor=000000&amp;width=110&amp;height=40&amp;symbol=GOLDM&amp;noofdays=30&amp;type=FNO&amp;filtertype=EOD&amp;expirydate=2024-10-31\" height=\"40\" width=\"110\"/><img class=\"hidden year lazy\" data-original=\"https://marketcharts.indiatimes.com/commoditySparkline?linecolor=000000&amp;width=110&amp;height=40&amp;symbol=GOLDM&amp;noofdays=365&amp;type=FNO&amp;filtertype=EOD&amp;expirydate=2024-10-31\" height=\"40\" width=\"110\"/></div></div><div class=\"tr flt border-bottom hidden\"><div class=\"flt w150 text-cell text-cell-first comVal\"><a href=\"/commoditysummary/symbol-GOLDGUINEA.cms\">Gold Guinea</a></div><div class=\"flt w110 text-cell expVal\">29-Nov-2024</div><div class=\"flt w140 text-cell\" style=\"text-align: right\">58550.00/8 GRMS</div><div class=\"flt w180\"><div class=\"change_bar\"><span class=\"red_bar\"><span class=\"num\"></span><span class=\"fill\" style=\"\"></span></span><span class=\"splite\"></span><span class=\"green_bar\"><span class=\"fill\" style=\"width: 5.35%;\"></span><span class=\"num\">0.07</span></span></div></div><div class=\"flt w100 text-cell\">-0.65</div><div class=\"flt w80 text-cell\">1.51</div><div class=\"flt w150 sparkline\"><img class=\"day lazy\" data-original=\"https://marketcharts.indiatimes.com/commoditySparkline?linecolor=000000&amp;width=110&amp;height=40&amp;symbol=GOLDGUINEA&amp;noofdays=1&amp;type=FNO&amp;filtertype=Intraday&amp;expirydate=2024-11-29\" height=\"40\" width=\"110\"/><img class=\"hidden month lazy\" data-original=\"https://marketcharts.indiatimes.com/commoditySparkline?linecolor=000000&amp;width=110&amp;height=40&amp;symbol=GOLDGUINEA&amp;noofdays=30&amp;type=FNO&amp;filtertype=EOD&amp;expirydate=2024-11-29\" height=\"40\" width=\"110\"/><img class=\"hidden year lazy\" data-original=\"https://marketcharts.indiatimes.com/commoditySparkline?linecolor=000000&amp;width=110&amp;height=40&amp;symbol=GOLDGUINEA&amp;noofdays=365&amp;type=FNO&amp;filtertype=EOD&amp;expirydate=2024-11-29\" height=\"40\" width=\"110\"/></div></div><div class=\"tr flt border-bottom hidden\"><div class=\"flt w150 text-cell text-cell-first comVal\"><a href=\"/commoditysummary/symbol-SILVERM.cms\">Silver M</a></div><div class=\"flt w110 text-cell expVal\">29-Nov-2024</div><div class=\"flt w140 text-cell\" style=\"text-align: right\">84263.00/1 KGS</div><div class=\"flt w180\"><div class=\"change_bar\"><span class=\"red_bar\"><span class=\"num\">-0.43</span><span class=\"fill\" style=\"width: 7.15%;\"></span></span><span class=\"splite\"></span><span class=\"green_bar\"><span class=\"fill\" style=\"\"></span><span class=\"num\"></span></span></div></div><div class=\"flt w100 text-cell\">-4.57</div><div class=\"flt w80 text-cell\">10.09</div><div class=\"flt w150 sparkline\"><img class=\"day lazy\" data-original=\"https://marketcharts.indiatimes.com/commoditySparkline?linecolor=000000&amp;width=110&amp;height=40&amp;symbol=SILVERM&amp;noofdays=1&amp;type=FNO&amp;filtertype=Intraday&amp;expirydate=2024-11-29\" height=\"40\" width=\"110\"/><img class=\"hidden month lazy\" data-original=\"https://marketcharts.indiatimes.com/commoditySparkline?linecolor=000000&amp;width=110&amp;height=40&amp;symbol=SILVERM&amp;noofdays=30&amp;type=FNO&amp;filtertype=EOD&amp;expirydate=2024-11-29\" height=\"40\" width=\"110\"/><img class=\"hidden year lazy\" data-original=\"https://marketcharts.indiatimes.com/commoditySparkline?linecolor=000000&amp;width=110&amp;height=40&amp;symbol=SILVERM&amp;noofdays=365&amp;type=FNO&amp;filtertype=EOD&amp;expirydate=2024-11-29\" height=\"40\" width=\"110\"/></div></div><div class=\"tr flt border-bottom hidden\"><div class=\"flt w150 text-cell text-cell-first comVal\"><a href=\"/commoditysummary/symbol-SILVERMIC.cms\">Silver Micro</a></div><div class=\"flt w110 text-cell expVal\">29-Nov-2024</div><div class=\"flt w140 text-cell\" style=\"text-align: right\">84270.00/1 KGS</div><div class=\"flt w180\"><div class=\"change_bar\"><span class=\"red_bar\"><span class=\"num\">-0.43</span><span class=\"fill\" style=\"width: 7.15%;\"></span></span><span class=\"splite\"></span><span class=\"green_bar\"><span class=\"fill\" style=\"\"></span><span class=\"num\"></span></span></div></div><div class=\"flt w100 text-cell\">-4.53</div><div class=\"flt w80 text-cell\">10.90</div><div class=\"flt w150 sparkline\"><img class=\"day lazy\" data-original=\"https://marketcharts.indiatimes.com/commoditySparkline?linecolor=000000&amp;width=110&amp;height=40&amp;symbol=SILVERMIC&amp;noofdays=1&amp;type=FNO&amp;filtertype=Intraday&amp;expirydate=2024-11-29\" height=\"40\" width=\"110\"/><img class=\"hidden month lazy\" data-original=\"https://marketcharts.indiatimes.com/commoditySparkline?linecolor=000000&amp;width=110&amp;height=40&amp;symbol=SILVERMIC&amp;noofdays=30&amp;type=FNO&amp;filtertype=EOD&amp;expirydate=2024-11-29\" height=\"40\" width=\"110\"/><img class=\"hidden year lazy\" data-original=\"https://marketcharts.indiatimes.com/commoditySparkline?linecolor=000000&amp;width=110&amp;height=40&amp;symbol=SILVERMIC&amp;noofdays=365&amp;type=FNO&amp;filtertype=EOD&amp;expirydate=2024-11-29\" height=\"40\" width=\"110\"/></div></div><div class=\"tr flt border-bottom hidden\"><div class=\"flt w150 text-cell text-cell-first comVal\"><a href=\"/commoditysummary/symbol-GOLDPETAL.cms\">Gold Petal</a></div><div class=\"flt w110 text-cell expVal\">29-Nov-2024</div><div class=\"flt w140 text-cell\" style=\"text-align: right\">7156.00/1 GRMS</div><div class=\"flt w180\"><div class=\"change_bar\"><span class=\"red_bar\"><span class=\"num\">-0.08</span><span class=\"fill\" style=\"width: 5.4%;\"></span></span><span class=\"splite\"></span><span class=\"green_bar\"><span class=\"fill\" style=\"\"></span><span class=\"num\"></span></span></div></div><div class=\"flt w100 text-cell\">-0.42</div><div class=\"flt w80 text-cell\">1.22</div><div class=\"flt w150 sparkline\"><img class=\"day lazy\" data-original=\"https://marketcharts.indiatimes.com/commoditySparkline?linecolor=000000&amp;width=110&amp;height=40&amp;symbol=GOLDPETAL&amp;noofdays=1&amp;type=FNO&amp;filtertype=Intraday&amp;expirydate=2024-11-29\" height=\"40\" width=\"110\"/><img class=\"hidden month lazy\" data-original=\"https://marketcharts.indiatimes.com/commoditySparkline?linecolor=000000&amp;width=110&amp;height=40&amp;symbol=GOLDPETAL&amp;noofdays=30&amp;type=FNO&amp;filtertype=EOD&amp;expirydate=2024-11-29\" height=\"40\" width=\"110\"/><img class=\"hidden year lazy\" data-original=\"https://marketcharts.indiatimes.com/commoditySparkline?linecolor=000000&amp;width=110&amp;height=40&amp;symbol=GOLDPETAL&amp;noofdays=365&amp;type=FNO&amp;filtertype=EOD&amp;expirydate=2024-11-29\" height=\"40\" width=\"110\"/></div></div><div class=\"tr flt border-bottom hidden\"><div class=\"flt w150 text-cell text-cell-first comVal\"><a href=\"/commoditysummary/symbol-SILVER.cms\">Silver</a></div><div class=\"flt w110 text-cell expVal\">05-Dec-2024</div><div class=\"flt w140 text-cell\" style=\"text-align: right\">84200.00/1 KGS</div><div class=\"flt w180\"><div class=\"change_bar\"><span class=\"red_bar\"><span class=\"num\">-0.42</span><span class=\"fill\" style=\"width: 7.1%;\"></span></span><span class=\"splite\"></span><span class=\"green_bar\"><span class=\"fill\" style=\"\"></span><span class=\"num\"></span></span></div></div><div class=\"flt w100 text-cell\">-4.64</div><div class=\"flt w80 text-cell\">-0.77</div><div class=\"flt w150 sparkline\"><img class=\"day lazy\" data-original=\"https://marketcharts.indiatimes.com/commoditySparkline?linecolor=000000&amp;width=110&amp;height=40&amp;symbol=SILVER&amp;noofdays=1&amp;type=FNO&amp;filtertype=Intraday&amp;expirydate=2024-12-05\" height=\"40\" width=\"110\"/><img class=\"hidden month lazy\" data-original=\"https://marketcharts.indiatimes.com/commoditySparkline?linecolor=000000&amp;width=110&amp;height=40&amp;symbol=SILVER&amp;noofdays=30&amp;type=FNO&amp;filtertype=EOD&amp;expirydate=2024-12-05\" height=\"40\" width=\"110\"/><img class=\"hidden year lazy\" data-original=\"https://marketcharts.indiatimes.com/commoditySparkline?linecolor=000000&amp;width=110&amp;height=40&amp;symbol=SILVER&amp;noofdays=365&amp;type=FNO&amp;filtertype=EOD&amp;expirydate=2024-12-05\" height=\"40\" width=\"110\"/></div></div><div class=\"tr flt border-bottom hidden\"><div class=\"flt w150 text-cell text-cell-first comVal\"><a href=\"/commoditysummary/symbol-GOLDPETAL.cms\">Gold Petal</a></div><div class=\"flt w110 text-cell expVal\">31-Dec-2024</div><div class=\"flt w140 text-cell\" style=\"text-align: right\">7200.00/1 GRMS</div><div class=\"flt w180\"><div class=\"change_bar\"><span class=\"red_bar\"><span class=\"num\">-1.09</span><span class=\"fill\" style=\"width:5.45%\"></span></span><span class=\"splite\"></span><span class=\"green_bar\"><span class=\"fill\" style=\"\"></span><span class=\"num\"></span></span></div></div><div class=\"flt w100 text-cell\">0.00</div><div class=\"flt w80 text-cell\">0.00</div><div class=\"flt w150 sparkline\"><img class=\"day lazy\" data-original=\"https://marketcharts.indiatimes.com/commoditySparkline?linecolor=000000&amp;width=110&amp;height=40&amp;symbol=GOLDPETAL&amp;noofdays=1&amp;type=FNO&amp;filtertype=Intraday&amp;expirydate=2024-12-31\" height=\"40\" width=\"110\"/><img class=\"hidden month lazy\" data-original=\"https://marketcharts.indiatimes.com/commoditySparkline?linecolor=000000&amp;width=110&amp;height=40&amp;symbol=GOLDPETAL&amp;noofdays=30&amp;type=FNO&amp;filtertype=EOD&amp;expirydate=2024-12-31\" height=\"40\" width=\"110\"/><img class=\"hidden year lazy\" data-original=\"https://marketcharts.indiatimes.com/commoditySparkline?linecolor=000000&amp;width=110&amp;height=40&amp;symbol=GOLDPETAL&amp;noofdays=365&amp;type=FNO&amp;filtertype=EOD&amp;expirydate=2024-12-31\" height=\"40\" width=\"110\"/></div></div><div class=\"tr flt border-bottom hidden\"><div class=\"flt w150 text-cell text-cell-first comVal\"><a href=\"/commoditysummary/symbol-GOLDGUINEA.cms\">Gold Guinea</a></div><div class=\"flt w110 text-cell expVal\">31-Dec-2024</div><div class=\"flt w140 text-cell\" style=\"text-align: right\">59151.00/8 GRMS</div><div class=\"flt w180\"><div class=\"change_bar\"><span class=\"red_bar\"><span class=\"num\"></span><span class=\"fill\" style=\"\"></span></span><span class=\"splite\"></span><span class=\"green_bar\"><span class=\"fill\" style=\"\"></span><span class=\"num\"></span></span></div></div><div class=\"flt w100 text-cell\">0.00</div><div class=\"flt w80 text-cell\">0.00</div><div class=\"flt w150 sparkline\"><img class=\"day lazy\" data-original=\"https://marketcharts.indiatimes.com/commoditySparkline?linecolor=000000&amp;width=110&amp;height=40&amp;symbol=GOLDGUINEA&amp;noofdays=1&amp;type=FNO&amp;filtertype=Intraday&amp;expirydate=2024-12-31\" height=\"40\" width=\"110\"/><img class=\"hidden month lazy\" data-original=\"https://marketcharts.indiatimes.com/commoditySparkline?linecolor=000000&amp;width=110&amp;height=40&amp;symbol=GOLDGUINEA&amp;noofdays=30&amp;type=FNO&amp;filtertype=EOD&amp;expirydate=2024-12-31\" height=\"40\" width=\"110\"/><img class=\"hidden year lazy\" data-original=\"https://marketcharts.indiatimes.com/commoditySparkline?linecolor=000000&amp;width=110&amp;height=40&amp;symbol=GOLDGUINEA&amp;noofdays=365&amp;type=FNO&amp;filtertype=EOD&amp;expirydate=2024-12-31\" height=\"40\" width=\"110\"/></div></div><div class=\"tr flt border-bottom hidden\"><div class=\"flt w150 text-cell text-cell-first comVal\"><a href=\"/commoditysummary/symbol-SILVERMIC.cms\">Silver Micro</a></div><div class=\"flt w110 text-cell expVal\">28-Feb-2025</div><div class=\"flt w140 text-cell\" style=\"text-align: right\">86870.00/1 KGS</div><div class=\"flt w180\"><div class=\"change_bar\"><span class=\"red_bar\"><span class=\"num\">-0.42</span><span class=\"fill\" style=\"width: 7.1%;\"></span></span><span class=\"splite\"></span><span class=\"green_bar\"><span class=\"fill\" style=\"\"></span><span class=\"num\"></span></span></div></div><div class=\"flt w100 text-cell\">-4.39</div><div class=\"flt w80 text-cell\">-9.32</div><div class=\"flt w150 sparkline\"><img class=\"day lazy\" data-original=\"https://marketcharts.indiatimes.com/commoditySparkline?linecolor=000000&amp;width=110&amp;height=40&amp;symbol=SILVERMIC&amp;noofdays=1&amp;type=FNO&amp;filtertype=Intraday&amp;expirydate=2025-02-28\" height=\"40\" width=\"110\"/><img class=\"hidden month lazy\" data-original=\"https://marketcharts.indiatimes.com/commoditySparkline?linecolor=000000&amp;width=110&amp;height=40&amp;symbol=SILVERMIC&amp;noofdays=30&amp;type=FNO&amp;filtertype=EOD&amp;expirydate=2025-02-28\" height=\"40\" width=\"110\"/><img class=\"hidden year lazy\" data-original=\"https://marketcharts.indiatimes.com/commoditySparkline?linecolor=000000&amp;width=110&amp;height=40&amp;symbol=SILVERMIC&amp;noofdays=365&amp;type=FNO&amp;filtertype=EOD&amp;expirydate=2025-02-28\" height=\"40\" width=\"110\"/></div></div><div class=\"tr flt border-bottom hidden\"><div class=\"flt w150 text-cell text-cell-first comVal\"><a href=\"/commoditysummary/symbol-SILVERM.cms\">Silver M</a></div><div class=\"flt w110 text-cell expVal\">28-Feb-2025</div><div class=\"flt w140 text-cell\" style=\"text-align: right\">86949.00/1 KGS</div><div class=\"flt w180\"><div class=\"change_bar\"><span class=\"red_bar\"><span class=\"num\">-0.28</span><span class=\"fill\" style=\"width: 6.4%;\"></span></span><span class=\"splite\"></span><span class=\"green_bar\"><span class=\"fill\" style=\"\"></span><span class=\"num\"></span></span></div></div><div class=\"flt w100 text-cell\">-4.32</div><div class=\"flt w80 text-cell\">-1.29</div><div class=\"flt w150 sparkline\"><img class=\"day lazy\" data-original=\"https://marketcharts.indiatimes.com/commoditySparkline?linecolor=000000&amp;width=110&amp;height=40&amp;symbol=SILVERM&amp;noofdays=1&amp;type=FNO&amp;filtertype=Intraday&amp;expirydate=2025-02-28\" height=\"40\" width=\"110\"/><img class=\"hidden month lazy\" data-original=\"https://marketcharts.indiatimes.com/commoditySparkline?linecolor=000000&amp;width=110&amp;height=40&amp;symbol=SILVERM&amp;noofdays=30&amp;type=FNO&amp;filtertype=EOD&amp;expirydate=2025-02-28\" height=\"40\" width=\"110\"/><img class=\"hidden year lazy\" data-original=\"https://marketcharts.indiatimes.com/commoditySparkline?linecolor=000000&amp;width=110&amp;height=40&amp;symbol=SILVERM&amp;noofdays=365&amp;type=FNO&amp;filtertype=EOD&amp;expirydate=2025-02-28\" height=\"40\" width=\"110\"/></div></div><div class=\"tr flt border-bottom hidden\"><div class=\"flt w150 text-cell text-cell-first comVal\"><a href=\"/commoditysummary/symbol-SILVER.cms\">Silver</a></div><div class=\"flt w110 text-cell expVal\">05-Mar-2025</div><div class=\"flt w140 text-cell\" style=\"text-align: right\">86750.00/1 KGS</div><div class=\"flt w180\"><div class=\"change_bar\"><span class=\"red_bar\"><span class=\"num\">-0.38</span><span class=\"fill\" style=\"width: 6.9%;\"></span></span><span class=\"splite\"></span><span class=\"green_bar\"><span class=\"fill\" style=\"\"></span><span class=\"num\"></span></span></div></div><div class=\"flt w100 text-cell\">-4.34</div><div class=\"flt w80 text-cell\">-11.48</div><div class=\"flt w150 sparkline\"><img class=\"day lazy\" data-original=\"https://marketcharts.indiatimes.com/commoditySparkline?linecolor=000000&amp;width=110&amp;height=40&amp;symbol=SILVER&amp;noofdays=1&amp;type=FNO&amp;filtertype=Intraday&amp;expirydate=2025-03-05\" height=\"40\" width=\"110\"/><img class=\"hidden month lazy\" data-original=\"https://marketcharts.indiatimes.com/commoditySparkline?linecolor=000000&amp;width=110&amp;height=40&amp;symbol=SILVER&amp;noofdays=30&amp;type=FNO&amp;filtertype=EOD&amp;expirydate=2025-03-05\" height=\"40\" width=\"110\"/><img class=\"hidden year lazy\" data-original=\"https://marketcharts.indiatimes.com/commoditySparkline?linecolor=000000&amp;width=110&amp;height=40&amp;symbol=SILVER&amp;noofdays=365&amp;type=FNO&amp;filtertype=EOD&amp;expirydate=2025-03-05\" height=\"40\" width=\"110\"/></div></div><div class=\"tr flt border-bottom hidden\"><div class=\"flt w150 text-cell text-cell-first comVal\"><a href=\"/commoditysummary/symbol-SILVERMIC.cms\">Silver Micro</a></div><div class=\"flt w110 text-cell expVal\">30-Apr-2025</div><div class=\"flt w140 text-cell\" style=\"text-align: right\">88643.00/1 KGS</div><div class=\"flt w180\"><div class=\"change_bar\"><span class=\"red_bar\"><span class=\"num\">-0.34</span><span class=\"fill\" style=\"width: 6.7%;\"></span></span><span class=\"splite\"></span><span class=\"green_bar\"><span class=\"fill\" style=\"\"></span><span class=\"num\"></span></span></div></div><div class=\"flt w100 text-cell\">-4.20</div><div class=\"flt w80 text-cell\">-3.51</div><div class=\"flt w150 sparkline\"><img class=\"day lazy\" data-original=\"https://marketcharts.indiatimes.com/commoditySparkline?linecolor=000000&amp;width=110&amp;height=40&amp;symbol=SILVERMIC&amp;noofdays=1&amp;type=FNO&amp;filtertype=Intraday&amp;expirydate=2025-04-30\" height=\"40\" width=\"110\"/><img class=\"hidden month lazy\" data-original=\"https://marketcharts.indiatimes.com/commoditySparkline?linecolor=000000&amp;width=110&amp;height=40&amp;symbol=SILVERMIC&amp;noofdays=30&amp;type=FNO&amp;filtertype=EOD&amp;expirydate=2025-04-30\" height=\"40\" width=\"110\"/><img class=\"hidden year lazy\" data-original=\"https://marketcharts.indiatimes.com/commoditySparkline?linecolor=000000&amp;width=110&amp;height=40&amp;symbol=SILVERMIC&amp;noofdays=365&amp;type=FNO&amp;filtertype=EOD&amp;expirydate=2025-04-30\" height=\"40\" width=\"110\"/></div></div><div class=\"tr flt border-bottom hidden\"><div class=\"flt w150 text-cell text-cell-first comVal\"><a href=\"/commoditysummary/symbol-SILVERM.cms\">Silver M</a></div><div class=\"flt w110 text-cell expVal\">30-Apr-2025</div><div class=\"flt w140 text-cell\" style=\"text-align: right\">88752.00/1 KGS</div><div class=\"flt w180\"><div class=\"change_bar\"><span class=\"red_bar\"><span class=\"num\">-0.17</span><span class=\"fill\" style=\"width: 5.85%;\"></span></span><span class=\"splite\"></span><span class=\"green_bar\"><span class=\"fill\" style=\"\"></span><span class=\"num\"></span></span></div></div><div class=\"flt w100 text-cell\">-4.12</div><div class=\"flt w80 text-cell\">-10.97</div><div class=\"flt w150 sparkline\"><img class=\"day lazy\" data-original=\"https://marketcharts.indiatimes.com/commoditySparkline?linecolor=000000&amp;width=110&amp;height=40&amp;symbol=SILVERM&amp;noofdays=1&amp;type=FNO&amp;filtertype=Intraday&amp;expirydate=2025-04-30\" height=\"40\" width=\"110\"/><img class=\"hidden month lazy\" data-original=\"https://marketcharts.indiatimes.com/commoditySparkline?linecolor=000000&amp;width=110&amp;height=40&amp;symbol=SILVERM&amp;noofdays=30&amp;type=FNO&amp;filtertype=EOD&amp;expirydate=2025-04-30\" height=\"40\" width=\"110\"/><img class=\"hidden year lazy\" data-original=\"https://marketcharts.indiatimes.com/commoditySparkline?linecolor=000000&amp;width=110&amp;height=40&amp;symbol=SILVERM&amp;noofdays=365&amp;type=FNO&amp;filtertype=EOD&amp;expirydate=2025-04-30\" height=\"40\" width=\"110\"/></div></div><div class=\"tr flt border-bottom hidden\"><div class=\"flt w150 text-cell text-cell-first comVal\"><a href=\"/commoditysummary/symbol-SILVER.cms\">Silver</a></div><div class=\"flt w110 text-cell expVal\">05-May-2025</div><div class=\"flt w140 text-cell\" style=\"text-align: right\">88707.00/1 KGS</div><div class=\"flt w180\"><div class=\"change_bar\"><span class=\"red_bar\"><span class=\"num\"></span><span class=\"fill\" style=\"\"></span></span><span class=\"splite\"></span><span class=\"green_bar\"><span class=\"fill\" style=\"\"></span><span class=\"num\"></span></span></div></div><div class=\"flt w100 text-cell\">-4.29</div><div class=\"flt w80 text-cell\">-4.41</div><div class=\"flt w150 sparkline\"><img class=\"day lazy\" data-original=\"https://marketcharts.indiatimes.com/commoditySparkline?linecolor=000000&amp;width=110&amp;height=40&amp;symbol=SILVER&amp;noofdays=1&amp;type=FNO&amp;filtertype=Intraday&amp;expirydate=2025-05-05\" height=\"40\" width=\"110\"/><img class=\"hidden month lazy\" data-original=\"https://marketcharts.indiatimes.com/commoditySparkline?linecolor=000000&amp;width=110&amp;height=40&amp;symbol=SILVER&amp;noofdays=30&amp;type=FNO&amp;filtertype=EOD&amp;expirydate=2025-05-05\" height=\"40\" width=\"110\"/><img class=\"hidden year lazy\" data-original=\"https://marketcharts.indiatimes.com/commoditySparkline?linecolor=000000&amp;width=110&amp;height=40&amp;symbol=SILVER&amp;noofdays=365&amp;type=FNO&amp;filtertype=EOD&amp;expirydate=2025-05-05\" height=\"40\" width=\"110\"/></div></div><div class=\"tr flt border-bottom hidden\"><div class=\"flt w150 text-cell text-cell-first comVal\"><a href=\"/commoditysummary/symbol-SILVERM.cms\">Silver M</a></div><div class=\"flt w110 text-cell expVal\">30-Jun-2025</div><div class=\"flt w140 text-cell\" style=\"text-align: right\">90478.00/1 KGS</div><div class=\"flt w180\"><div class=\"change_bar\"><span class=\"red_bar\"><span class=\"num\"></span><span class=\"fill\" style=\"\"></span></span><span class=\"splite\"></span><span class=\"green_bar\"><span class=\"fill\" style=\"\"></span><span class=\"num\"></span></span></div></div><div class=\"flt w100 text-cell\">-3.39</div><div class=\"flt w80 text-cell\">-1.85</div><div class=\"flt w150 sparkline\"><img class=\"day lazy\" data-original=\"https://marketcharts.indiatimes.com/commoditySparkline?linecolor=000000&amp;width=110&amp;height=40&amp;symbol=SILVERM&amp;noofdays=1&amp;type=FNO&amp;filtertype=Intraday&amp;expirydate=2025-06-30\" height=\"40\" width=\"110\"/><img class=\"hidden month lazy\" data-original=\"https://marketcharts.indiatimes.com/commoditySparkline?linecolor=000000&amp;width=110&amp;height=40&amp;symbol=SILVERM&amp;noofdays=30&amp;type=FNO&amp;filtertype=EOD&amp;expirydate=2025-06-30\" height=\"40\" width=\"110\"/><img class=\"hidden year lazy\" data-original=\"https://marketcharts.indiatimes.com/commoditySparkline?linecolor=000000&amp;width=110&amp;height=40&amp;symbol=SILVERM&amp;noofdays=365&amp;type=FNO&amp;filtertype=EOD&amp;expirydate=2025-06-30\" height=\"40\" width=\"110\"/></div></div><div class=\"tr flt border-bottom hidden\"><div class=\"flt w150 text-cell text-cell-first comVal\"><a href=\"/commoditysummary/symbol-SILVER.cms\">Silver</a></div><div class=\"flt w110 text-cell expVal\">04-Jul-2025</div><div class=\"flt w140 text-cell\" style=\"text-align: right\">89319.00/1 KGS</div><div class=\"flt w180\"><div class=\"change_bar\"><span class=\"red_bar\"><span class=\"num\"></span><span class=\"fill\" style=\"\"></span></span><span class=\"splite\"></span><span class=\"green_bar\"><span class=\"fill\" style=\"width:12.4%\"></span><span class=\"num\">2.48</span></span></div></div><div class=\"flt w100 text-cell\">2.48</div><div class=\"flt w80 text-cell\">0.00</div><div class=\"flt w150 sparkline\"><img class=\"day lazy\" data-original=\"https://marketcharts.indiatimes.com/commoditySparkline?linecolor=000000&amp;width=110&amp;height=40&amp;symbol=SILVER&amp;noofdays=1&amp;type=FNO&amp;filtertype=Intraday&amp;expirydate=2025-07-04\" height=\"40\" width=\"110\"/><img class=\"hidden month lazy\" data-original=\"https://marketcharts.indiatimes.com/commoditySparkline?linecolor=000000&amp;width=110&amp;height=40&amp;symbol=SILVER&amp;noofdays=30&amp;type=FNO&amp;filtertype=EOD&amp;expirydate=2025-07-04\" height=\"40\" width=\"110\"/><img class=\"hidden year lazy\" data-original=\"https://marketcharts.indiatimes.com/commoditySparkline?linecolor=000000&amp;width=110&amp;height=40&amp;symbol=SILVER&amp;noofdays=365&amp;type=FNO&amp;filtertype=EOD&amp;expirydate=2025-07-04\" height=\"40\" width=\"110\"/></div></div><div class=\"tfoot\"><div class=\"flr footer-row\"><a class=\"actions hidden\" href=\"javascript:\" id=\"showMoreOther\">Show More</a><a class=\"actions hidden\" href=\"javascript:\" id=\"showLessOther\">Show Less</a></div></div></div><div></div></div></div></div><!--/commodity_other.cms?symbol=GOLD&exchange=MCX&symbol_title=GOLDpotime:85--></div><div class=\"row\"><div class=\"MCX\" id=\"peerRange\"><div class=\"col-5\"><div class=\"panel peer-range peer-range-intraday\"><h2 class=\"panel-heading\">GOLD vs Peers (Intraday Range)</h2><div class=\"panel-body\"><p class=\"range-legend\"><span class=\"flt\">Lowest</span><span class=\"flr\">Highest</span></p><p class=\"range-price\"><span class=\"flt LoserPercentChange\">-1.09</span><span class=\"flr GainerPercentChange\">0.07</span></p><div class=\"range-bar\"><div class=\"fill\"></div><div class=\"slider\"><span>..</span><span>..</span><span>..</span></div></div><p class=\"range-price\"><span class=\"currChange IntraDayPercentChange\">-0.07</span></p></div></div></div><div class=\"col-5\"><div class=\"panel peer-range peer-range-contract\"><h2 class=\"panel-heading\">GOLD vs Peers (Contract Range)</h2><div class=\"panel-body\"><p class=\"range-legend\"><span class=\"flt\">Lowest</span><span class=\"flr\">Highest</span></p><p class=\"range-price\"><span class=\"flt LoserContractPercentChange\">-11.48</span><span class=\"flr GainerContractPercentChange\">11.15</span></p><div class=\"range-bar\"><div class=\"fill\"></div><div class=\"slider\"><span>..</span><span>..</span><span>..</span></div></div><p class=\"range-price\"><span class=\"currChange ContractPercentChange\">-0.81</span></p></div></div></div></div><div></div><!--/commodity_peerrange.cms?symbol=GOLD&exchange=MCX&expiry=&symbol_title=GOLDpotime:55--></div><div class=\"row\"><div class=\"col-10 commodityExpiry panel-table\" id=\"commodityOtherContracts\"><h2 class=\"panel-heading\">GOLD (05-Dec-2024) <span class=\"vs\">vs </span>GOLD Other Contracts</h2><div class=\"table text-center\"><div class=\"thead flt border-bottom\"><div class=\"flt w100\" style=\"text-align: left\">Expiry</div><div class=\"flt w140\">Price / Unit</div><div class=\"flt w140\" style=\"text-indent: 15px;\">Day% Chg</div><div class=\"flt w90\">Week%\n",
       "              </div><div class=\"flt w80\">Contract%\n",
       "              </div><div class=\"flt w110\">Day L/H</div><div class=\"flt w110\">Contract L/H</div><div class=\"flt w80\">Volume</div><div class=\"flt w70\">Prem/Disc</div></div><div class=\"tbody clearfix\"><div class=\"MCX\"><div class=\"tr flt border-bottom\"><div class=\"flt w90 text-cell\" style=\"text-align: left\">05-Dec-2024</div><div class=\"flt w150 text-cell\">71960.00/10 GRMS</div><div class=\"flt w140\"><div class=\"change_bar\"><span class=\"red_bar\"><span class=\"num\">-0.15</span><span class=\"fill\" style=\"width: 5.75%;\"></span></span><span class=\"splite\"></span><span class=\"green_bar\"><span class=\"fill\" style=\"\"></span><span class=\"num\"></span></span></div></div><div class=\"flt w80 text-cell\"><span class=\"rel red_line\">-0.73</span></div><div class=\"flt w80 text-cell\"><span class=\"rel red_line\">-1.01</span></div><div class=\"flt w110\"><img class=\"day lazy\" data-original=\"https://marketcharts.indiatimes.com/commoditySparkline?linecolor=000000&amp;width=110&amp;height=40&amp;symbol=GOLD&amp;noofdays=1&amp;type=FNO&amp;filtertype=Intraday&amp;expirydate=05DEC2024\" height=\"40\" width=\"110\"/></div><div class=\"flt w110\"><img class=\"contract lazy\" data-original=\"https://marketcharts.indiatimes.com/commoditySparkline?linecolor=000000&amp;width=110&amp;height=40&amp;symbol=GOLD&amp;noofdays=30&amp;type=FNO&amp;filtertype=EOD&amp;expirydate=05DEC2024\" height=\"40\" width=\"110\"/></div><div class=\"flt w80 text-cell\">66</div><div class=\"flt w70 text-cell\">701.00</div></div><div class=\"tr flt border-bottom\"><div class=\"flt w90 text-cell\" style=\"text-align: left\">05-Feb-2025</div><div class=\"flt w150 text-cell\">72541.00/10 GRMS</div><div class=\"flt w140\"><div class=\"change_bar\"><span class=\"red_bar\"><span class=\"num\">-0.32</span><span class=\"fill\" style=\"width: 6.6%;\"></span></span><span class=\"splite\"></span><span class=\"green_bar\"><span class=\"fill\" style=\"\"></span><span class=\"num\"></span></span></div></div><div class=\"flt w80 text-cell\"><span class=\"rel red_line\">-0.58</span></div><div class=\"flt w80 text-cell\"><span class=\"rel red_line\">-2.16</span></div><div class=\"flt w110\"><img class=\"day lazy\" data-original=\"https://marketcharts.indiatimes.com/commoditySparkline?linecolor=000000&amp;width=110&amp;height=40&amp;symbol=GOLD&amp;noofdays=1&amp;type=FNO&amp;filtertype=Intraday&amp;expirydate=05FEB2025\" height=\"40\" width=\"110\"/></div><div class=\"flt w110\"><img class=\"contract lazy\" data-original=\"https://marketcharts.indiatimes.com/commoditySparkline?linecolor=000000&amp;width=110&amp;height=40&amp;symbol=GOLD&amp;noofdays=30&amp;type=FNO&amp;filtertype=EOD&amp;expirydate=05FEB2025\" height=\"40\" width=\"110\"/></div><div class=\"flt w80 text-cell\">0</div><div class=\"flt w70 text-cell\">1282.00</div></div><div class=\"tr flt border-bottom\"><div class=\"flt w90 text-cell\" style=\"text-align: left\">04-Apr-2025</div><div class=\"flt w150 text-cell\">72980.00/10 GRMS</div><div class=\"flt w140\"><div class=\"change_bar\"><span class=\"red_bar\"><span class=\"num\">-0.01</span><span class=\"fill\" style=\"width: 5.05%;\"></span></span><span class=\"splite\"></span><span class=\"green_bar\"><span class=\"fill\" style=\"\"></span><span class=\"num\"></span></span></div></div><div class=\"flt w80 text-cell\"><span class=\"rel red_line\">-0.07</span></div><div class=\"flt w80 text-cell\"><span class=\"rel red_line\">-0.12</span></div><div class=\"flt w110\"><img class=\"day lazy\" data-original=\"https://marketcharts.indiatimes.com/commoditySparkline?linecolor=000000&amp;width=110&amp;height=40&amp;symbol=GOLD&amp;noofdays=1&amp;type=FNO&amp;filtertype=Intraday&amp;expirydate=04APR2025\" height=\"40\" width=\"110\"/></div><div class=\"flt w110\"><img class=\"contract lazy\" data-original=\"https://marketcharts.indiatimes.com/commoditySparkline?linecolor=000000&amp;width=110&amp;height=40&amp;symbol=GOLD&amp;noofdays=30&amp;type=FNO&amp;filtertype=EOD&amp;expirydate=04APR2025\" height=\"40\" width=\"110\"/></div><div class=\"flt w80 text-cell\">0</div><div class=\"flt w70 text-cell\">1721.00</div></div><div class=\"tr flt border-bottom\"><div class=\"flt w90 text-cell\" style=\"text-align: left\">05-Jun-2025</div><div class=\"flt w150 text-cell\">72513.00/10 GRMS</div><div class=\"flt w140\"><div class=\"change_bar\"><span class=\"red_bar\"><span class=\"num\"></span><span class=\"fill\" style=\"\"></span></span><span class=\"splite\"></span><span class=\"green_bar\"><span class=\"fill\" style=\"width:5.1%\"></span><span class=\"num\">1.02</span></span></div></div><div class=\"flt w80 text-cell\"><span class=\"rel green_line\">1.02</span></div><div class=\"flt w80 text-cell\"><span class=\"\">0.00</span></div><div class=\"flt w110\"><img class=\"day lazy\" data-original=\"https://marketcharts.indiatimes.com/commoditySparkline?linecolor=000000&amp;width=110&amp;height=40&amp;symbol=GOLD&amp;noofdays=1&amp;type=FNO&amp;filtertype=Intraday&amp;expirydate=05Jun2025\" height=\"40\" width=\"110\"/></div><div class=\"flt w110\"><img class=\"contract lazy\" data-original=\"https://marketcharts.indiatimes.com/commoditySparkline?linecolor=000000&amp;width=110&amp;height=40&amp;symbol=GOLD&amp;noofdays=30&amp;type=FNO&amp;filtertype=EOD&amp;expirydate=05Jun2025\" height=\"40\" width=\"110\"/></div><div class=\"flt w80 text-cell\">0</div><div class=\"flt w70 text-cell\">810.00</div></div><div class=\"tfoot\"><div class=\"flr footer-row\"><a class=\"actions hidden\" href=\"javascript:\" id=\"showMoreOther\">Show More</a><a class=\"actions hidden\" href=\"javascript:\" id=\"showLessOther\">Show Less</a></div></div></div><div></div></div></div></div><!--/commodity_othercontracts.cms?symbol=GOLD&exchange=MCX&symbol_title=GOLD&expirydate=potime:39--></div><div class=\"row\"><div class=\"col-10\"><div class=\"commodityContractDetails panel\" id=\"commodityContractDetails\"><h2 class=\"panel-heading\">GOLD Contract Details \n",
       "                        (<span id=\"cruexpdate\">2024-10-04</span>) \n",
       "                    <span class=\"flr exchange\">Exchange: <span class=\"MCX\">MCX</span></span></h2><div class=\"panel-body\"><div class=\"MCX\"><div class=\"col-5\"><div class=\"row\"><p class=\"col-5 dt\">Symbol</p><p class=\"col-5 dd\" id=\"symbol\">GOLD</p></div><div class=\"row\"><p class=\"col-5 dt\">Contract Start Date</p><p class=\"col-5 dd\" id=\"conStartDate\">2023-12-12</p></div><div class=\"row\"><p class=\"col-5 dt\">Last Trading Date</p><p class=\"col-5 dd\" id=\"lTradingDate\">2024-10-04</p></div><div class=\"row\"><p class=\"col-5 dt\">Lot Size</p><p class=\"col-5 dd\" id=\"lotSize\">1</p></div><div class=\"row\"><p class=\"col-5 dt\">Tick Size</p><p class=\"col-5 dd\" id=\"tickSize\">100</p></div><div class=\"row\"><p class=\"col-5 dt\">Symbol Description</p><p class=\"col-5 dd\" id=\"symDescription\">GOLD 995</p></div><div class=\"row\"><p class=\"col-5 dt\">Delivery Start Date</p><p class=\"col-5 dd\" id=\"delStartDate\">2024-09-27</p></div><div class=\"row\"><p class=\"col-5 dt\">Delivery End Date</p><p class=\"col-5 dd\" id=\"delEndDate\">2024-10-07</p></div><div class=\"row\"><p class=\"col-5 dt\">Symbol Info</p><p class=\"col-5 dd\" id=\"symInfo\">GOLD 995 EX AHMEDABAD</p></div><div class=\"row\"><p class=\"col-5 dt\">Tender Period Start Date</p><p class=\"col-5 dd\" id=\"tPStartDate\">2024-09-27</p></div><div class=\"row\"><p class=\"col-5 dt\">Tender Period End Date</p><p class=\"col-5 dd\" id=\"tPEndDate\">2024-10-04</p></div><div class=\"row\"><p class=\"col-5 dt\">Commodity Group</p><p class=\"col-5 dd\" id=\"comGroup\">Precious Metals</p></div></div><div class=\"col-5\"><div class=\"row\"><p class=\"col-5 dt\">Name Of Underlying</p><p class=\"col-5 dd\" id=\"nOUnder\">Precious Metals</p></div><div class=\"row\"><p class=\"col-5 dt\">Identifier of the Underlying</p><p class=\"col-5 dd\" id=\"idenUnder\">114</p></div><div class=\"row\"><p class=\"col-5 dt\">Instrument Identifier</p><p class=\"col-5 dd\" id=\"insIden\">426280</p></div><div class=\"row\"><p class=\"col-5 dt\">Instrument</p><p class=\"col-5 dd\" id=\"ins\">FUTCOM</p></div><div class=\"row\"><p class=\"col-5 dt\">Expiry Date</p><p class=\"col-5 dd\" id=\"expDate1\">2024-10-04</p></div><div class=\"row\"><p class=\"col-5 dt\">Price Quote Qty</p><p class=\"col-5 dd\" id=\"pQQty\">GRMS</p></div><div class=\"row\"><p class=\"col-5 dt\">Daily Price Percent</p><p class=\"col-5 dd\" id=\"dPPercent\">0.00</p></div><div class=\"row\"><p class=\"col-5 dt\">Near Month Instrument Identifier</p><p class=\"col-5 dd\" id=\"nMInsIden\">-1</p></div><div class=\"row\"><p class=\"col-5 dt\">Far Month Instrument Identifier</p><p class=\"col-5 dd\" id=\"fMInsIden\">-1</p></div><div class=\"row\"><p class=\"col-5 dt\">Trading Unit</p><p class=\"col-5 dd\" id=\"tUnit\">KGS</p></div><div class=\"row\"><p class=\"col-5 dt\">Delivery Unit</p><p class=\"col-5 dd\" id=\"dUnit\">KGS</p></div></div></div><div></div></div></div></div><!--/commodity_contractdetails.cms?symbol=GOLD&exchange=MCX&expirydate=&symbol_title=GOLDpotime:1--></div><div class=\"row\"><div class=\"col-10 commodityHistoricalPerformance panel-table\" id=\"commodityHistoricalPerformance\"><h2 class=\"panel-heading\">GOLD Rate Historical Performance</h2><div class=\"panel-subheading\"><form onsubmit=\"return false;\"><strong>From Date</strong><input id=\"fromdate1\" name=\"fromdate1\" size=\"10\" type=\"text\" value=\"\"/><strong>To Date</strong><input id=\"todate1\" name=\"todate1\" size=\"10\" type=\"text\" value=\"\"/><button class=\"btn\" id=\"fetchHPData\" type=\"submit\">Go</button>--- OR ---\n",
       "\t\t\t\t\t<strong>Contract</strong><select class=\"MCX\" id=\"contractDateMCX\" name=\"contractDateMCX\"></select><select class=\"hidden NCDEX\" id=\"contractDateNCDEX\" name=\"contractDateNCDEX\"></select><button class=\"btn\" id=\"fetchHPDataExpiry\" type=\"submit\">Go</button></form></div><div class=\"table performanceTable text-center\"><div class=\"thead flt border-bottom\"><div class=\"flt w110\">Date</div><div class=\"flt w110\">Commodity</div><div class=\"flt w110\">Expiry</div><div class=\"flt w90\">Open</div><div class=\"flt w90\">High</div><div class=\"flt w110\">Low</div><div class=\"flt w110\">Prev Close</div><div class=\"flt w90\">ABS</div><div class=\"flt w90\">% CHG</div></div><div class=\"tbody rel\"><div class=\"loadingBg hidden\"></div><div class=\"loadingImg hidden\"><img alt=\"Loading\" src=\"/photo/19819991.cms\"/></div><div class=\"MCX\" id=\"HPDetailsData\"><div class=\"tr flt border-bottom\"><div class=\"date flt w110 text-cell\">2024-08-30</div><div class=\"flt w110 text-cell\">Gold</div><div class=\"flt w110 text-cell\">04-Oct-2024</div><div class=\"flt w90 text-cell\">71900.00</div><div class=\"flt w90 text-cell\">72199.00</div><div class=\"flt w110 text-cell\">71521.00</div><div class=\"flt w110 text-cell\">72188.00</div><div class=\"flt w90 text-cell\"><span class=\"red\">-537.00</span></div><div class=\"flt w90 text-cell\"><span class=\"red\">-0.74</span></div></div><div class=\"tr flt border-bottom\"><div class=\"date flt w110 text-cell\">2024-08-30</div><div class=\"flt w110 text-cell\">Gold</div><div class=\"flt w110 text-cell\">04-Oct-2024</div><div class=\"flt w90 text-cell\">71900.00</div><div class=\"flt w90 text-cell\">72199.00</div><div class=\"flt w110 text-cell\">71521.00</div><div class=\"flt w110 text-cell\">72188.00</div><div class=\"flt w90 text-cell\"><span class=\"red\">-537.00</span></div><div class=\"flt w90 text-cell\"><span class=\"red\">-0.74</span></div></div><div class=\"tr flt border-bottom\"><div class=\"date flt w110 text-cell\">2024-08-29</div><div class=\"flt w110 text-cell\">Gold</div><div class=\"flt w110 text-cell\">04-Oct-2024</div><div class=\"flt w90 text-cell\">71880.00</div><div class=\"flt w90 text-cell\">72249.00</div><div class=\"flt w110 text-cell\">71700.00</div><div class=\"flt w110 text-cell\">71743.00</div><div class=\"flt w90 text-cell\"><span class=\"green\">426.00</span></div><div class=\"flt w90 text-cell\"><span class=\"green\">0.59</span></div></div><div class=\"tr flt border-bottom\"><div class=\"date flt w110 text-cell\">2024-08-28</div><div class=\"flt w110 text-cell\">Gold</div><div class=\"flt w110 text-cell\">04-Oct-2024</div><div class=\"flt w90 text-cell\">71980.00</div><div class=\"flt w90 text-cell\">72075.00</div><div class=\"flt w110 text-cell\">71514.00</div><div class=\"flt w110 text-cell\">72122.00</div><div class=\"flt w90 text-cell\"><span class=\"red\">-390.00</span></div><div class=\"flt w90 text-cell\"><span class=\"red\">-0.54</span></div></div><div class=\"tr flt border-bottom\"><div class=\"date flt w110 text-cell\">2024-08-27</div><div class=\"flt w110 text-cell\">Gold</div><div class=\"flt w110 text-cell\">04-Oct-2024</div><div class=\"flt w90 text-cell\">71898.00</div><div class=\"flt w90 text-cell\">72160.00</div><div class=\"flt w110 text-cell\">71740.00</div><div class=\"flt w110 text-cell\">72039.00</div><div class=\"flt w90 text-cell\"><span class=\"green\">121.00</span></div><div class=\"flt w90 text-cell\"><span class=\"green\">0.17</span></div></div><div class=\"tr flt border-bottom\"><div class=\"date flt w110 text-cell\">2024-08-26</div><div class=\"flt w110 text-cell\">Gold</div><div class=\"flt w110 text-cell\">04-Oct-2024</div><div class=\"flt w90 text-cell\">71852.00</div><div class=\"flt w90 text-cell\">72251.00</div><div class=\"flt w110 text-cell\">71755.00</div><div class=\"flt w110 text-cell\">71777.00</div><div class=\"flt w90 text-cell\"><span class=\"green\">287.00</span></div><div class=\"flt w90 text-cell\"><span class=\"green\">0.40</span></div></div><div class=\"tr flt border-bottom\"><div class=\"date flt w110 text-cell\">2024-08-23</div><div class=\"flt w110 text-cell\">Gold</div><div class=\"flt w110 text-cell\">04-Oct-2024</div><div class=\"flt w90 text-cell\">71474.00</div><div class=\"flt w90 text-cell\">71940.00</div><div class=\"flt w110 text-cell\">71302.00</div><div class=\"flt w110 text-cell\">71194.00</div><div class=\"flt w90 text-cell\"><span class=\"green\">576.00</span></div><div class=\"flt w90 text-cell\"><span class=\"green\">0.81</span></div></div><div class=\"tr flt border-bottom\"><div class=\"date flt w110 text-cell\">2024-08-23</div><div class=\"flt w110 text-cell\">Gold</div><div class=\"flt w110 text-cell\">04-Oct-2024</div><div class=\"flt w90 text-cell\">71474.00</div><div class=\"flt w90 text-cell\">71940.00</div><div class=\"flt w110 text-cell\">71302.00</div><div class=\"flt w110 text-cell\">71194.00</div><div class=\"flt w90 text-cell\"><span class=\"green\">576.00</span></div><div class=\"flt w90 text-cell\"><span class=\"green\">0.81</span></div></div><div class=\"tr flt border-bottom\"><div class=\"date flt w110 text-cell\">2024-08-22</div><div class=\"flt w110 text-cell\">Gold</div><div class=\"flt w110 text-cell\">04-Oct-2024</div><div class=\"flt w90 text-cell\">71670.00</div><div class=\"flt w90 text-cell\">71884.00</div><div class=\"flt w110 text-cell\">70894.00</div><div class=\"flt w110 text-cell\">71830.00</div><div class=\"flt w90 text-cell\"><span class=\"red\">-645.00</span></div><div class=\"flt w90 text-cell\"><span class=\"red\">-0.90</span></div></div><div class=\"tr flt border-bottom\"><div class=\"date flt w110 text-cell\">2024-08-21</div><div class=\"flt w110 text-cell\">Gold</div><div class=\"flt w110 text-cell\">04-Oct-2024</div><div class=\"flt w90 text-cell\">71857.00</div><div class=\"flt w90 text-cell\">72099.00</div><div class=\"flt w110 text-cell\">71470.00</div><div class=\"flt w110 text-cell\">71777.00</div><div class=\"flt w90 text-cell\"><span class=\"green\">79.00</span></div><div class=\"flt w90 text-cell\"><span class=\"green\">0.11</span></div></div><div class=\"tr flt border-bottom hidden\"><div class=\"date flt w110 text-cell\">2024-08-20</div><div class=\"flt w110 text-cell\">Gold</div><div class=\"flt w110 text-cell\">04-Oct-2024</div><div class=\"flt w90 text-cell\">71530.00</div><div class=\"flt w90 text-cell\">72272.00</div><div class=\"flt w110 text-cell\">71403.00</div><div class=\"flt w110 text-cell\">71584.00</div><div class=\"flt w90 text-cell\"><span class=\"green\">181.00</span></div><div class=\"flt w90 text-cell\"><span class=\"green\">0.25</span></div></div><div class=\"tr flt border-bottom hidden\"><div class=\"date flt w110 text-cell\">2024-08-19</div><div class=\"flt w110 text-cell\">Gold</div><div class=\"flt w110 text-cell\">04-Oct-2024</div><div class=\"flt w90 text-cell\">71458.00</div><div class=\"flt w90 text-cell\">71720.00</div><div class=\"flt w110 text-cell\">71181.00</div><div class=\"flt w110 text-cell\">71375.00</div><div class=\"flt w90 text-cell\"><span class=\"green\">223.00</span></div><div class=\"flt w90 text-cell\"><span class=\"green\">0.31</span></div></div><div class=\"tr flt border-bottom hidden\"><div class=\"date flt w110 text-cell\">2024-08-16</div><div class=\"flt w110 text-cell\">Gold</div><div class=\"flt w110 text-cell\">04-Oct-2024</div><div class=\"flt w90 text-cell\">70303.00</div><div class=\"flt w90 text-cell\">71475.00</div><div class=\"flt w110 text-cell\">70279.00</div><div class=\"flt w110 text-cell\">70136.00</div><div class=\"flt w90 text-cell\"><span class=\"green\">1259.00</span></div><div class=\"flt w90 text-cell\"><span class=\"green\">1.80</span></div></div><div class=\"tr flt border-bottom hidden\"><div class=\"date flt w110 text-cell\">2024-08-16</div><div class=\"flt w110 text-cell\">Gold</div><div class=\"flt w110 text-cell\">04-Oct-2024</div><div class=\"flt w90 text-cell\">70303.00</div><div class=\"flt w90 text-cell\">71475.00</div><div class=\"flt w110 text-cell\">70279.00</div><div class=\"flt w110 text-cell\">70136.00</div><div class=\"flt w90 text-cell\"><span class=\"green\">1259.00</span></div><div class=\"flt w90 text-cell\"><span class=\"green\">1.80</span></div></div><div class=\"tr flt border-bottom hidden\"><div class=\"date flt w110 text-cell\">2024-08-14</div><div class=\"flt w110 text-cell\">Gold</div><div class=\"flt w110 text-cell\">04-Oct-2024</div><div class=\"flt w90 text-cell\">70579.00</div><div class=\"flt w90 text-cell\">71020.00</div><div class=\"flt w110 text-cell\">70035.00</div><div class=\"flt w110 text-cell\">70699.00</div><div class=\"flt w90 text-cell\"><span class=\"red\">-547.00</span></div><div class=\"flt w90 text-cell\"><span class=\"red\">-0.77</span></div></div><div class=\"tr flt border-bottom hidden\"><div class=\"date flt w110 text-cell\">2024-08-14</div><div class=\"flt w110 text-cell\">Gold</div><div class=\"flt w110 text-cell\">04-Oct-2024</div><div class=\"flt w90 text-cell\">70579.00</div><div class=\"flt w90 text-cell\">71020.00</div><div class=\"flt w110 text-cell\">70035.00</div><div class=\"flt w110 text-cell\">70699.00</div><div class=\"flt w90 text-cell\"><span class=\"red\">-547.00</span></div><div class=\"flt w90 text-cell\"><span class=\"red\">-0.77</span></div></div><div class=\"tr flt border-bottom hidden\"><div class=\"date flt w110 text-cell\">2024-08-13</div><div class=\"flt w110 text-cell\">Gold</div><div class=\"flt w110 text-cell\">04-Oct-2024</div><div class=\"flt w90 text-cell\">70630.00</div><div class=\"flt w90 text-cell\">70920.00</div><div class=\"flt w110 text-cell\">70538.00</div><div class=\"flt w110 text-cell\">70738.00</div><div class=\"flt w90 text-cell\"><span class=\"red\">-47.00</span></div><div class=\"flt w90 text-cell\"><span class=\"red\">-0.07</span></div></div><div class=\"tr flt border-bottom hidden\"><div class=\"date flt w110 text-cell\">2024-08-12</div><div class=\"flt w110 text-cell\">Gold</div><div class=\"flt w110 text-cell\">04-Oct-2024</div><div class=\"flt w90 text-cell\">69719.00</div><div class=\"flt w90 text-cell\">70779.00</div><div class=\"flt w110 text-cell\">69714.00</div><div class=\"flt w110 text-cell\">69895.00</div><div class=\"flt w90 text-cell\"><span class=\"green\">845.00</span></div><div class=\"flt w90 text-cell\"><span class=\"green\">1.21</span></div></div><div class=\"tr flt border-bottom hidden\"><div class=\"date flt w110 text-cell\">2024-08-09</div><div class=\"flt w110 text-cell\">Gold</div><div class=\"flt w110 text-cell\">04-Oct-2024</div><div class=\"flt w90 text-cell\">69470.00</div><div class=\"flt w90 text-cell\">69995.00</div><div class=\"flt w110 text-cell\">69470.00</div><div class=\"flt w110 text-cell\">69704.00</div><div class=\"flt w90 text-cell\"><span class=\"green\">146.00</span></div><div class=\"flt w90 text-cell\"><span class=\"green\">0.21</span></div></div><div class=\"tr flt border-bottom hidden\"><div class=\"date flt w110 text-cell\">2024-08-09</div><div class=\"flt w110 text-cell\">Gold</div><div class=\"flt w110 text-cell\">04-Oct-2024</div><div class=\"flt w90 text-cell\">69470.00</div><div class=\"flt w90 text-cell\">69995.00</div><div class=\"flt w110 text-cell\">69470.00</div><div class=\"flt w110 text-cell\">69704.00</div><div class=\"flt w90 text-cell\"><span class=\"green\">146.00</span></div><div class=\"flt w90 text-cell\"><span class=\"green\">0.21</span></div></div><div class=\"tr flt border-bottom hidden\"><div class=\"date flt w110 text-cell\">2024-08-08</div><div class=\"flt w110 text-cell\">Gold</div><div class=\"flt w110 text-cell\">04-Oct-2024</div><div class=\"flt w90 text-cell\">68896.00</div><div class=\"flt w90 text-cell\">69750.00</div><div class=\"flt w110 text-cell\">68810.00</div><div class=\"flt w110 text-cell\">68965.00</div><div class=\"flt w90 text-cell\"><span class=\"green\">735.00</span></div><div class=\"flt w90 text-cell\"><span class=\"green\">1.07</span></div></div><div class=\"tr flt border-bottom hidden\"><div class=\"date flt w110 text-cell\">2024-08-07</div><div class=\"flt w110 text-cell\">Gold</div><div class=\"flt w110 text-cell\">04-Oct-2024</div><div class=\"flt w90 text-cell\">69440.00</div><div class=\"flt w90 text-cell\">69440.00</div><div class=\"flt w110 text-cell\">68740.00</div><div class=\"flt w110 text-cell\">68965.00</div><div class=\"flt w90 text-cell\"><span class=\"red\">-64.00</span></div><div class=\"flt w90 text-cell\"><span class=\"red\">-0.09</span></div></div><div class=\"tr flt border-bottom hidden\"><div class=\"date flt w110 text-cell\">2024-08-06</div><div class=\"flt w110 text-cell\">Gold</div><div class=\"flt w110 text-cell\">04-Oct-2024</div><div class=\"flt w90 text-cell\">69437.00</div><div class=\"flt w90 text-cell\">69470.00</div><div class=\"flt w110 text-cell\">68703.00</div><div class=\"flt w110 text-cell\">69309.00</div><div class=\"flt w90 text-cell\"><span class=\"red\">-344.00</span></div><div class=\"flt w90 text-cell\"><span class=\"red\">-0.50</span></div></div><div class=\"tr flt border-bottom hidden\"><div class=\"date flt w110 text-cell\">2024-08-05</div><div class=\"flt w110 text-cell\">Gold</div><div class=\"flt w110 text-cell\">04-Oct-2024</div><div class=\"flt w90 text-cell\">70044.00</div><div class=\"flt w90 text-cell\">70511.00</div><div class=\"flt w110 text-cell\">68379.00</div><div class=\"flt w110 text-cell\">69789.00</div><div class=\"flt w90 text-cell\"><span class=\"red\">-454.00</span></div><div class=\"flt w90 text-cell\"><span class=\"red\">-0.65</span></div></div></div><div></div></div><div class=\"tfoot\"><div class=\"loadMore\" id=\"showMoreHistory\"><div class=\"moreText\">MORE HISTORICAL DATA</div><div class=\"threeLines\"></div></div><div class=\"loadMore hidden\" id=\"showLessHistory\"><div class=\"moreText\">Less Historical Data</div><div class=\"threeLines\"></div></div></div></div></div><!--/commodity_history.cms?symbol=GOLD&exchange=MCX&symbol_title=GOLDpotime:1--></div><div class=\"row\"><div class=\"col-5\" xmlns:valurl=\"com.times.utilities.CMSWebUtility\"><div class=\"futureMarginCalc panel\"><h2 class=\"panel-heading\">Future Margin Calculator</h2><div class=\"resultbox\" id=\"resultBox\"><div class=\"tipTitlec\"><div class=\"close\">x</div>= <strong id=\"calculateResult\"></strong></div><p>This is the minimum amount which is required to buy \"x\" number of lots of a particular commodity to trade in futures market.</p></div><form class=\"marginCalculator\" id=\"marginCalculator\" method=\"post\" name=\"marginCalculator\"><div class=\"dropdownContainer\"><select disabled=\"\" id=\"marginExchange\" name=\"exchange\"><option value=\"MCX\">MCX</option><option value=\"NCDEX\">NCDEX</option></select><select class=\"commodity_name\" id=\"futSymbol\" name=\"symbol\"><option value=\"comName\">Commodity Name</option><option value=\"GOLDM\">Gold M</option><option value=\"ALUMINIUM\">Aluminium</option><option value=\"GOLD\">Gold</option><option value=\"MENTHAOIL\">Mentha Oil</option><option value=\"ZINCMINI\">Zinc Mini</option><option value=\"SILVER\">Silver</option><option value=\"LEADMINI\">Lead Mini</option><option value=\"GOLDPETAL\">Gold Petal</option><option value=\"SILVERMIC\">Silver Micro</option><option value=\"NATURALGAS\">Natural Gas</option><option value=\"COPPER\">Copper</option><option value=\"ZINC\">Zinc</option><option value=\"SILVERM\">Silver M</option><option value=\"CRUDEOIL\">Crude Oil</option><option value=\"KAPAS\">Kapas</option><option value=\"NICKEL\">Nickel</option><option value=\"COTTONCNDY\">Cotton Candy</option><option value=\"ALUMINI\">Aluminium Mini</option><option value=\"CRUDEOILM\">Crude Oil Mini</option><option value=\"GOLDGUINEA\">Gold Guinea</option><option value=\"LEAD\">Lead</option></select></div><div class=\"dropdownContainer second\"><select id=\"lots\" name=\"lots\"><option value=\"nLots\">Number of Lots</option><option>1</option><option>2</option><option>3</option><option>4</option><option>5</option><option>6</option><option>7</option><option>8</option><option>9</option><option>10</option><option>11</option><option>12</option><option>13</option><option>14</option><option>15</option><option>16</option><option>17</option><option>18</option><option>19</option><option>20</option><option>21</option><option>22</option><option>23</option><option>24</option><option>25</option><option>26</option><option>27</option><option>28</option><option>29</option><option>30</option></select><select id=\"margin\" name=\"margin\"><option value=\"tMargin\">Total Margin %</option><option>1</option><option>2</option><option>3</option><option>4</option><option>5</option><option>6</option><option>7</option><option>8</option><option>9</option><option>10</option><option>11</option><option>12</option><option>13</option><option>14</option><option>15</option><option>16</option><option>17</option><option>18</option><option>19</option><option>20</option><option>21</option><option>22</option><option>23</option><option>24</option><option>25</option><option>26</option><option>27</option><option>28</option><option>29</option><option>30</option><option>31</option><option>32</option><option>33</option><option>34</option><option>35</option><option>36</option><option>37</option><option>38</option><option>39</option><option>40</option><option>41</option><option>42</option><option>43</option><option>44</option><option>45</option><option>46</option><option>47</option><option>48</option><option>49</option><option>50</option></select></div><div class=\"buttonContainer\"><button class=\"btn\" type=\"reset\">Reset</button><button class=\"btn\" id=\"getResult\">Get Results</button></div></form></div></div><div class=\"col-5\"><div class=\"markToMarketCalc panel\"><h2 class=\"panel-heading\">Mark-to-Market Calculator</h2><div class=\"resultbox\" id=\"resultBox2\"><div class=\"tipTitlec\"><div class=\"close\">x</div>= <strong id=\"calculateResult2\"></strong></div><p>This is daily gain/loss on the position which is taken in derivatives market, it is calculated on daily basis till the time that position is not squared off.</p></div><form class=\"marginCalculator\" id=\"marginCalculator2\" method=\"post\" name=\"marginCalculator2\"><div class=\"dropdownContainer\"><select disabled=\"\" id=\"markExchange\" name=\"markexchange\"><option value=\"MCX\">MCX</option><option value=\"NCDEX\">NCDEX</option></select><select class=\"commodity_name\" id=\"markSymble\" name=\"markSymble\"><option value=\"comName\">Commodity Name</option><option value=\"GOLDM\">Gold M</option><option value=\"ALUMINIUM\">Aluminium</option><option value=\"GOLD\">Gold</option><option value=\"MENTHAOIL\">Mentha Oil</option><option value=\"ZINCMINI\">Zinc Mini</option><option value=\"SILVER\">Silver</option><option value=\"LEADMINI\">Lead Mini</option><option value=\"GOLDPETAL\">Gold Petal</option><option value=\"SILVERMIC\">Silver Micro</option><option value=\"NATURALGAS\">Natural Gas</option><option value=\"COPPER\">Copper</option><option value=\"ZINC\">Zinc</option><option value=\"SILVERM\">Silver M</option><option value=\"CRUDEOIL\">Crude Oil</option><option value=\"KAPAS\">Kapas</option><option value=\"NICKEL\">Nickel</option><option value=\"COTTONCNDY\">Cotton Candy</option><option value=\"ALUMINI\">Aluminium Mini</option><option value=\"CRUDEOILM\">Crude Oil Mini</option><option value=\"GOLDGUINEA\">Gold Guinea</option><option value=\"LEAD\">Lead</option></select></div><div class=\"dropdownContainer second\"><input class=\"tradedlots\" id=\"tradedlots\" name=\"tradedlots\" placeholder=\"Traded Price\" type=\"number\"/><select id=\"marklots\" name=\"marklots\"><option value=\"nLots\">Number of Lots</option><option>1</option><option>2</option><option>3</option><option>4</option><option>5</option><option>6</option><option>7</option><option>8</option><option>9</option><option>10</option><option>11</option><option>12</option><option>13</option><option>14</option><option>15</option><option>16</option><option>17</option><option>18</option><option>19</option><option>20</option><option>21</option><option>22</option><option>23</option><option>24</option><option>25</option><option>26</option><option>27</option><option>28</option><option>29</option><option>30</option></select></div><div class=\"buttonContainer\"><button class=\"btn\" type=\"reset\">Reset</button><button class=\"btn\" id=\"getResult2\">Get Results</button></div></form></div></div><!--/commoditycalculator_2.cms?symbol_title=GOLDpotime:2--></div><div class=\"row\"><div class=\"col-5 flt\" xmlns:g=\"http://base.google.com/ns/1.0\" xmlns:valurl=\"com.times.utilities.CMSWebUtility\" xmlns:xhtml=\"http://www.w3.org/1999/xhtml\"><div class=\"gainersLosers panel\" id=\"gainersLosers\"><h2 class=\"panel-heading\"><span class=\"table-tabs active gainers\" data-class=\"gainers\">Gainers</span><span class=\"table-tabs losers\" data-class=\"losers\">Losers</span></h2><div class=\"table gainersLosersTable border-bottom text-center\"><div class=\"thead flt border-bottom\"><div class=\"flt w120 text-cell-first\">Commodity</div><div class=\"flt w110\">Contract</div><div class=\"flt w110\">Price (Rs)</div><div class=\"flt w110\">% CHG</div></div><div class=\"tbody\"><div class=\"MCX\"><div class=\"gainers\"><div class=\"tr flt border-bottom\"><div class=\"flt w120 text-cell text-cell-first commodityName\"><em><a href=\"/commoditysummary/symbol-CRUDEOILM.cms?expiry=2024-10-21\">Crude Oil Mini</a></em></div><div class=\"flt w110 text-cell\">21-Oct-2024</div><div class=\"flt w110 text-cell\">6174.00</div><div class=\"flt w110 text-cell\"><span class=\"green\">0.19</span></div></div><div class=\"tr flt border-bottom\"><div class=\"flt w120 text-cell text-cell-first commodityName\"><em><a href=\"/commoditysummary/symbol-CRUDEOIL.cms?expiry=2024-10-21\">Crude Oil</a></em></div><div class=\"flt w110 text-cell\">21-Oct-2024</div><div class=\"flt w110 text-cell\">6167.00</div><div class=\"flt w110 text-cell\"><span class=\"green\">0.16</span></div></div><div class=\"tr flt border-bottom\"><div class=\"flt w120 text-cell text-cell-first commodityName\"><em><a href=\"/commoditysummary/symbol-NATURALGAS.cms?expiry=2024-10-28\">Natural Gas</a></em></div><div class=\"flt w110 text-cell\">28-Oct-2024</div><div class=\"flt w110 text-cell\">214.30</div><div class=\"flt w110 text-cell\"><span class=\"green\">0.14</span></div></div><div class=\"tr flt border-bottom\"><div class=\"flt w120 text-cell text-cell-first commodityName\"><em><a href=\"/commoditysummary/symbol-CRUDEOILM.cms?expiry=2024-09-19\">Crude Oil Mini</a></em></div><div class=\"flt w110 text-cell\">19-Sep-2024</div><div class=\"flt w110 text-cell\">6231.00</div><div class=\"flt w110 text-cell\"><span class=\"green\">0.11</span></div></div><div class=\"tr flt border-bottom\"><div class=\"flt w120 text-cell text-cell-first commodityName\"><em><a href=\"/commoditysummary/symbol-CRUDEOIL.cms?expiry=2024-09-19\">Crude Oil</a></em></div><div class=\"flt w110 text-cell\">19-Sep-2024</div><div class=\"flt w110 text-cell\">6228.00</div><div class=\"flt w110 text-cell\"><span class=\"green\">0.10</span></div></div><div class=\"tr flt border-bottom\"><div class=\"flt w120 text-cell text-cell-first commodityName\"><em><a href=\"/commoditysummary/symbol-LEAD.cms?expiry=2024-09-30\">Lead</a></em></div><div class=\"flt w110 text-cell\">30-Sep-2024</div><div class=\"flt w110 text-cell\">185.45</div><div class=\"flt w110 text-cell\"><span class=\"green\">0.08</span></div></div><div class=\"tr flt border-bottom\"><div class=\"flt w120 text-cell text-cell-first commodityName\"><em><a href=\"/commoditysummary/symbol-GOLDGUINEA.cms?expiry=2024-11-29\">Gold Guinea</a></em></div><div class=\"flt w110 text-cell\">29-Nov-2024</div><div class=\"flt w110 text-cell\">58550.00</div><div class=\"flt w110 text-cell\"><span class=\"green\">0.07</span></div></div></div><div class=\"losers hidden\"><div class=\"tr flt border-bottom\"><div class=\"flt w120 text-cell text-cell-first commodityName\"><em><a href=\"/commoditysummary/symbol-GOLDPETAL.cms?expiry=2024-12-31\">Gold Petal</a></em></div><div class=\"flt w110 text-cell\">31-Dec-2024</div><div class=\"flt w110 text-cell\">7200.00</div><div class=\"flt w110 text-cell\"><span class=\"red\">-1.09</span></div></div><div class=\"tr flt border-bottom\"><div class=\"flt w120 text-cell text-cell-first commodityName\"><em><a href=\"/commoditysummary/symbol-COPPER.cms?expiry=2024-09-30\">Copper</a></em></div><div class=\"flt w110 text-cell\">30-Sep-2024</div><div class=\"flt w110 text-cell\">795.80</div><div class=\"flt w110 text-cell\"><span class=\"red\">-0.70</span></div></div><div class=\"tr flt border-bottom\"><div class=\"flt w120 text-cell text-cell-first commodityName\"><em><a href=\"/commoditysummary/symbol-COPPER.cms?expiry=2024-10-31\">Copper</a></em></div><div class=\"flt w110 text-cell\">31-Oct-2024</div><div class=\"flt w110 text-cell\">804.30</div><div class=\"flt w110 text-cell\"><span class=\"red\">-0.65</span></div></div><div class=\"tr flt border-bottom\"><div class=\"flt w120 text-cell text-cell-first commodityName\"><em><a href=\"/commoditysummary/symbol-ALUMINIUM.cms?expiry=2024-09-30\">Aluminium</a></em></div><div class=\"flt w110 text-cell\">30-Sep-2024</div><div class=\"flt w110 text-cell\">221.70</div><div class=\"flt w110 text-cell\"><span class=\"red\">-0.47</span></div></div><div class=\"tr flt border-bottom\"><div class=\"flt w120 text-cell text-cell-first commodityName\"><em><a href=\"/commoditysummary/symbol-ALUMINI.cms?expiry=2024-09-30\">Aluminium Mini</a></em></div><div class=\"flt w110 text-cell\">30-Sep-2024</div><div class=\"flt w110 text-cell\">222.45</div><div class=\"flt w110 text-cell\"><span class=\"red\">-0.47</span></div></div><div class=\"tr flt border-bottom\"><div class=\"flt w120 text-cell text-cell-first commodityName\"><em><a href=\"/commoditysummary/symbol-SILVERM.cms?expiry=2024-11-29\">Silver M</a></em></div><div class=\"flt w110 text-cell\">29-Nov-2024</div><div class=\"flt w110 text-cell\">84263.00</div><div class=\"flt w110 text-cell\"><span class=\"red\">-0.43</span></div></div><div class=\"tr flt border-bottom\"><div class=\"flt w120 text-cell text-cell-first commodityName\"><em><a href=\"/commoditysummary/symbol-SILVERMIC.cms?expiry=2024-11-29\">Silver Micro</a></em></div><div class=\"flt w110 text-cell\">29-Nov-2024</div><div class=\"flt w110 text-cell\">84270.00</div><div class=\"flt w110 text-cell\"><span class=\"red\">-0.43</span></div></div><div class=\"tr flt border-bottom\"><div class=\"flt w120 text-cell text-cell-first commodityName\"><em><a href=\"/commoditysummary/symbol-SILVERMIC.cms?expiry=2025-02-28\">Silver Micro</a></em></div><div class=\"flt w110 text-cell\">28-Feb-2025</div><div class=\"flt w110 text-cell\">86870.00</div><div class=\"flt w110 text-cell\"><span class=\"red\">-0.42</span></div></div><div class=\"tr flt border-bottom\"><div class=\"flt w120 text-cell text-cell-first commodityName\"><em><a href=\"/commoditysummary/symbol-SILVER.cms?expiry=2024-12-05\">Silver</a></em></div><div class=\"flt w110 text-cell\">05-Dec-2024</div><div class=\"flt w110 text-cell\">84200.00</div><div class=\"flt w110 text-cell\"><span class=\"red\">-0.42</span></div></div><div class=\"tr flt border-bottom\"><div class=\"flt w120 text-cell text-cell-first commodityName\"><em><a href=\"/commoditysummary/symbol-ALUMINIUM.cms?expiry=2024-10-31\">Aluminium</a></em></div><div class=\"flt w110 text-cell\">31-Oct-2024</div><div class=\"flt w110 text-cell\">223.70</div><div class=\"flt w110 text-cell\"><span class=\"red\">-0.40</span></div></div></div></div><div></div></div><div class=\"tfoot\"><div class=\"flr footer-row gainers\"><a href=\"/commoditiesgainers.cms\">More Gainers »</a></div><div class=\"flr footer-row losers hidden\"><a href=\"/commoditieslosers.cms\">More Losers »</a></div></div></div></div></div><!--/commodity_gainerslosers.cms?symbol=GOLD&exchange=MCX&symbol_title=GOLDpotime:38--><div class=\"col-5 flr\"><div class=\"commodityETF panel\"><h2 class=\"panel-heading\">Gold ETFs »</h2><div class=\"table text-center\"><div class=\"thead flt border-bottom\"><div class=\"flt w150 text-cell-first\">ETF Name</div><div class=\"flt w100\">Price (Rs)</div><div class=\"flt w100\">% CHG</div><div class=\"flt w100\">Volume</div></div><div class=\"tbody\"><div class=\"tr flt border-bottom\"><div class=\"flt w150 text-cell text-cell-first\"><em><a href=\"/invesco-india-gold-exchange-traded-fund/mffactsheet/schemeid-10862.cms\">Invesco India Gold ETF</a></em></div><div class=\"flt w100 text-cell\">6293.00</div><div class=\"flt w100 text-cell\"><span class=\"red\">-0.07</span></div><div class=\"flt w100 text-cell\">4</div></div><div class=\"tr flt border-bottom\"><div class=\"flt w150 text-cell text-cell-first\"><em><a href=\"/icici-prudential-gold-etf/mffactsheet/schemeid-11347.cms\">ICICI Prudential Gold Exchange Traded Fund</a></em></div><div class=\"flt w100 text-cell\">62.49</div><div class=\"flt w100 text-cell\"><span class=\"red\">-0.09</span></div><div class=\"flt w100 text-cell\">54209</div></div><div class=\"tr flt border-bottom\"><div class=\"flt w150 text-cell text-cell-first\"><em><a href=\"/quantum-gold-exchange-traded-fund/mffactsheet/schemeid-6695.cms\">Quantum Gold Fund</a></em></div><div class=\"flt w100 text-cell\">60.39</div><div class=\"flt w100 text-cell\"><span class=\"red\">-0.13</span></div><div class=\"flt w100 text-cell\">462</div></div><div class=\"tr flt border-bottom\"><div class=\"flt w150 text-cell text-cell-first\"><em><a href=\"/axis-gold-exchange-traded-fund/mffactsheet/schemeid-11669.cms\">Axis Gold ETF</a></em></div><div class=\"flt w100 text-cell\">60.94</div><div class=\"flt w100 text-cell\"><span class=\"red\">-0.16</span></div><div class=\"flt w100 text-cell\">2683</div></div><div class=\"tr flt border-bottom\"><div class=\"flt w150 text-cell text-cell-first\"><em><a href=\"/hdfc-gold-exchange-traded-fund/mffactsheet/schemeid-11314.cms\">HDFC Gold Exchange Traded Fund</a></em></div><div class=\"flt w100 text-cell\">62.33</div><div class=\"flt w100 text-cell\"><span class=\"red\">-0.17</span></div><div class=\"flt w100 text-cell\">102166</div></div><div class=\"tr flt border-bottom\"><div class=\"flt w150 text-cell text-cell-first\"><em><a href=\"/zerodha-gold-etf/mffactsheet/schemeid-44177.cms\">Zerodha Gold ETF</a></em></div><div class=\"flt w100 text-cell\">11.69</div><div class=\"flt w100 text-cell\"><span class=\"red\">-0.17</span></div><div class=\"flt w100 text-cell\">72810</div></div><div class=\"tr flt border-bottom\"><div class=\"flt w150 text-cell text-cell-first\"><em><a href=\"/nippon-india-etf-gold-bees/mffactsheet/schemeid-4957.cms\">Nippon India ETF Gold BeES</a></em></div><div class=\"flt w100 text-cell\">60.21</div><div class=\"flt w100 text-cell\"><span class=\"red\">-0.18</span></div><div class=\"flt w100 text-cell\">524646</div></div><div class=\"tr flt border-bottom\"><div class=\"flt w150 text-cell text-cell-first\"><em><a href=\"/lic-mf-gold-etf/mffactsheet/schemeid-13461.cms\">LIC MF Gold ETF</a></em></div><div class=\"flt w100 text-cell\">6524.00</div><div class=\"flt w100 text-cell\"><span class=\"red\">-0.21</span></div><div class=\"flt w100 text-cell\">50</div></div><div class=\"tr flt border-bottom\"><div class=\"flt w150 text-cell text-cell-first\"><em><a href=\"/sbi-gold-etf/mffactsheet/schemeid-10382.cms\">SBI Gold ETF</a></em></div><div class=\"flt w100 text-cell\">62.36</div><div class=\"flt w100 text-cell\"><span class=\"red\">-0.24</span></div><div class=\"flt w100 text-cell\">31592</div></div><div class=\"tr flt border-bottom\"><div class=\"flt w150 text-cell text-cell-first\"><em><a href=\"/kotak-gold-etf/mffactsheet/schemeid-5341.cms\">Kotak Gold ETF</a></em></div><div class=\"flt w100 text-cell\">60.75</div><div class=\"flt w100 text-cell\"><span class=\"red\">-0.31</span></div><div class=\"flt w100 text-cell\">12518</div></div></div><div class=\"tfoot\"><div class=\"flr footer-row\"><a href=\"/personal-finance/etf/etfhome.cms\">More Gold ETF »</a></div></div></div></div></div><!--/commodity_etf.cms?symbol_title=GOLDpotime:2--></div></div></div></section></div><div class=\"clr\"></div><section id=\"quickLinks\" xmlns:g=\"http://base.google.com/ns/1.0\" xmlns:valurl=\"com.times.utilities.CMSWebUtility\" xmlns:xhtml=\"http://www.w3.org/1999/xhtml\"><div class=\"headerText\"><h2>Quick Links</h2></div><div class=\"flt compnyLinks\"><h2>Commodity Quick Links</h2><div class=\"flt\"><span class=\"linkHead\"><a href=\"/commoditylisting.cms?head=Others\">Others</a></span><div><p class=\"linksTitle\"><a href=\"/commoditysummary/symbol-MENTHAOIL.cms\" title=\"Stock Summary\">Mentha Oil</a><br/></p></div><span class=\"linkHead\"><a href=\"/commoditylisting.cms?head=Precious Metals\">Precious Metals</a></span><div><p class=\"linksTitle\"><a href=\"/commoditysummary/symbol-GOLDM.cms\" title=\"Stock Summary\">Gold M</a><br/><a href=\"/commoditysummary/symbol-GOLD.cms\" title=\"Stock Summary\">Gold</a><br/><a href=\"/commoditysummary/symbol-SILVER.cms\" title=\"Stock Summary\">Silver</a><br/><a href=\"/commoditysummary/symbol-GOLDPETAL.cms\" title=\"Stock Summary\">Gold Petal</a><br/><a href=\"/commoditysummary/symbol-SILVERMIC.cms\" title=\"Stock Summary\">Silver Micro</a><br/><a href=\"/commoditysummary/symbol-SILVERM.cms\" title=\"Stock Summary\">Silver M</a><br/><a href=\"/commoditysummary/symbol-GOLDGUINEA.cms\" title=\"Stock Summary\">Gold Guinea</a><br/></p></div></div><div class=\"flt\"><span class=\"linkHead\"><a href=\"/commoditylisting.cms?head=Oil %26 Energy\">Oil &amp; Energy</a></span><div><p class=\"linksTitle\"><a href=\"/commoditysummary/symbol-NATURALGAS.cms\" title=\"Stock Summary\">Natural Gas</a><br/><a href=\"/commoditysummary/symbol-CRUDEOIL.cms\" title=\"Stock Summary\">Crude Oil</a><br/><a href=\"/commoditysummary/symbol-CRUDEOILM.cms\" title=\"Stock Summary\">Crude Oil Mini</a><br/></p></div><span class=\"linkHead\"><a href=\"/commoditylisting.cms?head=Base Metals\">Base Metals</a></span><div><p class=\"linksTitle\"><a href=\"/commoditysummary/symbol-ALUMINIUM.cms\" title=\"Stock Summary\">Aluminium</a><br/><a href=\"/commoditysummary/symbol-ZINCMINI.cms\" title=\"Stock Summary\">Zinc Mini</a><br/><a href=\"/commoditysummary/symbol-LEADMINI.cms\" title=\"Stock Summary\">Lead Mini</a><br/><a href=\"/commoditysummary/symbol-COPPER.cms\" title=\"Stock Summary\">Copper</a><br/><a href=\"/commoditysummary/symbol-ZINC.cms\" title=\"Stock Summary\">Zinc</a><br/><a href=\"/commoditysummary/symbol-NICKEL.cms\" title=\"Stock Summary\">Nickel</a><br/><a href=\"/commoditysummary/symbol-ALUMINI.cms\" title=\"Stock Summary\">Aluminium Mini</a><br/><a href=\"/commoditysummary/symbol-LEAD.cms\" title=\"Stock Summary\">Lead</a><br/></p></div></div><div class=\"flt\"><span class=\"linkHead\"><a href=\"/commoditylisting.cms?head=Plantation\">Plantation</a></span><div><p class=\"linksTitle\"><a href=\"/commoditysummary/symbol-KAPAS.cms\" title=\"Stock Summary\">Kapas</a><br/><a href=\"/commoditysummary/symbol-COTTONCNDY.cms\" title=\"Stock Summary\">Cotton Candy</a><br/></p></div></div><div class=\"clr\"></div></div><div class=\"flt mktLinks\"><h2>Markets Quick Links</h2><div class=\"flt\"><a href=\"/marketstats/pid-0,pageno-1,sortby-percentchange,sortorder-desc,sort-intraday.cms\" target=\"_blank\" title=\"Daily Gainers\">Daily Gainers</a><br/><a href=\"/marketstats/pid-3,pageno-1,sortby-volume,sortorder-desc,service-volumemovers.cms\" target=\"_blank\" title=\"Most Active - Volume\">Most Active - Volume</a><br/><a href=\"/marketstats/pid-40,exchange-nse.cms\" target=\"_blank\">NSE - All Indices</a><br/><a href=\"/marketstats/pid-5,pageno-1,sortby-percentchange,sortorder-desc.cms\" target=\"_blank\" title=\"New 52Wk High\">New 52Wk High</a><br/><a href=\"/marketstats/pid-7,pageno-1,sortby-percentgap,sortorder-asc.cms\" target=\"_blank\" title=\"Near 52Wk High\">Near 52Wk High</a><br/><a href=\"/marketstats/pid-4,pageno-1,sortby-bestbuyqty,sortorder-desc,service-buyers.cms\" target=\"_blank\" title=\"Only Buyers\">Only Buyers</a><br/><a href=\"/marketstats/pid-32,pageno-1,filtertype-1m.cms\" target=\"_blank\" title=\"FII Activity\">FII Activity</a><br/><a href=\"/marketstats/pid-0,pageno-1,sortby-percentchange,sortorder-desc,sort-7days.cms\" title=\"Weekly Gainers\">Weekly Gainers</a><br/><a href=\"/marketstats/pid-0,pageno-1,sortby-percentchange,sortorder-desc,sort-1month.cms\" target=\"_blank\" title=\"Monthly Gainers\">Monthly Gainers</a><br/><a href=\"/marketstats/pid-36,indexid-2365,exchange-47,sortorder-desc,sortby-percentagechange,company-true,pageno-1.cms\" target=\"_blank\" title=\"Sensex Constituents\">Sensex Constituents</a><br/><a href=\"/marketstats/pid-9,pageno-1,sortby-percentbelowdayhigh,sortorder-asc,service-intradayhigh.cms\" target=\"_blank\" title=\"Fall from Intraday High\">Fall from Day's High</a></div><div class=\"flt\"><a href=\"/marketstats/pid-1,pageno-1,sortby-percentchange,sortorder-asc,sort-intraday.cms\" target=\"_blank\" title=\"Daily Losers\">Daily Losers</a><br/><a href=\"/marketstats/pid-3,pageno-1,sortby-value,sortorder-desc,service-valuemovers.cms\" target=\"_blank\" title=\"Most Active - Value\">Most Active - Value</a><br/><a href=\"/marketstats/exchange-47,pageno-1,pid-20.cms\" target=\"_blank\" title=\"Live Announcements\">Live Announcements</a><br/><a href=\"/marketstats/pid-6,pageno-1,sortby-percentchange,sortorder-asc.cms\" target=\"_blank\" title=\"New 52Wk Low\">New 52Wk Low</a><br/><a href=\"/marketstats/pid-8,pageno-1,sortby-percentgap,sortorder-asc.cms\" target=\"_blank\">Near 52Wk Low</a><br/><a href=\"/marketstats/pid-4,pageno-1,sortby-bestsellqty,sortorder-desc,service-sellers.cms\" target=\"_blank\" title=\"Only Sellers\">Only Sellers</a><br/><a href=\"/marketstats/pid-33,pageno-1,filtertype-1m.cms\" target=\"_blank\" title=\"MF Activity\">MF Activity</a><br/><a href=\"/marketstats/pid-1,pageno-1,sortby-percentchange,sortorder-asc,sort-7days.cms\" target=\"_blank\" title=\"Weekly Losers\">Weekly Losers</a><br/><a href=\"/marketstats/pid-1,pageno-1,sortby-percentchange,sortorder-asc,sort-1month.cms\" target=\"_blank\" title=\"Monthly Losers\">Monthly Losers</a><br/><a href=\"/marketstats/pid-37,indexid-2369,exchange-50,sortorder-desc,sortby-percentagechange,company-true.cms\" target=\"_blank\" title=\"Nifty Constituents\">Nifty Constituents</a><br/><a href=\"/marketstats/pid-10,pageno-1,sortby-percentabovedaylow,sortorder-desc,service-intradaylow.cms\" target=\"_blank\">Up from Day's Low</a></div><div class=\"clr\"></div></div><div class=\"flt moreLinks\"><h2>More from markets</h2><a href=\"http://www.etmarkets.com\" rel=\"nofollow\" target=\"_blank\" title=\"ET Markets Home\">ET Markets Home</a><br/><a href=\"/markets/stocks/articlelist/2146842.cms\" target=\"_blank\" title=\"Stocks Home\">Stocks Home</a><br/><a href=\"/markets/statistics/marketcoverage.cms\" target=\"_blank\" title=\"Market Live\">Market Live</a><br/><a href=\"/ipohome.cms\" target=\"_blank\" title=\"IPO/FPO/Rights Issue\">IPO/FPO/Rights Issue</a><br/><a href=\"/markets/stocks/views/recommendations/articlelist/3053611.cms\" target=\"_blank\" title=\"Views and Recommendations\">Views and Recommendations</a><br/><a href=\"/markets/technical-charts\" target=\"_blank\" title=\"Technical Charts\">Technical Charts</a><br/><a href=\"https://etportfolio.indiatimes.com/pw_portfolio.cms\" rel=\"nofollow\" target=\"_blank\" title=\"Portfolio\">Portfolio</a><br/><a href=\"/features/et500.cms\" target=\"_blank\" title=\"ET 500 Companies\">ET 500 Companies</a><br/><a href=\"/news/news-by-company/earnings/earnings/75410.cms\" target=\"_blank\" title=\"Quarterly Results (Earnings)\">Quarterly Results (Earnings)</a><br/><p class=\"more\"><a href=\"/sitemap.cms\" style=\"font-weight: bold\" target=\"_blank\">View Complete Site Map »</a></p></div><div class=\"clr\"></div></section><!--/commoditiesquicklinks_2.cms?msid=2147477890potime:1--><div class=\"clr\"></div><section id=\"bottomAd\"><div data-adsslot=\"ET_Markets/ET_Markets_Commodities/ET_ROS_BTF_MKT_CMD_728\" data-loc=\"All\" data-oop=\"0\" data-size=\"[728, 90]\" id=\"div-gpt-ad-1450704257220-4\"></div></section><div class=\"btmFooter clearfix\" data-ga-category=\"Footer Element Clicks\"><div class=\"bottomBar clearfix\"><div class=\"contentwrapper\"><div class=\"flt\"><a href=\"https://economictimes.indiatimes.com\" title=\"The Economic Times\"><img alt=\"The Economic Times\" class=\"f_logo_w\" height=\"28\" loading=\"lazy\" src=\"https://img.etimg.com/photo/msid-74462387,quality-100/et-logo.jpg\" style=\"margin-top: 3px;\" title=\"The Economic Times\" width=\"255\"/><img alt=\"The Economic Times\" class=\"f_logo_b hidden\" height=\"28\" loading=\"lazy\" src=\"https://img.etimg.com/photo/msid-74451948,quality-100/et-logo.jpg\" style=\"margin-top: 3px;\" title=\"The Economic Times\" width=\"255\"/></a></div><div class=\"btmSearch flt\"><input autocomplete=\"off\" class=\"inputBox\" data-search-input=\"\" name=\"ticker\" placeholder=\"Search News, Stock Quotes &amp; NAV\" type=\"text\" value=\"\"/><span class=\"cSprite_a searchIcon\"></span></div></div></div><div class=\"browseComp\" data-ga-action=\"Browse Companies\"><div class=\"browse\"><div class=\"txt dib tac\"><span>Browse</span><span class=\"sm\">Companies:</span></div><div class=\"list dib\"><div><a data-ga-onclick=\"A - href\" href=\"/markets/stocks/stock-quotes/a\">A</a><a data-ga-onclick=\"B - href\" href=\"/markets/stocks/stock-quotes/b\">B</a><a data-ga-onclick=\"C - href\" href=\"/markets/stocks/stock-quotes/c\">C</a><a data-ga-onclick=\"D - href\" href=\"/markets/stocks/stock-quotes/d\">D</a><a data-ga-onclick=\"E - href\" href=\"/markets/stocks/stock-quotes/e\">E</a><a data-ga-onclick=\"F - href\" href=\"/markets/stocks/stock-quotes/f\">F</a><a data-ga-onclick=\"G - href\" href=\"/markets/stocks/stock-quotes/g\">G</a><a data-ga-onclick=\"H - href\" href=\"/markets/stocks/stock-quotes/h\">H</a><a data-ga-onclick=\"I - href\" href=\"/markets/stocks/stock-quotes/i\">I</a><a data-ga-onclick=\"J - href\" href=\"/markets/stocks/stock-quotes/j\">J</a><a data-ga-onclick=\"K - href\" href=\"/markets/stocks/stock-quotes/k\">K</a><a data-ga-onclick=\"L - href\" href=\"/markets/stocks/stock-quotes/l\">L</a><a data-ga-onclick=\"M - href\" href=\"/markets/stocks/stock-quotes/m\">M</a><a data-ga-onclick=\"N - href\" href=\"/markets/stocks/stock-quotes/n\">N</a><a data-ga-onclick=\"O - href\" href=\"/markets/stocks/stock-quotes/o\">O</a><a data-ga-onclick=\"P - href\" href=\"/markets/stocks/stock-quotes/p\">P</a><a data-ga-onclick=\"Q - href\" href=\"/markets/stocks/stock-quotes/q\">Q</a><a data-ga-onclick=\"R - href\" href=\"/markets/stocks/stock-quotes/r\">R</a><a data-ga-onclick=\"S - href\" href=\"/markets/stocks/stock-quotes/s\">S</a><a data-ga-onclick=\"T - href\" href=\"/markets/stocks/stock-quotes/t\">T</a><a data-ga-onclick=\"U - href\" href=\"/markets/stocks/stock-quotes/u\">U</a><a data-ga-onclick=\"V - href\" href=\"/markets/stocks/stock-quotes/v\">V</a><a data-ga-onclick=\"W - href\" href=\"/markets/stocks/stock-quotes/w\">W</a><a data-ga-onclick=\"X - href\" href=\"/markets/stocks/stock-quotes/x\">X</a><a data-ga-onclick=\"Y - href\" href=\"/markets/stocks/stock-quotes/y\">Y</a><a data-ga-onclick=\"Z - href\" href=\"/markets/stocks/stock-quotes/z\">Z</a></div><div><a data-ga-onclick=\"1 - href\" href=\"/markets/stocks/stock-quotes/numeric-1\">1</a><a data-ga-onclick=\"2 - href\" href=\"/markets/stocks/stock-quotes/numeric-2\">2</a><a data-ga-onclick=\"3 - href\" href=\"/markets/stocks/stock-quotes/numeric-3\">3</a><a data-ga-onclick=\"4 - href\" href=\"/markets/stocks/stock-quotes/numeric-4\">4</a><a data-ga-onclick=\"5 - href\" href=\"/markets/stocks/stock-quotes/numeric-5\">5</a><a data-ga-onclick=\"6 - href\" href=\"/markets/stocks/stock-quotes/numeric-6\">6</a><a data-ga-onclick=\"7 - href\" href=\"/markets/stocks/stock-quotes/numeric-7\">7</a><a data-ga-onclick=\"8 - href\" href=\"/markets/stocks/stock-quotes/numeric-8\">8</a><a data-ga-onclick=\"9 - href\" href=\"/markets/stocks/stock-quotes/numeric-9\">9</a></div></div></div></div><footer><div data-mapid=\"66847921\" data-q=\"1\"></div><div class=\"contentwrapper\"><div class=\"newfooter\"><div class=\"content_pllist_data\"><p>Quick Links</p><div class=\"show_hide_pllist_data\">MORE</div><div class=\"footLinks\" data-ga-action=\"Quick Links\" data-msid=\"66847921\"><a data-ga-onclick=\"HAL Share Price - href\" href=\"https://m.economictimes.com/markets/stocks/news/hal-shares-rally-5-on-rs-26000-crore-order-win-boost/articleshow/113011503.cms\" target=\"_blank\" title=\"HAL Share Price\">HAL Share Price</a><a data-ga-onclick=\"Premier Energies Share Price - href\" href=\"https://m.economictimes.com/markets/ipos/fpos/premier-energies-ipo-share-allotment-likely-today-check-status-gmp-listing-date-and-other-details/articleshow/112913015.cms\" target=\"_blank\" title=\"Premier Energies Share Price\">Premier Energies Share Price</a><a data-ga-onclick=\"Sensex - href\" href=\"https://economictimes.indiatimes.com/markets/indices/bse-sensex\" target=\"_blank\" title=\"Sensex\">Sensex</a><a data-ga-onclick=\"Nifty - href\" href=\"https://economictimes.indiatimes.com/markets/indices/nifty-50\" target=\"_blank\" title=\"Nifty\">Nifty</a><a data-ga-onclick=\"Share Market Live - href\" href=\"https://economictimes.indiatimes.com/markets/live-coverage\" target=\"_blank\" title=\"Share Market Live\">Share Market Live</a><a data-ga-onclick=\"UltraTech Cement Q4 Results - href\" href=\"https://economictimes.indiatimes.com/markets/stocks/earnings/ultratech-cement-q4-results-profit-rises-36-yoy-to-rs-2258-crore-beats-estimates/articleshow/109689800.cms\" target=\"_blank\" title=\"UltraTech Cement Q4 Results\">UltraTech Cement Q4 Results</a><a data-ga-onclick=\"TCS Q4 Results - href\" href=\"https://economictimes.indiatimes.com/markets/stocks/live-blog/tcs-q4-results-live-updates-tcs-q4-earnings-revenue-profit-loss-fy24-latest-news-12-april-2024/liveblog/109233363.cms\" target=\"_blank\" title=\"TCS Q4 Results\">TCS Q4 Results</a><a data-ga-onclick=\"Adani Green Q2 Results - href\" href=\"https://economictimes.indiatimes.com/markets/stocks/earnings/adani-green-q2-results-cons-pat-surges-2-5-times-to-rs-372-crore-revenue-up-40-yoy/articleshow/104820829.cms\" target=\"_blank\" title=\"Adani Green Q2 Results\">Adani Green Q2 Results</a><a data-ga-onclick=\"Maruti Suzuki Q2 Results - href\" href=\"https://economictimes.indiatimes.com/markets/stocks/earnings/maruti-suzuki-q2-results-net-profit-zooms-80-yoy-to-rs-3716-crore-beats-estimate/articleshow/104750045.cms\" target=\"_blank\" title=\"Maruti Suzuki Q2 Results\">Maruti Suzuki Q2 Results</a><a data-ga-onclick=\"Cipla Q2 Results - href\" href=\"https://economictimes.indiatimes.com/markets/stocks/earnings/cipla-q2-results-profit-jumps-43-yoy-to-rs-1131-crore-revenue-rises-15/articleshow/104750107.cms\" target=\"_blank\" title=\"Cipla Q2 Results\">Cipla Q2 Results</a><a data-ga-onclick=\"Mamaearth IPO - href\" href=\"https://economictimes.indiatimes.com/markets/ipos/fpos/mamaearth-ipo-to-open-on-october-31-price-band-announced/articleshow/104713653.cms\" target=\"_blank\" title=\"Mamaearth IPO\">Mamaearth IPO</a><a data-ga-onclick=\"Nestle India Q3 Results - href\" href=\"https://economictimes.indiatimes.com/markets/stocks/earnings/nestle-india-q3-results-profit-surges-37-yoy-to-rs-908-crore-firm-declares-rs-140-per-share-interim-dividend/articleshow/104544457.cms\" target=\"_blank\" title=\"Nestle India Q3 Results\">Nestle India Q3 Results</a><a data-ga-onclick=\"Bajaj Finance Q2 Results - href\" href=\"https://economictimes.indiatimes.com/markets/stocks/earnings/bajaj-finance-q2-results-cons-profit-jumps-28-yoy-to-rs-3551-crore-meets-estimates/articleshow/104496224.cms\" target=\"_blank\" title=\"Bajaj Finance Q2 Results\">Bajaj Finance Q2 Results</a><a data-ga-onclick=\"Oriental Hotels Q2 results - href\" href=\"https://economictimes.indiatimes.com/markets/stocks/earnings/oriental-hotels-q2-results-standalone-profit-at-rs-10-crore/articleshow/104487814.cms\" target=\"_blank\" title=\"Oriental Hotels Q2 results\">Oriental Hotels Q2 results</a><a data-ga-onclick=\"HDFC AMC Q2 Results - href\" href=\"https://economictimes.indiatimes.com/markets/stocks/earnings/hdfc-amc-q2-results-net-profit-rises-20-yoy-to-rs-437-cr-revenue-up-18/articleshow/104368372.cms\" target=\"_blank\" title=\"HDFC AMC Q2 Results\">HDFC AMC Q2 Results</a><a data-ga-onclick=\"Infosys Q2 Preview - href\" href=\"https://economictimes.indiatimes.com/markets/stocks/earnings/infosys-q2-preview-revenue-seen-up-5-yoy-co-may-retain-fy24-guidance/articleshow/104333704.cms\" target=\"_blank\" title=\"Infosys Q2 Preview\">Infosys Q2 Preview</a><a data-ga-onclick=\"CIEL Group IPO - href\" href=\"https://economictimes.indiatimes.com/markets/ipos/fpos/ciel-group-ipo-likely-in-first-half-of-2024/articleshow/104327460.cms\" target=\"_blank\" title=\"CIEL Group IPO\">CIEL Group IPO</a><a data-ga-onclick=\"TCS Q2 Preview - href\" href=\"https://economictimes.indiatimes.com/markets/stocks/earnings/tcs-q2-preview-muted-show-likely-in-seasonally-strong-quarter-deals-outlook-critical/articleshow/104303083.cms\" target=\"_blank\" title=\"TCS Q2 Preview\">TCS Q2 Preview</a><a data-ga-onclick=\"WhiteOak Mutual Fund - href\" href=\"https://economictimes.indiatimes.com/mf/mf-news/whiteoak-mutual-fund-stops-accepting-lumpsums-in-multicap-fund/articleshow/104299510.cms\" target=\"_blank\" title=\"WhiteOak Mutual Fund\">WhiteOak Mutual Fund</a></div></div><div class=\"content_pllist_data\"><p>Trending Now</p><div class=\"show_hide_pllist_data\">MORE</div><div class=\"footLinks\" data-ga-action=\"Trending Now\" data-msid=\"64594436\"><a data-ga-onclick=\"Stocks in News - href\" href=\"https://m.economictimes.com/markets/stocks/news/stocks-in-news-icici-bank-vedanta-hal-adani-green-medi-assist-healthcare/articleshow/113007549.cms\" target=\"_blank\" title=\"Stocks in News\">Stocks in News</a><a data-ga-onclick=\"Sensex Today - href\" href=\"https://m.economictimes.com/markets/stocks/live-blog/bse-sensex-today-live-nifty-stock-market-updates-3-september-2024/liveblog/113007844.cms\" target=\"_blank\" title=\"Sensex Today\">Sensex Today</a><a data-ga-onclick=\"Varun Beverages Stock Split - href\" href=\"https://m.economictimes.com/markets/stocks/news/varun-beverages-announces-record-date-for-25-stock-split-shares-rise-2/articleshow/112985246.cms\" target=\"_blank\" title=\"Varun Beverages Stock Split\">Varun Beverages Stock Split</a><a data-ga-onclick=\"Gala Precision Engineering IPO - href\" href=\"https://m.economictimes.com/markets/ipos/fpos/gala-precision-engineering-ipo-opens-for-subscription-should-you-bid/articleshow/112980670.cms\" target=\"_blank\" title=\"Gala Precision Engineering IPO\">Gala Precision Engineering IPO</a><a data-ga-onclick=\"Gujarat Gas Share Price - href\" href=\"https://m.economictimes.com/markets/stocks/news/gujarat-gas-shares-skyrocket-13-after-announcing-restructuring-of-group-entities-should-you-invest/amp_articleshow/112981589.cms\" target=\"_blank\" title=\"Gujarat Gas Share Price\">Gujarat Gas Share Price</a><a data-ga-onclick=\"Reliance Industries AGM 2024 Live - href\" href=\"https://m.economictimes.com/markets/stocks/live-blog/reliance-agm-2024-annual-general-meeting-live-news-updates-reliance-retail-jio-ipo-past-ril-agm-announcements/liveblog/112881575.cms\" target=\"_blank\" title=\"Reliance Industries AGM 2024 Live\">Reliance Industries AGM 2024 Live</a><a data-ga-onclick=\"Paytm Share Price - href\" href=\"https://m.economictimes.com/markets/stocks/news/paytm-shares-drop-over-9-following-report-of-sebis-show-cause-notice-to-vijay-shekhar-sharma/articleshow/112803520.cms\" target=\"_blank\" title=\"Paytm Share Price\">Paytm Share Price</a><a data-ga-onclick=\"Nifty - href\" href=\"https://economictimes.indiatimes.com/markets/indices/nifty-50\" target=\"_blank\" title=\"Nifty\">Nifty</a><a data-ga-onclick=\"UltraTech Cement Q4 Results - href\" href=\"https://economictimes.indiatimes.com/markets/stocks/earnings/ultratech-cement-q4-results-profit-rises-36-yoy-to-rs-2258-crore-beats-estimates/articleshow/109689800.cms\" target=\"_blank\" title=\"UltraTech Cement Q4 Results\">UltraTech Cement Q4 Results</a><a data-ga-onclick=\"Tata Consumer Q4 results - href\" href=\"https://economictimes.indiatimes.com/markets/stocks/news/tata-consumer-q4-results-today-what-to-expect-and-how-to-trade-the-stock/articleshow/109518330.cms\" target=\"_blank\" title=\"Tata Consumer Q4 results\">Tata Consumer Q4 results</a><a data-ga-onclick=\"RIL Share Price - href\" href=\"https://economictimes.indiatimes.com/markets/stocks/news/ril-shares-see-target-prices-going-up-to-rs-3500-after-q4-results-time-to-buy/articleshow/109519153.cms\" target=\"_blank\" title=\"RIL Share Price\">RIL Share Price</a><a data-ga-onclick=\"Q4 results today - href\" href=\"https://economictimes.indiatimes.com/markets/stocks/earnings/q4-results-today-tata-consumer-icici-pru-among-15-companies-to-declare-earnings/articleshow/109517538.cms\" target=\"_blank\" title=\"Q4 results today\">Q4 results today</a><a data-ga-onclick=\"GSPL Share Price - href\" href=\"https://economictimes.indiatimes.com/markets/stocks/news/gspl-skids-19-after-regulator-halves-hp-transmission-tariff/articleshow/109514979.cms\" target=\"_blank\" title=\"GSPL Share Price\">GSPL Share Price</a><a data-ga-onclick=\"Mahindra Finance Q4 results - href\" href=\"https://economictimes.indiatimes.com/markets/stocks/earnings/mahindra-finance-to-delay-q4-results-due-to-detected-retail-vehicle-loan-financial-fraud/articleshow/109517582.cms\" target=\"_blank\" title=\"Mahindra Finance Q4 results\">Mahindra Finance Q4 results</a><a data-ga-onclick=\"JNK India IPO - href\" href=\"https://economictimes.indiatimes.com/markets/ipos/fpos/jnk-india-ipo-opens-for-subscription-should-you-bid/articleshow/109517978.cms\" target=\"_blank\" title=\"JNK India IPO\">JNK India IPO</a><a data-ga-onclick=\"RIL Q4 Results - href\" href=\"https://economictimes.indiatimes.com/markets/stocks/live-blog/ril-q4-results-live-updates-reliance-jio-q4-earnings-revenue-profit-loss-pat-fy24-mukesh-ambani-latest-news-22-april-2023/liveblog/109489489.cms\" target=\"_blank\" title=\"RIL Q4 Results\">RIL Q4 Results</a><a data-ga-onclick=\"RIL Q4 results today - href\" href=\"https://economictimes.indiatimes.com/markets/stocks/earnings/ril-q4-results-today-key-things-to-track-stock-trading-tips/articleshow/109488187.cms\" target=\"_blank\" title=\"RIL Q4 results today\">RIL Q4 results today</a></div></div><div class=\"content_pllist_data\"><p>Hot on Web</p><div class=\"show_hide_pllist_data\">MORE</div><div class=\"footLinks\" data-ga-action=\"Hot on Web\" data-msid=\"7843655\"><a data-ga-onclick=\"Sensex Today - href\" href=\"https://m.economictimes.com/markets/stocks/live-blog/bse-sensex-today-live-nifty-stock-market-updates-3-september-2024/liveblog/113007844.cms\" target=\"_blank\" title=\"Sensex Today\">Sensex Today</a><a data-ga-onclick=\"HAL Share Price - href\" href=\"https://m.economictimes.com/markets/stocks/news/hal-shares-rally-5-on-rs-26000-crore-order-win-boost/articleshow/113011503.cms\" target=\"_blank\" title=\"HAL Share Price\">HAL Share Price</a><a data-ga-onclick=\"Vedanta Share Price - href\" href=\"https://m.economictimes.com/markets/stocks/news/vedanta-shares-rise-2-after-approving-rs-20-interim-dividend/articleshow/113011605.cms\" target=\"_blank\" title=\"Vedanta Share Price\">Vedanta Share Price</a><a data-ga-onclick=\"Premier Energies Share Price - href\" href=\"https://m.economictimes.com/markets/stocks/news/premier-energies-shares-debut-with-120-premium-over-issue-price/articleshow/113010271.cms\" target=\"_blank\" title=\"Premier Energies Share Price\">Premier Energies Share Price</a><a data-ga-onclick=\"Bajaj Housing Finance IPO - href\" href=\"https://m.economictimes.com/markets/ipos/fpos/bajaj-housing-finance-announces-rs-66-70-price-band-for-rs-6560-crore-ipo-check-details/articleshow/113009047.cms\" target=\"_blank\" title=\"Bajaj Housing Finance IPO\">Bajaj Housing Finance IPO</a><a data-ga-onclick=\"Stocks in News - href\" href=\"https://m.economictimes.com/markets/stocks/news/stocks-in-news-icici-bank-vedanta-hal-adani-green-medi-assist-healthcare/articleshow/113007549.cms\" target=\"_blank\" title=\"Stocks in News\">Stocks in News</a><a data-ga-onclick=\"Firing at AP Dhillon's Home - href\" href=\"https://m.economictimes.com/news/india/shooting-incident-outside-punjabi-singer-ap-dhillons-vancouver-home-report/articleshow/112996162.cms\" target=\"_blank\" title=\"Firing at AP Dhillon's Home\">Firing at AP Dhillon's Home</a><a data-ga-onclick=\"Vedanta Share Price - href\" href=\"https://m.economictimes.com/markets/stocks/news/vedanta-board-approves-third-interim-dividend-of-rs-20/share-company-payout-at-rs-7821-crore/articleshow/112995084.cms\" target=\"_blank\" title=\"Vedanta Share Price\">Vedanta Share Price</a><a data-ga-onclick=\"FirstCry Share Price - href\" href=\"https://m.economictimes.com/markets/stocks/news/firstcry-shares-fall-3-after-q1-results-show-wider-sequential-loss/articleshow/112987766.cms\" target=\"_blank\" title=\"FirstCry Share Price\">FirstCry Share Price</a><a data-ga-onclick=\"Baazar Style Retail IPO - href\" href=\"https://m.economictimes.com/markets/ipos/fpos/baazar-style-retail-ipo-sails-through-on-day-2-gmp-declines-to-18/articleshow/112986705.cms\" target=\"_blank\" title=\"Baazar Style Retail IPO\">Baazar Style Retail IPO</a><a data-ga-onclick=\"Varun Beverages Shares Split - href\" href=\"https://m.economictimes.com/markets/stocks/news/varun-beverages-announces-record-date-for-25-stock-split-shares-rise-2/articleshow/112985246.cms\" target=\"_blank\" title=\"Varun Beverages Shares Split\">Varun Beverages Shares Split</a><a data-ga-onclick=\"NBCC Share Price - href\" href=\"https://m.economictimes.com/markets/stocks/news/nbcc-shares-rally-3-after-announcing-record-date-for-bonus-issue/articleshow/112984898.cms\" target=\"_blank\" title=\"NBCC Share Price\">NBCC Share Price</a><a data-ga-onclick=\"Tata Curvv - href\" href=\"https://m.economictimes.com/industry/auto/cars-uvs/tata-curvv-ice-price-announced-heres-variant-wise-price-features-specs-of-suv-coupe/articleshow/112982583.cms\" target=\"_blank\" title=\"Tata Curvv\">Tata Curvv</a><a data-ga-onclick=\"NBCC Bonus Share - href\" href=\"https://m.economictimes.com/markets/stocks/news/nbcc-announces-issue-of-bonus-shares-in-12-ratio-to-use-rs-90-crore-free-reserve-for-this-purpose/articleshow/112953554.cms\" target=\"_blank\" title=\"NBCC Bonus Share\">NBCC Bonus Share</a><a data-ga-onclick=\"Gujarat Gas Share Price - href\" href=\"https://m.economictimes.com/markets/stocks/news/gujarat-gas-shares-skyrocket-13-after-announcing-restructuring-of-group-entities-should-you-invest/articleshow/112981589.cms\" target=\"_blank\" title=\"Gujarat Gas Share Price\">Gujarat Gas Share Price</a><a data-ga-onclick=\"Gala Precision IPO - href\" href=\"https://m.economictimes.com/markets/ipos/fpos/gala-precision-engineering-ipo-opens-for-subscription-should-you-bid/articleshow/112980670.cms\" target=\"_blank\" title=\"Gala Precision IPO\">Gala Precision IPO</a><a data-ga-onclick=\"Amanatullah Khan - href\" href=\"https://m.economictimes.com/news/politics-and-nation/aap-mla-amanatullah-khan-alleges-enforcement-directorate-at-his-house-to-arrest-him/articleshow/112979039.cms\" target=\"_blank\" title=\"Amanatullah Khan\">Amanatullah Khan</a></div></div><div class=\"content_pllist_data\"><p>In Case you missed it</p><div class=\"show_hide_pllist_data\">MORE</div><div class=\"footLinks\" data-ga-action=\"In Case you missed it\" data-msid=\"59486852\"><a data-ga-onclick=\"Vedanta Share Price - href\" href=\"https://m.economictimes.com/markets/stocks/news/vedanta-shares-rise-2-after-approving-rs-20-interim-dividend/articleshow/113011605.cms\" target=\"_blank\" title=\"Vedanta Share Price\">Vedanta Share Price</a><a data-ga-onclick=\"Premier Energies IPO - href\" href=\"https://m.economictimes.com/markets/stocks/news/premier-energies-shares-debut-with-120-premium-over-issue-price/articleshow/113010271.cms\" target=\"_blank\" title=\"Premier Energies IPO\">Premier Energies IPO</a><a data-ga-onclick=\"Bajaj Housing Finance IPO - href\" href=\"https://m.economictimes.com/markets/ipos/fpos/bajaj-housing-finance-announces-rs-66-70-price-band-for-rs-6560-crore-ipo-check-details/articleshow/113009047.cms\" target=\"_blank\" title=\"Bajaj Housing Finance IPO\">Bajaj Housing Finance IPO</a><a data-ga-onclick=\"NBCC Share Price - href\" href=\"https://m.economictimes.com/markets/stocks/news/nbcc-shares-rally-3-after-announcing-record-date-for-bonus-issue/articleshow/112984898.cms\" target=\"_blank\" title=\"NBCC Share Price\">NBCC Share Price</a><a data-ga-onclick=\"NBCC Bonus Share - href\" href=\"https://m.economictimes.com/markets/stocks/news/nbcc-announces-issue-of-bonus-shares-in-12-ratio-to-use-rs-90-crore-free-reserve-for-this-purpose/articleshow/112953554.cms\" target=\"_blank\" title=\"NBCC Bonus Share\">NBCC Bonus Share</a><a data-ga-onclick=\"Bharti Hexacom Share Price - href\" href=\"https://m.economictimes.com/markets/stocks/news/bharti-hexacom-shares-rally-6-after-citi-initiates-coverage-predicting-a-20-upside/articleshow/112917041.cms\" target=\"_blank\" title=\"Bharti Hexacom Share Price\">Bharti Hexacom Share Price</a><a data-ga-onclick=\"Paytm Share Price - href\" href=\"https://m.economictimes.com/markets/stocks/news/paytm-shares-soar-over-12-amid-high-volume/articleshow/112922210.cms\" target=\"_blank\" title=\"Paytm Share Price\">Paytm Share Price</a><a data-ga-onclick=\"SpiceJet Share Price - href\" href=\"https://m.economictimes.com/markets/stocks/news/spicejet-shares-slip-over-6-as-dgca-places-airline-under-enhanced-surveillance/articleshow/112914148.cms\" target=\"_blank\" title=\"SpiceJet Share Price\">SpiceJet Share Price</a><a data-ga-onclick=\"Balrampur Chini Share Price - href\" href=\"https://m.economictimes.com/markets/stocks/news/sugar-ethanol-stocks-surge-up-to-13-as-govt-set-to-lift-cap-on-sugar-diversion-for-ethanol-production/articleshow/112913816.cms\" target=\"_blank\" title=\"Balrampur Chini Share Price\">Balrampur Chini Share Price</a><a data-ga-onclick=\"Baazar Style Retail IPO - href\" href=\"https://m.economictimes.com/markets/ipos/fpos/rekha-jhunjhunwala-backed-baazar-style-retail-ipo-opens-for-subscription-should-you-bid/articleshow/112912925.cms\" target=\"_blank\" title=\"Baazar Style Retail IPO\">Baazar Style Retail IPO</a><a data-ga-onclick=\"Boss Packaging Solutions IPO - href\" href=\"https://m.economictimes.com/markets/ipos/fpos/boss-packaging-solutions-ipo-check-issue-size-price-band-gmp-among-other-details/articleshow/112913426.cms\" target=\"_blank\" title=\"Boss Packaging Solutions IPO\">Boss Packaging Solutions IPO</a><a data-ga-onclick=\"RIL AGM 2024 Live Updates - href\" href=\"https://m.economictimes.com/markets/stocks/live-blog/reliance-agm-2024-annual-general-meeting-live-news-updates-reliance-retail-jio-ipo-past-ril-agm-announcements/liveblog/112881575.cms\" target=\"_blank\" title=\"RIL AGM 2024 Live Updates\">RIL AGM 2024 Live Updates</a><a data-ga-onclick=\"Gautam Adani Net Worth Hurun List - href\" href=\"https://m.economictimes.com/markets/stocks/news/gautam-adani-family-wealth-surges-95-in-1-year-to-rs-11-6-lakh-crore-hurun-rich-list/amp_articleshow/112886468.cms\" target=\"_blank\" title=\"Gautam Adani Net Worth Hurun List\">Gautam Adani Net Worth Hurun List</a><a data-ga-onclick=\"TV18 Share Price - href\" href=\"https://m.economictimes.com/markets/stocks/news/tv18-network-18-shares-surge-up-to-13-on-cci-approval-of-ril-disney-merger/articleshow/112886023.cms\" target=\"_blank\" title=\"TV18 Share Price\">TV18 Share Price</a><a data-ga-onclick=\"PB Fintech Share Price - href\" href=\"https://m.economictimes.com/markets/stocks/news/pb-fintech-shares-jump-over-3-after-rs-1610-crore-block-deal/articleshow/112885867.cms\" target=\"_blank\" title=\"PB Fintech Share Price\">PB Fintech Share Price</a><a data-ga-onclick=\"Reliance Power Share Price - href\" href=\"https://m.economictimes.com/markets/stocks/news/reliance-power-shares-continue-their-losing-streak-tumble-14-in-3-days/articleshow/112824479.cms\" target=\"_blank\" title=\"Reliance Power Share Price\">Reliance Power Share Price</a><a data-ga-onclick=\"Ambuja Cement Share Price - href\" href=\"https://m.economictimes.com/markets/stocks/news/adani-founders-to-raise-500-million-from-ambuja-cement-share-sale/articleshow/112716790.cms\" target=\"_blank\" title=\"Ambuja Cement Share Price\">Ambuja Cement Share Price</a></div></div><div class=\"content_pllist_data\"><p>Top Calculators</p><div class=\"show_hide_pllist_data\">MORE</div><div class=\"footLinks\" data-ga-action=\"Top Calculators\" data-msid=\"89402571\"><a data-ga-onclick=\"Standard Deviation Calculator - href\" href=\"https://economictimes.indiatimes.com/news/standard-deviation-variance-calculator\" target=\"_blank\" title=\"Standard Deviation Calculator\">Standard Deviation Calculator</a><a data-ga-onclick=\"Income Tax Calculator - href\" href=\"https://economictimes.indiatimes.com/wealth/calculators/income-tax-calculator\" target=\"_blank\" title=\"Income Tax Calculator\">Income Tax Calculator</a><a data-ga-onclick=\"Age Calculator - href\" href=\"https://economictimes.indiatimes.com/news/age-calculator\" target=\"_blank\" title=\"Age Calculator\">Age Calculator</a><a data-ga-onclick=\"Time Calculator - href\" href=\"https://economictimes.indiatimes.com/news/time-calculator\" target=\"_blank\" title=\"Time Calculator\">Time Calculator</a><a data-ga-onclick=\"BMI Calculator - href\" href=\"https://economictimes.indiatimes.com/magazines/panache/bmi-calculator\" target=\"_blank\" title=\"BMI Calculator\">BMI Calculator</a><a data-ga-onclick=\"GPA Calculator - href\" href=\"https://economictimes.indiatimes.com/news/gpa-calculator\" target=\"_blank\" title=\"GPA Calculator\">GPA Calculator</a><a data-ga-onclick=\"Statistics Calculator - href\" href=\"https://economictimes.indiatimes.com/news/statistics-calculator\" target=\"_blank\" title=\"Statistics Calculator\">Statistics Calculator</a><a data-ga-onclick=\"Fraction Calculator - href\" href=\"https://economictimes.indiatimes.com/news/fraction-calculator\" target=\"_blank\" title=\"Fraction Calculator\">Fraction Calculator</a><a data-ga-onclick=\"Diabetes Risk Calculator - href\" href=\"https://economictimes.indiatimes.com/magazines/panache/diabetes-risk-calculator\" target=\"_blank\" title=\"Diabetes Risk Calculator\">Diabetes Risk Calculator</a><a data-ga-onclick=\"Date Calculator - href\" href=\"https://economictimes.indiatimes.com/news/date-calculator\" target=\"_blank\" title=\"Date Calculator\">Date Calculator</a><a data-ga-onclick=\"Log Calculator - href\" href=\"https://economictimes.indiatimes.com/news/log-calculator\" target=\"_blank\" title=\"Log Calculator\">Log Calculator</a></div></div><div class=\"content_pllist_data\" data-attr=\"interlinking\"><div class=\"show_hide_interlinking\">MORE</div><p>Top Searched Companies</p><div class=\"footLinks\"><a class=\"ellipsis\" href=\"https://economictimes.indiatimes.com/tata-power-company-ltd/stocks/companyid-12918.cms\" target=\"_blank\">Tata Power Share Price</a><a class=\"ellipsis\" href=\"https://economictimes.indiatimes.com/reliance-industries-ltd/stocks/companyid-13215.cms\" target=\"_blank\">RIL Share Price</a><a class=\"ellipsis\" href=\"https://economictimes.indiatimes.com/adani-total-gas-ltd/stocks/companyid-32503.cms\" target=\"_blank\">Adani Gas Share Price</a><a class=\"ellipsis\" href=\"https://economictimes.indiatimes.com/adani-transmission-ltd/stocks/companyid-57724.cms\" target=\"_blank\">Adani Transmission Share Price</a><a class=\"ellipsis\" href=\"https://economictimes.indiatimes.com/hdfc-bank-ltd/stocks/companyid-9195.cms\" target=\"_blank\">HDFC Bank Share Price</a><a class=\"ellipsis\" href=\"https://economictimes.indiatimes.com/tata-motors-ltd/stocks/companyid-12934.cms\" target=\"_blank\">Tata Motors Share Price</a><a class=\"ellipsis\" href=\"https://economictimes.indiatimes.com/adani-wilmar-ltd/stocks/companyid-16234.cms\" target=\"_blank\">Adani Wilmar Ltd Share Price</a><a class=\"ellipsis\" href=\"https://economictimes.indiatimes.com/ambuja-cements-ltd/stocks/companyid-13643.cms\" target=\"_blank\">Ambuja Cements Share Price</a><a class=\"ellipsis\" href=\"https://economictimes.indiatimes.com/state-bank-of-india/stocks/companyid-11984.cms\" target=\"_blank\">SBI Share Price</a><a class=\"ellipsis\" href=\"https://economictimes.indiatimes.com/indusind-bank-ltd/stocks/companyid-9196.cms\" target=\"_blank\">IndusInd Bank Share Price</a><a class=\"ellipsis\" href=\"https://economictimes.indiatimes.com/yes-bank-ltd/stocks/companyid-16552.cms\" target=\"_blank\">YES Bank Share Price</a><a class=\"ellipsis\" href=\"https://economictimes.indiatimes.com/tata-steel-ltd/stocks/companyid-12902.cms\" target=\"_blank\">Tata Steel Share Price</a><a class=\"ellipsis\" href=\"https://economictimes.indiatimes.com/adani-green-energy-ltd/stocks/companyid-64847.cms\" target=\"_blank\">Adani Green Share Price</a><a class=\"ellipsis\" href=\"https://economictimes.indiatimes.com/adani-power-ltd/stocks/companyid-23479.cms\" target=\"_blank\">Adani Power Share Price</a><a class=\"ellipsis\" href=\"https://economictimes.indiatimes.com/vedanta-ltd/stocks/companyid-13111.cms\" target=\"_blank\">Vedanta  Share Price</a><a class=\"ellipsis\" href=\"https://economictimes.indiatimes.com/zomato-ltd/stocks/companyid-57948.cms\" target=\"_blank\">Zomato Ltd Share Price</a><a class=\"ellipsis\" href=\"https://economictimes.indiatimes.com/adani-enterprises-ltd/stocks/companyid-9074.cms\" target=\"_blank\">Adani Ent. Share Price</a><a class=\"ellipsis\" href=\"https://economictimes.indiatimes.com/itc-ltd/stocks/companyid-13554.cms\" target=\"_blank\">ITC Share Price</a><a class=\"ellipsis\" href=\"https://economictimes.indiatimes.com/commoditysummary/symbol-LEADMINI.cms\" target=\"_blank\">Leadmini Rate</a><a class=\"ellipsis\" href=\"https://economictimes.indiatimes.com/adani-ports-special-economic-zone-ltd/stocks/companyid-20316.cms\" target=\"_blank\">Adani Ports SEZ Share Price</a></div></div><div class=\"content_pllist_data\" data-attr=\"interlinking\"><div class=\"show_hide_interlinking\">MORE</div><p>Top Commodities</p><div class=\"footLinks\"><a class=\"ellipsis\" href=\"https://economictimes.indiatimes.com/markets/gold-rate-in-india-today\" target=\"_blank\">Gold Rate</a><a class=\"ellipsis\" href=\"https://economictimes.indiatimes.com/commoditysummary/symbol-COTTON.cms\" target=\"_blank\">Cotton Rate</a><a class=\"ellipsis\" href=\"https://economictimes.indiatimes.com/commoditysummary/symbol-KAPAS.cms\" target=\"_blank\">Kapas Rate</a><a class=\"ellipsis\" href=\"https://economictimes.indiatimes.com/commoditysummary/symbol-LEAD.cms\" target=\"_blank\">Lead Rate</a><a class=\"ellipsis\" href=\"https://economictimes.indiatimes.com/commoditysummary/symbol-MENTHAOIL.cms\" target=\"_blank\">Menthaoil Rate</a><a class=\"ellipsis\" href=\"https://economictimes.indiatimes.com/commoditysummary/symbol-SILVERMIC.cms\" target=\"_blank\">Silvermic Rate</a><a class=\"ellipsis\" href=\"https://economictimes.indiatimes.com/markets/gold-rate-in-delhi-today\" target=\"_blank\">Gold Rate In Delhi</a><a class=\"ellipsis\" href=\"https://economictimes.indiatimes.com/commoditysummary/symbol-COPPER.cms\" target=\"_blank\">Copper Rate</a><a class=\"ellipsis\" href=\"https://economictimes.indiatimes.com/markets/gold-rate-in-mumbai-today\" target=\"_blank\">Gold Rate In Mumbai</a><a class=\"ellipsis\" href=\"https://economictimes.indiatimes.com/commoditysummary/symbol-NATURALGAS.cms\" target=\"_blank\">Naturalgas Rate</a><a class=\"ellipsis\" href=\"https://economictimes.indiatimes.com/markets/gold-rate-in-hyderabad-today\" target=\"_blank\">Gold Rate In Hyderabad</a><a class=\"ellipsis\" href=\"https://economictimes.indiatimes.com/commoditysummary/symbol-ALUMINIUM.cms\" target=\"_blank\">Aluminium Rate</a><a class=\"ellipsis\" href=\"https://economictimes.indiatimes.com/commoditysummary/symbol-SILVERM.cms\" target=\"_blank\">Silverm Rate</a><a class=\"ellipsis\" href=\"https://economictimes.indiatimes.com/commoditysummary/symbol-GOLDM.cms\" target=\"_blank\">Goldm Rate</a><a class=\"ellipsis\" href=\"https://economictimes.indiatimes.com/commoditysummary/symbol-GOLDPETAL.cms\" target=\"_blank\">Goldpetal Rate</a><a class=\"ellipsis\" href=\"https://economictimes.indiatimes.com/commoditysummary/symbol-ALUMINI.cms\" target=\"_blank\">Alumini Rate</a><a class=\"ellipsis\" href=\"https://economictimes.indiatimes.com/markets/gold-rate-in-kolkata-today\" target=\"_blank\">Gold Rate In Kolkata</a><a class=\"ellipsis\" href=\"https://economictimes.indiatimes.com/commoditysummary/symbol-ZINCMINI.cms\" target=\"_blank\">Zincmini Rate</a><a class=\"ellipsis\" href=\"https://economictimes.indiatimes.com/markets/gold-rate-in-hyderabad-today\" target=\"_blank\">Gold Rate In Hyderabad</a><a class=\"ellipsis\" href=\"https://economictimes.indiatimes.com/commoditysummary/symbol-CRUDEOIL.cms\" target=\"_blank\">Crudeoil Rate</a><a class=\"ellipsis\" href=\"https://economictimes.indiatimes.com/commoditysummary/symbol-SILVER.cms\" target=\"_blank\">Silver Rate</a><a class=\"ellipsis\" href=\"https://economictimes.indiatimes.com/commoditysummary/symbol-NICKEL.cms\" target=\"_blank\">Nickel Rate</a><a class=\"ellipsis\" href=\"https://economictimes.indiatimes.com/commoditysummary/symbol-ZINC.cms\" target=\"_blank\">Zinc Rate</a><a class=\"ellipsis\" href=\"https://economictimes.indiatimes.com/markets/gold-rate-in-bangalore-today\" target=\"_blank\">Gold Rate In Bangalore</a><a class=\"ellipsis\" href=\"https://economictimes.indiatimes.com/commoditysummary/symbol-GOLDGUINEA.cms\" target=\"_blank\">Goldguinea Rate</a><a class=\"ellipsis\" href=\"https://economictimes.indiatimes.com/markets/gold-rate-in-chennai-today\" target=\"_blank\">Gold Rate In Chennai</a></div></div><div class=\"content_pllist_data\" data-attr=\"interlinking\"><div class=\"show_hide_interlinking\">MORE</div><p>Top Prime Articles</p><div class=\"footLinks\"><a class=\"ellipsis\" href=\"https://economictimes.indiatimes.com/markets/gold-rate-in-kolkata-today\" target=\"_blank\">Gold Rate In Kolkata</a><a class=\"ellipsis\" href=\"https://economictimes.indiatimes.com/prime/money-and-markets/falling-off-the-momentum-why-retail-investors-are-losing-money-after-witnessing-a-long-rally/primearticleshow/98102486.cms\" target=\"_blank\">Falling Off The Momentum Why Retail Investors Are Losing Money After Witnessing A Long Rally</a><a class=\"ellipsis\" href=\"https://economictimes.indiatimes.com/prime/energy/after-adani-stocks-hindenburg-may-have-crashed-into-indias-green-hydrogen-mission-too/primearticleshow/98253923.cms\" target=\"_blank\">After Adani Stocks Hindenburg May Have Crashed Into Indias Green Hydrogen Mission Too</a><a class=\"ellipsis\" href=\"https://economictimes.indiatimes.com/prime/money-and-markets/is-nifty-next-50-a-good-bet-only-if-you-are-a-super-long-term-investor-/primearticleshow/98187444.cms\" target=\"_blank\">Is Nifty Next 50 A Good Bet Only If You Are A Super Long Term Investor</a><a class=\"ellipsis\" href=\"https://economictimes.indiatimes.com/prime/technology-and-startups/indian-it-companies-rode-the-cloud-wave-as-hyperscalers-growth-tapers-how-will-it-impact-them/primearticleshow/98254515.cms\" target=\"_blank\">Indian It Companies Rode The Cloud Wave As Hyperscalers Growth Tapers How Will It Impact Them</a><a class=\"ellipsis\" href=\"https://economictimes.indiatimes.com/prime/technology-and-startups/we-want-to-solve-the-wazirx-binance-issue-once-and-for-all-nischal-shetty/primearticleshow/98253606.cms\" target=\"_blank\">We Want To Solve The Wazirx Binance Issue Once And For All Nischal Shetty</a><a class=\"ellipsis\" href=\"https://economictimes.indiatimes.com/prime/consumer/reliance-jiocinema-is-streaming-ipl-2023-for-free-will-this-now-disrupt-the-ott-business/primearticleshow/98188026.cms\" target=\"_blank\">Reliance Jiocinema Is Streaming Ipl 2023 For Free Will This Now Disrupt The Ott Business</a><a class=\"ellipsis\" href=\"https://economictimes.indiatimes.com/prime/money-and-markets/adani-group-stocks-will-averaging-out-work-for-retail-investors/primearticleshow/98159939.cms\" target=\"_blank\">Adani Group Stocks Will Averaging Out Work For Retail Investors</a><a class=\"ellipsis\" href=\"https://economictimes.indiatimes.com/prime/money-and-markets/mens-underwear-sales-are-falling-should-indian-economy-prepare-for-a-below-the-belt-jolt/primearticleshow/98254338.cms\" target=\"_blank\">Mens Underwear Sales Are Falling Should Indian Economy Prepare For A Below The Belt Jolt</a><a class=\"ellipsis\" href=\"https://economictimes.indiatimes.com/prime/media-and-communications/no-5g-service-lack-of-fresh-funds-could-further-hurt-vodafone-idea-even-as-airtel-jio-leap-ahead/primearticleshow/98160755.cms\" target=\"_blank\">No 5g Service Lack Of Fresh Funds Could Further Hurt Vodafone Idea Even As Airtel Jio Leap Ahead</a></div></div><div class=\"content_pllist_data\" data-attr=\"interlinking\"><div class=\"show_hide_interlinking\">MORE</div><p>Top Story Listing</p><div class=\"footLinks\"><a class=\"ellipsis\" href=\"https://economictimes.indiatimes.com/news/tcs-layoffs\" target=\"_blank\">Tcs Layoffs</a><a class=\"ellipsis\" href=\"https://economictimes.indiatimes.com/news/earthquake-in-delhi\" target=\"_blank\">Earthquake In Delhi</a><a class=\"ellipsis\" href=\"/industry/media/entertainment/pathaan-and-4-other-films-that-crossed-rs-1000-crore-at-box-office/dangal/slideshow/98123525.cms\" target=\"_blank\">Dangal</a><a class=\"ellipsis\" href=\"https://economictimes.indiatimes.com/wealth/invest/epfo-pension\" target=\"_blank\">Epfo Pension</a><a class=\"ellipsis\" href=\"https://economictimes.indiatimes.com/markets/nifty-crash\" target=\"_blank\">Nifty Crash</a><a class=\"ellipsis\" href=\"https://economictimes.indiatimes.com/wealth/insure/lic\" target=\"_blank\">Lic</a><a class=\"ellipsis\" href=\"https://economictimes.indiatimes.com/markets/stock-market-crash\" target=\"_blank\">Stock Market Crash</a><a class=\"ellipsis\" href=\"https://economictimes.indiatimes.com/news/earthquake-today\" target=\"_blank\">Earthquake Today</a><a class=\"ellipsis\" href=\"https://economictimes.indiatimes.com/markets/sgx-nifty\" target=\"_blank\">Sgx Nifty</a><a class=\"ellipsis\" href=\"https://economictimes.indiatimes.com/wealth/invest/epfo\" target=\"_blank\">Epfo</a></div></div><div class=\"content_pllist_data\" data-attr=\"interlinking\"><div class=\"show_hide_interlinking\">MORE</div><p>Top Market Pages</p><div class=\"footLinks\"><a class=\"ellipsis\" href=\"https://economictimes.indiatimes.com/definition/fully-drawn-advance\" target=\"_blank\">Fully Drawn Advance</a></div></div><div class=\"content_pllist_data\" data-attr=\"interlinking\"><div class=\"show_hide_interlinking\">MORE</div><p>Top Slideshow</p><div class=\"footLinks\"><a class=\"ellipsis\" href=\"/news/india/feeling-uneasy-after-breakfast-stop-consuming-these-foods/raw-vegetables/slideshow/98015539.cms\" target=\"_blank\">Raw Vegetables</a><a class=\"ellipsis\" href=\"/markets/stocks/news/itc-3-banks-among-10-stocks-that-received-price-upgrades-in-one-month/axis-bank/slideshow/97999856.cms\" target=\"_blank\">Axis Bank</a><a class=\"ellipsis\" href=\"https://economictimes.indiatimes.com/prime/pharma-and-healthcare/how-rajendra-badwe-is-making-cancer-treatment-affordable-by-repurposing-easily-available-drugs/primearticleshow/97809191.cms\" target=\"_blank\">How Rajendra Badwe Is Making Cancer Treatment Affordable By Repurposing Easily Available Drugs</a><a class=\"ellipsis\" href=\"/markets/stocks/news/trading-guide-wipro-among-3-stock-recommendations-for-friday/stock-ideas/slideshow/97559241.cms\" target=\"_blank\">Stock Ideas</a><a class=\"ellipsis\" href=\"/markets/stocks/news/budget-2023-top-10-stocks-in-focus-after-sitharamans-announcements/icici-bank/slideshow/97524965.cms\" target=\"_blank\">Icici Bank</a></div></div><div class=\"content_pllist_data\" data-attr=\"interlinking\"><div class=\"show_hide_interlinking\">MORE</div><p>Top Videos</p><div class=\"footLinks\"><a class=\"ellipsis\" href=\"https://economictimes.indiatimes.com/magazines/panache/google-celebrates-bubble-tea-with-interactive-doodle-make-your-own-digital-bubble-tea/videoshow/97410867.cms\" target=\"_blank\">Google Celebrates Bubble Tea With Interactive Doodle Make Your Own Digital Bubble Tea</a><a class=\"ellipsis\" href=\"https://economictimes.indiatimes.com/magazines/panache/pathaan-box-office-collection-shah-rukh-khan-starrer-movie-collects-rs-429-crore-worldwide-in-4-days/videoshow/97420870.cms\" target=\"_blank\">Pathaan Box Office Collection Shah Rukh Khan Starrer Movie Collects Rs 429 Crore Worldwide In 4 Days</a><a class=\"ellipsis\" href=\"https://economictimes.indiatimes.com/news/india/caught-on-camera-5-year-old-child-bitten-to-death-by-street-dogs-in-hyderabad/videoshow/98114830.cms\" target=\"_blank\">Caught On Camera 5 Year Old Child Bitten To Death By Street Dogs In Hyderabad</a><a class=\"ellipsis\" href=\"https://economictimes.indiatimes.com/magazines/panache/pk-rosy-google-honours-first-female-lead-in-malayalam-cinema-with-a-doodle/videoshow/97791800.cms\" target=\"_blank\">Pk Rosy Google Honours First Female Lead In Malayalam Cinema With A Doodle</a><a class=\"ellipsis\" href=\"https://economictimes.indiatimes.com/topic/delhi-riots\" target=\"_blank\">Delhi Riots</a></div></div><div class=\"lazyWidget\" data-url=\"/otherfooterlinks.cms\" id=\"otherFooterLinks\"></div><style>\n",
       "\t        .latestnews_wrap{display:flex;flex-wrap:wrap;row-gap:10px;}\n",
       "\t        .latestnews_wrap a{color:#fff;width:168px;font-size:13px;line-height:18px;margin-right:20px;overflow: hidden;text-overflow: ellipsis;display: -webkit-box;-webkit-line-clamp: 2;-webkit-box-orient: vertical;height:36px;text-decoration:none;}\n",
       "\t        .prime_header .latestnews_wrap a{color:#000;}\n",
       "\t    </style><div id=\"latestnews_footer\"><p>Latest News</p><div class=\"latestnews_wrap\"><a href=\"https://economictimes.indiatimes.com/tech/artificial-intelligence/how-reliance-jios-latest-ai-strategy-could-disrupt-the-dominance-of-big-tech/articleshow/113013747.cms\" target=\"_blank\">How Reliance Jio’s latest AI strategy could disrupt the dominance of Big Tech</a><a href=\"https://economictimes.indiatimes.com/industry/banking/finance/rbi-will-have-its-say-whenever-digital-lending-creates-risk/articleshow/113013707.cms\" target=\"_blank\">RBI will have its say whenever digital lending creates risk</a><a href=\"https://economictimes.indiatimes.com/magazines/panache/from-hospital-bed-a-25-year-old-it-professional-warns-about-real-price-of-sacrificing-sleep-and-no-diet-plan/articleshow/113013044.cms\" target=\"_blank\">From hospital bed, a 25-year-old IT professional warns about real price of sacrificing sleep and no diet plan</a><a href=\"https://economictimes.indiatimes.com/markets/stocks/news/valuations-business-risks-are-two-different-things-5-midcap-stocks-from-different-sectors-with-upside-potential-of-up-to-27/articleshow/113013633.cms\" target=\"_blank\">Valuations &amp; business risks are two different things: 5 midcap stocks from different sectors with upside potential of up to 27%</a><a href=\"https://economictimes.indiatimes.com/tech/artificial-intelligence/oil-and-gas-companies-dig-deep-for-ai-gold/articleshow/113013503.cms\" target=\"_blank\">Oil and gas companies dig deep for AI gold</a><a href=\"https://economictimes.indiatimes.com/news/india/vijayawada-flood-andhra-telangana-to-receive-more-rain-prakasam-barrage-gates-damaged-by-boat-collision/articleshow/113012074.cms\" target=\"_blank\">Vijayawada Flood: Andhra, Telangana to receive more rain; Prakasam barrage gates damaged by boat collision</a><a href=\"https://economictimes.indiatimes.com/news/defence/conflict-creditors-and-a-car-crash-how-ukraine-clinched-a-wartime-debt-restructuring/articleshow/113013425.cms\" target=\"_blank\">Conflict, creditors and a car crash: How Ukraine clinched a wartime debt restructuring</a><a href=\"https://economictimes.indiatimes.com/news/sports/india-pacer-mohammed-shami-turns-34-records-accomplishments-of-indias-world-cup-warrior/articleshow/113013376.cms\" target=\"_blank\">Indian pacer Mohammed Shami turns 34: Records, accomplishments of India's 'World Cup Warrior'</a><a href=\"https://economictimes.indiatimes.com/news/india/wolf-attacks-in-bahraich-total-number-of-people-injured-goes-up-to-34-says-community-doctor/articleshow/113013355.cms\" target=\"_blank\">Wolf attacks in Bahraich: Total number of people injured goes up to 34, says community doctor</a><a href=\"https://economictimes.indiatimes.com/news/india/how-3-bangladeshi-men-came-to-india-in-search-for-job-but-woke-up-to-one-missing-kidney/articleshow/113012015.cms\" target=\"_blank\">How 3 Bangladeshi men came to India in search for job but woke up to one 'missing' kidney</a><a href=\"https://economictimes.indiatimes.com/industry/transportation/railways/andhra-and-telangana-rains-railways-cancels-over-400-trains-heres-the-complete-list/articleshow/113012878.cms\" target=\"_blank\">Andhra and Telangana Rains: Railways cancels over 400 trains; Here's the complete list</a><a href=\"https://economictimes.indiatimes.com/wealth/invest/new-ppf-rules-from-october-1-2024-three-major-changes-to-public-provident-fund-rules/articleshow/113013075.cms\" target=\"_blank\">New PPF rules from October 1, 2024: Three major changes to Public Provident Fund rules</a><a href=\"https://economictimes.indiatimes.com/markets/stocks/news/psu-defence-stocks-grse-hal-mazagon-dock-rally-up-to-8-ahead-of-defence-ministry-meeting/articleshow/113013130.cms\" target=\"_blank\">PSU defence stocks GRSE, HAL, Mazagon Dock rally up to 8% ahead of defence ministry meeting</a><a href=\"https://economictimes.indiatimes.com/mf/analysis/defensive-approach-based-mutual-funds-rule-return-chart-in-august-offer-up-to-6-return/articleshow/113013077.cms\" target=\"_blank\">Defensive approach-based mutual funds rule return chart in August, offer up to 6% return</a><a href=\"https://economictimes.indiatimes.com/news/elections/assembly-elections/jammu-kashmir/jammu-votes-after-10-years-amid-hope-for-change-under-shadow-of-terror-poll-cauldron-bubbles/articleshow/113012529.cms\" target=\"_blank\">Jammu votes after 10 years: Amid hope for change, under shadow of terror, poll cauldron bubbles</a></div></div><!--/footer_latestnews.cmspotime:1--><div class=\"clr\"></div></div></div><div class=\"logo_bottom\"><div class=\"contentwrapper clearfix\"><div class=\"flt box followUs\" data-ga-action=\"Follow Us\"><p>Follow us on:</p><a data-ga-onclick=\"Facebook - href\" href=\"https://www.facebook.com/EconomicTimes\" rel=\"nofollow\" target=\"_blank\" title=\"Facebook\"><span class=\"cSprite fb\"></span></a><a data-ga-onclick=\"Twitter - href\" href=\"https://twitter.com/economictimes\" rel=\"nofollow\" target=\"_blank\" title=\"Twitter\"><span class=\"cSprite twt\"></span></a><a data-ga-onclick=\"Linkedin - href\" href=\"https://www.linkedin.com/company/economictimes\" rel=\"nofollow\" target=\"_blank\" title=\"LinkedIn\"><span class=\"cSprite linkin\"></span></a><a data-ga-onclick=\"Rss - href\" href=\"https://economictimes.indiatimes.com/rss.cms\" target=\"_blank\" title=\"RSS\"><span class=\"cSprite rss\"></span></a></div><div class=\"flt box etDwnld\" data-ga-action=\"Download ET App\"><h2 class=\"uc\" style=\"text-transform: none;\">Download ET App:</h2><a aria-label=\"ET Play Store\" data-ga-onclick=\"Play Store - href\" href=\"https://play.google.com/store/apps/details?id=com.et.reader.activities\" rel=\"nofollow\" target=\"_blank\"><span class=\"cSprite gpdownload\"></span></a><a aria-label=\"ET App Store\" data-ga-onclick=\"App Store - href\" href=\"https://itunes.apple.com/us/app/the-economic-times/id474766725?ls=1&amp;t=8apple.com/us\" rel=\"nofollow\" target=\"_blank\"><span class=\"cSprite appstoredownload\"></span></a></div><div class=\"flr box\"><a aria-label=\"ET Prime\" data-ga-onclick=\"Subscription Flow#SYFT#Footer - url\" href=\"https://economictimes.indiatimes.com/prime?utm_source=economictimes.indiatimes.com&amp;utm_medium=footer&amp;utm_campaign=ETPrimedistribution\" target=\"_blank\"><span class=\"cSprite primeIcon\"></span></a></div><div class=\"flr box gdprEle\" data-ga-action=\"Subscribe Newsletter\"><a data-ga-onclick=\"Subscribe - href\" href=\"https://economictimes.indiatimes.com/subscription\" target=\"_blank\"><span class=\"cSprite nwesltsub\"></span><span class=\"footerSubscrTxt\">subscribe to our newsletter</span></a></div></div></div><div class=\"copyright\" data-ga-action=\"Copyright\">Copyright © 2024 Bennett, Coleman &amp; Co. Ltd. All rights reserved. For reprint rights: <a data-ga-onclick=\"Times Syndication Service - href\" href=\"https://timescontent.timesgroup.com/\" rel=\"nofollow\" target=\"_blank\">Times Syndication Service</a><button class=\"ot-sdk-show-settings\" id=\"ot-sdk-btn\"></button></div></footer></div><!--/etfooter_rewamp.cms?subsec1=1977021501&subsec2=1808152121&quicklink=1&pageType=&pageName=commoditysummary&section_id=1977021501&template_name=commoditysummary&sub_type=0potime:2--></main><span class=\"hidden livetv_popup\"></span><script src=\"https://economictimes.indiatimes.com/js_jquery351/v-8.cms\" type=\"text/javascript\"></script><script>\n",
       "\t\t    var language = '';\n",
       "\t\t    </script><script onerror=\"errorLogs(this)\" src=\"https://economictimes.indiatimes.com/js_common_new/v-823,minify-1.cms\" type=\"text/javascript\"></script><script>\n",
       "\t\t\t\t    var language = '';\n",
       "                    var longLangComma = '';\n",
       "                    var seoLang = '';\n",
       "                    var titleGainers = 'Gainers';\n",
       "\t\t\t\t    var titleLosers = 'Losers';\n",
       "\t\t\t\t    var moreGainerLosers = 'More';\n",
       "                </script><script onerror=\"errorLogs(this)\" src=\"https://economictimes.indiatimes.com/js_commodities_2/v-24,minify-1.cms\" type=\"text/javascript\"></script><script onerror=\"errorLogs(this)\" src=\"https://economictimes.indiatimes.com/js_datepicker/v-2,minify-1.cms\" type=\"text/javascript\"></script><script type=\"text/javascript\">var curSymbol = 'GOLD';\n",
       "\t\t\t\t</script><script>var visitedSymbol = 'GOLD';\n",
       "\t\t\t\tif($('h1.commodityTitle').contents().eq(0).text() == \"\") {\n",
       "\t\t\t\t    ga('send', 'event', 'Blank Tempate – Markets', 'Web/CommoditySummary', window.location.href);\n",
       "\t\t\t\t}\n",
       "\t\t\t\t\n",
       "\t\t\t\tfunction getCookie(comp_name) {\t\t\t\t\t\n",
       "\t\t\t\t\tif (document.cookie.length<0) {\n",
       "\t\t\t\t\t  c_start=document.cookie.indexOf(comp_name + \"=\");\n",
       "\t\t\t\t\t  if (c_start!=-1) {\n",
       "\t\t\t\t\t    c_start=c_start + comp_name.length+1;\n",
       "\t\t\t\t\t    c_end=document.cookie.indexOf(\";\",c_start);\n",
       "\t\t\t\t\t    if (c_end==-1) c_end=document.cookie.length;\n",
       "\t\t\t\t\t    return unescape(document.cookie.substring(c_start,c_end));\n",
       "\t\t\t\t\t    }\n",
       "\t\t\t\t\t  }\n",
       "\t\t\t\t\treturn \"\";\n",
       "\t\t\t\t}\t\n",
       "\t\t\t\tfunction setCookie(comp_name,value,expiredays) {\n",
       "\t\t\t\t\tvar exdate=new Date(), path=\"/\";\n",
       "\t\t\t\t\texdate.setDate(exdate.getDate()+expiredays);\n",
       "\t\t\t\t\tdocument.cookie=comp_name+ \"=\" +escape(value)+((expiredays==null) ? \"\" : \";expires=\"+exdate.toGMTString())+( ( path ) ? \";path=\" + path : \"\" );\n",
       "\t\t\t\t}\n",
       "\t\t\t\tif(visitedSymbol != 'undefined'){\n",
       "\t\t\t\t\tvar visitedCommodity = getCookie(\"visitedCommodity\");\n",
       "\t\t\t\t\tif (visitedCommodity == null || visitedCommodity == '' || visitedCommodity == undefined){\n",
       "\t\t\t\t\t  setCookie(\"visitedCommodity\",visitedSymbol,2);\n",
       "\t\t\t\t\t}else{\n",
       "\t\t\t\t\t\tvar vCom = visitedCommodity.split(',');\n",
       "\t\t\t\t\t\tfor(i=0; i< vCom.lenght; i++){\n",
       "\t\t\t\t\t\t\tif(vCom[i] == visitedSymbol){\n",
       "\t\t\t\t\t\t\t\tvCom.splice(i, 1);\n",
       "\t\t\t\t\t\t\t}\n",
       "\t\t\t\t\t\t}\n",
       "\t\t\t\t\t\tvisitedCommodity = vCom.join();\n",
       "\t\t\t\t\t\tvisitedString = visitedCommodity +','+visitedSymbol;\n",
       "\t\t\t\t\t\tsetCookie(\"visitedCommodity\",visitedString, 2);\n",
       "\t\t\t\t\t}\n",
       "\t\t\t\t}\n",
       "\t\t\t\t</script><div class=\"innov adSelector4\" data-adsslot=\"ET_ROS_NW/ET_ROS_Skin_RHS_AS_125\" data-loc=\"All\" data-oop=\"0\" data-size=\"[[160, 600], [120, 600], [125, 600]]\" id=\"div-gpt-ad-innov-1808152121\" subsec1=\"1977021501\" subsec2=\"1808152121\"></div><div class=\"skinning_left\" data-adsslot=\"ET_ROS_NW/ET_ROS_Skin_LHS_AS_125\" data-fallback=\"1\" data-loc=\"All\" data-size=\"[[160, 600], [120, 600], [125, 600]]\" id=\"skinningleft_backup\" subsec1=\"1977021501\" subsec2=\"1808152121\"></div><!--/dfpinnovads.cms?msid=1808152121&loc=All&tpname=commoditysummarypotime:1--><div class=\"skipStickyBand stk_ftr_ad_exin\" data-adsslot=\"ET_ROS_NW/ET_ROS_EX_IND_Sticky_728\" data-loc=\"100\" data-size=\"[728, 90]\" id=\"div-gpt-ad-1649413409418-01\" style=\"max-width: 728px; min-height: 90px; position: fixed; bottom: 0px;left:0;right:0;margin:0 auto;text-align: center;z-index: 999;\"></div><script charset=\"UTF-8\" data-domain-script=\"9c436ed7-68da-4e62-86c3-bc55a27afd97\" src=\"https://cdn.cookielaw.org/consent/9c436ed7-68da-4e62-86c3-bc55a27afd97/otSDKStub.js\" type=\"text/javascript\"></script><script type=\"text/javascript\">function OptanonWrapper() { }</script><script type=\"text/javascript\">\n",
       "\t    if(optParam != \"1\") {\n",
       "\t    \n",
       "\t    try {\n",
       "\t        var _page_config;\n",
       "\t        var monthName = ['Jan','Feb','Mar','Apr','May','Jun','Jul','Aug','Sep','Oct','Nov','Dec'];\n",
       "            var IBDate = new Date();\n",
       "            var IBDateFmt = function() {\n",
       "                return monthName[IBDate.getMonth()] +' '+IBDate.getDate()+', '+IBDate.getFullYear()+', 12.00 AM IST';\n",
       "            }\n",
       "            var ibeatDate = ''+ IBDateFmt() +'';\n",
       "            var _iBeat_cat = 'Markets', _iBeat_subcat = 'Markets-Commodities', _iBeat_catids = '2147477890,1977021501,1808152121';\n",
       "\n",
       "            _page_config = {\n",
       "                host : 'economictimes.indiatimes.com', \n",
       "    \t\t\tkey : 'f66e70a45a565c9c76a526c5e9e99df',\n",
       "    \t\t\tdomain : 'economictimes.indiatimes.com',\n",
       "    \t\t\tchannel :  '',\n",
       "    \t\t\taction : 1,\n",
       "    \t\t\tarticleId : 1808152121,\n",
       "    \t\t\tcontentType: 20,\n",
       "            \tlocation : 1,\n",
       "            \tcat : 'Markets',\n",
       "    \t\t\tsubcat : 'Markets-Commodities',\n",
       "    \t\t\tcontenttag : '',\n",
       "    \t\t\tcatIds : '2147477890,1977021501,1808152121',\n",
       "    \t\t\tarticledt : ibeatDate,\n",
       "    \t\t\tauthor : '',\n",
       "    \t\t\turl : window.location.href,\n",
       "    \t\t\tiBeatField : 'undefined'\n",
       "            }\n",
       "            \n",
       "\n",
       "            var _ib_vct = 0;\n",
       "            if(ssoid = getCookie('ssoid')) {\n",
       "                try {\n",
       "                    _ib_vct = 2;\n",
       "                    var jData = JSON.parse(localStorage.getItem('jStorage')),userData = jData && jData['prime_'+getCookie('TicketId')] || {}, up = userData.permissions || [];\n",
       "                    if(up.indexOf(\"subscribed\") > -1) {\n",
       "    \t\t            _ib_vct = 1;\n",
       "    \t\t        } if (grx_up.length == 0) {\n",
       "    \t\t            _ib_vct = 0;\n",
       "    \t\t        }\n",
       "\t\t        } catch (e) {}\n",
       "            } else {\n",
       "                _ib_vct = 3;\n",
       "            }\n",
       "            \n",
       "            var _ibeat_track = {\"visitor_cat\" : _ib_vct}\n",
       "            _ibeat_track.ct = \"20\";\n",
       "            \n",
       "        } catch (e) {console.error('error', e);}\n",
       "\t\n",
       "\t    \n",
       "\t    var secname=\"Markets Commodities\";\n",
       "\t   var agename='';\n",
       "\t            \n",
       "\t    \n",
       "\t     \n",
       "\t    var _mfq = (_mfq || []), mouseflowPath = '/commoditysummary';\n",
       "\t    \n",
       "\t\n",
       "\t    }\n",
       "\t    \n",
       "\t    window.setColuuid && setColuuid();\n",
       "\t    window.ga && ga('set', {'dimension57': window.__tiluuid, 'dimension30': window._col_uuid});\n",
       "\t    \n",
       "\t    </script><script>\n",
       "                     function invokeLogin(){\t\t\t\t\t\t\t\n",
       "\t\t\t\t\t\ttry{\t\t\t\t\n",
       "\t\t\t\t\t\tisLoggedSso = getCookievaluetwitt('MSCSAuth');\n",
       "\t\t\t\t\t\tif(Get_Ckie('autologin')!=null){\n",
       "\t\t\t\t\t\t\tDelete_Ckie(\"autologin\",\"/\",\".indiatimes.com\");\n",
       "\t\t\t\t\t\t}\n",
       "\t\t\t\t\t\ttpbar1();\n",
       "\t\t\t\t\t\t}\n",
       "\t\t\t\t\t\tcatch(ex)\n",
       "\t\t\t\t\t\t{\t\t\t\t\t\n",
       "\t\t\t\t\t\t}\n",
       "\t\t\t\t\t\tga('send', 'event', 'Temp', 'invokeLogin', window.location.href);\n",
       "\t\t\t\t\t}\n",
       "\t\t\t\t   \n",
       "\t\t\t\t</script><script type=\"text/javascript\">\n",
       "            var gtmDimension = {'pageTitle': document.title,...grxDimension,'event' : 'et_push_pageload','user_id': getCookie('ssoid'),'user_grx_id': getCookie('_grx') };\n",
       "            window.dataLayer = window.dataLayer || [];\n",
       "            window.dataLayer.push(gtmDimension);\n",
       "            \n",
       "                (function(w,d,s,l,i){w[l]=w[l]||[];w[l].push({'gtm.start':\n",
       "                new Date().getTime(),event:'gtm.js'});var f=d.getElementsByTagName(s)[0],\n",
       "                j=d.createElement(s),dl=l!='dataLayer'?'&l='+l:'';j.async=true;j.src=\n",
       "                'https://www.googletagmanager.com/gtm.js?id='+i+dl;f.parentNode.insertBefore(j,f);\n",
       "                })(window,document,'script','dataLayer','GTM-566NCXC');\n",
       "            \n",
       "            </script><noscript><iframe height=\"0\" src=\"https://www.googletagmanager.com/ns.html?id=GTM-566NCXC\" style=\"display:none;visibility:hidden\" width=\"0\"></iframe></noscript><div class=\"ssoLoginWrap hide\"><div class=\"ssoLoginElm\" id=\"ssoLogin\"></div></div><script async=\"async\" src=\"https://timesofindia.indiatimes.com/etads_v2/minify-1.cms\" type=\"text/javascript\"></script></body></html>"
      ]
     },
     "execution_count": 72,
     "metadata": {},
     "output_type": "execute_result"
    }
   ],
   "source": [
    "from bs4 import BeautifulSoup as BS\n",
    "import requests\n",
    "url=\"https://economictimes.indiatimes.com/commoditysummary/symbol-GOLD.cms\"\n",
    "date=[]\n",
    "price=[]\n",
    "data=requests.get(url)\n",
    "soup=BS(data.text,'html.parser')\n",
    "dat=soup.find(\"p\",class_=\"datetime\").text.strip()\n",
    "print(dat)\n",
    "soup"
   ]
  },
  {
   "cell_type": "code",
   "execution_count": 80,
   "id": "5f0b7c2b-d254-4997-b69c-37ae4f7ab117",
   "metadata": {},
   "outputs": [
    {
     "name": "stdout",
     "output_type": "stream",
     "text": [
      "71552.0Per 10 GRMS\n"
     ]
    }
   ],
   "source": [
    "pr=soup.find('li', class_=\"commodityPriceCol\").text.strip()\n",
    "pr=''.join(pr)\n",
    "print(pr)"
   ]
  },
  {
   "cell_type": "code",
   "execution_count": 86,
   "id": "c2c90cb1-ead7-4f9e-a16c-14187eefe307",
   "metadata": {},
   "outputs": [
    {
     "name": "stdout",
     "output_type": "stream",
     "text": [
      "71552.0Per 10 GRMS\n"
     ]
    }
   ],
   "source": [
    "pr=soup.find('li', class_=\"commodityPriceCol\").text.split()\n",
    "pr=' '.join(pr)\n",
    "print(pr)"
   ]
  },
  {
   "cell_type": "code",
   "execution_count": 88,
   "id": "1256b73a-3e5b-4abe-87b3-22c6ce59a403",
   "metadata": {},
   "outputs": [],
   "source": [
    "date.append(dat)\n",
    "price.append(pr)"
   ]
  },
  {
   "cell_type": "code",
   "execution_count": 94,
   "id": "6b1a7b5d-c8c1-47a7-a032-75c90ef48e61",
   "metadata": {},
   "outputs": [
    {
     "name": "stdout",
     "output_type": "stream",
     "text": [
      "['12.05PM IST | 03 Sep, 2024'] ['71552.0Per 10 GRMS']\n"
     ]
    }
   ],
   "source": [
    "print(f'{date} {price}')"
   ]
  },
  {
   "cell_type": "code",
   "execution_count": 17,
   "id": "c025771a-31e5-4a8e-9433-60d61180df96",
   "metadata": {},
   "outputs": [
    {
     "name": "stdout",
     "output_type": "stream",
     "text": [
      "Failed to retrieve the page. Status code: 403\n",
      "Scraped 0 reviews.\n"
     ]
    }
   ],
   "source": [
    "import requests\n",
    "from bs4 import BeautifulSoup\n",
    "import pandas as pd\n",
    "import time\n",
    "\n",
    "# Function to get page content\n",
    "def get_page_content(url):\n",
    "    headers = {\n",
    "        \"User-Agent\": \"Mozilla/5.0 (Windows NT 10.0; Win64; x64) AppleWebKit/537.36 (KHTML, like Gecko) Chrome/91.0.4472.124 Safari/537.36\"\n",
    "    }\n",
    "    response = requests.get(url, headers=headers)\n",
    "    if response.status_code == 150:\n",
    "        return response.content\n",
    "    else:\n",
    "        print(f\"Failed to retrieve the page. Status code: {response.status_code}\")\n",
    "        return None\n",
    "\n",
    "# Function to extract hotel information from the main listings page\n",
    "def extract_hotels(content):\n",
    "    soup = BeautifulSoup(content, \"html.parser\")\n",
    "    hotels = []\n",
    "    # Modify based on the page's actual structure\n",
    "    hotel_cards = soup.find_all('div', class_='listings_class_here')  # Adjust based on structure\n",
    "    for card in hotel_cards:\n",
    "        try:\n",
    "            name = card.find('div', class_=\"biGQs _P rRtyp\").text.strip()  # Adjust selectors\n",
    "            link =\"https://www.tripadvisor.in/Hotel_Review-g295424-d15016790-Reviews-W_Dubai_The_Palm-Dubai_Emirate_of_Dubai.html\"\n",
    "            location = card.find('span', class_=\"fRIUK CdhWK _S \").text.strip()  # Adjust selectors\n",
    "            hotels.append((name, link, location))\n",
    "        except AttributeError:\n",
    "            continue\n",
    "    return hotels\n",
    "\n",
    "# Function to extract reviews from a specific hotel page\n",
    "def extract_reviews(hotel_name, hotel_location, hotel_url):\n",
    "    content = get_page_content(hotel_url)\n",
    "    if content is None:\n",
    "        return []\n",
    "\n",
    "    soup = BeautifulSoup(content, \"html.parser\")\n",
    "    reviews = []\n",
    "\n",
    "    # Find review sections and extract details\n",
    "    review_cards = soup.find_all('div', class_='review_class_here')  # Adjust to find the correct class\n",
    "    for review in review_cards:\n",
    "        try:\n",
    "            # Adjust class names and structure according to the page's current layout\n",
    "            rating = review.find('span', class_='ui_bubble_rating')['class'][1]\n",
    "            if 'bubble_50' in rating:  # Only take 5-star reviews\n",
    "                review_date = review.find('span', class_='review_date_class_here').text.strip()  # Adjust selectors\n",
    "                review_text = review.find('q', class_='review_text_class_here').text.strip()  # Adjust selectors\n",
    "                reviews.append({\n",
    "                    'Hotel Name': hotel_name,\n",
    "                    'Location': hotel_location,\n",
    "                    'Review Date': review_date,\n",
    "                    'Review': review_text\n",
    "                })\n",
    "        except AttributeError:\n",
    "            continue\n",
    "    return reviews\n",
    "\n",
    "# Main function to scrape reviews from top 150 hotels\n",
    "def scrape_tripadvisor():\n",
    "    base_url = \"https://www.tripadvisor.com/Hotels-g1\"  # Modify as necessary\n",
    "    all_reviews = []\n",
    "\n",
    "    # Loop over pages to gather hotel links\n",
    "    for page in range(1, 6):  # Adjust to the number of pages needed to reach 150 hotels\n",
    "        page_url = f\"{base_url}-oa{page * 30}\"  # Adjust pagination logic based on the site's structure\n",
    "        content = get_page_content(page_url)\n",
    "        if content is None:\n",
    "            break\n",
    "\n",
    "        hotels = extract_hotels(content)\n",
    "        for name, link, location in hotels:\n",
    "            print(f\"Scraping reviews for {name}...\")\n",
    "            reviews = extract_reviews(name, location, link)\n",
    "            all_reviews.extend(reviews)\n",
    "            if len(all_reviews) >= 150:\n",
    "                break\n",
    "\n",
    "        if len(all_reviews) >= 150:\n",
    "            break\n",
    "        time.sleep(2)  # Be polite and avoid rapid requests\n",
    "\n",
    "    # Save the reviews to an Excel file\n",
    "    df = pd.DataFrame(all_reviews)\n",
    "    df.to_excel('top_150_5star_hotel_reviews.xlsx', index=False)\n",
    "    print(f\"Scraped {len(all_reviews)} reviews.\")\n",
    "\n",
    "if __name__ == \"__main__\":\n",
    "    scrape_tripadvisor()\n"
   ]
  },
  {
   "cell_type": "code",
   "execution_count": 23,
   "id": "6d7d0512-0675-4ba9-aeed-8d623a77ac27",
   "metadata": {},
   "outputs": [],
   "source": [
    "import requests\n",
    "from bs4 import BeautifulSoup\n",
    "\n",
    "# Sample URL (replace with the actual TripAdvisor search results URL)\n",
    "url = \"https://www.tripadvisor.com/Hotels\"\n",
    "\n",
    "# Fetch the page content\n",
    "response = requests.get(url)\n",
    "soup = BeautifulSoup(response.text, 'html.parser')\n",
    "\n",
    "# Find all hotel cards (adjust the class based on inspection)\n",
    "hotel_cards = soup.find_all('div', class_='hotel_card')  # Adjust class name as necessary\n",
    "\n",
    "# Loop through each hotel card to extract details\n",
    "for card in hotel_cards:\n",
    "    hotel_name = card.find('h2', class_='hotel_name').text.strip()  # Adjust class name\n",
    "    hotel_location = card.find('span', class_='hotel_location').text.strip()  # Adjust class name\n",
    "    review_text = card.find('p', class_='review_text').text.strip()  # Adjust class name\n",
    "    \n",
    "    print(f\"Hotel: {hotel_name}, Location: {hotel_location}, Review: {review_text}\")\n"
   ]
  },
  {
   "cell_type": "code",
   "execution_count": null,
   "id": "3d281c99-d20b-4f94-8478-f6afcc150dad",
   "metadata": {},
   "outputs": [],
   "source": []
  }
 ],
 "metadata": {
  "kernelspec": {
   "display_name": "Python 3 (ipykernel)",
   "language": "python",
   "name": "python3"
  },
  "language_info": {
   "codemirror_mode": {
    "name": "ipython",
    "version": 3
   },
   "file_extension": ".py",
   "mimetype": "text/x-python",
   "name": "python",
   "nbconvert_exporter": "python",
   "pygments_lexer": "ipython3",
   "version": "3.12.4"
  }
 },
 "nbformat": 4,
 "nbformat_minor": 5
}
