{
 "cells": [
  {
   "cell_type": "markdown",
   "id": "11ee10a2-0ae1-4e64-810e-9d5ed2370d4f",
   "metadata": {},
   "source": [
    "Section-A"
   ]
  },
  {
   "cell_type": "markdown",
   "id": "e4c286ab-ea58-4050-9db1-58ad8f690316",
   "metadata": {},
   "source": [
    "Question 1"
   ]
  },
  {
   "cell_type": "code",
   "execution_count": 3,
   "id": "c1db5470-296c-4c0a-a54b-bddc4d954722",
   "metadata": {},
   "outputs": [
    {
     "name": "stdout",
     "output_type": "stream",
     "text": [
      "1\n",
      "2\n",
      "3\n",
      "4\n",
      "5\n",
      "6\n",
      "7\n",
      "8\n",
      "9\n",
      "10\n"
     ]
    }
   ],
   "source": [
    "x=0\n",
    "for i in range(10):\n",
    "    x+=1\n",
    "    print(x)"
   ]
  },
  {
   "cell_type": "markdown",
   "id": "266ef1f1-bcce-4fa1-9416-ad9d37d37f75",
   "metadata": {},
   "source": [
    "Question 2"
   ]
  },
  {
   "cell_type": "code",
   "execution_count": 9,
   "id": "2fc613f5-ab4f-491e-bf55-ff9464077651",
   "metadata": {},
   "outputs": [
    {
     "name": "stdout",
     "output_type": "stream",
     "text": [
      "[20, 30, 40, 50]\n"
     ]
    }
   ],
   "source": [
    "numbers=[10,20,30,40,50]\n",
    "sliced=numbers[1:6]\n",
    "print(sliced)"
   ]
  },
  {
   "cell_type": "markdown",
   "id": "bceb3d0c-1217-41c9-829a-dbda605c2b27",
   "metadata": {},
   "source": [
    "Question 4"
   ]
  },
  {
   "cell_type": "code",
   "execution_count": 15,
   "id": "fc1d95c2-840b-4dbc-a5ef-d7412ac28849",
   "metadata": {},
   "outputs": [
    {
     "ename": "TypeError",
     "evalue": "can only concatenate str (not \"int\") to str",
     "output_type": "error",
     "traceback": [
      "\u001b[1;31m---------------------------------------------------------------------------\u001b[0m",
      "\u001b[1;31mTypeError\u001b[0m                                 Traceback (most recent call last)",
      "Cell \u001b[1;32mIn[15], line 1\u001b[0m\n\u001b[1;32m----> 1\u001b[0m \u001b[38;5;28mprint\u001b[39m(\u001b[38;5;124m\"\u001b[39m\u001b[38;5;124m10\u001b[39m\u001b[38;5;124m\"\u001b[39m\u001b[38;5;241m+\u001b[39m\u001b[38;5;241m2\u001b[39m)\n",
      "\u001b[1;31mTypeError\u001b[0m: can only concatenate str (not \"int\") to str"
     ]
    }
   ],
   "source": [
    "print(\"10\"+2)"
   ]
  },
  {
   "cell_type": "code",
   "execution_count": 17,
   "id": "49d98f82-7d4f-44a6-8bd9-379a9b50b04b",
   "metadata": {},
   "outputs": [
    {
     "name": "stdout",
     "output_type": "stream",
     "text": [
      "12\n"
     ]
    }
   ],
   "source": [
    "print(10+2)"
   ]
  },
  {
   "cell_type": "code",
   "execution_count": 19,
   "id": "b3cb195c-1d71-480e-8c04-a62f30ce5ded",
   "metadata": {},
   "outputs": [
    {
     "name": "stdout",
     "output_type": "stream",
     "text": [
      "10+2\n"
     ]
    }
   ],
   "source": [
    "print(\"10+2\")"
   ]
  },
  {
   "cell_type": "markdown",
   "id": "bb0f4c46-f374-44ec-9b44-8d54c6d6471b",
   "metadata": {},
   "source": [
    "Question 5"
   ]
  },
  {
   "cell_type": "code",
   "execution_count": 29,
   "id": "210969c5-4f08-47f2-b1f2-551acea988de",
   "metadata": {},
   "outputs": [
    {
     "name": "stdout",
     "output_type": "stream",
     "text": [
      "{'a': 1, 'b': 2}\n"
     ]
    }
   ],
   "source": [
    "my_dict={\"a\":1,\"b\":2}\n",
    "print(f\"{my_dict}\")"
   ]
  },
  {
   "cell_type": "markdown",
   "id": "f9785aec-7879-4eec-bd7c-6976cceb2310",
   "metadata": {},
   "source": [
    "Section-B"
   ]
  },
  {
   "cell_type": "markdown",
   "id": "03514a6e-b7ee-4327-898d-2f36a7eb3256",
   "metadata": {},
   "source": [
    "Question 6"
   ]
  },
  {
   "cell_type": "code",
   "execution_count": 41,
   "id": "d5bbe41b-f1dc-44ab-a770-5a85d3a7e761",
   "metadata": {},
   "outputs": [
    {
     "name": "stdin",
     "output_type": "stream",
     "text": [
      "Enter the Number: 0\n"
     ]
    },
    {
     "name": "stdout",
     "output_type": "stream",
     "text": [
      "The number is Zero\n"
     ]
    }
   ],
   "source": [
    "x=int(input(\"Enter the Number:\"))\n",
    "if x>0:\n",
    "    print(\"The number is Positive\")\n",
    "elif x<0:\n",
    "    print(\"The number is Negative\")\n",
    "else:\n",
    "    print(\"The number is Zero\")"
   ]
  },
  {
   "cell_type": "markdown",
   "id": "0e9c56bb-1b17-4a46-98b9-d4b8ba55304c",
   "metadata": {},
   "source": [
    "Question 7"
   ]
  },
  {
   "cell_type": "code",
   "execution_count": 138,
   "id": "2acc8e56-7269-4265-9de5-ec813838a878",
   "metadata": {},
   "outputs": [
    {
     "name": "stdout",
     "output_type": "stream",
     "text": [
      "0\n",
      "1\n",
      "2\n",
      "3\n",
      "4\n",
      "5\n"
     ]
    }
   ],
   "source": [
    "x=0\n",
    "for i in range(6):\n",
    "    print(i)"
   ]
  },
  {
   "cell_type": "code",
   "execution_count": 71,
   "id": "9f3f0297-de62-4ea4-a4dc-9eb130c7a98d",
   "metadata": {},
   "outputs": [
    {
     "name": "stdout",
     "output_type": "stream",
     "text": [
      "3\n",
      "4\n",
      "5\n",
      "6\n",
      "7\n",
      "8\n",
      "9\n",
      "10\n"
     ]
    }
   ],
   "source": [
    "x=3\n",
    "while x<=1:\n",
    "    print(x)\n",
    "    x+=1"
   ]
  },
  {
   "cell_type": "markdown",
   "id": "b8994753-9331-4c53-a378-e1ecdd3b6acf",
   "metadata": {},
   "source": [
    "Question 8"
   ]
  },
  {
   "cell_type": "code",
   "execution_count": 75,
   "id": "7fdef50d-cf94-4fee-b9a5-9683a09e3549",
   "metadata": {},
   "outputs": [
    {
     "name": "stdout",
     "output_type": "stream",
     "text": [
      "The factorial of 5 is 120\n"
     ]
    }
   ],
   "source": [
    "def factorial(n):\n",
    "    if n == 0 or n == 1: \n",
    "        return 1 \n",
    "    else: \n",
    "        return n * factorial(n - 1)\n",
    "\n",
    "number = 5 \n",
    "result = factorial(number) \n",
    "print(f\"The factorial of {number} is {result}\")"
   ]
  },
  {
   "cell_type": "markdown",
   "id": "af844c3f-4393-4222-85ec-5a1da5af9142",
   "metadata": {},
   "source": [
    "Question 9"
   ]
  },
  {
   "cell_type": "code",
   "execution_count": 85,
   "id": "069fbf51-7a14-4ebb-9249-5460ca96c7e9",
   "metadata": {},
   "outputs": [
    {
     "name": "stdout",
     "output_type": "stream",
     "text": [
      "[100, 200, 300]\n"
     ]
    }
   ],
   "source": [
    "def modify_list(my_list):\n",
    "    my_list[:]=[100,200,300]\n",
    "    \n",
    "numbers=[1,2,3]\n",
    "modify_list(numbers)\n",
    "print(numbers)"
   ]
  },
  {
   "cell_type": "markdown",
   "id": "d6eca237-1dd4-4c2f-850e-bc268e32452e",
   "metadata": {},
   "source": [
    "Question 10"
   ]
  },
  {
   "cell_type": "code",
   "execution_count": 93,
   "id": "850b9c73-e3ee-46e9-988a-c1394cf2436f",
   "metadata": {},
   "outputs": [
    {
     "name": "stdout",
     "output_type": "stream",
     "text": [
      "[1, 2, 3, 4, 5, 6, 7, 8]\n"
     ]
    }
   ],
   "source": [
    "x=[1,2,3,4]\n",
    "y=[5,6,7,8]\n",
    "z=x+y\n",
    "print(z)"
   ]
  },
  {
   "cell_type": "markdown",
   "id": "d618f8dd-4bd8-4aa0-956e-47ff94b0ea57",
   "metadata": {},
   "source": [
    "Question 11"
   ]
  },
  {
   "cell_type": "code",
   "execution_count": 96,
   "id": "aee2b304-482a-4922-b702-6a1fbb023fc0",
   "metadata": {},
   "outputs": [
    {
     "name": "stdout",
     "output_type": "stream",
     "text": [
      "25\n"
     ]
    }
   ],
   "source": [
    "x=(\"write a program on python\")\n",
    "print(len(x))"
   ]
  },
  {
   "cell_type": "code",
   "execution_count": 108,
   "id": "9a21488a-5aec-4c66-acf4-c69cb6c384f2",
   "metadata": {},
   "outputs": [
    {
     "name": "stdout",
     "output_type": "stream",
     "text": [
      "13\n"
     ]
    }
   ],
   "source": [
    "import pandas as pd\n",
    "df=pd.read_excel(r\"C:\\Users\\santosh nandam\\OneDrive\\Desktop\\Exercises- Data Visualization.xlsx\")\n",
    "print(len(df))"
   ]
  },
  {
   "cell_type": "markdown",
   "id": "6dba0812-fb3f-4dfb-b700-a7f1101e57c3",
   "metadata": {},
   "source": [
    "Question 13"
   ]
  },
  {
   "cell_type": "code",
   "execution_count": 164,
   "id": "72e3b939-9428-47c0-8829-7b7e3ed5c179",
   "metadata": {},
   "outputs": [
    {
     "name": "stdout",
     "output_type": "stream",
     "text": [
      "[2, 4, 6, 8, 10]\n"
     ]
    }
   ],
   "source": [
    "x=[1,2,3,4,5,6,7,8,9,10]\n",
    "even=[i for i in x if i%2==0]\n",
    "print(even)"
   ]
  },
  {
   "cell_type": "markdown",
   "id": "442e315c-b2b5-4205-9402-d9912b64488a",
   "metadata": {},
   "source": [
    "Section-C"
   ]
  },
  {
   "cell_type": "markdown",
   "id": "523e774f-604a-40d6-a746-d8439cdf4071",
   "metadata": {},
   "source": [
    "Question 14"
   ]
  },
  {
   "cell_type": "code",
   "execution_count": 172,
   "id": "ec63e4f9-0ab3-4c8f-85bc-83183ec2cce5",
   "metadata": {},
   "outputs": [
    {
     "name": "stdin",
     "output_type": "stream",
     "text": [
      "Enter your choice (0-3):  1\n",
      "Enter a string:  bharagva\n"
     ]
    },
    {
     "name": "stdout",
     "output_type": "stream",
     "text": [
      "Uppercase: BHARAGVA\n"
     ]
    },
    {
     "name": "stdin",
     "output_type": "stream",
     "text": [
      "Enter your choice (0-3):  bhargava\n",
      "Enter a string:  mom\n"
     ]
    },
    {
     "name": "stdout",
     "output_type": "stream",
     "text": [
      "Invalid choice. Please choose again.\n"
     ]
    },
    {
     "name": "stdin",
     "output_type": "stream",
     "text": [
      "Enter your choice (0-3):  0\n"
     ]
    },
    {
     "name": "stdout",
     "output_type": "stream",
     "text": [
      "Exit\n"
     ]
    }
   ],
   "source": [
    "def convert_to_uppercase(s):\n",
    "    return s.upper()\n",
    "def reverse_string(s):\n",
    "    return s[::-1]\n",
    "def is_palindrome(s):\n",
    "    return cleaned_string==cleaned_string[::-1]\n",
    "def main():\n",
    "    while True:\n",
    "        choice=input(\"Enter your choice (0-3): \")\n",
    "        if choice=='0':\n",
    "            result=exit\n",
    "            print(\"Exit\")\n",
    "            break\n",
    "        string_input=input(\"Enter a string: \")\n",
    "        if choice=='1':\n",
    "            result=convert_to_uppercase(string_input)\n",
    "            print(\"Uppercase:\", result)\n",
    "        elif choice=='2':\n",
    "            result=reverse_string(string_input)\n",
    "            print(\"Reversed String:\", result)\n",
    "        elif choice=='3':\n",
    "            result=is_palindrome(string_input)\n",
    "            if result:\n",
    "                print(f'{string_input} is a palindrome.')\n",
    "            else:\n",
    "                print(f'{string_input} is not a palindrome.')\n",
    "        else:\n",
    "            print(\"Invalid choice. Please choose again.\")\n",
    "\n",
    "if __name__ == \"__main__\":\n",
    "    main()"
   ]
  },
  {
   "cell_type": "code",
   "execution_count": null,
   "id": "2c1df99c-25e0-462c-9b8c-70b3204e6124",
   "metadata": {},
   "outputs": [],
   "source": []
  }
 ],
 "metadata": {
  "kernelspec": {
   "display_name": "Python 3 (ipykernel)",
   "language": "python",
   "name": "python3"
  },
  "language_info": {
   "codemirror_mode": {
    "name": "ipython",
    "version": 3
   },
   "file_extension": ".py",
   "mimetype": "text/x-python",
   "name": "python",
   "nbconvert_exporter": "python",
   "pygments_lexer": "ipython3",
   "version": "3.12.4"
  }
 },
 "nbformat": 4,
 "nbformat_minor": 5
}
